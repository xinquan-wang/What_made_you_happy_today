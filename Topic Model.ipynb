{
 "cells": [
  {
   "cell_type": "markdown",
   "metadata": {},
   "source": [
    "# Topic Model\n",
    "## Read data"
   ]
  },
  {
   "cell_type": "code",
   "execution_count": 1,
   "metadata": {},
   "outputs": [],
   "source": [
    "import pandas as pd\n",
    "import numpy as np"
   ]
  },
  {
   "cell_type": "code",
   "execution_count": 32,
   "metadata": {},
   "outputs": [],
   "source": [
    "import matplotlib.pyplot as plt\n",
    "%matplotlib inline"
   ]
  },
  {
   "cell_type": "code",
   "execution_count": 241,
   "metadata": {},
   "outputs": [],
   "source": [
    "df = pd.read_csv('./data/processed_data.csv')"
   ]
  },
  {
   "cell_type": "code",
   "execution_count": 3,
   "metadata": {},
   "outputs": [
    {
     "data": {
      "text/html": [
       "<div>\n",
       "<style scoped>\n",
       "    .dataframe tbody tr th:only-of-type {\n",
       "        vertical-align: middle;\n",
       "    }\n",
       "\n",
       "    .dataframe tbody tr th {\n",
       "        vertical-align: top;\n",
       "    }\n",
       "\n",
       "    .dataframe thead th {\n",
       "        text-align: right;\n",
       "    }\n",
       "</style>\n",
       "<table border=\"1\" class=\"dataframe\">\n",
       "  <thead>\n",
       "    <tr style=\"text-align: right;\">\n",
       "      <th></th>\n",
       "      <th>hmid</th>\n",
       "      <th>wid</th>\n",
       "      <th>reflection_period</th>\n",
       "      <th>original_hm</th>\n",
       "      <th>cleaned_hm</th>\n",
       "      <th>modified</th>\n",
       "      <th>num_sentence</th>\n",
       "      <th>ground_truth_category</th>\n",
       "      <th>predicted_category</th>\n",
       "      <th>text</th>\n",
       "    </tr>\n",
       "  </thead>\n",
       "  <tbody>\n",
       "    <tr>\n",
       "      <th>0</th>\n",
       "      <td>27673</td>\n",
       "      <td>2053</td>\n",
       "      <td>24h</td>\n",
       "      <td>i went on a successful date with someone i fel...</td>\n",
       "      <td>i went on a successful date with someone i fel...</td>\n",
       "      <td>True</td>\n",
       "      <td>1</td>\n",
       "      <td>NaN</td>\n",
       "      <td>affection</td>\n",
       "      <td>successful date sympathy connection</td>\n",
       "    </tr>\n",
       "    <tr>\n",
       "      <th>1</th>\n",
       "      <td>27674</td>\n",
       "      <td>2</td>\n",
       "      <td>24h</td>\n",
       "      <td>i was happy when my son got 90% marks in his e...</td>\n",
       "      <td>i was happy when my son got 90% marks in his e...</td>\n",
       "      <td>True</td>\n",
       "      <td>1</td>\n",
       "      <td>NaN</td>\n",
       "      <td>affection</td>\n",
       "      <td>son mark examination</td>\n",
       "    </tr>\n",
       "    <tr>\n",
       "      <th>2</th>\n",
       "      <td>27675</td>\n",
       "      <td>1936</td>\n",
       "      <td>24h</td>\n",
       "      <td>i went to the gym this morning and did yoga.</td>\n",
       "      <td>i went to the gym this morning and did yoga.</td>\n",
       "      <td>True</td>\n",
       "      <td>1</td>\n",
       "      <td>NaN</td>\n",
       "      <td>exercise</td>\n",
       "      <td>gym morning yoga</td>\n",
       "    </tr>\n",
       "    <tr>\n",
       "      <th>3</th>\n",
       "      <td>27676</td>\n",
       "      <td>206</td>\n",
       "      <td>24h</td>\n",
       "      <td>we had a serious talk with some friends of our...</td>\n",
       "      <td>we had a serious talk with some friends of our...</td>\n",
       "      <td>True</td>\n",
       "      <td>2</td>\n",
       "      <td>bonding</td>\n",
       "      <td>bonding</td>\n",
       "      <td>serious talk friend flaky lately understood go...</td>\n",
       "    </tr>\n",
       "    <tr>\n",
       "      <th>4</th>\n",
       "      <td>27677</td>\n",
       "      <td>6227</td>\n",
       "      <td>24h</td>\n",
       "      <td>i went with grandchildren to butterfly display...</td>\n",
       "      <td>i went with grandchildren to butterfly display...</td>\n",
       "      <td>True</td>\n",
       "      <td>1</td>\n",
       "      <td>NaN</td>\n",
       "      <td>affection</td>\n",
       "      <td>grandchild butterfly display crohn conservatory</td>\n",
       "    </tr>\n",
       "  </tbody>\n",
       "</table>\n",
       "</div>"
      ],
      "text/plain": [
       "    hmid   wid reflection_period  \\\n",
       "0  27673  2053               24h   \n",
       "1  27674     2               24h   \n",
       "2  27675  1936               24h   \n",
       "3  27676   206               24h   \n",
       "4  27677  6227               24h   \n",
       "\n",
       "                                         original_hm  \\\n",
       "0  i went on a successful date with someone i fel...   \n",
       "1  i was happy when my son got 90% marks in his e...   \n",
       "2       i went to the gym this morning and did yoga.   \n",
       "3  we had a serious talk with some friends of our...   \n",
       "4  i went with grandchildren to butterfly display...   \n",
       "\n",
       "                                          cleaned_hm  modified  num_sentence  \\\n",
       "0  i went on a successful date with someone i fel...      True             1   \n",
       "1  i was happy when my son got 90% marks in his e...      True             1   \n",
       "2       i went to the gym this morning and did yoga.      True             1   \n",
       "3  we had a serious talk with some friends of our...      True             2   \n",
       "4  i went with grandchildren to butterfly display...      True             1   \n",
       "\n",
       "  ground_truth_category predicted_category  \\\n",
       "0                   NaN          affection   \n",
       "1                   NaN          affection   \n",
       "2                   NaN           exercise   \n",
       "3               bonding            bonding   \n",
       "4                   NaN          affection   \n",
       "\n",
       "                                                text  \n",
       "0               successful date sympathy connection   \n",
       "1                              son mark examination   \n",
       "2                                  gym morning yoga   \n",
       "3  serious talk friend flaky lately understood go...  \n",
       "4   grandchild butterfly display crohn conservatory   "
      ]
     },
     "execution_count": 3,
     "metadata": {},
     "output_type": "execute_result"
    }
   ],
   "source": [
    "df.head()"
   ]
  },
  {
   "cell_type": "code",
   "execution_count": 4,
   "metadata": {},
   "outputs": [
    {
     "name": "stdout",
     "output_type": "stream",
     "text": [
      "<class 'pandas.core.frame.DataFrame'>\n",
      "RangeIndex: 100535 entries, 0 to 100534\n",
      "Data columns (total 10 columns):\n",
      "hmid                     100535 non-null int64\n",
      "wid                      100535 non-null int64\n",
      "reflection_period        100535 non-null object\n",
      "original_hm              100535 non-null object\n",
      "cleaned_hm               100535 non-null object\n",
      "modified                 100535 non-null bool\n",
      "num_sentence             100535 non-null int64\n",
      "ground_truth_category    14125 non-null object\n",
      "predicted_category       100535 non-null object\n",
      "text                     100522 non-null object\n",
      "dtypes: bool(1), int64(3), object(6)\n",
      "memory usage: 7.0+ MB\n"
     ]
    }
   ],
   "source": [
    "df.info()"
   ]
  },
  {
   "cell_type": "markdown",
   "metadata": {},
   "source": [
    "## Vectorization"
   ]
  },
  {
   "cell_type": "markdown",
   "metadata": {},
   "source": [
    "### CountVectorizer"
   ]
  },
  {
   "cell_type": "code",
   "execution_count": 3,
   "metadata": {},
   "outputs": [],
   "source": [
    "from sklearn.feature_extraction.text import CountVectorizer"
   ]
  },
  {
   "cell_type": "code",
   "execution_count": 242,
   "metadata": {},
   "outputs": [],
   "source": [
    "df = df[df['text'].isna() == False]"
   ]
  },
  {
   "cell_type": "code",
   "execution_count": 243,
   "metadata": {},
   "outputs": [],
   "source": [
    "%%capture\n",
    "df['text'].dropna(axis=0, how='any', inplace=True)"
   ]
  },
  {
   "cell_type": "code",
   "execution_count": 212,
   "metadata": {},
   "outputs": [
    {
     "name": "stdout",
     "output_type": "stream",
     "text": [
      "24652\n"
     ]
    }
   ],
   "source": [
    "bow_transformer = CountVectorizer(analyzer='word').fit(df['text'])\n",
    "\n",
    "# Print total number of vocab words\n",
    "print(len(bow_transformer.vocabulary_))"
   ]
  },
  {
   "cell_type": "code",
   "execution_count": 213,
   "metadata": {},
   "outputs": [],
   "source": [
    "df_bow = bow_transformer.transform(df['text'])"
   ]
  },
  {
   "cell_type": "code",
   "execution_count": 11,
   "metadata": {},
   "outputs": [
    {
     "name": "stdout",
     "output_type": "stream",
     "text": [
      "Shape of Sparse Matrix:  (100522, 24652)\n",
      "Amount of Non-Zero occurences:  716074\n"
     ]
    }
   ],
   "source": [
    "print('Shape of Sparse Matrix: ', df_bow.shape)\n",
    "print('Amount of Non-Zero occurences: ', df_bow.nnz)"
   ]
  },
  {
   "cell_type": "code",
   "execution_count": 12,
   "metadata": {},
   "outputs": [
    {
     "name": "stdout",
     "output_type": "stream",
     "text": [
      "sparsity: 0\n"
     ]
    }
   ],
   "source": [
    "# check text sparsicity\n",
    "sparsity = (100.0 * df_bow.nnz / (df_bow.shape[0] * df_bow.shape[1]))\n",
    "print('sparsity: {}'.format(round(sparsity)))"
   ]
  },
  {
   "cell_type": "markdown",
   "metadata": {},
   "source": [
    "## LDA"
   ]
  },
  {
   "cell_type": "code",
   "execution_count": 7,
   "metadata": {},
   "outputs": [],
   "source": [
    "from sklearn.decomposition import LatentDirichletAllocation"
   ]
  },
  {
   "cell_type": "markdown",
   "metadata": {},
   "source": [
    "### Fit LDA model with 10 topics"
   ]
  },
  {
   "cell_type": "code",
   "execution_count": 89,
   "metadata": {},
   "outputs": [],
   "source": [
    "lda = LatentDirichletAllocation(n_components=10, \n",
    "                                max_iter=50,\n",
    "                                learning_method='online',\n",
    "                                learning_offset=50.,\n",
    "                                random_state=0,\n",
    "                                n_jobs=1)"
   ]
  },
  {
   "cell_type": "code",
   "execution_count": 90,
   "metadata": {},
   "outputs": [
    {
     "name": "stdout",
     "output_type": "stream",
     "text": [
      "CPU times: user 16min 45s, sys: 8.67 s, total: 16min 53s\n",
      "Wall time: 18min\n"
     ]
    },
    {
     "data": {
      "text/plain": [
       "LatentDirichletAllocation(batch_size=128, doc_topic_prior=None,\n",
       "                          evaluate_every=-1, learning_decay=0.7,\n",
       "                          learning_method='online', learning_offset=50.0,\n",
       "                          max_doc_update_iter=100, max_iter=50,\n",
       "                          mean_change_tol=0.001, n_components=10, n_jobs=1,\n",
       "                          perp_tol=0.1, random_state=0, topic_word_prior=None,\n",
       "                          total_samples=1000000.0, verbose=0)"
      ]
     },
     "execution_count": 90,
     "metadata": {},
     "output_type": "execute_result"
    }
   ],
   "source": [
    "%%time\n",
    "lda.fit(df_bow)"
   ]
  },
  {
   "cell_type": "code",
   "execution_count": 91,
   "metadata": {},
   "outputs": [],
   "source": [
    "# Show top n keywords for each topic\n",
    "def show_topics(vectorizer, lda_model, n_words):\n",
    "    keywords = np.array(vectorizer.get_feature_names())\n",
    "    topic_keywords = []\n",
    "    for topic_weights in lda_model.components_:\n",
    "        top_keyword_locs = (-topic_weights).argsort()[:n_words]\n",
    "        topic_keywords.append(keywords.take(top_keyword_locs))\n",
    "    return topic_keywords"
   ]
  },
  {
   "cell_type": "code",
   "execution_count": 92,
   "metadata": {},
   "outputs": [],
   "source": [
    "topic_keywords = show_topics(vectorizer=bow_transformer, lda_model=lda, n_words=10)"
   ]
  },
  {
   "cell_type": "code",
   "execution_count": 93,
   "metadata": {},
   "outputs": [
    {
     "data": {
      "text/html": [
       "<div>\n",
       "<style scoped>\n",
       "    .dataframe tbody tr th:only-of-type {\n",
       "        vertical-align: middle;\n",
       "    }\n",
       "\n",
       "    .dataframe tbody tr th {\n",
       "        vertical-align: top;\n",
       "    }\n",
       "\n",
       "    .dataframe thead th {\n",
       "        text-align: right;\n",
       "    }\n",
       "</style>\n",
       "<table border=\"1\" class=\"dataframe\">\n",
       "  <thead>\n",
       "    <tr style=\"text-align: right;\">\n",
       "      <th></th>\n",
       "      <th>Word 0</th>\n",
       "      <th>Word 1</th>\n",
       "      <th>Word 2</th>\n",
       "      <th>Word 3</th>\n",
       "      <th>Word 4</th>\n",
       "      <th>Word 5</th>\n",
       "      <th>Word 6</th>\n",
       "      <th>Word 7</th>\n",
       "      <th>Word 8</th>\n",
       "      <th>Word 9</th>\n",
       "    </tr>\n",
       "  </thead>\n",
       "  <tbody>\n",
       "    <tr>\n",
       "      <th>Topic 0</th>\n",
       "      <td>daughter</td>\n",
       "      <td>job</td>\n",
       "      <td>watched</td>\n",
       "      <td>mother</td>\n",
       "      <td>movie</td>\n",
       "      <td>surprise</td>\n",
       "      <td>card</td>\n",
       "      <td>want</td>\n",
       "      <td>said</td>\n",
       "      <td>lost</td>\n",
       "    </tr>\n",
       "    <tr>\n",
       "      <th>Topic 1</th>\n",
       "      <td>life</td>\n",
       "      <td>dog</td>\n",
       "      <td>make</td>\n",
       "      <td>thing</td>\n",
       "      <td>feel</td>\n",
       "      <td>one</td>\n",
       "      <td>car</td>\n",
       "      <td>get</td>\n",
       "      <td>would</td>\n",
       "      <td>much</td>\n",
       "    </tr>\n",
       "    <tr>\n",
       "      <th>Topic 2</th>\n",
       "      <td>family</td>\n",
       "      <td>birthday</td>\n",
       "      <td>husband</td>\n",
       "      <td>morning</td>\n",
       "      <td>work</td>\n",
       "      <td>told</td>\n",
       "      <td>mom</td>\n",
       "      <td>money</td>\n",
       "      <td>party</td>\n",
       "      <td>class</td>\n",
       "    </tr>\n",
       "    <tr>\n",
       "      <th>Topic 3</th>\n",
       "      <td>dinner</td>\n",
       "      <td>night</td>\n",
       "      <td>good</td>\n",
       "      <td>girlfriend</td>\n",
       "      <td>food</td>\n",
       "      <td>wife</td>\n",
       "      <td>ate</td>\n",
       "      <td>watching</td>\n",
       "      <td>nice</td>\n",
       "      <td>show</td>\n",
       "    </tr>\n",
       "    <tr>\n",
       "      <th>Topic 4</th>\n",
       "      <td>found</td>\n",
       "      <td>getting</td>\n",
       "      <td>finished</td>\n",
       "      <td>finally</td>\n",
       "      <td>gift</td>\n",
       "      <td>free</td>\n",
       "      <td>project</td>\n",
       "      <td>brother</td>\n",
       "      <td>completed</td>\n",
       "      <td>helped</td>\n",
       "    </tr>\n",
       "    <tr>\n",
       "      <th>Topic 5</th>\n",
       "      <td>time</td>\n",
       "      <td>first</td>\n",
       "      <td>sister</td>\n",
       "      <td>great</td>\n",
       "      <td>baby</td>\n",
       "      <td>spend</td>\n",
       "      <td>early</td>\n",
       "      <td>park</td>\n",
       "      <td>new</td>\n",
       "      <td>phone</td>\n",
       "    </tr>\n",
       "    <tr>\n",
       "      <th>Topic 6</th>\n",
       "      <td>ive</td>\n",
       "      <td>wanted</td>\n",
       "      <td>cat</td>\n",
       "      <td>shopping</td>\n",
       "      <td>summer</td>\n",
       "      <td>date</td>\n",
       "      <td>weather</td>\n",
       "      <td>purchased</td>\n",
       "      <td>great</td>\n",
       "      <td>actually</td>\n",
       "    </tr>\n",
       "    <tr>\n",
       "      <th>Topic 7</th>\n",
       "      <td>new</td>\n",
       "      <td>home</td>\n",
       "      <td>work</td>\n",
       "      <td>time</td>\n",
       "      <td>bought</td>\n",
       "      <td>friend</td>\n",
       "      <td>long</td>\n",
       "      <td>see</td>\n",
       "      <td>house</td>\n",
       "      <td>visit</td>\n",
       "    </tr>\n",
       "    <tr>\n",
       "      <th>Topic 8</th>\n",
       "      <td>received</td>\n",
       "      <td>old</td>\n",
       "      <td>school</td>\n",
       "      <td>work</td>\n",
       "      <td>parent</td>\n",
       "      <td>vacation</td>\n",
       "      <td>working</td>\n",
       "      <td>song</td>\n",
       "      <td>state</td>\n",
       "      <td>goal</td>\n",
       "    </tr>\n",
       "    <tr>\n",
       "      <th>Topic 9</th>\n",
       "      <td>friend</td>\n",
       "      <td>game</td>\n",
       "      <td>new</td>\n",
       "      <td>best</td>\n",
       "      <td>started</td>\n",
       "      <td>lunch</td>\n",
       "      <td>weekend</td>\n",
       "      <td>event</td>\n",
       "      <td>son</td>\n",
       "      <td>played</td>\n",
       "    </tr>\n",
       "  </tbody>\n",
       "</table>\n",
       "</div>"
      ],
      "text/plain": [
       "           Word 0    Word 1    Word 2      Word 3   Word 4    Word 5   Word 6  \\\n",
       "Topic 0  daughter       job   watched      mother    movie  surprise     card   \n",
       "Topic 1      life       dog      make       thing     feel       one      car   \n",
       "Topic 2    family  birthday   husband     morning     work      told      mom   \n",
       "Topic 3    dinner     night      good  girlfriend     food      wife      ate   \n",
       "Topic 4     found   getting  finished     finally     gift      free  project   \n",
       "Topic 5      time     first    sister       great     baby     spend    early   \n",
       "Topic 6       ive    wanted       cat    shopping   summer      date  weather   \n",
       "Topic 7       new      home      work        time   bought    friend     long   \n",
       "Topic 8  received       old    school        work   parent  vacation  working   \n",
       "Topic 9    friend      game       new        best  started     lunch  weekend   \n",
       "\n",
       "            Word 7     Word 8    Word 9  \n",
       "Topic 0       want       said      lost  \n",
       "Topic 1        get      would      much  \n",
       "Topic 2      money      party     class  \n",
       "Topic 3   watching       nice      show  \n",
       "Topic 4    brother  completed    helped  \n",
       "Topic 5       park        new     phone  \n",
       "Topic 6  purchased      great  actually  \n",
       "Topic 7        see      house     visit  \n",
       "Topic 8       song      state      goal  \n",
       "Topic 9      event        son    played  "
      ]
     },
     "execution_count": 93,
     "metadata": {},
     "output_type": "execute_result"
    }
   ],
   "source": [
    "# Topic - Keywords Dataframe\n",
    "df_topic_keywords = pd.DataFrame(topic_keywords)\n",
    "df_topic_keywords.columns = ['Word '+str(i) for i in range(df_topic_keywords.shape[1])]\n",
    "df_topic_keywords.index = ['Topic '+str(i) for i in range(df_topic_keywords.shape[0])]\n",
    "df_topic_keywords"
   ]
  },
  {
   "cell_type": "markdown",
   "metadata": {},
   "source": [
    "- Some topics are similar to each other. Try to grid search the best number of topics."
   ]
  },
  {
   "cell_type": "markdown",
   "metadata": {},
   "source": [
    "### Grid search the best number of topics"
   ]
  },
  {
   "cell_type": "code",
   "execution_count": 94,
   "metadata": {},
   "outputs": [],
   "source": [
    "from sklearn.model_selection import GridSearchCV"
   ]
  },
  {
   "cell_type": "code",
   "execution_count": 95,
   "metadata": {},
   "outputs": [],
   "source": [
    "search_params = {'n_components': [5, 6, 7, 8, 9]}\n",
    "lda = LatentDirichletAllocation(max_iter=10,\n",
    "                                learning_method='online',\n",
    "                                learning_offset=50.,\n",
    "                                random_state=0)"
   ]
  },
  {
   "cell_type": "code",
   "execution_count": 96,
   "metadata": {},
   "outputs": [],
   "source": [
    "model = GridSearchCV(lda, param_grid=search_params, cv=3)"
   ]
  },
  {
   "cell_type": "code",
   "execution_count": 97,
   "metadata": {},
   "outputs": [
    {
     "name": "stdout",
     "output_type": "stream",
     "text": [
      "CPU times: user 36min 27s, sys: 19.8 s, total: 36min 46s\n",
      "Wall time: 38min 42s\n"
     ]
    },
    {
     "data": {
      "text/plain": [
       "GridSearchCV(cv=3, error_score='raise-deprecating',\n",
       "             estimator=LatentDirichletAllocation(batch_size=128,\n",
       "                                                 doc_topic_prior=None,\n",
       "                                                 evaluate_every=-1,\n",
       "                                                 learning_decay=0.7,\n",
       "                                                 learning_method='online',\n",
       "                                                 learning_offset=50.0,\n",
       "                                                 max_doc_update_iter=100,\n",
       "                                                 max_iter=10,\n",
       "                                                 mean_change_tol=0.001,\n",
       "                                                 n_components=10, n_jobs=None,\n",
       "                                                 perp_tol=0.1, random_state=0,\n",
       "                                                 topic_word_prior=None,\n",
       "                                                 total_samples=1000000.0,\n",
       "                                                 verbose=0),\n",
       "             iid='warn', n_jobs=None,\n",
       "             param_grid={'n_components': [5, 6, 7, 8, 9]},\n",
       "             pre_dispatch='2*n_jobs', refit=True, return_train_score=False,\n",
       "             scoring=None, verbose=0)"
      ]
     },
     "execution_count": 97,
     "metadata": {},
     "output_type": "execute_result"
    }
   ],
   "source": [
    "%%time\n",
    "model.fit(df_bow)"
   ]
  },
  {
   "cell_type": "code",
   "execution_count": 98,
   "metadata": {},
   "outputs": [],
   "source": [
    "# Best Model\n",
    "best_lda_model = model.best_estimator_"
   ]
  },
  {
   "cell_type": "code",
   "execution_count": 99,
   "metadata": {},
   "outputs": [
    {
     "name": "stdout",
     "output_type": "stream",
     "text": [
      "Best Model's Params:  {'n_components': 5}\n",
      "\n",
      "\n",
      "Best Log Likelihood Score:  -2066556.0373598626\n",
      "\n",
      "\n",
      "Model Perplexity:  2413.4145621385214\n"
     ]
    }
   ],
   "source": [
    "print(\"Best Model's Params: \", model.best_params_)\n",
    "print('\\n')\n",
    "print(\"Best Log Likelihood Score: \", model.best_score_)\n",
    "print('\\n')\n",
    "print(\"Model Perplexity: \", best_lda_model.perplexity(df_bow))"
   ]
  },
  {
   "cell_type": "code",
   "execution_count": 100,
   "metadata": {},
   "outputs": [],
   "source": [
    "# Get Log Likelihoods from Grid Search Output\n",
    "n_topics = [5, 6, 7, 8, 9]\n",
    "log_likelihoods = model.cv_results_['mean_test_score']"
   ]
  },
  {
   "cell_type": "code",
   "execution_count": 101,
   "metadata": {},
   "outputs": [
    {
     "data": {
      "text/plain": [
       "Text(0, 0.5, 'Log Likelihood Scores')"
      ]
     },
     "execution_count": 101,
     "metadata": {},
     "output_type": "execute_result"
    },
    {
     "data": {
      "image/png": "[encoded data removed]",
      "text/plain": [
       "<Figure size 864x576 with 1 Axes>"
      ]
     },
     "metadata": {
      "needs_background": "light"
     },
     "output_type": "display_data"
    }
   ],
   "source": [
    "# Show graph\n",
    "plt.figure(figsize=(12, 8))\n",
    "plt.plot(n_topics, log_likelihoods)\n",
    "plt.title(\"Choosing Optimal LDA Model\")\n",
    "plt.xlabel(\"Num Topics\")\n",
    "plt.ylabel(\"Log Likelihood Scores\")"
   ]
  },
  {
   "cell_type": "markdown",
   "metadata": {},
   "source": [
    "### Topic words for best model"
   ]
  },
  {
   "cell_type": "code",
   "execution_count": 191,
   "metadata": {},
   "outputs": [],
   "source": [
    "topic_keywords = show_topics(vectorizer=bow_transformer, lda_model=best_lda_model, n_words=10)"
   ]
  },
  {
   "cell_type": "code",
   "execution_count": 192,
   "metadata": {},
   "outputs": [
    {
     "data": {
      "text/html": [
       "<div>\n",
       "<style scoped>\n",
       "    .dataframe tbody tr th:only-of-type {\n",
       "        vertical-align: middle;\n",
       "    }\n",
       "\n",
       "    .dataframe tbody tr th {\n",
       "        vertical-align: top;\n",
       "    }\n",
       "\n",
       "    .dataframe thead th {\n",
       "        text-align: right;\n",
       "    }\n",
       "</style>\n",
       "<table border=\"1\" class=\"dataframe\">\n",
       "  <thead>\n",
       "    <tr style=\"text-align: right;\">\n",
       "      <th></th>\n",
       "      <th>Word 0</th>\n",
       "      <th>Word 1</th>\n",
       "      <th>Word 2</th>\n",
       "      <th>Word 3</th>\n",
       "      <th>Word 4</th>\n",
       "      <th>Word 5</th>\n",
       "      <th>Word 6</th>\n",
       "      <th>Word 7</th>\n",
       "      <th>Word 8</th>\n",
       "      <th>Word 9</th>\n",
       "    </tr>\n",
       "  </thead>\n",
       "  <tbody>\n",
       "    <tr>\n",
       "      <th>Topic 1</th>\n",
       "      <td>found</td>\n",
       "      <td>daughter</td>\n",
       "      <td>finally</td>\n",
       "      <td>new</td>\n",
       "      <td>house</td>\n",
       "      <td>mother</td>\n",
       "      <td>time</td>\n",
       "      <td>finished</td>\n",
       "      <td>game</td>\n",
       "      <td>first</td>\n",
       "    </tr>\n",
       "    <tr>\n",
       "      <th>Topic 2</th>\n",
       "      <td>work</td>\n",
       "      <td>job</td>\n",
       "      <td>life</td>\n",
       "      <td>event</td>\n",
       "      <td>good</td>\n",
       "      <td>get</td>\n",
       "      <td>one</td>\n",
       "      <td>feel</td>\n",
       "      <td>make</td>\n",
       "      <td>money</td>\n",
       "    </tr>\n",
       "    <tr>\n",
       "      <th>Topic 3</th>\n",
       "      <td>new</td>\n",
       "      <td>bought</td>\n",
       "      <td>wife</td>\n",
       "      <td>morning</td>\n",
       "      <td>husband</td>\n",
       "      <td>home</td>\n",
       "      <td>car</td>\n",
       "      <td>work</td>\n",
       "      <td>nice</td>\n",
       "      <td>told</td>\n",
       "    </tr>\n",
       "    <tr>\n",
       "      <th>Topic 4</th>\n",
       "      <td>friend</td>\n",
       "      <td>time</td>\n",
       "      <td>family</td>\n",
       "      <td>dinner</td>\n",
       "      <td>old</td>\n",
       "      <td>birthday</td>\n",
       "      <td>night</td>\n",
       "      <td>good</td>\n",
       "      <td>see</td>\n",
       "      <td>girlfriend</td>\n",
       "    </tr>\n",
       "    <tr>\n",
       "      <th>Topic 5</th>\n",
       "      <td>dog</td>\n",
       "      <td>watched</td>\n",
       "      <td>mom</td>\n",
       "      <td>parent</td>\n",
       "      <td>walk</td>\n",
       "      <td>team</td>\n",
       "      <td>completed</td>\n",
       "      <td>park</td>\n",
       "      <td>game</td>\n",
       "      <td>summer</td>\n",
       "    </tr>\n",
       "  </tbody>\n",
       "</table>\n",
       "</div>"
      ],
      "text/plain": [
       "         Word 0    Word 1   Word 2   Word 3   Word 4    Word 5     Word 6  \\\n",
       "Topic 1   found  daughter  finally      new    house    mother       time   \n",
       "Topic 2    work       job     life    event     good       get        one   \n",
       "Topic 3     new    bought     wife  morning  husband      home        car   \n",
       "Topic 4  friend      time   family   dinner      old  birthday      night   \n",
       "Topic 5     dog   watched      mom   parent     walk      team  completed   \n",
       "\n",
       "           Word 7 Word 8      Word 9  \n",
       "Topic 1  finished   game       first  \n",
       "Topic 2      feel   make       money  \n",
       "Topic 3      work   nice        told  \n",
       "Topic 4      good    see  girlfriend  \n",
       "Topic 5      park   game      summer  "
      ]
     },
     "execution_count": 192,
     "metadata": {},
     "output_type": "execute_result"
    }
   ],
   "source": [
    "# Topic - Keywords Dataframe\n",
    "df_topic_keywords = pd.DataFrame(topic_keywords)\n",
    "df_topic_keywords.columns = ['Word '+str(i) for i in range(df_topic_keywords.shape[1])]\n",
    "df_topic_keywords.index = ['Topic '+str(i+1) for i in range(df_topic_keywords.shape[0])]\n",
    "df_topic_keywords"
   ]
  },
  {
   "cell_type": "markdown",
   "metadata": {},
   "source": [
    "- Topic 1 has words expressing the feeling of a monment, so I define it as enjoy the moment.   \n",
    "- Topic 2 turns out to be things concerning achievement. \n",
    "- Topic 3 can be classified as leisure.  \n",
    "- Topic 4 involves words like birthday, dinner and famliy which can be concluded as bonding. \n",
    "- Topic 5 seems to be related to the affection.     "
   ]
  },
  {
   "cell_type": "markdown",
   "metadata": {},
   "source": [
    "### Visualize the LDA model"
   ]
  },
  {
   "cell_type": "code",
   "execution_count": 252,
   "metadata": {},
   "outputs": [
    {
     "name": "stderr",
     "output_type": "stream",
     "text": [
      "/Users/wangxinquan/anaconda3/lib/python3.7/site-packages/pyLDAvis/_prepare.py:257: FutureWarning: Sorting because non-concatenation axis is not aligned. A future version\n",
      "of pandas will change to not sort by default.\n",
      "\n",
      "To accept the future behavior, pass 'sort=False'.\n",
      "\n",
      "To retain the current behavior and silence the warning, pass 'sort=True'.\n",
      "\n",
      "  return pd.concat([default_term_info] + list(topic_dfs))\n"
     ]
    },
    {
     "data": {
      "text/html": [
       "\n",
       "<link rel=\"stylesheet\" type=\"text/css\" href=\"https://cdn.rawgit.com/bmabey/pyLDAvis/files/ldavis.v1.0.0.css\">\n",
       "\n",
       "\n",
       "<div id=\"ldavis_el4741350440563763505432900\"></div>\n",
       "<script type=\"text/javascript\">\n",
       "\n",
       "var ldavis_el4741350440563763505432900_data = {\"mdsDat\": {\"x\": [0.11493332131188591, 0.03577492915900878, 0.08898557518859775, 0.13679850791590067, -0.37649233357539325], \"y\": [0.03635438171073922, -0.2926298293211516, 0.27797121790071716, -0.051848262554695435, 0.03015249226439057], \"topics\": [1, 2, 3, 4, 5], \"cluster\": [1, 1, 1, 1, 1], \"Freq\": [27.022499286020757, 24.518414235190807, 17.51835805168343, 17.381549121916002, 13.559179305189001]}, \"tinfo\": {\"Category\": [\"Default\", \"Default\", \"Default\", \"Default\", \"Default\", \"Default\", \"Default\", \"Default\", \"Default\", \"Default\", \"Default\", \"Default\", \"Default\", \"Default\", \"Default\", \"Default\", \"Default\", \"Default\", \"Default\", \"Default\", \"Default\", \"Default\", \"Default\", \"Default\", \"Default\", \"Default\", \"Default\", \"Default\", \"Default\", \"Default\", \"Topic1\", \"Topic1\", \"Topic1\", \"Topic1\", \"Topic1\", \"Topic1\", \"Topic1\", \"Topic1\", \"Topic1\", \"Topic1\", \"Topic1\", \"Topic1\", \"Topic1\", \"Topic1\", \"Topic1\", \"Topic1\", \"Topic1\", \"Topic1\", \"Topic1\", \"Topic1\", \"Topic1\", \"Topic1\", \"Topic1\", \"Topic1\", \"Topic1\", \"Topic1\", \"Topic1\", \"Topic1\", \"Topic1\", \"Topic1\", \"Topic1\", \"Topic1\", \"Topic1\", \"Topic1\", \"Topic1\", \"Topic1\", \"Topic1\", \"Topic1\", \"Topic1\", \"Topic1\", \"Topic1\", \"Topic1\", \"Topic1\", \"Topic1\", \"Topic1\", \"Topic2\", \"Topic2\", \"Topic2\", \"Topic2\", \"Topic2\", \"Topic2\", \"Topic2\", \"Topic2\", \"Topic2\", \"Topic2\", \"Topic2\", \"Topic2\", \"Topic2\", \"Topic2\", \"Topic2\", \"Topic2\", \"Topic2\", \"Topic2\", \"Topic2\", \"Topic2\", \"Topic2\", \"Topic2\", \"Topic2\", \"Topic2\", \"Topic2\", \"Topic2\", \"Topic2\", \"Topic2\", \"Topic2\", \"Topic2\", \"Topic2\", \"Topic2\", \"Topic2\", \"Topic2\", \"Topic2\", \"Topic2\", \"Topic2\", \"Topic2\", \"Topic2\", \"Topic2\", \"Topic2\", \"Topic2\", \"Topic2\", \"Topic2\", \"Topic2\", \"Topic3\", \"Topic3\", \"Topic3\", \"Topic3\", \"Topic3\", \"Topic3\", \"Topic3\", \"Topic3\", \"Topic3\", \"Topic3\", \"Topic3\", \"Topic3\", \"Topic3\", \"Topic3\", \"Topic3\", \"Topic3\", \"Topic3\", \"Topic3\", \"Topic3\", \"Topic3\", \"Topic3\", \"Topic3\", \"Topic3\", \"Topic3\", \"Topic3\", \"Topic3\", \"Topic3\", \"Topic3\", \"Topic3\", \"Topic3\", \"Topic3\", \"Topic3\", \"Topic3\", \"Topic3\", \"Topic3\", \"Topic3\", \"Topic3\", \"Topic3\", \"Topic3\", \"Topic3\", \"Topic3\", \"Topic3\", \"Topic3\", \"Topic4\", \"Topic4\", \"Topic4\", \"Topic4\", \"Topic4\", \"Topic4\", \"Topic4\", \"Topic4\", \"Topic4\", \"Topic4\", \"Topic4\", \"Topic4\", \"Topic4\", \"Topic4\", \"Topic4\", \"Topic4\", \"Topic4\", \"Topic4\", \"Topic4\", \"Topic4\", \"Topic4\", \"Topic4\", \"Topic4\", \"Topic4\", \"Topic4\", \"Topic4\", \"Topic4\", \"Topic4\", \"Topic4\", \"Topic4\", \"Topic4\", \"Topic4\", \"Topic4\", \"Topic4\", \"Topic4\", \"Topic4\", \"Topic4\", \"Topic4\", \"Topic4\", \"Topic4\", \"Topic4\", \"Topic4\", \"Topic4\", \"Topic5\", \"Topic5\", \"Topic5\", \"Topic5\", \"Topic5\", \"Topic5\", \"Topic5\", \"Topic5\", \"Topic5\", \"Topic5\", \"Topic5\", \"Topic5\", \"Topic5\", \"Topic5\", \"Topic5\", \"Topic5\", \"Topic5\", \"Topic5\", \"Topic5\", \"Topic5\", \"Topic5\", \"Topic5\", \"Topic5\", \"Topic5\", \"Topic5\", \"Topic5\", \"Topic5\", \"Topic5\", \"Topic5\", \"Topic5\", \"Topic5\", \"Topic5\", \"Topic5\", \"Topic5\", \"Topic5\", \"Topic5\", \"Topic5\", \"Topic5\", \"Topic5\"], \"Freq\": [10078.0, 8807.0, 7851.0, 3652.0, 4375.0, 3275.0, 3271.0, 2632.0, 2915.0, 9252.0, 2695.0, 2632.0, 2568.0, 3198.0, 3106.0, 2246.0, 2796.0, 2729.0, 1843.0, 2058.0, 2433.0, 1777.0, 1522.0, 4083.0, 3438.0, 3257.0, 2823.0, 1896.0, 1520.0, 1524.0, 3105.9758177287076, 2433.195802440746, 1724.8804913842355, 1561.7319758923209, 1286.17636817976, 1255.1400608677704, 1219.9934962081886, 1204.7007066935817, 1157.7899477430137, 1138.3915859231981, 1104.848812886404, 1034.1466853923785, 1001.1984943605435, 963.2598181610441, 960.8885610121977, 949.758751304196, 920.44755508875, 822.3831370478741, 809.4620022503051, 704.8121547035321, 688.116136347148, 689.6988244447598, 666.3775454696934, 662.9951318937591, 657.8161586269259, 621.1020675082384, 594.7472962703256, 575.07329978238, 582.5803107763344, 580.663164108203, 6219.038074516997, 2676.1575765077473, 1515.6962819822268, 1955.2490099126712, 1608.5413830818195, 1675.8892882221396, 1765.9838277107042, 2142.330692398337, 2214.792077456965, 861.233486047334, 1964.1621460665726, 1187.8183746477864, 1520.131162450756, 1002.0593101596658, 939.2941729203602, 10078.105199988575, 4375.08923038457, 2729.0391756043277, 1895.377598061935, 1787.241666970573, 1739.5899520840533, 1701.136823116181, 1617.233240411739, 1502.7456410907853, 1439.0006066519188, 1443.426695922078, 1421.0584989943773, 1362.7442665259532, 1299.9225940347853, 1289.4387816432381, 1276.64499950344, 1231.1037604615947, 1200.7393274568863, 1179.4599249323576, 1169.2709615043855, 1093.2884772049804, 1038.4404816426672, 1044.2487969498586, 1041.3362936368387, 1010.0893064929081, 965.4522922364712, 2794.3175556234987, 943.3705576670949, 943.702700164442, 921.4633550555591, 3188.545296985339, 6053.366449967682, 2614.5603337750063, 1828.5668286561488, 1453.3686023123641, 2078.587662812781, 1474.094504278773, 1262.1984093729307, 2178.172844880606, 1608.5420672783312, 1787.9458858872574, 1499.2493210829186, 1409.04993485333, 1324.1626223350518, 1292.2737386757371, 3651.675012717496, 3274.689657784365, 3271.041235147707, 2245.763376423303, 1776.3541530339894, 1523.3350428270921, 1326.9035000126564, 1250.9741711259624, 1212.8323559527967, 1208.129989536102, 1136.661988898064, 852.5845142797765, 772.363672858615, 681.1369316299292, 686.8909457418146, 660.8878616252408, 663.3280846474966, 627.6996852497405, 607.3304441927361, 608.7107859644314, 601.6953847141311, 584.0907496122447, 585.6370646924692, 569.2386777969352, 546.944643553739, 478.1141641354826, 456.7702348586071, 440.67142877255225, 430.32230306347054, 426.42681431832057, 455.32231755752053, 1041.3191031646015, 883.4734124474369, 820.6423878026311, 2992.5357613576607, 1430.3246520952923, 1411.6844507101353, 949.7929919235403, 1670.9214959883745, 764.7310781053945, 838.7236535906418, 861.8967497412661, 663.8907634624904, 2915.046472287448, 2694.3034217348845, 2631.7961853668135, 2567.9155751757803, 2057.852408848896, 1519.393097134827, 1384.576728160284, 1197.362578733563, 1146.6865816552156, 1041.4723991185556, 899.2478394255072, 810.1273654898424, 807.6564064093202, 779.2032506529994, 771.5711317208377, 762.1693546277342, 756.2626392066658, 706.6725280818539, 691.7299994651595, 672.6041197778792, 571.6022117110056, 572.8150717161619, 554.5461426010036, 515.9519654440596, 498.7729846986751, 486.25671935877506, 490.44145070078764, 474.9882291991552, 440.2072166693545, 427.32791152432435, 5814.236436604684, 1480.5038676874085, 2369.8989560402097, 1546.3055449968024, 1355.1078433270588, 743.449881683831, 1631.9232254845053, 934.3071718277134, 706.3656886582226, 760.0348808854934, 763.4914097278867, 741.2927951376153, 707.5946399764856, 2632.2114746584048, 1842.5776310212952, 1521.3448381202973, 1171.8735085576304, 1096.8825865382803, 968.5502701747096, 942.562834873782, 804.7461369490286, 760.2292078522115, 699.2425319721473, 688.7215036553087, 629.0966420405861, 601.4069922296317, 593.0114827719253, 585.5861640610708, 507.06598077133094, 505.5191053134886, 502.43961044995524, 499.3288990474535, 485.06782130435414, 485.1811602619519, 456.6508253964362, 421.51874016327196, 415.9863694621586, 415.0987297853633, 397.99047098748173, 388.36598042477965, 347.7333074828414, 340.29163870365596, 323.3621138222731, 865.0793376779199, 427.7882297037373, 787.6155703121178, 856.2876452394145, 528.0336623184136, 669.0015819139002, 638.6143363644389, 623.0169423813747, 630.3006198674603], \"Term\": [\"friend\", \"new\", \"work\", \"found\", \"family\", \"daughter\", \"finally\", \"dog\", \"bought\", \"time\", \"wife\", \"morning\", \"husband\", \"dinner\", \"job\", \"house\", \"old\", \"birthday\", \"watched\", \"car\", \"event\", \"mother\", \"mom\", \"home\", \"night\", \"life\", \"nice\", \"girlfriend\", \"told\", \"finished\", \"job\", \"event\", \"money\", \"would\", \"people\", \"seeing\", \"boyfriend\", \"feeling\", \"excited\", \"many\", \"better\", \"help\", \"early\", \"dad\", \"come\", \"sleep\", \"thought\", \"hit\", \"company\", \"paid\", \"pay\", \"goal\", \"mturk\", \"wedding\", \"coming\", \"part\", \"promotion\", \"bonus\", \"extra\", \"given\", \"work\", \"life\", \"thing\", \"feel\", \"received\", \"getting\", \"make\", \"get\", \"good\", \"another\", \"one\", \"much\", \"time\", \"well\", \"hour\", \"friend\", \"family\", \"birthday\", \"girlfriend\", \"movie\", \"enjoyed\", \"lunch\", \"together\", \"brother\", \"ate\", \"trip\", \"weekend\", \"watching\", \"played\", \"visit\", \"show\", \"met\", \"party\", \"gift\", \"spent\", \"child\", \"delicious\", \"book\", \"surprise\", \"spend\", \"watch\", \"old\", \"seen\", \"store\", \"girl\", \"dinner\", \"time\", \"night\", \"school\", \"best\", \"see\", \"sister\", \"food\", \"good\", \"long\", \"first\", \"son\", \"great\", \"one\", \"home\", \"found\", \"daughter\", \"finally\", \"house\", \"mother\", \"finished\", \"play\", \"ive\", \"video\", \"baby\", \"cat\", \"card\", \"want\", \"lost\", \"call\", \"purchased\", \"weather\", \"passed\", \"turned\", \"several\", \"mail\", \"computer\", \"ever\", \"room\", \"learned\", \"apartment\", \"moved\", \"item\", \"looked\", \"accepted\", \"neighbor\", \"working\", \"wanted\", \"something\", \"new\", \"game\", \"first\", \"saw\", \"time\", \"said\", \"started\", \"one\", \"college\", \"bought\", \"wife\", \"morning\", \"husband\", \"car\", \"told\", \"kid\", \"didnt\", \"class\", \"restaurant\", \"brought\", \"coffee\", \"woke\", \"tv\", \"father\", \"song\", \"buy\", \"loved\", \"bed\", \"breakfast\", \"afternoon\", \"face\", \"special\", \"gym\", \"garden\", \"bike\", \"flower\", \"ride\", \"drive\", \"cant\", \"new\", \"gave\", \"home\", \"nice\", \"son\", \"phone\", \"work\", \"one\", \"love\", \"great\", \"good\", \"get\", \"back\", \"dog\", \"watched\", \"mom\", \"parent\", \"walk\", \"team\", \"completed\", \"summer\", \"date\", \"amazing\", \"taking\", \"town\", \"run\", \"pretty\", \"student\", \"puppy\", \"final\", \"rain\", \"walking\", \"test\", \"picture\", \"coworker\", \"running\", \"pet\", \"match\", \"yard\", \"hot\", \"front\", \"mile\", \"woman\", \"park\", \"extremely\", \"playing\", \"game\", \"beautiful\", \"see\", \"son\", \"great\", \"first\"], \"Total\": [10078.0, 8807.0, 7851.0, 3652.0, 4375.0, 3275.0, 3271.0, 2632.0, 2915.0, 9252.0, 2695.0, 2632.0, 2568.0, 3198.0, 3106.0, 2246.0, 2796.0, 2729.0, 1843.0, 2058.0, 2433.0, 1777.0, 1522.0, 4083.0, 3438.0, 3257.0, 2823.0, 1896.0, 1520.0, 1524.0, 3106.7668741861057, 2433.9947943295306, 1725.6724608724464, 1562.5291478896052, 1286.9739979367412, 1255.9485043404843, 1220.7980619294506, 1205.5001344793188, 1158.6036553962829, 1139.1955996752674, 1105.6457888031118, 1034.9423372560525, 1001.9974463305025, 964.0645330959965, 961.6913496414734, 950.5546247069227, 921.2480460488473, 823.183113899678, 810.2576183707491, 705.6046359518242, 688.9065926670734, 690.4932329787088, 667.1655291607915, 663.7985112033294, 658.6212581184677, 621.9101848816949, 595.5353234445644, 575.8602428913692, 583.3780524007445, 581.4663407172653, 7851.558932953386, 3257.806484909299, 1826.4722730216365, 2514.178130029497, 2158.6410387549736, 2378.852238161862, 2862.070812586729, 3986.2442114155206, 5649.569212130166, 1054.679293393846, 5202.393545094358, 1982.2390441241016, 9252.37321890297, 1869.5868381341818, 2192.439720013159, 10078.90414518915, 4375.891280999854, 2729.8367488680296, 1896.1794283255847, 1788.0388279038823, 1740.3914261041275, 1701.938063329673, 1618.0358363168084, 1503.5687031080831, 1439.7970932118465, 1444.2309705912808, 1421.862318898505, 1363.5527801891824, 1300.7279141607594, 1290.239836675834, 1277.457148246462, 1231.9041338634331, 1201.5343675628676, 1180.2677609294442, 1170.0737814926383, 1094.0973793653675, 1039.2393349387723, 1045.0550532904924, 1042.144694917474, 1010.890263831427, 966.2569274110655, 2796.6560712140513, 944.1688756198831, 944.5186445172557, 922.2722271799573, 3198.191757431847, 9252.37321890297, 3438.1646159604084, 2323.66893792615, 1708.7401384023797, 3153.298301339995, 1823.5544718079911, 1499.155382496238, 5649.569212130166, 3049.597265523142, 4413.339914980154, 3493.3713243064567, 3354.788138385551, 5202.393545094358, 4083.773523775275, 3652.470949657526, 3275.486256307386, 3271.8374208372156, 2246.5604233766485, 1777.1542165258275, 1524.1290300320409, 1327.7011319576836, 1251.770534269114, 1213.6262073971184, 1208.9238141323128, 1137.4555229788527, 853.3799182491093, 773.1683616103829, 681.9272176152679, 687.6924819892753, 661.6817361044511, 664.1263902639772, 628.4968486541208, 608.1278008671278, 609.5103239942342, 602.4875457534835, 584.8836504052255, 586.4395049828333, 570.0348108667436, 547.7399887129864, 478.9051480272703, 457.580387363622, 441.4663507923369, 431.1212582218386, 427.2196982550899, 457.3857945548481, 1385.4013568398684, 1152.9428091760842, 1129.6843279729467, 8807.370798020778, 3068.545864932104, 4413.339914980154, 1883.8566330465528, 9252.37321890297, 1196.664258324141, 1757.8860470455131, 5202.393545094358, 1207.8248742795674, 2915.8386145474187, 2695.097926359392, 2632.5917885416247, 2568.7102743523665, 2058.644809733295, 1520.192139621122, 1385.3757575120608, 1198.16619557108, 1147.4871140931589, 1042.269057046366, 900.0434391868004, 810.9177192755238, 808.4485242688469, 780.0032609543523, 772.3678515342156, 762.9643601227484, 757.0857815810404, 707.4686301658488, 692.524068217101, 673.3941523415539, 572.4030936868294, 573.6207494211428, 555.3502960386567, 516.7468172971419, 499.564537004633, 487.045666549865, 491.2383219622606, 475.7830401581534, 441.002770193129, 428.1293664507717, 8807.370798020778, 1796.1159128066934, 4083.773523775275, 2823.1120052173846, 3493.3713243064567, 1254.9361706214536, 7851.558932953386, 5202.393545094358, 1716.1093791674712, 3354.788138385551, 5649.569212130166, 3986.2442114155206, 2318.5318165702884, 2632.9936136740457, 1843.3619600638951, 1522.1368617026187, 1172.6654143342548, 1097.6643277063622, 969.3320358433355, 943.36008119492, 805.5366948903634, 761.0182248794482, 700.0359803737488, 689.5093299136047, 629.886175990161, 602.1909305268844, 593.8050328323192, 586.3764807542706, 507.84962198454076, 506.3040658901291, 503.2231953178698, 500.11376582491545, 485.8533187228062, 485.9685602058135, 457.4418845399307, 422.3067228227913, 416.76959573179636, 415.88034573299564, 398.77556653740476, 389.15356232088936, 348.52220298664724, 341.0756356394975, 324.15206956379006, 868.3849107592191, 429.0347362408385, 1257.945905563357, 3068.545864932104, 960.5370737252792, 3153.298301339995, 3493.3713243064567, 3354.788138385551, 4413.339914980154], \"loglift\": [30.0, 29.0, 28.0, 27.0, 26.0, 25.0, 24.0, 23.0, 22.0, 21.0, 20.0, 19.0, 18.0, 17.0, 16.0, 15.0, 14.0, 13.0, 12.0, 11.0, 10.0, 9.0, 8.0, 7.0, 6.0, 5.0, 4.0, 3.0, 2.0, 1.0, 1.3082, 1.3082, 1.308, 1.308, 1.3079, 1.3079, 1.3078, 1.3078, 1.3078, 1.3078, 1.3078, 1.3077, 1.3077, 1.3077, 1.3077, 1.3077, 1.3076, 1.3075, 1.3075, 1.3074, 1.3074, 1.3073, 1.3073, 1.3073, 1.3073, 1.3072, 1.3072, 1.3071, 1.3071, 1.3071, 1.0754, 1.1118, 1.122, 1.0571, 1.0143, 0.9582, 0.8257, 0.6875, 0.3721, 1.1059, 0.3344, 0.7964, -0.4976, 0.6848, 0.4609, 1.4057, 1.4056, 1.4055, 1.4053, 1.4053, 1.4053, 1.4053, 1.4052, 1.4052, 1.4052, 1.4052, 1.4052, 1.4052, 1.4051, 1.4051, 1.4051, 1.4051, 1.4051, 1.4051, 1.4051, 1.405, 1.405, 1.405, 1.405, 1.405, 1.4049, 1.4049, 1.4049, 1.4049, 1.4049, 1.4027, 0.9815, 1.1319, 1.1661, 1.2439, 0.989, 1.193, 1.2337, 0.4527, 0.7661, 0.5022, 0.5598, 0.5383, 0.0374, 0.2551, 1.7417, 1.7417, 1.7417, 1.7416, 1.7415, 1.7414, 1.7413, 1.7413, 1.7413, 1.7413, 1.7412, 1.741, 1.7409, 1.7408, 1.7408, 1.7407, 1.7407, 1.7407, 1.7406, 1.7406, 1.7406, 1.7406, 1.7406, 1.7405, 1.7405, 1.7403, 1.7401, 1.7401, 1.7401, 1.7401, 1.7374, 1.4564, 1.4757, 1.4223, 0.6625, 0.9786, 0.6021, 1.0571, 0.0304, 1.2942, 1.0019, -0.0558, 1.1435, 1.7495, 1.7495, 1.7495, 1.7495, 1.7494, 1.7492, 1.7492, 1.7491, 1.7491, 1.749, 1.7489, 1.7488, 1.7488, 1.7487, 1.7487, 1.7487, 1.7487, 1.7486, 1.7486, 1.7486, 1.7484, 1.7484, 1.7483, 1.7482, 1.7482, 1.7481, 1.7481, 1.7481, 1.748, 1.7479, 1.3345, 1.5565, 1.2056, 1.1478, 0.8028, 1.2262, 0.1788, 0.0327, 0.8621, 0.265, -0.2517, 0.0676, 0.5629, 1.9978, 1.9977, 1.9976, 1.9974, 1.9974, 1.9973, 1.9973, 1.9971, 1.9971, 1.997, 1.997, 1.9969, 1.9968, 1.9968, 1.9968, 1.9966, 1.9966, 1.9965, 1.9965, 1.9965, 1.9965, 1.9964, 1.9962, 1.9962, 1.9962, 1.9961, 1.9961, 1.9958, 1.9958, 1.9957, 1.9943, 1.9952, 1.5299, 0.7218, 1.3998, 0.4477, 0.2988, 0.3145, 0.0519], \"logprob\": [30.0, 29.0, 28.0, 27.0, 26.0, 25.0, 24.0, 23.0, 22.0, 21.0, 20.0, 19.0, 18.0, 17.0, 16.0, 15.0, 14.0, 13.0, 12.0, 11.0, 10.0, 9.0, 8.0, 7.0, 6.0, 5.0, 4.0, 3.0, 2.0, 1.0, -4.185, -4.4291, -4.7732, -4.8725, -5.0667, -5.0911, -5.1195, -5.1321, -5.1718, -5.1887, -5.2186, -5.2848, -5.3171, -5.3558, -5.3582, -5.3699, -5.4012, -5.5139, -5.5297, -5.6682, -5.6921, -5.6898, -5.7242, -5.7293, -5.7372, -5.7946, -5.8379, -5.8716, -5.8586, -5.8619, -3.4907, -4.3339, -4.9025, -4.6478, -4.843, -4.802, -4.7496, -4.5564, -4.5232, -5.4677, -4.6433, -5.1462, -4.8995, -5.3163, -5.381, -2.9107, -3.7452, -4.2171, -4.5817, -4.6404, -4.6674, -4.6898, -4.7404, -4.8138, -4.8571, -4.8541, -4.8697, -4.9116, -4.9588, -4.9669, -4.9768, -5.0132, -5.0381, -5.056, -5.0647, -5.1319, -5.1834, -5.1778, -5.1806, -5.211, -5.2562, -4.1935, -5.2794, -5.279, -5.3029, -4.0615, -3.4205, -4.26, -4.6176, -4.8472, -4.4894, -4.833, -4.9882, -4.4426, -4.7458, -4.64, -4.8161, -4.8782, -4.9403, -4.9647, -3.5897, -3.6987, -3.6998, -4.0759, -4.3103, -4.464, -4.6021, -4.661, -4.692, -4.6958, -4.7568, -5.0444, -5.1432, -5.2689, -5.2605, -5.2991, -5.2954, -5.3506, -5.3836, -5.3813, -5.3929, -5.4226, -5.42, -5.4484, -5.4883, -5.6228, -5.6685, -5.7044, -5.7281, -5.7372, -5.6717, -4.8444, -5.0088, -5.0826, -3.7888, -4.527, -4.5401, -4.9364, -4.3715, -5.1531, -5.0608, -5.0335, -5.2945, -3.8072, -3.8859, -3.9094, -3.934, -4.1554, -4.4588, -4.5517, -4.6969, -4.7402, -4.8364, -4.9833, -5.0876, -5.0907, -5.1266, -5.1364, -5.1487, -5.1564, -5.2243, -5.2456, -5.2737, -5.4364, -5.4343, -5.4667, -5.5388, -5.5727, -5.5981, -5.5895, -5.6215, -5.6976, -5.7273, -3.1168, -4.4847, -4.0142, -4.4412, -4.5732, -5.1735, -4.3873, -4.945, -5.2247, -5.1515, -5.1469, -5.1764, -5.223, -3.6609, -4.0176, -4.2091, -4.4701, -4.5363, -4.6607, -4.6879, -4.846, -4.9029, -4.9865, -5.0016, -5.0922, -5.1372, -5.1513, -5.1639, -5.3078, -5.3109, -5.317, -5.3232, -5.3522, -5.352, -5.4126, -5.4926, -5.5058, -5.508, -5.5501, -5.5745, -5.685, -5.7067, -5.7577, -4.7737, -5.4779, -4.8675, -4.7839, -5.2673, -5.0307, -5.0772, -5.1019, -5.0903]}, \"token.table\": {\"Topic\": [3, 4, 5, 1, 2, 5, 3, 2, 3, 1, 2, 3, 4, 5, 3, 4, 5, 4, 1, 2, 1, 4, 2, 1, 2, 4, 1, 4, 2, 4, 4, 3, 4, 4, 3, 3, 2, 4, 4, 2, 3, 1, 1, 1, 5, 3, 5, 1, 5, 3, 2, 4, 2, 4, 5, 4, 1, 2, 1, 3, 1, 1, 1, 5, 4, 2, 4, 1, 2, 3, 4, 5, 1, 5, 3, 3, 1, 2, 3, 4, 5, 4, 2, 4, 3, 2, 5, 2, 3, 5, 4, 1, 4, 1, 2, 3, 4, 5, 1, 2, 5, 2, 2, 2, 1, 1, 1, 2, 3, 4, 1, 2, 4, 5, 4, 1, 1, 1, 2, 3, 4, 5, 1, 2, 3, 4, 5, 3, 4, 3, 3, 1, 4, 3, 1, 2, 1, 2, 3, 4, 5, 3, 3, 1, 2, 4, 5, 4, 2, 3, 1, 2, 3, 4, 5, 1, 5, 2, 5, 5, 1, 4, 3, 3, 2, 1, 1, 2, 4, 2, 3, 3, 4, 2, 4, 1, 2, 5, 2, 4, 1, 2, 3, 4, 5, 1, 5, 3, 5, 1, 2, 3, 1, 1, 5, 2, 4, 5, 3, 2, 2, 5, 5, 1, 5, 3, 5, 1, 3, 4, 4, 3, 5, 5, 1, 3, 2, 3, 2, 4, 1, 2, 4, 5, 1, 2, 3, 2, 2, 4, 1, 2, 3, 2, 4, 5, 4, 4, 2, 2, 1, 2, 3, 4, 5, 2, 5, 5, 2, 5, 5, 5, 1, 2, 3, 1, 1, 2, 3, 5, 2, 4, 5, 2, 3, 4, 3, 2, 5, 5, 3, 2, 3, 2, 5, 2, 3, 1, 2, 1, 2, 3, 5, 4, 4, 5, 1, 4, 1, 3, 4, 1, 5], \"Freq\": [0.9971450327312351, 0.9992957870226853, 0.998520104104941, 0.8163619077315849, 0.04361515418775018, 0.13937886229563645, 0.9981099638811594, 0.9994463850388332, 0.9992358375924822, 0.3985280656475253, 0.12594176966350368, 0.0353672092890661, 0.30536566069096094, 0.13499922570094744, 0.3050376794553587, 0.14471070800100636, 0.5496924735577795, 0.9992432490924825, 0.14923275591712692, 0.8503340954807271, 0.999415917096007, 0.9978530420827428, 0.9996934802535805, 0.9985061603019337, 0.9989904328129218, 0.9997123933597577, 0.9993462785088394, 0.9994146781046682, 0.9996217644681566, 0.9988406790812863, 0.9985658407442642, 0.9989930353938549, 0.9973620906686821, 0.9996867795113337, 0.9995548076056339, 0.9995995245795107, 0.9989970002798069, 0.9995754949339507, 0.9988682954463695, 0.4495684859312769, 0.549748572114858, 0.9992811106788773, 0.999056729325375, 0.9984478783756727, 0.99961829930893, 0.9984891860037236, 0.9990340094449919, 0.9988957864754366, 0.998662023002656, 0.9998515468332527, 0.9988074595551704, 0.9990266829631893, 0.997125951747425, 0.0028140901742636643, 0.999622629668038, 0.997726158970181, 0.9990045420433402, 0.9997750930634014, 0.9995912915130928, 0.999250553588053, 0.9994789802418874, 0.9993519598497257, 0.0023308136044225807, 0.9975882226928645, 0.9989178400157783, 0.9997963201225488, 0.9995237353115036, 0.7775900906341363, 0.00039774429188446875, 0.003977442918844687, 0.20046312310977224, 0.017500748842916625, 0.9995851228340719, 0.9993994401573795, 0.9997440518187479, 0.9992592293632665, 0.028323220601185462, 0.4051353474793568, 0.31993909991099095, 0.10400286604755302, 0.14274903182997473, 0.9974791828998314, 0.8418073368076421, 0.15742197423661133, 0.9998710599854134, 0.9999102933041008, 0.9985016650813858, 0.2548438362733427, 0.46601877988603596, 0.27895949341429843, 0.9988699417936711, 0.17537843618776613, 0.8245570285526401, 0.5373479110652313, 0.1347132718216756, 0.13947966318966787, 0.18588926335169764, 0.002257764332206854, 0.7045414478097406, 0.11812419262203885, 0.1773964743291829, 0.9989258700682921, 0.9986205513486539, 0.9993779975101691, 0.9991979918963322, 0.9992856802135757, 0.3920652914994267, 0.38551611958724663, 0.08726329061364214, 0.1350545451079289, 0.16752175601480912, 0.41999671570260866, 0.22654187646130772, 0.18570472241499303, 0.9985547713655052, 0.9990894784935063, 0.9985627573261637, 0.06929865193366025, 0.31637405759112736, 0.033792275501219486, 0.5803456009992042, 0.9970357143488303, 0.42828999649502986, 0.26910660056663216, 0.13500941316563242, 0.09988872122727532, 0.06750470658281621, 0.9997505415964704, 0.9997234898931739, 0.9989436323028925, 0.9993844444744309, 0.999753160047998, 0.999728768523613, 0.998649014626949, 0.8214115885629416, 0.1783408568591439, 0.017051431868686334, 0.5276106514753136, 0.171498055140826, 0.17608882525931846, 0.10788309778457314, 0.9973992045150748, 0.9986402982733108, 0.22958909541718112, 0.3181615383192408, 0.41139568874246163, 0.040207227370013955, 0.9993375958369505, 0.9994488263998058, 0.9991907787025311, 0.6170357463671193, 0.07407224135324422, 0.0911927122320601, 0.19810830588344092, 0.019566252432932436, 0.9989504878041943, 0.9978831754324816, 0.999266068001089, 0.9968463427841138, 0.9992531146631932, 0.9996103195202487, 0.9997752068724819, 0.9993505253989247, 0.9987316166084698, 0.9994190126703791, 0.9982530135178633, 0.5993222681802968, 0.20128752946459463, 0.19926960936971147, 0.002186338123975303, 0.9947838464087629, 0.33982899876006095, 0.6601289003645153, 0.45198348405654054, 0.5476226225324543, 0.23879019526546547, 0.760580219999016, 0.0005817057131923641, 0.9990502689117228, 0.0007151397773169097, 0.3775185369918757, 0.25449823980511377, 0.16569296277342, 0.17953274620693072, 0.022681867293809235, 0.9991430952674956, 0.9994325624972639, 0.0034546892315034977, 0.9961020617501751, 0.9985364689245794, 0.9995552623567885, 0.9992094651624989, 0.9986840122061199, 0.9992431875560014, 0.9981534264023146, 0.40719202455288944, 0.5920619848195633, 0.9980069488334733, 0.9994719203435115, 0.99944037938078, 0.37362496902401837, 0.626418033172184, 0.9986442808871469, 0.9991011054701708, 0.9983270205435604, 0.99896969182123, 0.9975692787430096, 0.7453763599936065, 0.25432667597047237, 0.99878240936178, 0.9983542075020305, 0.9981846532053541, 0.9980223373244058, 0.9992736965664646, 0.3601678557723371, 0.6392770525889511, 0.4952606178375487, 0.5042846591057569, 0.7871172911715913, 0.2125948287800799, 0.12050873837039741, 0.6593096501896216, 0.008245334730606138, 0.21215880518367333, 0.9992447904215768, 0.9987620057702964, 0.9991627311726404, 0.9996421420107205, 0.8083114723403793, 0.19138446665318343, 0.9994165251606727, 0.2726425359486583, 0.7267516948501573, 0.4290983868706251, 0.38787746111387394, 0.18291785804558336, 0.9987360351634338, 0.9993692340831447, 0.9991193269306475, 0.9990822959119138, 0.18431228835597635, 0.00511978578766601, 0.47727780842797574, 0.17407271678064432, 0.15928222450516474, 0.9994508901224276, 0.9993579538630433, 0.9993337424678879, 0.9989015969442088, 0.9992613154144433, 0.9996574591254002, 0.9982436700750561, 0.8300153374307705, 0.0005475035207326982, 0.16972609142713643, 0.9986452660017028, 0.16428217539847817, 0.6542105313730188, 0.18060231255977438, 0.0008646430284130431, 0.9993598186804278, 0.9992157967469697, 0.9985931172584191, 0.9991476636242077, 0.9981454541865712, 0.998713773384582, 0.9994840195495931, 0.9990390649547541, 0.9993947806359432, 0.9977729750688259, 0.9984888652091901, 0.23331599612667062, 0.7658662623786251, 0.9986991788877175, 0.999803641351109, 0.9995946030126492, 0.9983039519578051, 0.9987970578573883, 0.9993935285526288, 0.5359472903649558, 0.039046060076488795, 0.23641587060011027, 0.18827689242361723, 0.9995926209772736, 0.9994452036766935, 0.9964458978610243, 0.7920720016376042, 0.20785681084942434, 0.24397262088077176, 0.7514067998132645, 0.004330874926877605, 0.9996613516680186, 0.9980551302474746], \"Term\": [\"accepted\", \"afternoon\", \"amazing\", \"another\", \"another\", \"another\", \"apartment\", \"ate\", \"baby\", \"back\", \"back\", \"back\", \"back\", \"back\", \"beautiful\", \"beautiful\", \"beautiful\", \"bed\", \"best\", \"best\", \"better\", \"bike\", \"birthday\", \"bonus\", \"book\", \"bought\", \"boyfriend\", \"breakfast\", \"brother\", \"brought\", \"buy\", \"call\", \"cant\", \"car\", \"card\", \"cat\", \"child\", \"class\", \"coffee\", \"college\", \"college\", \"come\", \"coming\", \"company\", \"completed\", \"computer\", \"coworker\", \"dad\", \"date\", \"daughter\", \"delicious\", \"didnt\", \"dinner\", \"dinner\", \"dog\", \"drive\", \"early\", \"enjoyed\", \"event\", \"ever\", \"excited\", \"extra\", \"extremely\", \"extremely\", \"face\", \"family\", \"father\", \"feel\", \"feel\", \"feel\", \"feel\", \"feel\", \"feeling\", \"final\", \"finally\", \"finished\", \"first\", \"first\", \"first\", \"first\", \"first\", \"flower\", \"food\", \"food\", \"found\", \"friend\", \"front\", \"game\", \"game\", \"game\", \"garden\", \"gave\", \"gave\", \"get\", \"get\", \"get\", \"get\", \"get\", \"getting\", \"getting\", \"getting\", \"gift\", \"girl\", \"girlfriend\", \"given\", \"goal\", \"good\", \"good\", \"good\", \"good\", \"great\", \"great\", \"great\", \"great\", \"gym\", \"help\", \"hit\", \"home\", \"home\", \"home\", \"home\", \"hot\", \"hour\", \"hour\", \"hour\", \"hour\", \"hour\", \"house\", \"husband\", \"item\", \"ive\", \"job\", \"kid\", \"learned\", \"life\", \"life\", \"long\", \"long\", \"long\", \"long\", \"long\", \"looked\", \"lost\", \"love\", \"love\", \"love\", \"love\", \"loved\", \"lunch\", \"mail\", \"make\", \"make\", \"make\", \"make\", \"make\", \"many\", \"match\", \"met\", \"mile\", \"mom\", \"money\", \"morning\", \"mother\", \"moved\", \"movie\", \"mturk\", \"much\", \"much\", \"much\", \"neighbor\", \"neighbor\", \"new\", \"new\", \"nice\", \"nice\", \"night\", \"night\", \"night\", \"old\", \"old\", \"one\", \"one\", \"one\", \"one\", \"one\", \"paid\", \"parent\", \"park\", \"park\", \"part\", \"party\", \"passed\", \"pay\", \"people\", \"pet\", \"phone\", \"phone\", \"picture\", \"play\", \"played\", \"playing\", \"playing\", \"pretty\", \"promotion\", \"puppy\", \"purchased\", \"rain\", \"received\", \"received\", \"restaurant\", \"ride\", \"room\", \"run\", \"running\", \"said\", \"said\", \"saw\", \"saw\", \"school\", \"school\", \"see\", \"see\", \"see\", \"see\", \"seeing\", \"seen\", \"several\", \"show\", \"sister\", \"sister\", \"sleep\", \"something\", \"something\", \"son\", \"son\", \"son\", \"song\", \"special\", \"spend\", \"spent\", \"started\", \"started\", \"started\", \"started\", \"started\", \"store\", \"student\", \"summer\", \"surprise\", \"taking\", \"team\", \"test\", \"thing\", \"thing\", \"thing\", \"thought\", \"time\", \"time\", \"time\", \"time\", \"together\", \"told\", \"town\", \"trip\", \"turned\", \"tv\", \"video\", \"visit\", \"walk\", \"walking\", \"want\", \"wanted\", \"wanted\", \"watch\", \"watched\", \"watching\", \"weather\", \"wedding\", \"weekend\", \"well\", \"well\", \"well\", \"well\", \"wife\", \"woke\", \"woman\", \"work\", \"work\", \"working\", \"working\", \"working\", \"would\", \"yard\"]}, \"R\": 30, \"lambda.step\": 0.01, \"plot.opts\": {\"xlab\": \"PC1\", \"ylab\": \"PC2\"}, \"topic.order\": [2, 4, 1, 3, 5]};\n",
       "\n",
       "function LDAvis_load_lib(url, callback){\n",
       "  var s = document.createElement('script');\n",
       "  s.src = url;\n",
       "  s.async = true;\n",
       "  s.onreadystatechange = s.onload = callback;\n",
       "  s.onerror = function(){console.warn(\"failed to load library \" + url);};\n",
       "  document.getElementsByTagName(\"head\")[0].appendChild(s);\n",
       "}\n",
       "\n",
       "if(typeof(LDAvis) !== \"undefined\"){\n",
       "   // already loaded: just create the visualization\n",
       "   !function(LDAvis){\n",
       "       new LDAvis(\"#\" + \"ldavis_el4741350440563763505432900\", ldavis_el4741350440563763505432900_data);\n",
       "   }(LDAvis);\n",
       "}else if(typeof define === \"function\" && define.amd){\n",
       "   // require.js is available: use it to load d3/LDAvis\n",
       "   require.config({paths: {d3: \"https://cdnjs.cloudflare.com/ajax/libs/d3/3.5.5/d3.min\"}});\n",
       "   require([\"d3\"], function(d3){\n",
       "      window.d3 = d3;\n",
       "      LDAvis_load_lib(\"https://cdn.rawgit.com/bmabey/pyLDAvis/files/ldavis.v1.0.0.js\", function(){\n",
       "        new LDAvis(\"#\" + \"ldavis_el4741350440563763505432900\", ldavis_el4741350440563763505432900_data);\n",
       "      });\n",
       "    });\n",
       "}else{\n",
       "    // require.js not available: dynamically load d3 & LDAvis\n",
       "    LDAvis_load_lib(\"https://cdnjs.cloudflare.com/ajax/libs/d3/3.5.5/d3.min.js\", function(){\n",
       "         LDAvis_load_lib(\"https://cdn.rawgit.com/bmabey/pyLDAvis/files/ldavis.v1.0.0.js\", function(){\n",
       "                 new LDAvis(\"#\" + \"ldavis_el4741350440563763505432900\", ldavis_el4741350440563763505432900_data);\n",
       "            })\n",
       "         });\n",
       "}\n",
       "</script>"
      ],
      "text/plain": [
       "PreparedData(topic_coordinates=              x         y  topics  cluster       Freq\n",
       "topic                                                \n",
       "1      0.114933  0.036354       1        1  27.022499\n",
       "3      0.035775 -0.292630       2        1  24.518414\n",
       "0      0.088986  0.277971       3        1  17.518358\n",
       "2      0.136799 -0.051848       4        1  17.381549\n",
       "4     -0.376492  0.030152       5        1  13.559179, topic_info=      Category          Freq       Term         Total  loglift  logprob\n",
       "8450   Default  10078.000000     friend  10078.000000  30.0000  30.0000\n",
       "14539  Default   8807.000000        new   8807.000000  29.0000  29.0000\n",
       "24265  Default   7851.000000       work   7851.000000  28.0000  28.0000\n",
       "8326   Default   3652.000000      found   3652.000000  27.0000  27.0000\n",
       "7595   Default   4375.000000     family   4375.000000  26.0000  26.0000\n",
       "...        ...           ...        ...           ...      ...      ...\n",
       "1857    Topic5    528.033662  beautiful    960.537074   1.3998  -5.2673\n",
       "19161   Topic5    669.001582        see   3153.298301   0.4477  -5.0307\n",
       "20229   Topic5    638.614336        son   3493.371324   0.2988  -5.0772\n",
       "9279    Topic5    623.016942      great   3354.788138   0.3145  -5.1019\n",
       "7969    Topic5    630.300620      first   4413.339915   0.0519  -5.0903\n",
       "\n",
       "[245 rows x 6 columns], token_table=       Topic      Freq       Term\n",
       "term                             \n",
       "89         3  0.997145   accepted\n",
       "385        4  0.999296  afternoon\n",
       "672        5  0.998520    amazing\n",
       "860        1  0.816362    another\n",
       "860        2  0.043615    another\n",
       "...      ...       ...        ...\n",
       "24291      1  0.243973    working\n",
       "24291      3  0.751407    working\n",
       "24291      4  0.004331    working\n",
       "24348      1  0.999661      would\n",
       "24455      5  0.998055       yard\n",
       "\n",
       "[293 rows x 3 columns], R=30, lambda_step=0.01, plot_opts={'xlab': 'PC1', 'ylab': 'PC2'}, topic_order=[2, 4, 1, 3, 5])"
      ]
     },
     "execution_count": 252,
     "metadata": {},
     "output_type": "execute_result"
    }
   ],
   "source": [
    "import pyLDAvis\n",
    "import pyLDAvis.sklearn\n",
    "pyLDAvis.enable_notebook()\n",
    "pyLDAvis.sklearn.prepare(best_lda_model, df_bow, bow_transformer)"
   ]
  },
  {
   "cell_type": "markdown",
   "metadata": {},
   "source": [
    "Although there's overlap between the blobs, this topic model is fairly good to identify different topics. And topic enjoy the moment and affection are separated distinctly from the other topics."
   ]
  },
  {
   "cell_type": "markdown",
   "metadata": {},
   "source": [
    "### Get dominant topic for each document"
   ]
  },
  {
   "cell_type": "code",
   "execution_count": 233,
   "metadata": {},
   "outputs": [],
   "source": [
    "# Create Document - Topic Matrix\n",
    "lda_output = best_lda_model.transform(df_bow)\n",
    "\n",
    "# column names\n",
    "topicnames = [\"Topic\" + str(i) for i in range(5)]\n",
    "\n",
    "# index names\n",
    "docnames = [\"Doc\" + str(i) for i in range(len(df))]\n",
    "\n",
    "# Make the pandas dataframe\n",
    "df_document_topic = pd.DataFrame(np.round(lda_output, 2), columns=topicnames, index=docnames)\n",
    "\n",
    "# Get dominant topic for each document\n",
    "dominant_topic = np.argmax(df_document_topic.values, axis=1)\n",
    "df_document_topic['dominant_topic'] = dominant_topic"
   ]
  },
  {
   "cell_type": "code",
   "execution_count": 223,
   "metadata": {},
   "outputs": [
    {
     "data": {
      "text/html": [
       "<div>\n",
       "<style scoped>\n",
       "    .dataframe tbody tr th:only-of-type {\n",
       "        vertical-align: middle;\n",
       "    }\n",
       "\n",
       "    .dataframe tbody tr th {\n",
       "        vertical-align: top;\n",
       "    }\n",
       "\n",
       "    .dataframe thead th {\n",
       "        text-align: right;\n",
       "    }\n",
       "</style>\n",
       "<table border=\"1\" class=\"dataframe\">\n",
       "  <thead>\n",
       "    <tr style=\"text-align: right;\">\n",
       "      <th></th>\n",
       "      <th>Topic0</th>\n",
       "      <th>Topic1</th>\n",
       "      <th>Topic2</th>\n",
       "      <th>Topic3</th>\n",
       "      <th>Topic4</th>\n",
       "      <th>dominant_topic</th>\n",
       "    </tr>\n",
       "  </thead>\n",
       "  <tbody>\n",
       "    <tr>\n",
       "      <th>Doc0</th>\n",
       "      <td>0.04</td>\n",
       "      <td>0.04</td>\n",
       "      <td>0.04</td>\n",
       "      <td>0.04</td>\n",
       "      <td>0.84</td>\n",
       "      <td>4</td>\n",
       "    </tr>\n",
       "    <tr>\n",
       "      <th>Doc1</th>\n",
       "      <td>0.05</td>\n",
       "      <td>0.05</td>\n",
       "      <td>0.05</td>\n",
       "      <td>0.05</td>\n",
       "      <td>0.80</td>\n",
       "      <td>4</td>\n",
       "    </tr>\n",
       "    <tr>\n",
       "      <th>Doc2</th>\n",
       "      <td>0.05</td>\n",
       "      <td>0.05</td>\n",
       "      <td>0.80</td>\n",
       "      <td>0.05</td>\n",
       "      <td>0.05</td>\n",
       "      <td>2</td>\n",
       "    </tr>\n",
       "    <tr>\n",
       "      <th>Doc3</th>\n",
       "      <td>0.55</td>\n",
       "      <td>0.02</td>\n",
       "      <td>0.02</td>\n",
       "      <td>0.39</td>\n",
       "      <td>0.02</td>\n",
       "      <td>0</td>\n",
       "    </tr>\n",
       "    <tr>\n",
       "      <th>Doc4</th>\n",
       "      <td>0.87</td>\n",
       "      <td>0.03</td>\n",
       "      <td>0.03</td>\n",
       "      <td>0.03</td>\n",
       "      <td>0.03</td>\n",
       "      <td>0</td>\n",
       "    </tr>\n",
       "  </tbody>\n",
       "</table>\n",
       "</div>"
      ],
      "text/plain": [
       "      Topic0  Topic1  Topic2  Topic3  Topic4  dominant_topic\n",
       "Doc0    0.04    0.04    0.04    0.04    0.84               4\n",
       "Doc1    0.05    0.05    0.05    0.05    0.80               4\n",
       "Doc2    0.05    0.05    0.80    0.05    0.05               2\n",
       "Doc3    0.55    0.02    0.02    0.39    0.02               0\n",
       "Doc4    0.87    0.03    0.03    0.03    0.03               0"
      ]
     },
     "execution_count": 223,
     "metadata": {},
     "output_type": "execute_result"
    }
   ],
   "source": [
    "df_document_topic.head()"
   ]
  },
  {
   "cell_type": "code",
   "execution_count": 234,
   "metadata": {},
   "outputs": [],
   "source": [
    "mapping = {0:'enjoy_the_moment', 1:'achievement', 2:'leisure', 3:'bonding', 4:'affection'}"
   ]
  },
  {
   "cell_type": "code",
   "execution_count": 235,
   "metadata": {},
   "outputs": [],
   "source": [
    "df_document_topic['dominant_topic'] = df_document_topic['dominant_topic'].map(mapping)"
   ]
  },
  {
   "cell_type": "code",
   "execution_count": 236,
   "metadata": {},
   "outputs": [
    {
     "data": {
      "text/html": [
       "<div>\n",
       "<style scoped>\n",
       "    .dataframe tbody tr th:only-of-type {\n",
       "        vertical-align: middle;\n",
       "    }\n",
       "\n",
       "    .dataframe tbody tr th {\n",
       "        vertical-align: top;\n",
       "    }\n",
       "\n",
       "    .dataframe thead th {\n",
       "        text-align: right;\n",
       "    }\n",
       "</style>\n",
       "<table border=\"1\" class=\"dataframe\">\n",
       "  <thead>\n",
       "    <tr style=\"text-align: right;\">\n",
       "      <th></th>\n",
       "      <th>Topic0</th>\n",
       "      <th>Topic1</th>\n",
       "      <th>Topic2</th>\n",
       "      <th>Topic3</th>\n",
       "      <th>Topic4</th>\n",
       "      <th>dominant_topic</th>\n",
       "    </tr>\n",
       "  </thead>\n",
       "  <tbody>\n",
       "    <tr>\n",
       "      <th>Doc0</th>\n",
       "      <td>0.04</td>\n",
       "      <td>0.04</td>\n",
       "      <td>0.04</td>\n",
       "      <td>0.04</td>\n",
       "      <td>0.84</td>\n",
       "      <td>affection</td>\n",
       "    </tr>\n",
       "    <tr>\n",
       "      <th>Doc1</th>\n",
       "      <td>0.05</td>\n",
       "      <td>0.05</td>\n",
       "      <td>0.05</td>\n",
       "      <td>0.05</td>\n",
       "      <td>0.80</td>\n",
       "      <td>affection</td>\n",
       "    </tr>\n",
       "    <tr>\n",
       "      <th>Doc2</th>\n",
       "      <td>0.05</td>\n",
       "      <td>0.05</td>\n",
       "      <td>0.80</td>\n",
       "      <td>0.05</td>\n",
       "      <td>0.05</td>\n",
       "      <td>leisure</td>\n",
       "    </tr>\n",
       "    <tr>\n",
       "      <th>Doc3</th>\n",
       "      <td>0.55</td>\n",
       "      <td>0.02</td>\n",
       "      <td>0.02</td>\n",
       "      <td>0.39</td>\n",
       "      <td>0.02</td>\n",
       "      <td>enjoy_the_moment</td>\n",
       "    </tr>\n",
       "    <tr>\n",
       "      <th>Doc4</th>\n",
       "      <td>0.87</td>\n",
       "      <td>0.03</td>\n",
       "      <td>0.03</td>\n",
       "      <td>0.03</td>\n",
       "      <td>0.03</td>\n",
       "      <td>enjoy_the_moment</td>\n",
       "    </tr>\n",
       "  </tbody>\n",
       "</table>\n",
       "</div>"
      ],
      "text/plain": [
       "      Topic0  Topic1  Topic2  Topic3  Topic4    dominant_topic\n",
       "Doc0    0.04    0.04    0.04    0.04    0.84         affection\n",
       "Doc1    0.05    0.05    0.05    0.05    0.80         affection\n",
       "Doc2    0.05    0.05    0.80    0.05    0.05           leisure\n",
       "Doc3    0.55    0.02    0.02    0.39    0.02  enjoy_the_moment\n",
       "Doc4    0.87    0.03    0.03    0.03    0.03  enjoy_the_moment"
      ]
     },
     "execution_count": 236,
     "metadata": {},
     "output_type": "execute_result"
    }
   ],
   "source": [
    "df_document_topic.head()"
   ]
  },
  {
   "cell_type": "code",
   "execution_count": 237,
   "metadata": {},
   "outputs": [],
   "source": [
    "df.reset_index(drop=True, inplace=True)\n",
    "df_document_topic.reset_index(drop=True, inplace=True)"
   ]
  },
  {
   "cell_type": "code",
   "execution_count": 247,
   "metadata": {},
   "outputs": [],
   "source": [
    "df = pd.concat([df, df_document_topic['dominant_topic']], axis=1)"
   ]
  },
  {
   "cell_type": "code",
   "execution_count": 249,
   "metadata": {},
   "outputs": [],
   "source": [
    "df = df.rename(columns={'dominant_topic': 'Topic'})"
   ]
  },
  {
   "cell_type": "code",
   "execution_count": 250,
   "metadata": {},
   "outputs": [
    {
     "data": {
      "text/html": [
       "<div>\n",
       "<style scoped>\n",
       "    .dataframe tbody tr th:only-of-type {\n",
       "        vertical-align: middle;\n",
       "    }\n",
       "\n",
       "    .dataframe tbody tr th {\n",
       "        vertical-align: top;\n",
       "    }\n",
       "\n",
       "    .dataframe thead th {\n",
       "        text-align: right;\n",
       "    }\n",
       "</style>\n",
       "<table border=\"1\" class=\"dataframe\">\n",
       "  <thead>\n",
       "    <tr style=\"text-align: right;\">\n",
       "      <th></th>\n",
       "      <th>hmid</th>\n",
       "      <th>wid</th>\n",
       "      <th>reflection_period</th>\n",
       "      <th>original_hm</th>\n",
       "      <th>cleaned_hm</th>\n",
       "      <th>modified</th>\n",
       "      <th>num_sentence</th>\n",
       "      <th>ground_truth_category</th>\n",
       "      <th>text</th>\n",
       "      <th>Topic</th>\n",
       "    </tr>\n",
       "  </thead>\n",
       "  <tbody>\n",
       "    <tr>\n",
       "      <th>0</th>\n",
       "      <td>27673.0</td>\n",
       "      <td>2053.0</td>\n",
       "      <td>24h</td>\n",
       "      <td>i went on a successful date with someone i fel...</td>\n",
       "      <td>i went on a successful date with someone i fel...</td>\n",
       "      <td>True</td>\n",
       "      <td>1.0</td>\n",
       "      <td>NaN</td>\n",
       "      <td>successful date sympathy connection</td>\n",
       "      <td>affection</td>\n",
       "    </tr>\n",
       "    <tr>\n",
       "      <th>1</th>\n",
       "      <td>27674.0</td>\n",
       "      <td>2.0</td>\n",
       "      <td>24h</td>\n",
       "      <td>i was happy when my son got 90% marks in his e...</td>\n",
       "      <td>i was happy when my son got 90% marks in his e...</td>\n",
       "      <td>True</td>\n",
       "      <td>1.0</td>\n",
       "      <td>NaN</td>\n",
       "      <td>son mark examination</td>\n",
       "      <td>affection</td>\n",
       "    </tr>\n",
       "    <tr>\n",
       "      <th>2</th>\n",
       "      <td>27675.0</td>\n",
       "      <td>1936.0</td>\n",
       "      <td>24h</td>\n",
       "      <td>i went to the gym this morning and did yoga.</td>\n",
       "      <td>i went to the gym this morning and did yoga.</td>\n",
       "      <td>True</td>\n",
       "      <td>1.0</td>\n",
       "      <td>NaN</td>\n",
       "      <td>gym morning yoga</td>\n",
       "      <td>leisure</td>\n",
       "    </tr>\n",
       "    <tr>\n",
       "      <th>3</th>\n",
       "      <td>27676.0</td>\n",
       "      <td>206.0</td>\n",
       "      <td>24h</td>\n",
       "      <td>we had a serious talk with some friends of our...</td>\n",
       "      <td>we had a serious talk with some friends of our...</td>\n",
       "      <td>True</td>\n",
       "      <td>2.0</td>\n",
       "      <td>bonding</td>\n",
       "      <td>serious talk friend flaky lately understood go...</td>\n",
       "      <td>enjoy_the_moment</td>\n",
       "    </tr>\n",
       "    <tr>\n",
       "      <th>4</th>\n",
       "      <td>27677.0</td>\n",
       "      <td>6227.0</td>\n",
       "      <td>24h</td>\n",
       "      <td>i went with grandchildren to butterfly display...</td>\n",
       "      <td>i went with grandchildren to butterfly display...</td>\n",
       "      <td>True</td>\n",
       "      <td>1.0</td>\n",
       "      <td>NaN</td>\n",
       "      <td>grandchild butterfly display crohn conservatory</td>\n",
       "      <td>enjoy_the_moment</td>\n",
       "    </tr>\n",
       "  </tbody>\n",
       "</table>\n",
       "</div>"
      ],
      "text/plain": [
       "      hmid     wid reflection_period  \\\n",
       "0  27673.0  2053.0               24h   \n",
       "1  27674.0     2.0               24h   \n",
       "2  27675.0  1936.0               24h   \n",
       "3  27676.0   206.0               24h   \n",
       "4  27677.0  6227.0               24h   \n",
       "\n",
       "                                         original_hm  \\\n",
       "0  i went on a successful date with someone i fel...   \n",
       "1  i was happy when my son got 90% marks in his e...   \n",
       "2       i went to the gym this morning and did yoga.   \n",
       "3  we had a serious talk with some friends of our...   \n",
       "4  i went with grandchildren to butterfly display...   \n",
       "\n",
       "                                          cleaned_hm modified  num_sentence  \\\n",
       "0  i went on a successful date with someone i fel...     True           1.0   \n",
       "1  i was happy when my son got 90% marks in his e...     True           1.0   \n",
       "2       i went to the gym this morning and did yoga.     True           1.0   \n",
       "3  we had a serious talk with some friends of our...     True           2.0   \n",
       "4  i went with grandchildren to butterfly display...     True           1.0   \n",
       "\n",
       "  ground_truth_category                                               text  \\\n",
       "0                   NaN               successful date sympathy connection    \n",
       "1                   NaN                              son mark examination    \n",
       "2                   NaN                                  gym morning yoga    \n",
       "3               bonding  serious talk friend flaky lately understood go...   \n",
       "4                   NaN   grandchild butterfly display crohn conservatory    \n",
       "\n",
       "              Topic  \n",
       "0         affection  \n",
       "1         affection  \n",
       "2           leisure  \n",
       "3  enjoy_the_moment  \n",
       "4  enjoy_the_moment  "
      ]
     },
     "execution_count": 250,
     "metadata": {},
     "output_type": "execute_result"
    }
   ],
   "source": [
    "df.head()"
   ]
  },
  {
   "cell_type": "markdown",
   "metadata": {},
   "source": [
    "### Topics distribution across documents"
   ]
  },
  {
   "cell_type": "code",
   "execution_count": 251,
   "metadata": {},
   "outputs": [
    {
     "data": {
      "text/html": [
       "<div>\n",
       "<style scoped>\n",
       "    .dataframe tbody tr th:only-of-type {\n",
       "        vertical-align: middle;\n",
       "    }\n",
       "\n",
       "    .dataframe tbody tr th {\n",
       "        vertical-align: top;\n",
       "    }\n",
       "\n",
       "    .dataframe thead th {\n",
       "        text-align: right;\n",
       "    }\n",
       "</style>\n",
       "<table border=\"1\" class=\"dataframe\">\n",
       "  <thead>\n",
       "    <tr style=\"text-align: right;\">\n",
       "      <th></th>\n",
       "      <th>Topic Num</th>\n",
       "      <th>Num Documents</th>\n",
       "    </tr>\n",
       "  </thead>\n",
       "  <tbody>\n",
       "    <tr>\n",
       "      <th>0</th>\n",
       "      <td>bonding</td>\n",
       "      <td>30637</td>\n",
       "    </tr>\n",
       "    <tr>\n",
       "      <th>1</th>\n",
       "      <td>achievement</td>\n",
       "      <td>25026</td>\n",
       "    </tr>\n",
       "    <tr>\n",
       "      <th>2</th>\n",
       "      <td>enjoy_the_moment</td>\n",
       "      <td>18532</td>\n",
       "    </tr>\n",
       "    <tr>\n",
       "      <th>3</th>\n",
       "      <td>leisure</td>\n",
       "      <td>16979</td>\n",
       "    </tr>\n",
       "    <tr>\n",
       "      <th>4</th>\n",
       "      <td>affection</td>\n",
       "      <td>9348</td>\n",
       "    </tr>\n",
       "  </tbody>\n",
       "</table>\n",
       "</div>"
      ],
      "text/plain": [
       "          Topic Num  Num Documents\n",
       "0           bonding          30637\n",
       "1       achievement          25026\n",
       "2  enjoy_the_moment          18532\n",
       "3           leisure          16979\n",
       "4         affection           9348"
      ]
     },
     "execution_count": 251,
     "metadata": {},
     "output_type": "execute_result"
    }
   ],
   "source": [
    "df_topic_distribution = df_document_topic['dominant_topic'].value_counts().reset_index(name=\"Num Documents\")\n",
    "df_topic_distribution.columns = ['Topic Num', 'Num Documents']\n",
    "df_topic_distribution"
   ]
  },
  {
   "cell_type": "markdown",
   "metadata": {},
   "source": [
    "## Save data with topic "
   ]
  },
  {
   "cell_type": "code",
   "execution_count": null,
   "metadata": {},
   "outputs": [],
   "source": [
    "df.to_csv(r'./data/topic_data.csv', index=False)"
   ]
  }
 ],
 "metadata": {
  "kernelspec": {
   "display_name": "Python 3",
   "language": "python",
   "name": "python3"
  },
  "language_info": {
   "codemirror_mode": {
    "name": "ipython",
    "version": 3
   },
   "file_extension": ".py",
   "mimetype": "text/x-python",
   "name": "python",
   "nbconvert_exporter": "python",
   "pygments_lexer": "ipython3",
   "version": "3.7.3"
  },
  "varInspector": {
   "cols": {
    "lenName": 16,
    "lenType": 16,
    "lenVar": 40
   },
   "kernels_config": {
    "python": {
     "delete_cmd_postfix": "",
     "delete_cmd_prefix": "del ",
     "library": "var_list.py",
     "varRefreshCmd": "print(var_dic_list())"
    },
    "r": {
     "delete_cmd_postfix": ") ",
     "delete_cmd_prefix": "rm(",
     "library": "var_list.r",
     "varRefreshCmd": "cat(var_dic_list()) "
    }
   },
   "types_to_exclude": [
    "module",
    "function",
    "builtin_function_or_method",
    "instance",
    "_Feature"
   ],
   "window_display": true
  }
 },
 "nbformat": 4,
 "nbformat_minor": 2
}
