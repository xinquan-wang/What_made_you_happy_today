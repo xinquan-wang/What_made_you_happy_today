{
 "cells": [
  {
   "cell_type": "markdown",
   "metadata": {},
   "source": [
    "# Topic Model\n",
    "## Read data"
   ]
  },
  {
   "cell_type": "code",
   "execution_count": 1,
   "metadata": {},
   "outputs": [],
   "source": [
    "import pandas as pd\n",
    "import numpy as np"
   ]
  },
  {
   "cell_type": "code",
   "execution_count": 32,
   "metadata": {},
   "outputs": [],
   "source": [
    "import matplotlib.pyplot as plt\n",
    "%matplotlib inline"
   ]
  },
  {
   "cell_type": "code",
   "execution_count": 2,
   "metadata": {},
   "outputs": [],
   "source": [
    "df = pd.read_csv('./data/processed_data.csv')"
   ]
  },
  {
   "cell_type": "code",
   "execution_count": 3,
   "metadata": {},
   "outputs": [
    {
     "data": {
      "text/html": [
       "<div>\n",
       "<style scoped>\n",
       "    .dataframe tbody tr th:only-of-type {\n",
       "        vertical-align: middle;\n",
       "    }\n",
       "\n",
       "    .dataframe tbody tr th {\n",
       "        vertical-align: top;\n",
       "    }\n",
       "\n",
       "    .dataframe thead th {\n",
       "        text-align: right;\n",
       "    }\n",
       "</style>\n",
       "<table border=\"1\" class=\"dataframe\">\n",
       "  <thead>\n",
       "    <tr style=\"text-align: right;\">\n",
       "      <th></th>\n",
       "      <th>hmid</th>\n",
       "      <th>wid</th>\n",
       "      <th>reflection_period</th>\n",
       "      <th>original_hm</th>\n",
       "      <th>cleaned_hm</th>\n",
       "      <th>modified</th>\n",
       "      <th>num_sentence</th>\n",
       "      <th>ground_truth_category</th>\n",
       "      <th>predicted_category</th>\n",
       "      <th>text</th>\n",
       "    </tr>\n",
       "  </thead>\n",
       "  <tbody>\n",
       "    <tr>\n",
       "      <th>0</th>\n",
       "      <td>27673</td>\n",
       "      <td>2053</td>\n",
       "      <td>24h</td>\n",
       "      <td>i went on a successful date with someone i fel...</td>\n",
       "      <td>i went on a successful date with someone i fel...</td>\n",
       "      <td>True</td>\n",
       "      <td>1</td>\n",
       "      <td>NaN</td>\n",
       "      <td>affection</td>\n",
       "      <td>successful date sympathy connection</td>\n",
       "    </tr>\n",
       "    <tr>\n",
       "      <th>1</th>\n",
       "      <td>27674</td>\n",
       "      <td>2</td>\n",
       "      <td>24h</td>\n",
       "      <td>i was happy when my son got 90% marks in his e...</td>\n",
       "      <td>i was happy when my son got 90% marks in his e...</td>\n",
       "      <td>True</td>\n",
       "      <td>1</td>\n",
       "      <td>NaN</td>\n",
       "      <td>affection</td>\n",
       "      <td>son mark examination</td>\n",
       "    </tr>\n",
       "    <tr>\n",
       "      <th>2</th>\n",
       "      <td>27675</td>\n",
       "      <td>1936</td>\n",
       "      <td>24h</td>\n",
       "      <td>i went to the gym this morning and did yoga.</td>\n",
       "      <td>i went to the gym this morning and did yoga.</td>\n",
       "      <td>True</td>\n",
       "      <td>1</td>\n",
       "      <td>NaN</td>\n",
       "      <td>exercise</td>\n",
       "      <td>gym morning yoga</td>\n",
       "    </tr>\n",
       "    <tr>\n",
       "      <th>3</th>\n",
       "      <td>27676</td>\n",
       "      <td>206</td>\n",
       "      <td>24h</td>\n",
       "      <td>we had a serious talk with some friends of our...</td>\n",
       "      <td>we had a serious talk with some friends of our...</td>\n",
       "      <td>True</td>\n",
       "      <td>2</td>\n",
       "      <td>bonding</td>\n",
       "      <td>bonding</td>\n",
       "      <td>serious talk friend flaky lately understood go...</td>\n",
       "    </tr>\n",
       "    <tr>\n",
       "      <th>4</th>\n",
       "      <td>27677</td>\n",
       "      <td>6227</td>\n",
       "      <td>24h</td>\n",
       "      <td>i went with grandchildren to butterfly display...</td>\n",
       "      <td>i went with grandchildren to butterfly display...</td>\n",
       "      <td>True</td>\n",
       "      <td>1</td>\n",
       "      <td>NaN</td>\n",
       "      <td>affection</td>\n",
       "      <td>grandchild butterfly display crohn conservatory</td>\n",
       "    </tr>\n",
       "  </tbody>\n",
       "</table>\n",
       "</div>"
      ],
      "text/plain": [
       "    hmid   wid reflection_period  \\\n",
       "0  27673  2053               24h   \n",
       "1  27674     2               24h   \n",
       "2  27675  1936               24h   \n",
       "3  27676   206               24h   \n",
       "4  27677  6227               24h   \n",
       "\n",
       "                                         original_hm  \\\n",
       "0  i went on a successful date with someone i fel...   \n",
       "1  i was happy when my son got 90% marks in his e...   \n",
       "2       i went to the gym this morning and did yoga.   \n",
       "3  we had a serious talk with some friends of our...   \n",
       "4  i went with grandchildren to butterfly display...   \n",
       "\n",
       "                                          cleaned_hm  modified  num_sentence  \\\n",
       "0  i went on a successful date with someone i fel...      True             1   \n",
       "1  i was happy when my son got 90% marks in his e...      True             1   \n",
       "2       i went to the gym this morning and did yoga.      True             1   \n",
       "3  we had a serious talk with some friends of our...      True             2   \n",
       "4  i went with grandchildren to butterfly display...      True             1   \n",
       "\n",
       "  ground_truth_category predicted_category  \\\n",
       "0                   NaN          affection   \n",
       "1                   NaN          affection   \n",
       "2                   NaN           exercise   \n",
       "3               bonding            bonding   \n",
       "4                   NaN          affection   \n",
       "\n",
       "                                                text  \n",
       "0               successful date sympathy connection   \n",
       "1                              son mark examination   \n",
       "2                                  gym morning yoga   \n",
       "3  serious talk friend flaky lately understood go...  \n",
       "4   grandchild butterfly display crohn conservatory   "
      ]
     },
     "execution_count": 3,
     "metadata": {},
     "output_type": "execute_result"
    }
   ],
   "source": [
    "df.head()"
   ]
  },
  {
   "cell_type": "code",
   "execution_count": 4,
   "metadata": {},
   "outputs": [
    {
     "name": "stdout",
     "output_type": "stream",
     "text": [
      "<class 'pandas.core.frame.DataFrame'>\n",
      "RangeIndex: 100535 entries, 0 to 100534\n",
      "Data columns (total 10 columns):\n",
      "hmid                     100535 non-null int64\n",
      "wid                      100535 non-null int64\n",
      "reflection_period        100535 non-null object\n",
      "original_hm              100535 non-null object\n",
      "cleaned_hm               100535 non-null object\n",
      "modified                 100535 non-null bool\n",
      "num_sentence             100535 non-null int64\n",
      "ground_truth_category    14125 non-null object\n",
      "predicted_category       100535 non-null object\n",
      "text                     100522 non-null object\n",
      "dtypes: bool(1), int64(3), object(6)\n",
      "memory usage: 7.0+ MB\n"
     ]
    }
   ],
   "source": [
    "df.info()"
   ]
  },
  {
   "cell_type": "markdown",
   "metadata": {},
   "source": [
    "## Vectorization"
   ]
  },
  {
   "cell_type": "markdown",
   "metadata": {},
   "source": [
    "### CountVectorizer"
   ]
  },
  {
   "cell_type": "code",
   "execution_count": 3,
   "metadata": {},
   "outputs": [],
   "source": [
    "from sklearn.feature_extraction.text import CountVectorizer"
   ]
  },
  {
   "cell_type": "code",
   "execution_count": 4,
   "metadata": {},
   "outputs": [],
   "source": [
    "df = df[df['text'].isna() == False]"
   ]
  },
  {
   "cell_type": "code",
   "execution_count": 5,
   "metadata": {},
   "outputs": [],
   "source": [
    "%%capture\n",
    "df['text'].dropna(axis=0, how='any', inplace=True)"
   ]
  },
  {
   "cell_type": "code",
   "execution_count": 6,
   "metadata": {},
   "outputs": [
    {
     "name": "stdout",
     "output_type": "stream",
     "text": [
      "24652\n"
     ]
    }
   ],
   "source": [
    "bow_transformer = CountVectorizer(analyzer='word').fit(df['text'])\n",
    "\n",
    "# Print total number of vocab words\n",
    "print(len(bow_transformer.vocabulary_))"
   ]
  },
  {
   "cell_type": "code",
   "execution_count": 10,
   "metadata": {},
   "outputs": [],
   "source": [
    "df_bow = bow_transformer.transform(df['text'])"
   ]
  },
  {
   "cell_type": "code",
   "execution_count": 11,
   "metadata": {},
   "outputs": [
    {
     "name": "stdout",
     "output_type": "stream",
     "text": [
      "Shape of Sparse Matrix:  (100522, 24652)\n",
      "Amount of Non-Zero occurences:  716074\n"
     ]
    }
   ],
   "source": [
    "print('Shape of Sparse Matrix: ', df_bow.shape)\n",
    "print('Amount of Non-Zero occurences: ', df_bow.nnz)"
   ]
  },
  {
   "cell_type": "code",
   "execution_count": 12,
   "metadata": {},
   "outputs": [
    {
     "name": "stdout",
     "output_type": "stream",
     "text": [
      "sparsity: 0\n"
     ]
    }
   ],
   "source": [
    "# check text sparsicity\n",
    "sparsity = (100.0 * df_bow.nnz / (df_bow.shape[0] * df_bow.shape[1]))\n",
    "print('sparsity: {}'.format(round(sparsity)))"
   ]
  },
  {
   "cell_type": "markdown",
   "metadata": {},
   "source": [
    "## LDA"
   ]
  },
  {
   "cell_type": "code",
   "execution_count": 7,
   "metadata": {},
   "outputs": [],
   "source": [
    "from sklearn.decomposition import LatentDirichletAllocation"
   ]
  },
  {
   "cell_type": "markdown",
   "metadata": {},
   "source": [
    "### Fit LDA model with 10 topics"
   ]
  },
  {
   "cell_type": "code",
   "execution_count": 89,
   "metadata": {},
   "outputs": [],
   "source": [
    "lda = LatentDirichletAllocation(n_components=10, \n",
    "                                max_iter=50,\n",
    "                                learning_method='online',\n",
    "                                learning_offset=50.,\n",
    "                                random_state=0,\n",
    "                                n_jobs=1)"
   ]
  },
  {
   "cell_type": "code",
   "execution_count": 90,
   "metadata": {},
   "outputs": [
    {
     "name": "stdout",
     "output_type": "stream",
     "text": [
      "CPU times: user 16min 45s, sys: 8.67 s, total: 16min 53s\n",
      "Wall time: 18min\n"
     ]
    },
    {
     "data": {
      "text/plain": [
       "LatentDirichletAllocation(batch_size=128, doc_topic_prior=None,\n",
       "                          evaluate_every=-1, learning_decay=0.7,\n",
       "                          learning_method='online', learning_offset=50.0,\n",
       "                          max_doc_update_iter=100, max_iter=50,\n",
       "                          mean_change_tol=0.001, n_components=10, n_jobs=1,\n",
       "                          perp_tol=0.1, random_state=0, topic_word_prior=None,\n",
       "                          total_samples=1000000.0, verbose=0)"
      ]
     },
     "execution_count": 90,
     "metadata": {},
     "output_type": "execute_result"
    }
   ],
   "source": [
    "%%time\n",
    "lda.fit(df_bow)"
   ]
  },
  {
   "cell_type": "code",
   "execution_count": 91,
   "metadata": {},
   "outputs": [],
   "source": [
    "# Show top n keywords for each topic\n",
    "def show_topics(vectorizer, lda_model, n_words):\n",
    "    keywords = np.array(vectorizer.get_feature_names())\n",
    "    topic_keywords = []\n",
    "    for topic_weights in lda_model.components_:\n",
    "        top_keyword_locs = (-topic_weights).argsort()[:n_words]\n",
    "        topic_keywords.append(keywords.take(top_keyword_locs))\n",
    "    return topic_keywords"
   ]
  },
  {
   "cell_type": "code",
   "execution_count": 92,
   "metadata": {},
   "outputs": [],
   "source": [
    "topic_keywords = show_topics(vectorizer=bow_transformer, lda_model=lda, n_words=10)"
   ]
  },
  {
   "cell_type": "code",
   "execution_count": 93,
   "metadata": {},
   "outputs": [
    {
     "data": {
      "text/html": [
       "<div>\n",
       "<style scoped>\n",
       "    .dataframe tbody tr th:only-of-type {\n",
       "        vertical-align: middle;\n",
       "    }\n",
       "\n",
       "    .dataframe tbody tr th {\n",
       "        vertical-align: top;\n",
       "    }\n",
       "\n",
       "    .dataframe thead th {\n",
       "        text-align: right;\n",
       "    }\n",
       "</style>\n",
       "<table border=\"1\" class=\"dataframe\">\n",
       "  <thead>\n",
       "    <tr style=\"text-align: right;\">\n",
       "      <th></th>\n",
       "      <th>Word 0</th>\n",
       "      <th>Word 1</th>\n",
       "      <th>Word 2</th>\n",
       "      <th>Word 3</th>\n",
       "      <th>Word 4</th>\n",
       "      <th>Word 5</th>\n",
       "      <th>Word 6</th>\n",
       "      <th>Word 7</th>\n",
       "      <th>Word 8</th>\n",
       "      <th>Word 9</th>\n",
       "    </tr>\n",
       "  </thead>\n",
       "  <tbody>\n",
       "    <tr>\n",
       "      <th>Topic 0</th>\n",
       "      <td>daughter</td>\n",
       "      <td>job</td>\n",
       "      <td>watched</td>\n",
       "      <td>mother</td>\n",
       "      <td>movie</td>\n",
       "      <td>surprise</td>\n",
       "      <td>card</td>\n",
       "      <td>want</td>\n",
       "      <td>said</td>\n",
       "      <td>lost</td>\n",
       "    </tr>\n",
       "    <tr>\n",
       "      <th>Topic 1</th>\n",
       "      <td>life</td>\n",
       "      <td>dog</td>\n",
       "      <td>make</td>\n",
       "      <td>thing</td>\n",
       "      <td>feel</td>\n",
       "      <td>one</td>\n",
       "      <td>car</td>\n",
       "      <td>get</td>\n",
       "      <td>would</td>\n",
       "      <td>much</td>\n",
       "    </tr>\n",
       "    <tr>\n",
       "      <th>Topic 2</th>\n",
       "      <td>family</td>\n",
       "      <td>birthday</td>\n",
       "      <td>husband</td>\n",
       "      <td>morning</td>\n",
       "      <td>work</td>\n",
       "      <td>told</td>\n",
       "      <td>mom</td>\n",
       "      <td>money</td>\n",
       "      <td>party</td>\n",
       "      <td>class</td>\n",
       "    </tr>\n",
       "    <tr>\n",
       "      <th>Topic 3</th>\n",
       "      <td>dinner</td>\n",
       "      <td>night</td>\n",
       "      <td>good</td>\n",
       "      <td>girlfriend</td>\n",
       "      <td>food</td>\n",
       "      <td>wife</td>\n",
       "      <td>ate</td>\n",
       "      <td>watching</td>\n",
       "      <td>nice</td>\n",
       "      <td>show</td>\n",
       "    </tr>\n",
       "    <tr>\n",
       "      <th>Topic 4</th>\n",
       "      <td>found</td>\n",
       "      <td>getting</td>\n",
       "      <td>finished</td>\n",
       "      <td>finally</td>\n",
       "      <td>gift</td>\n",
       "      <td>free</td>\n",
       "      <td>project</td>\n",
       "      <td>brother</td>\n",
       "      <td>completed</td>\n",
       "      <td>helped</td>\n",
       "    </tr>\n",
       "    <tr>\n",
       "      <th>Topic 5</th>\n",
       "      <td>time</td>\n",
       "      <td>first</td>\n",
       "      <td>sister</td>\n",
       "      <td>great</td>\n",
       "      <td>baby</td>\n",
       "      <td>spend</td>\n",
       "      <td>early</td>\n",
       "      <td>park</td>\n",
       "      <td>new</td>\n",
       "      <td>phone</td>\n",
       "    </tr>\n",
       "    <tr>\n",
       "      <th>Topic 6</th>\n",
       "      <td>ive</td>\n",
       "      <td>wanted</td>\n",
       "      <td>cat</td>\n",
       "      <td>shopping</td>\n",
       "      <td>summer</td>\n",
       "      <td>date</td>\n",
       "      <td>weather</td>\n",
       "      <td>purchased</td>\n",
       "      <td>great</td>\n",
       "      <td>actually</td>\n",
       "    </tr>\n",
       "    <tr>\n",
       "      <th>Topic 7</th>\n",
       "      <td>new</td>\n",
       "      <td>home</td>\n",
       "      <td>work</td>\n",
       "      <td>time</td>\n",
       "      <td>bought</td>\n",
       "      <td>friend</td>\n",
       "      <td>long</td>\n",
       "      <td>see</td>\n",
       "      <td>house</td>\n",
       "      <td>visit</td>\n",
       "    </tr>\n",
       "    <tr>\n",
       "      <th>Topic 8</th>\n",
       "      <td>received</td>\n",
       "      <td>old</td>\n",
       "      <td>school</td>\n",
       "      <td>work</td>\n",
       "      <td>parent</td>\n",
       "      <td>vacation</td>\n",
       "      <td>working</td>\n",
       "      <td>song</td>\n",
       "      <td>state</td>\n",
       "      <td>goal</td>\n",
       "    </tr>\n",
       "    <tr>\n",
       "      <th>Topic 9</th>\n",
       "      <td>friend</td>\n",
       "      <td>game</td>\n",
       "      <td>new</td>\n",
       "      <td>best</td>\n",
       "      <td>started</td>\n",
       "      <td>lunch</td>\n",
       "      <td>weekend</td>\n",
       "      <td>event</td>\n",
       "      <td>son</td>\n",
       "      <td>played</td>\n",
       "    </tr>\n",
       "  </tbody>\n",
       "</table>\n",
       "</div>"
      ],
      "text/plain": [
       "           Word 0    Word 1    Word 2      Word 3   Word 4    Word 5   Word 6  \\\n",
       "Topic 0  daughter       job   watched      mother    movie  surprise     card   \n",
       "Topic 1      life       dog      make       thing     feel       one      car   \n",
       "Topic 2    family  birthday   husband     morning     work      told      mom   \n",
       "Topic 3    dinner     night      good  girlfriend     food      wife      ate   \n",
       "Topic 4     found   getting  finished     finally     gift      free  project   \n",
       "Topic 5      time     first    sister       great     baby     spend    early   \n",
       "Topic 6       ive    wanted       cat    shopping   summer      date  weather   \n",
       "Topic 7       new      home      work        time   bought    friend     long   \n",
       "Topic 8  received       old    school        work   parent  vacation  working   \n",
       "Topic 9    friend      game       new        best  started     lunch  weekend   \n",
       "\n",
       "            Word 7     Word 8    Word 9  \n",
       "Topic 0       want       said      lost  \n",
       "Topic 1        get      would      much  \n",
       "Topic 2      money      party     class  \n",
       "Topic 3   watching       nice      show  \n",
       "Topic 4    brother  completed    helped  \n",
       "Topic 5       park        new     phone  \n",
       "Topic 6  purchased      great  actually  \n",
       "Topic 7        see      house     visit  \n",
       "Topic 8       song      state      goal  \n",
       "Topic 9      event        son    played  "
      ]
     },
     "execution_count": 93,
     "metadata": {},
     "output_type": "execute_result"
    }
   ],
   "source": [
    "# Topic - Keywords Dataframe\n",
    "df_topic_keywords = pd.DataFrame(topic_keywords)\n",
    "df_topic_keywords.columns = ['Word '+str(i) for i in range(df_topic_keywords.shape[1])]\n",
    "df_topic_keywords.index = ['Topic '+str(i) for i in range(df_topic_keywords.shape[0])]\n",
    "df_topic_keywords"
   ]
  },
  {
   "cell_type": "markdown",
   "metadata": {},
   "source": [
    "- Some topics are similar to each other. Try to grid search the best number of topics."
   ]
  },
  {
   "cell_type": "markdown",
   "metadata": {},
   "source": [
    "### Grid search the best number of topics"
   ]
  },
  {
   "cell_type": "code",
   "execution_count": 94,
   "metadata": {},
   "outputs": [],
   "source": [
    "from sklearn.model_selection import GridSearchCV"
   ]
  },
  {
   "cell_type": "code",
   "execution_count": 95,
   "metadata": {},
   "outputs": [],
   "source": [
    "search_params = {'n_components': [5, 6, 7, 8, 9]}\n",
    "lda = LatentDirichletAllocation(max_iter=10,\n",
    "                                learning_method='online',\n",
    "                                learning_offset=50.,\n",
    "                                random_state=0)"
   ]
  },
  {
   "cell_type": "code",
   "execution_count": 96,
   "metadata": {},
   "outputs": [],
   "source": [
    "model = GridSearchCV(lda, param_grid=search_params, cv=3)"
   ]
  },
  {
   "cell_type": "code",
   "execution_count": 97,
   "metadata": {},
   "outputs": [
    {
     "name": "stdout",
     "output_type": "stream",
     "text": [
      "CPU times: user 36min 27s, sys: 19.8 s, total: 36min 46s\n",
      "Wall time: 38min 42s\n"
     ]
    },
    {
     "data": {
      "text/plain": [
       "GridSearchCV(cv=3, error_score='raise-deprecating',\n",
       "             estimator=LatentDirichletAllocation(batch_size=128,\n",
       "                                                 doc_topic_prior=None,\n",
       "                                                 evaluate_every=-1,\n",
       "                                                 learning_decay=0.7,\n",
       "                                                 learning_method='online',\n",
       "                                                 learning_offset=50.0,\n",
       "                                                 max_doc_update_iter=100,\n",
       "                                                 max_iter=10,\n",
       "                                                 mean_change_tol=0.001,\n",
       "                                                 n_components=10, n_jobs=None,\n",
       "                                                 perp_tol=0.1, random_state=0,\n",
       "                                                 topic_word_prior=None,\n",
       "                                                 total_samples=1000000.0,\n",
       "                                                 verbose=0),\n",
       "             iid='warn', n_jobs=None,\n",
       "             param_grid={'n_components': [5, 6, 7, 8, 9]},\n",
       "             pre_dispatch='2*n_jobs', refit=True, return_train_score=False,\n",
       "             scoring=None, verbose=0)"
      ]
     },
     "execution_count": 97,
     "metadata": {},
     "output_type": "execute_result"
    }
   ],
   "source": [
    "%%time\n",
    "model.fit(df_bow)"
   ]
  },
  {
   "cell_type": "code",
   "execution_count": 98,
   "metadata": {},
   "outputs": [],
   "source": [
    "# Best Model\n",
    "best_lda_model = model.best_estimator_"
   ]
  },
  {
   "cell_type": "code",
   "execution_count": 99,
   "metadata": {},
   "outputs": [
    {
     "name": "stdout",
     "output_type": "stream",
     "text": [
      "Best Model's Params:  {'n_components': 5}\n",
      "\n",
      "\n",
      "Best Log Likelihood Score:  -2066556.0373598626\n",
      "\n",
      "\n",
      "Model Perplexity:  2413.4145621385214\n"
     ]
    }
   ],
   "source": [
    "print(\"Best Model's Params: \", model.best_params_)\n",
    "print('\\n')\n",
    "print(\"Best Log Likelihood Score: \", model.best_score_)\n",
    "print('\\n')\n",
    "print(\"Model Perplexity: \", best_lda_model.perplexity(df_bow))"
   ]
  },
  {
   "cell_type": "code",
   "execution_count": 100,
   "metadata": {},
   "outputs": [],
   "source": [
    "# Get Log Likelihoods from Grid Search Output\n",
    "n_topics = [5, 6, 7, 8, 9]\n",
    "log_likelihoods = model.cv_results_['mean_test_score']"
   ]
  },
  {
   "cell_type": "code",
   "execution_count": 101,
   "metadata": {},
   "outputs": [
    {
     "data": {
      "text/plain": [
       "Text(0, 0.5, 'Log Likelihood Scores')"
      ]
     },
     "execution_count": 101,
     "metadata": {},
     "output_type": "execute_result"
    },
    {
     "data": {
      "image/png": "[encoded data removed]",
      "text/plain": [
       "<Figure size 864x576 with 1 Axes>"
      ]
     },
     "metadata": {
      "needs_background": "light"
     },
     "output_type": "display_data"
    }
   ],
   "source": [
    "# Show graph\n",
    "plt.figure(figsize=(12, 8))\n",
    "plt.plot(n_topics, log_likelihoods)\n",
    "plt.title(\"Choosing Optimal LDA Model\")\n",
    "plt.xlabel(\"Num Topics\")\n",
    "plt.ylabel(\"Log Likelihood Scores\")"
   ]
  },
  {
   "cell_type": "markdown",
   "metadata": {},
   "source": [
    "### Topic words for best model"
   ]
  },
  {
   "cell_type": "code",
   "execution_count": 170,
   "metadata": {},
   "outputs": [],
   "source": [
    "topic_keywords = show_topics(vectorizer=bow_transformer, lda_model=best_lda_model, n_words=10)"
   ]
  },
  {
   "cell_type": "code",
   "execution_count": 171,
   "metadata": {},
   "outputs": [
    {
     "data": {
      "text/html": [
       "<div>\n",
       "<style scoped>\n",
       "    .dataframe tbody tr th:only-of-type {\n",
       "        vertical-align: middle;\n",
       "    }\n",
       "\n",
       "    .dataframe tbody tr th {\n",
       "        vertical-align: top;\n",
       "    }\n",
       "\n",
       "    .dataframe thead th {\n",
       "        text-align: right;\n",
       "    }\n",
       "</style>\n",
       "<table border=\"1\" class=\"dataframe\">\n",
       "  <thead>\n",
       "    <tr style=\"text-align: right;\">\n",
       "      <th></th>\n",
       "      <th>Word 0</th>\n",
       "      <th>Word 1</th>\n",
       "      <th>Word 2</th>\n",
       "      <th>Word 3</th>\n",
       "      <th>Word 4</th>\n",
       "      <th>Word 5</th>\n",
       "      <th>Word 6</th>\n",
       "      <th>Word 7</th>\n",
       "      <th>Word 8</th>\n",
       "      <th>Word 9</th>\n",
       "    </tr>\n",
       "  </thead>\n",
       "  <tbody>\n",
       "    <tr>\n",
       "      <th>Topic 1</th>\n",
       "      <td>baby</td>\n",
       "      <td>hit</td>\n",
       "      <td>raise</td>\n",
       "      <td>exam</td>\n",
       "      <td>want</td>\n",
       "      <td>taking</td>\n",
       "      <td>college</td>\n",
       "      <td>extra</td>\n",
       "      <td>passed</td>\n",
       "      <td>several</td>\n",
       "    </tr>\n",
       "    <tr>\n",
       "      <th>Topic 2</th>\n",
       "      <td>birthday</td>\n",
       "      <td>party</td>\n",
       "      <td>cat</td>\n",
       "      <td>temple</td>\n",
       "      <td>breakfast</td>\n",
       "      <td>friend</td>\n",
       "      <td>celebrated</td>\n",
       "      <td>ice</td>\n",
       "      <td>cream</td>\n",
       "      <td>family</td>\n",
       "    </tr>\n",
       "    <tr>\n",
       "      <th>Topic 3</th>\n",
       "      <td>new</td>\n",
       "      <td>work</td>\n",
       "      <td>job</td>\n",
       "      <td>time</td>\n",
       "      <td>get</td>\n",
       "      <td>car</td>\n",
       "      <td>bought</td>\n",
       "      <td>house</td>\n",
       "      <td>home</td>\n",
       "      <td>event</td>\n",
       "    </tr>\n",
       "    <tr>\n",
       "      <th>Topic 4</th>\n",
       "      <td>dinner</td>\n",
       "      <td>lunch</td>\n",
       "      <td>wife</td>\n",
       "      <td>ate</td>\n",
       "      <td>friend</td>\n",
       "      <td>family</td>\n",
       "      <td>good</td>\n",
       "      <td>food</td>\n",
       "      <td>shopping</td>\n",
       "      <td>spent</td>\n",
       "    </tr>\n",
       "    <tr>\n",
       "      <th>Topic 5</th>\n",
       "      <td>friend</td>\n",
       "      <td>game</td>\n",
       "      <td>time</td>\n",
       "      <td>movie</td>\n",
       "      <td>dog</td>\n",
       "      <td>old</td>\n",
       "      <td>watched</td>\n",
       "      <td>long</td>\n",
       "      <td>weekend</td>\n",
       "      <td>played</td>\n",
       "    </tr>\n",
       "  </tbody>\n",
       "</table>\n",
       "</div>"
      ],
      "text/plain": [
       "           Word 0 Word 1 Word 2  Word 3     Word 4  Word 5      Word 6 Word 7  \\\n",
       "Topic 1      baby    hit  raise    exam       want  taking     college  extra   \n",
       "Topic 2  birthday  party    cat  temple  breakfast  friend  celebrated    ice   \n",
       "Topic 3       new   work    job    time        get     car      bought  house   \n",
       "Topic 4    dinner  lunch   wife     ate     friend  family        good   food   \n",
       "Topic 5    friend   game   time   movie        dog     old     watched   long   \n",
       "\n",
       "           Word 8   Word 9  \n",
       "Topic 1    passed  several  \n",
       "Topic 2     cream   family  \n",
       "Topic 3      home    event  \n",
       "Topic 4  shopping    spent  \n",
       "Topic 5   weekend   played  "
      ]
     },
     "execution_count": 171,
     "metadata": {},
     "output_type": "execute_result"
    }
   ],
   "source": [
    "# Topic - Keywords Dataframe\n",
    "df_topic_keywords = pd.DataFrame(topic_keywords)\n",
    "df_topic_keywords.columns = ['Word '+str(i) for i in range(df_topic_keywords.shape[1])]\n",
    "df_topic_keywords.index = ['Topic '+str(i+1) for i in range(df_topic_keywords.shape[0])]\n",
    "df_topic_keywords"
   ]
  },
  {
   "cell_type": "markdown",
   "metadata": {},
   "source": [
    "- Topic 1 has words expressing the feeling of a monment, so I define it as enjoy the moment.              \n",
    "- Topic 2 involves words like birthday, party and famliy which can be concluded as affection.                     \n",
    "- Topic 3 turns out to be things concerning achievement.            \n",
    "- Topic 4 is about friend and family and classified as bonding.         \n",
    "- Topic 5 seems to be related to the leisure.     "
   ]
  },
  {
   "cell_type": "markdown",
   "metadata": {},
   "source": [
    "### Visualize the LDA model"
   ]
  },
  {
   "cell_type": "code",
   "execution_count": 172,
   "metadata": {},
   "outputs": [
    {
     "name": "stderr",
     "output_type": "stream",
     "text": [
      "/Users/wangxinquan/anaconda3/lib/python3.7/site-packages/pyLDAvis/_prepare.py:257: FutureWarning: Sorting because non-concatenation axis is not aligned. A future version\n",
      "of pandas will change to not sort by default.\n",
      "\n",
      "To accept the future behavior, pass 'sort=False'.\n",
      "\n",
      "To retain the current behavior and silence the warning, pass 'sort=True'.\n",
      "\n",
      "  return pd.concat([default_term_info] + list(topic_dfs))\n"
     ]
    },
    {
     "data": {
      "text/html": [
       "\n",
       "<link rel=\"stylesheet\" type=\"text/css\" href=\"https://cdn.rawgit.com/bmabey/pyLDAvis/files/ldavis.v1.0.0.css\">\n",
       "\n",
       "\n",
       "<div id=\"ldavis_el4741347377441128595756093\"></div>\n",
       "<script type=\"text/javascript\">\n",
       "\n",
       "var ldavis_el4741347377441128595756093_data = {\"mdsDat\": {\"x\": [0.20238479702367956, 0.13530095806946113, 0.11821625821608114, -0.2217273435294939, -0.23417466977972834], \"y\": [-0.04589091001232211, 0.0449771157216879, 0.018882953100285507, -0.2601376524748621, 0.24216849366521084], \"topics\": [1, 2, 3, 4, 5], \"cluster\": [1, 1, 1, 1, 1], \"Freq\": [36.795137386107015, 20.402656197901955, 20.192158786508205, 11.439555516258777, 11.170492113224057]}, \"tinfo\": {\"Category\": [\"Default\", \"Default\", \"Default\", \"Default\", \"Default\", \"Default\", \"Default\", \"Default\", \"Default\", \"Default\", \"Default\", \"Default\", \"Default\", \"Default\", \"Default\", \"Default\", \"Default\", \"Default\", \"Default\", \"Default\", \"Default\", \"Default\", \"Default\", \"Default\", \"Default\", \"Default\", \"Default\", \"Default\", \"Default\", \"Default\", \"Topic1\", \"Topic1\", \"Topic1\", \"Topic1\", \"Topic1\", \"Topic1\", \"Topic1\", \"Topic1\", \"Topic1\", \"Topic1\", \"Topic1\", \"Topic1\", \"Topic1\", \"Topic1\", \"Topic1\", \"Topic1\", \"Topic1\", \"Topic1\", \"Topic1\", \"Topic1\", \"Topic1\", \"Topic1\", \"Topic1\", \"Topic1\", \"Topic1\", \"Topic1\", \"Topic1\", \"Topic1\", \"Topic1\", \"Topic1\", \"Topic1\", \"Topic1\", \"Topic1\", \"Topic1\", \"Topic1\", \"Topic1\", \"Topic1\", \"Topic1\", \"Topic1\", \"Topic1\", \"Topic1\", \"Topic1\", \"Topic1\", \"Topic1\", \"Topic1\", \"Topic1\", \"Topic1\", \"Topic1\", \"Topic1\", \"Topic1\", \"Topic1\", \"Topic1\", \"Topic1\", \"Topic1\", \"Topic2\", \"Topic2\", \"Topic2\", \"Topic2\", \"Topic2\", \"Topic2\", \"Topic2\", \"Topic2\", \"Topic2\", \"Topic2\", \"Topic2\", \"Topic2\", \"Topic2\", \"Topic2\", \"Topic2\", \"Topic2\", \"Topic2\", \"Topic2\", \"Topic2\", \"Topic2\", \"Topic2\", \"Topic2\", \"Topic2\", \"Topic2\", \"Topic2\", \"Topic2\", \"Topic2\", \"Topic2\", \"Topic2\", \"Topic2\", \"Topic2\", \"Topic2\", \"Topic2\", \"Topic2\", \"Topic2\", \"Topic2\", \"Topic2\", \"Topic2\", \"Topic2\", \"Topic2\", \"Topic2\", \"Topic2\", \"Topic2\", \"Topic2\", \"Topic2\", \"Topic2\", \"Topic2\", \"Topic3\", \"Topic3\", \"Topic3\", \"Topic3\", \"Topic3\", \"Topic3\", \"Topic3\", \"Topic3\", \"Topic3\", \"Topic3\", \"Topic3\", \"Topic3\", \"Topic3\", \"Topic3\", \"Topic3\", \"Topic3\", \"Topic3\", \"Topic3\", \"Topic3\", \"Topic3\", \"Topic3\", \"Topic3\", \"Topic3\", \"Topic3\", \"Topic3\", \"Topic3\", \"Topic3\", \"Topic3\", \"Topic3\", \"Topic3\", \"Topic3\", \"Topic3\", \"Topic3\", \"Topic3\", \"Topic3\", \"Topic3\", \"Topic3\", \"Topic3\", \"Topic3\", \"Topic3\", \"Topic3\", \"Topic3\", \"Topic4\", \"Topic4\", \"Topic4\", \"Topic4\", \"Topic4\", \"Topic4\", \"Topic4\", \"Topic4\", \"Topic4\", \"Topic4\", \"Topic4\", \"Topic4\", \"Topic4\", \"Topic4\", \"Topic4\", \"Topic4\", \"Topic4\", \"Topic4\", \"Topic4\", \"Topic4\", \"Topic4\", \"Topic4\", \"Topic4\", \"Topic4\", \"Topic4\", \"Topic4\", \"Topic4\", \"Topic4\", \"Topic4\", \"Topic4\", \"Topic4\", \"Topic4\", \"Topic4\", \"Topic4\", \"Topic5\", \"Topic5\", \"Topic5\", \"Topic5\", \"Topic5\", \"Topic5\", \"Topic5\", \"Topic5\", \"Topic5\", \"Topic5\", \"Topic5\", \"Topic5\", \"Topic5\", \"Topic5\", \"Topic5\", \"Topic5\", \"Topic5\", \"Topic5\", \"Topic5\", \"Topic5\", \"Topic5\", \"Topic5\", \"Topic5\", \"Topic5\", \"Topic5\", \"Topic5\", \"Topic5\", \"Topic5\", \"Topic5\", \"Topic5\", \"Topic5\", \"Topic5\", \"Topic5\", \"Topic5\", \"Topic5\", \"Topic5\", \"Topic5\"], \"Freq\": [2522.0, 3124.0, 2435.0, 6820.0, 2118.0, 1322.0, 2918.0, 1704.0, 1118.0, 2202.0, 1478.0, 1057.0, 2449.0, 2211.0, 1345.0, 5113.0, 1338.0, 1647.0, 952.0, 2039.0, 1241.0, 1232.0, 1963.0, 1202.0, 1192.0, 1200.0, 1196.0, 1185.0, 1175.0, 1160.0, 2915.9867873536227, 2037.330152193873, 1961.1080235817794, 1806.8015907754252, 1491.7823469747714, 1406.4056550418231, 1300.6160533120735, 1255.825512976902, 1145.5347989018953, 1091.2814075842482, 951.7312195846188, 934.3160681320107, 941.5547435621507, 901.5140183543621, 907.9191395346064, 883.6092110982445, 890.773094296182, 881.4887622954493, 868.2138020593829, 859.2193334806111, 855.4938438627145, 802.1754387293166, 775.2295894951752, 755.887314261455, 763.3123266227401, 754.0620229791842, 733.5231588433744, 717.1358854826173, 711.6191760041303, 704.7584408182264, 2153.093065588148, 1142.1603003384755, 3915.9714060533033, 4022.4496412010512, 2024.983507229011, 883.905886862923, 1613.632424056863, 1821.4085560993085, 1409.4825148045556, 1234.6149697850217, 2159.8435174802207, 986.8977085547156, 1379.2263600670203, 1472.9638893562742, 1217.8032412003472, 1398.1961598986304, 1158.8129632528032, 1457.2580251121449, 1324.945534949745, 1188.793850487669, 1035.953271011278, 1174.3244814851305, 1075.5011993666876, 1122.5295351180253, 3121.905574244091, 1702.659455763209, 1476.616260528552, 1198.0568076960167, 1193.9059864556082, 1054.239209299313, 1043.2832434797856, 1066.1895283593058, 905.1643697248251, 783.8682941742063, 760.7524159887475, 732.7202008339667, 724.0741556838749, 689.5297947001546, 653.5518138089224, 644.6512570982933, 626.1422655224958, 630.9216836471486, 601.3531066054707, 593.397243192992, 572.0960864357993, 560.6103519052118, 540.0255037207179, 529.6081200451674, 528.5671180912192, 514.2595417708782, 508.0287749299884, 502.0192427646653, 445.17148195916116, 444.79154745071617, 936.5974814367925, 1598.8217067074763, 844.4716391522411, 1361.2968036387415, 820.2659849052527, 1216.1485759064367, 1399.4775905273423, 912.2794614256151, 715.3159599808419, 829.6684970775366, 720.891007414723, 761.272700807211, 867.6488406302317, 841.8723363517914, 769.7296092684061, 699.411050940861, 698.5753953302715, 2433.3905637940034, 2116.044746324684, 1336.444183145339, 1343.0175996044438, 1239.5351558281557, 1230.019810451724, 1200.4572972208819, 1190.5227690175102, 1183.2458447848503, 1172.7650232521637, 1158.2670591976078, 1023.7244549647847, 1016.5795767021121, 988.0150707637472, 975.3993270140026, 946.2654137702208, 922.1249089417026, 844.5479242481026, 804.2738083852722, 800.1138172393681, 686.6892510089735, 674.3411135359623, 673.9113217911022, 665.7645952789161, 655.421012310443, 621.5179306980137, 592.6206884210778, 587.3846387368915, 547.8915332558809, 532.0142951654491, 1513.6109172335819, 1755.1189225956514, 3675.5147797323034, 1550.7132702542683, 1299.7672736380712, 2182.3697548088526, 1410.3512153312015, 1319.5793253714032, 1135.1307123013526, 1030.841277872155, 979.3360390356975, 1106.556091683435, 1054.9937390077864, 755.2678889606731, 700.7606181935198, 613.8011119168293, 588.0313049528435, 572.6736299753237, 519.6992849585193, 513.9198604091005, 510.95812367111836, 478.63988217368194, 452.43606526390266, 415.2410919784864, 403.2581952611111, 390.85779501672175, 382.43019785572227, 376.15397782188955, 376.50860771838916, 361.6463888836415, 357.63792668060245, 355.9628055038723, 349.08091367553425, 347.69463908085885, 346.86318100533407, 330.96470145597226, 316.19249456472244, 306.640538149423, 307.79854344086135, 297.50175954803814, 295.4279800913101, 266.07264002169893, 552.2066459793689, 400.5847665649243, 471.2218806389784, 314.24632949240674, 2520.129407733078, 1319.9284262435906, 1116.5199953119563, 950.28264979384, 806.4747779911988, 666.2512610398652, 619.8256541145272, 618.0385039620036, 498.21182362697607, 491.3926654603028, 479.0464715560229, 478.78503336666637, 471.7062500021644, 455.8492964645889, 449.00252352820013, 426.1720424867553, 386.9591363284145, 358.74320382976657, 353.4876228227532, 333.8460099254415, 330.514788853777, 324.63135530466445, 309.39350183272967, 299.29766892894037, 295.25365892032397, 293.0443454263285, 290.9178169491709, 281.2776222511936, 279.4552408803575, 279.02984862054666, 399.5795878740191, 794.3907180174242, 503.09999998704956, 569.0533336485643, 389.5291611874135, 314.937489786216, 300.0871703054467], \"Term\": [\"birthday\", \"dinner\", \"game\", \"friend\", \"movie\", \"party\", \"job\", \"lunch\", \"cat\", \"dog\", \"ate\", \"baby\", \"wife\", \"old\", \"weekend\", \"time\", \"played\", \"watched\", \"temple\", \"car\", \"met\", \"watching\", \"house\", \"playing\", \"video\", \"food\", \"shopping\", \"walk\", \"show\", \"play\", \"job\", \"car\", \"house\", \"event\", \"brother\", \"visit\", \"told\", \"gift\", \"sleep\", \"early\", \"girl\", \"dad\", \"brought\", \"woke\", \"coffee\", \"promotion\", \"team\", \"done\", \"paid\", \"card\", \"date\", \"weather\", \"purchased\", \"lost\", \"online\", \"summer\", \"gym\", \"father\", \"loved\", \"company\", \"get\", \"working\", \"work\", \"new\", \"bought\", \"would\", \"morning\", \"home\", \"getting\", \"feel\", \"time\", \"project\", \"finally\", \"found\", \"received\", \"one\", \"make\", \"good\", \"first\", \"husband\", \"love\", \"great\", \"hour\", \"night\", \"dinner\", \"lunch\", \"ate\", \"food\", \"shopping\", \"delicious\", \"restaurant\", \"spent\", \"eat\", \"pizza\", \"something\", \"meal\", \"mturk\", \"bonus\", \"buy\", \"wedding\", \"cooked\", \"surprised\", \"dollar\", \"marriage\", \"eating\", \"puppy\", \"amazing\", \"afternoon\", \"learned\", \"niece\", \"whole\", \"mine\", \"grocery\", \"coworker\", \"vacation\", \"wife\", \"trip\", \"family\", \"mother\", \"good\", \"friend\", \"nice\", \"boyfriend\", \"husband\", \"money\", \"great\", \"new\", \"work\", \"time\", \"found\", \"night\", \"game\", \"movie\", \"played\", \"weekend\", \"met\", \"watching\", \"playing\", \"video\", \"walk\", \"show\", \"play\", \"seen\", \"class\", \"book\", \"talked\", \"watch\", \"park\", \"tv\", \"called\", \"completed\", \"goal\", \"beach\", \"meet\", \"visited\", \"cousin\", \"song\", \"talking\", \"funny\", \"hadnt\", \"read\", \"watched\", \"dog\", \"friend\", \"old\", \"girlfriend\", \"time\", \"long\", \"see\", \"first\", \"son\", \"daughter\", \"new\", \"baby\", \"hit\", \"raise\", \"exam\", \"want\", \"taking\", \"extra\", \"passed\", \"several\", \"test\", \"accepted\", \"drive\", \"grade\", \"workout\", \"business\", \"result\", \"finding\", \"spring\", \"doctor\", \"walked\", \"program\", \"relaxing\", \"complete\", \"born\", \"sun\", \"warm\", \"different\", \"hang\", \"water\", \"visiting\", \"college\", \"school\", \"work\", \"good\", \"birthday\", \"party\", \"cat\", \"temple\", \"breakfast\", \"celebrated\", \"ice\", \"cream\", \"state\", \"room\", \"flower\", \"tonight\", \"th\", \"celebrate\", \"given\", \"attended\", \"nap\", \"relative\", \"slept\", \"lottery\", \"late\", \"realized\", \"graduated\", \"celebration\", \"beat\", \"graduation\", \"award\", \"cooking\", \"cup\", \"recipe\", \"turned\", \"friend\", \"life\", \"family\", \"surprise\", \"close\", \"best\"], \"Total\": [2522.0, 3124.0, 2435.0, 6820.0, 2118.0, 1322.0, 2918.0, 1704.0, 1118.0, 2202.0, 1478.0, 1057.0, 2449.0, 2211.0, 1345.0, 5113.0, 1338.0, 1647.0, 952.0, 2039.0, 1241.0, 1232.0, 1963.0, 1202.0, 1192.0, 1200.0, 1196.0, 1185.0, 1175.0, 1160.0, 2918.1908797922897, 2039.537489207086, 1963.3394614647873, 1809.0550433623669, 1494.0296481740618, 1408.6398265273137, 1302.833611955206, 1258.03541239514, 1147.7306544684395, 1093.4840518572364, 953.9617002587138, 936.5414101579155, 943.8008606947642, 903.715784819694, 910.1495267253033, 885.8026711510195, 893.0083482594883, 883.7024520966004, 870.4182265362883, 861.428473600353, 857.698608682508, 804.4090833176207, 777.4449016415376, 758.0897654972111, 765.5450130480265, 756.2947774960858, 735.7321278015518, 719.3625930883418, 713.8478434984786, 706.9724905716886, 2533.9300939172126, 1259.5226524051795, 5611.270868235275, 5997.77609617169, 2678.3252110762187, 928.8644651094002, 2191.264856712989, 2986.9639709773173, 2024.4003428215779, 1650.814701365859, 5113.098241116238, 1139.0367613758856, 2286.8193950689542, 2665.2115843754705, 1902.8358651895473, 2876.369085649661, 1763.400516668958, 3825.391095462662, 2989.4532719756303, 2294.5284909831266, 1384.667710412426, 2440.284849962175, 1742.270264174646, 2651.0226370640876, 3124.1848537293813, 1704.9387228140922, 1478.8916366215185, 1200.3350876771206, 1196.1793880741925, 1056.5097162514173, 1045.5541875932336, 1068.515587986053, 907.4383753125455, 786.1327856369074, 763.094407008343, 734.9871426104546, 726.3574882334434, 691.80573995227, 655.8541091091067, 646.9498911170009, 628.407365512921, 633.2240764329156, 603.6356577807547, 595.7008641281811, 574.3791890765131, 562.892763171067, 542.3487265756501, 531.9231648427404, 530.8836405508736, 516.5617977064145, 510.35299667005387, 504.3462360067676, 447.4434365860264, 447.08856908228546, 1119.3043142905328, 2449.1028964031316, 1241.5345804328058, 3223.403568308539, 1526.5423110325783, 3825.391095462662, 6820.660491888111, 2336.955101580201, 1295.2332525145891, 2294.5284909831266, 1449.32062784735, 2440.284849962175, 5997.77609617169, 5611.270868235275, 5113.098241116238, 2665.2115843754705, 2651.0226370640876, 2435.6520807317, 2118.2859844620193, 1338.6936094261039, 1345.293767480673, 1241.7966674284587, 1232.287771547845, 1202.7132124384377, 1192.7667121687423, 1185.5023355750184, 1175.0228401479446, 1160.5236331503613, 1025.9714485092302, 1018.8727504842067, 990.2933777804981, 977.6506619574047, 948.5230942291695, 924.3740209168975, 846.7944769432388, 806.5702126393261, 802.457873312636, 688.9648741537314, 676.5945045153952, 676.1698714366723, 668.0209531351289, 657.6883300660596, 623.777906852391, 594.8846857531867, 589.656948974728, 550.142676896872, 534.2780137372279, 1647.7877769546487, 2202.153236698129, 6820.660491888111, 2211.006395859746, 2103.3631651916376, 5113.098241116238, 2437.9449748131947, 2315.5614656518374, 2989.4532719756303, 2774.342950923409, 2721.3540123464386, 5997.77609617169, 1057.2799838703222, 757.5627204089326, 703.0250319953925, 616.066716691102, 590.3331624667978, 574.9729805148254, 521.9984516000376, 516.1965573772663, 513.262146639963, 480.9037736977032, 454.7083183715597, 417.534289733398, 405.5268102115322, 393.12302992013736, 384.7134169566208, 378.441615506978, 378.8004425113548, 363.9219842467014, 359.91227659982474, 358.2487589546723, 351.3549172143339, 349.9745676069465, 349.1608631030044, 333.2466839343216, 318.46121901586133, 308.9187311131948, 310.12961296733505, 299.785311593662, 297.7189243924096, 268.3610640066237, 1184.2142453220304, 1805.036420521903, 5611.270868235275, 3825.391095462662, 2522.3825516097704, 1322.1730358492318, 1118.7886081137513, 952.5144547483947, 808.7273261864483, 668.4900090261972, 622.06426903908, 620.2760211301846, 500.49629444739094, 493.66337362540384, 481.3086081478386, 481.050673015544, 473.9609757587937, 458.09545462432686, 451.27209218833787, 428.4285253638076, 389.20785935444195, 360.99296126634556, 355.73759994601545, 336.0900362152088, 332.78658092534585, 326.92300018563213, 311.6484140053904, 301.5367755606905, 297.52526949355706, 295.30201835510513, 293.16766668664803, 283.545005712635, 281.7117587892496, 281.2869200547416, 575.5506408558263, 6820.660491888111, 1751.0104397968053, 3223.403568308539, 867.1644788124177, 502.28260705324226, 1497.685065475973], \"loglift\": [30.0, 29.0, 28.0, 27.0, 26.0, 25.0, 24.0, 23.0, 22.0, 21.0, 20.0, 19.0, 18.0, 17.0, 16.0, 15.0, 14.0, 13.0, 12.0, 11.0, 10.0, 9.0, 8.0, 7.0, 6.0, 5.0, 4.0, 3.0, 2.0, 1.0, 0.999, 0.9987, 0.9987, 0.9986, 0.9983, 0.9982, 0.9981, 0.998, 0.9979, 0.9978, 0.9975, 0.9974, 0.9974, 0.9974, 0.9974, 0.9973, 0.9973, 0.9973, 0.9973, 0.9972, 0.9972, 0.997, 0.997, 0.9969, 0.9969, 0.9968, 0.9968, 0.9967, 0.9967, 0.9967, 0.8369, 0.902, 0.6401, 0.6003, 0.7202, 0.9502, 0.6938, 0.5052, 0.6378, 0.7093, 0.138, 0.8564, 0.4942, 0.4068, 0.5535, 0.2785, 0.58, 0.0347, 0.1861, 0.3422, 0.7097, 0.2684, 0.5174, 0.1404, 1.5888, 1.5882, 1.588, 1.5876, 1.5876, 1.5874, 1.5873, 1.5873, 1.587, 1.5866, 1.5864, 1.5864, 1.5864, 1.5862, 1.586, 1.5859, 1.5859, 1.5859, 1.5857, 1.5856, 1.5855, 1.5854, 1.5852, 1.5851, 1.5851, 1.585, 1.5849, 1.5849, 1.5844, 1.5844, 1.4113, 1.1631, 1.2041, 0.7275, 0.9684, 0.4435, 0.0056, 0.6488, 0.9958, 0.5722, 0.8911, 0.4246, -0.3439, -0.3074, -0.304, 0.2517, 0.2558, 1.5989, 1.5988, 1.5982, 1.5982, 1.5981, 1.598, 1.598, 1.598, 1.598, 1.598, 1.5979, 1.5977, 1.5976, 1.5976, 1.5976, 1.5975, 1.5974, 1.5972, 1.597, 1.597, 1.5966, 1.5965, 1.5965, 1.5965, 1.5964, 1.5962, 1.5961, 1.596, 1.5958, 1.5956, 1.5149, 1.373, 0.9816, 1.2451, 1.1185, 0.7485, 1.0526, 1.0375, 0.6315, 0.6098, 0.5779, -0.0903, 2.1659, 2.1651, 2.1649, 2.1644, 2.1642, 2.1641, 2.1637, 2.1637, 2.1636, 2.1634, 2.1631, 2.1626, 2.1625, 2.1623, 2.1621, 2.162, 2.162, 2.1618, 2.1618, 2.1617, 2.1616, 2.1616, 2.1615, 2.1612, 2.1609, 2.1607, 2.1605, 2.1604, 2.1604, 2.1595, 1.4052, 0.6627, -0.3091, -0.3311, 2.191, 2.1902, 2.1899, 2.1895, 2.1891, 2.1885, 2.1883, 2.1883, 2.1873, 2.1873, 2.1872, 2.1872, 2.1871, 2.187, 2.1869, 2.1866, 2.1861, 2.1856, 2.1855, 2.1852, 2.185, 2.1849, 2.1846, 2.1844, 2.1842, 2.1842, 2.1842, 2.1839, 2.1839, 2.1838, 1.827, 0.0418, 0.9447, 0.4577, 1.3916, 1.7251, 0.5843], \"logprob\": [30.0, 29.0, 28.0, 27.0, 26.0, 25.0, 24.0, 23.0, 22.0, 21.0, 20.0, 19.0, 18.0, 17.0, 16.0, 15.0, 14.0, 13.0, 12.0, 11.0, 10.0, 9.0, 8.0, 7.0, 6.0, 5.0, 4.0, 3.0, 2.0, 1.0, -4.5568, -4.9154, -4.9535, -5.0355, -5.2271, -5.286, -5.3642, -5.3992, -5.4912, -5.5397, -5.6765, -5.695, -5.6872, -5.7307, -5.7236, -5.7508, -5.7427, -5.7532, -5.7683, -5.7788, -5.7831, -5.8475, -5.8816, -5.9069, -5.8971, -5.9093, -5.9369, -5.9595, -5.9672, -5.9769, -4.8601, -5.4941, -4.262, -4.2351, -4.9215, -5.7504, -5.1485, -5.0274, -5.2838, -5.4163, -4.857, -5.6402, -5.3055, -5.2397, -5.43, -5.2918, -5.4796, -5.2505, -5.3457, -5.4541, -5.5917, -5.4663, -5.5542, -5.5114, -3.8989, -4.5051, -4.6476, -4.8566, -4.8601, -4.9845, -4.995, -4.9732, -5.137, -5.2808, -5.3108, -5.3483, -5.3602, -5.4091, -5.4627, -5.4764, -5.5055, -5.4979, -5.5459, -5.5592, -5.5958, -5.6161, -5.6535, -5.6729, -5.6749, -5.7024, -5.7145, -5.7264, -5.8466, -5.8475, -5.1028, -4.5681, -5.2064, -4.7289, -5.2355, -4.8416, -4.7012, -5.1291, -5.3724, -5.2241, -5.3646, -5.3101, -5.1793, -5.2095, -5.299, -5.3948, -5.396, -4.1377, -4.2774, -4.7369, -4.732, -4.8122, -4.8199, -4.8443, -4.8526, -4.8587, -4.8676, -4.88, -5.0035, -5.0105, -5.039, -5.0519, -5.0822, -5.108, -5.1959, -5.2448, -5.25, -5.4028, -5.421, -5.4216, -5.4338, -5.4494, -5.5025, -5.5502, -5.559, -5.6286, -5.658, -4.6125, -4.4644, -3.7253, -4.5882, -4.7648, -4.2465, -4.6831, -4.7496, -4.9002, -4.9966, -5.0478, -4.9257, -4.4052, -4.7394, -4.8143, -4.9468, -4.9897, -5.0162, -5.1132, -5.1244, -5.1302, -5.1955, -5.2518, -5.3376, -5.3669, -5.3981, -5.4199, -5.4365, -5.4356, -5.4758, -5.487, -5.4917, -5.5112, -5.5152, -5.5176, -5.5645, -5.6101, -5.6408, -5.637, -5.6711, -5.6781, -5.7827, -5.0526, -5.3736, -5.2112, -5.6163, -3.5106, -4.1574, -4.3247, -4.4859, -4.65, -4.841, -4.9133, -4.9161, -5.1317, -5.1454, -5.1709, -5.1714, -5.1863, -5.2205, -5.2357, -5.2878, -5.3844, -5.4601, -5.4748, -5.532, -5.542, -5.56, -5.6081, -5.6413, -5.6549, -5.6624, -5.6697, -5.7033, -5.7098, -5.7114, -5.3523, -4.6651, -5.1219, -4.9987, -5.3778, -5.5903, -5.6386]}, \"token.table\": {\"Topic\": [1, 2, 3, 4, 5, 1, 2, 3, 4, 5, 1, 2, 3, 4, 5, 1, 2, 3, 4, 5, 1, 2, 3, 4, 5, 1, 2, 3, 4, 5, 1, 2, 3, 4, 5, 1, 2, 3, 4, 5, 1, 2, 3, 4, 5, 1, 2, 3, 4, 5, 1, 2, 3, 4, 5, 1, 2, 3, 4, 5, 1, 2, 3, 4, 5, 1, 2, 3, 4, 5, 1, 2, 3, 4, 5, 1, 2, 3, 4, 5, 1, 2, 3, 4, 5, 1, 2, 3, 4, 5, 1, 2, 3, 4, 5, 1, 2, 3, 4, 5, 1, 2, 3, 4, 5, 1, 2, 3, 4, 5, 1, 2, 3, 4, 5, 1, 2, 3, 4, 5, 1, 2, 3, 4, 5, 1, 2, 3, 4, 5, 1, 2, 3, 4, 5, 1, 2, 3, 4, 5, 1, 2, 3, 4, 5, 1, 2, 3, 4, 5, 1, 2, 3, 4, 5, 1, 2, 3, 4, 5, 1, 2, 3, 4, 5, 1, 2, 3, 4, 5, 1, 2, 3, 4, 5, 1, 2, 3, 4, 5, 1, 2, 3, 4, 5, 1, 2, 3, 4, 5, 1, 2, 3, 4, 5, 1, 2, 3, 4, 5, 1, 2, 3, 4, 5, 1, 2, 3, 4, 5, 1, 2, 3, 4, 5, 1, 2, 3, 4, 5, 1, 2, 3, 4, 5, 1, 2, 3, 4, 5, 1, 2, 3, 4, 5, 1, 2, 3, 4, 5, 1, 2, 3, 4, 5, 1, 2, 3, 4, 5, 1, 2, 3, 4, 5, 1, 2, 3, 4, 5, 1, 2, 3, 4, 5, 1, 2, 3, 4, 5, 1, 2, 3, 4, 5, 1, 2, 3, 4, 5, 1, 2, 3, 4, 5, 1, 2, 3, 4, 5, 1, 2, 3, 4, 5, 1, 2, 3, 4, 5, 1, 2, 3, 4, 5, 1, 2, 3, 4, 5, 1, 2, 3, 4, 5, 1, 2, 3, 4, 5, 1, 2, 3, 4, 5, 1, 2, 3, 4, 5, 1, 2, 3, 4, 5, 1, 2, 3, 4, 5, 1, 2, 3, 4, 5, 1, 2, 3, 4, 5, 1, 2, 3, 4, 5, 1, 2, 3, 4, 5, 1, 2, 3, 4, 5, 1, 2, 3, 4, 5, 1, 2, 3, 4, 5, 1, 2, 3, 4, 5, 1, 2, 3, 4, 5, 1, 2, 3, 4, 5, 1, 2, 3, 4, 5, 1, 2, 3, 4, 5, 1, 2, 3, 4, 5, 1, 2, 3, 4, 5, 1, 2, 3, 4, 5, 1, 2, 3, 4, 5, 1, 2, 3, 4, 5, 1, 2, 3, 4, 5, 1, 2, 3, 4, 5, 1, 2, 3, 4, 5, 1, 2, 3, 4, 5, 1, 2, 3, 4, 5, 1, 2, 3, 4, 5, 1, 2, 3, 4, 5, 1, 2, 3, 4, 5, 1, 2, 3, 4, 5, 1, 2, 3, 4, 5, 1, 2, 3, 4, 5, 1, 2, 3, 4, 5, 1, 2, 3, 4, 5, 1, 2, 3, 4, 5, 1, 2, 3, 4, 5, 1, 2, 3, 4, 5, 1, 2, 3, 4, 5, 1, 2, 3, 4, 5, 1, 2, 3, 4, 5, 1, 2, 3, 4, 5, 1, 2, 3, 4, 5, 1, 2, 3, 4, 5, 1, 2, 3, 4, 5, 1, 2, 3, 4, 5, 1, 2, 3, 4, 5, 1, 2, 3, 4, 5, 1, 2, 3, 4, 5, 1, 2, 3, 4, 5, 1, 2, 3, 4, 5, 1, 2, 3, 4, 5, 1, 2, 3, 4, 5, 1, 2, 3, 4, 5, 1, 2, 3, 4, 5, 1, 2, 3, 4, 5, 1, 2, 3, 4, 5, 1, 2, 3, 4, 5, 1, 2, 3, 4, 5, 1, 2, 3, 4, 5, 1, 2, 3, 4, 5, 1, 2, 3, 4, 5, 1, 2, 3, 4, 5, 1, 2, 3, 4, 5, 1, 2, 3, 4, 5, 1, 2, 3, 4, 5, 1, 2, 3, 4, 5, 1, 2, 3, 4, 5, 1, 2, 3, 4, 5, 1, 2, 3, 4, 5, 1, 2, 3, 4, 5, 1, 2, 3, 4, 5, 1, 2, 3, 4, 5, 1, 2, 3, 4, 5, 1, 2, 3, 4, 5, 1, 2, 3, 4, 5, 1, 2, 3, 4, 5, 1, 2, 3, 4, 5, 1, 2, 3, 4, 5, 1, 2, 3, 4, 5, 1, 2, 3, 4, 5, 1, 2, 3, 4, 5, 1, 2, 3, 4, 5, 1, 2, 3, 4, 5, 1, 2, 3, 4, 5, 1, 2, 3, 4, 5, 1, 2, 3, 4, 5, 1, 2, 3, 4, 5, 1, 2, 3, 4, 5, 1, 2, 3, 4, 5, 1, 2, 3, 4, 5, 1, 2, 3, 4, 5, 1, 2, 3, 4, 5, 1, 2, 3, 4, 5, 1, 2, 3, 4, 5, 1, 2, 3, 4, 5, 1, 2, 3, 4, 5, 1, 2, 3, 4, 5, 1, 2, 3, 4, 5, 1, 2, 3, 4, 5, 1, 2, 3, 4, 5, 1, 2, 3, 4, 5, 1, 2, 3, 4, 5, 1, 2, 3, 4, 5, 1, 2, 3, 4, 5, 1, 2, 3, 4, 5, 1, 2, 3, 4, 5, 1, 2, 3, 4, 5, 1, 2, 3, 4, 5, 1, 2, 3, 4, 5, 1, 2, 3, 4, 5, 1, 2, 3, 4, 5, 1, 2, 3, 4, 5, 1, 2, 3, 4, 5, 1, 2, 3, 4, 5, 1, 2, 3, 4, 5, 1, 2, 3, 4, 5, 1, 2, 3, 4, 5, 1, 2, 3, 4, 5, 1, 2, 3, 4, 5, 1, 2, 3, 4, 5, 1, 2, 3, 4, 5, 1, 2, 3, 4, 5, 1, 2, 3, 4, 5, 1, 2, 3, 4, 5, 1, 2, 3, 4, 5, 1, 2, 3, 4, 5, 1, 2, 3, 4, 5, 1, 2, 3, 4, 5, 1, 2, 3, 4, 5, 1, 2, 3, 4, 5, 1, 2, 3, 4, 5, 1, 2, 3, 4, 5, 1, 2, 3, 4, 5, 1, 2, 3, 4, 5], \"Freq\": [0.002199212021414707, 0.002199212021414707, 0.002199212021414707, 0.9940438336794476, 0.002199212021414707, 0.0018799707666343941, 0.9963845063162289, 0.0018799707666343941, 0.0018799707666343941, 0.0018799707666343941, 0.0018438321157568237, 0.9956693425086849, 0.0018438321157568237, 0.0018438321157568237, 0.0018438321157568237, 0.0006761820644847709, 0.9987209092440066, 0.0006761820644847709, 0.0006761820644847709, 0.0006761820644847709, 0.002334111621421175, 0.002334111621421175, 0.002334111621421175, 0.002334111621421175, 0.9943315507254207, 0.0034110173584348544, 0.0034110173584348544, 0.0034110173584348544, 0.0034110173584348544, 0.9926060513045426, 0.0009458232589813714, 0.0009458232589813714, 0.0009458232589813714, 0.9978435382253469, 0.0009458232589813714, 0.001477990130464097, 0.001477990130464097, 0.9961653479328013, 0.001477990130464097, 0.001477990130464097, 0.003361059051226757, 0.003361059051226757, 0.003361059051226757, 0.003361059051226757, 0.9915124201118932, 0.20965689465575926, 0.21165998600597352, 0.3779165680737572, 0.0006676971167380868, 0.20030913502142605, 0.00039645056986372095, 0.00039645056986372095, 0.00039645056986372095, 0.00039645056986372095, 0.9990554360565768, 0.0014454924876295381, 0.9973898164643813, 0.0014454924876295381, 0.0014454924876295381, 0.0014454924876295381, 0.0010098017642420844, 0.0010098017642420844, 0.9976841430711795, 0.0010098017642420844, 0.0010098017642420844, 0.0030007800473630113, 0.0030007800473630113, 0.0030007800473630113, 0.9932581956771567, 0.0030007800473630113, 0.7560694988142623, 0.2434357102355057, 0.00037336765373543817, 0.00037336765373543817, 0.00037336765373543817, 0.44625166847582115, 0.5520241227685331, 0.0007720617101657806, 0.0007720617101657806, 0.0007720617101657806, 0.0012365107096300276, 0.0012365107096300276, 0.0012365107096300276, 0.0012365107096300276, 0.9966276319618023, 0.9986414940449526, 0.0006693307600837484, 0.0006693307600837484, 0.0006693307600837484, 0.0006693307600837484, 0.9980919060685762, 0.0010595455478434991, 0.0010595455478434991, 0.0010595455478434991, 0.0010595455478434991, 0.002599337470241536, 0.002599337470241536, 0.002599337470241536, 0.9929469136322668, 0.002599337470241536, 0.00152472933555051, 0.9971729854500335, 0.00152472933555051, 0.00152472933555051, 0.00152472933555051, 0.0012398176678602064, 0.0012398176678602064, 0.9968134049596059, 0.0012398176678602064, 0.0012398176678602064, 0.9987558506668722, 0.0004903072413681258, 0.0004903072413681258, 0.0004903072413681258, 0.0004903072413681258, 0.9971808760973466, 0.0011608624867256655, 0.0011608624867256655, 0.0011608624867256655, 0.0011608624867256655, 0.0008938239026995226, 0.0008938239026995226, 0.0008938239026995226, 0.0008938239026995226, 0.9984012993153668, 0.002182951151130884, 0.002182951151130884, 0.002182951151130884, 0.002182951151130884, 0.9954257249156832, 0.0014959086695352712, 0.0014959086695352712, 0.0014959086695352712, 0.0014959086695352712, 0.9962751739104906, 0.003316345073135961, 0.003316345073135961, 0.003316345073135961, 0.003316345073135961, 0.9915871768676523, 0.0009814768326317123, 0.0009814768326317123, 0.9981619387864513, 0.0009814768326317123, 0.0009814768326317123, 0.0019909110647225725, 0.3703094580383985, 0.0019909110647225725, 0.0019909110647225725, 0.6271369853876103, 0.9976382707871779, 0.001098720562540945, 0.001098720562540945, 0.001098720562540945, 0.001098720562540945, 0.2887990930281352, 0.0008444417924799275, 0.24319923623421913, 0.46613186944892004, 0.0008444417924799275, 0.9972099472072902, 0.0014144821946202697, 0.0014144821946202697, 0.0014144821946202697, 0.0014144821946202697, 0.002864009417072023, 0.002864009417072023, 0.002864009417072023, 0.993811267723992, 0.002864009417072023, 0.001246171335913109, 0.001246171335913109, 0.9969370687304872, 0.001246171335913109, 0.001246171335913109, 0.0015913244415647104, 0.9961691004195088, 0.0015913244415647104, 0.0015913244415647104, 0.0015913244415647104, 0.003526776983733836, 0.003526776983733836, 0.003526776983733836, 0.003526776983733836, 0.9910243324292078, 0.0015204770318785464, 0.0015204770318785464, 0.9959124558804479, 0.0015204770318785464, 0.0015204770318785464, 0.002236693284403683, 0.995328511559639, 0.002236693284403683, 0.002236693284403683, 0.002236693284403683, 0.0016121854882894437, 0.0016121854882894437, 0.0016121854882894437, 0.0016121854882894437, 0.9963306317628762, 0.0035497275807649426, 0.0035497275807649426, 0.0035497275807649426, 0.0035497275807649426, 0.9903739950334189, 0.9972863878411026, 0.00106775844522602, 0.00106775844522602, 0.00106775844522602, 0.00106775844522602, 0.9968536632155048, 0.001165910717211117, 0.001165910717211117, 0.001165910717211117, 0.001165910717211117, 0.32961532969632934, 0.11391388205781727, 0.35974738882130036, 0.10913684829410235, 0.08782392842522041, 0.0009465128286260174, 0.9976245213718223, 0.0009465128286260174, 0.0009465128286260174, 0.0009465128286260174, 0.003224458285140693, 0.003224458285140693, 0.003224458285140693, 0.9931331518233334, 0.003224458285140693, 0.0003200834927569304, 0.9993006643871366, 0.0003200834927569304, 0.0003200834927569304, 0.0003200834927569304, 0.002778454820844772, 0.002778454820844772, 0.002778454820844772, 0.9946868258624283, 0.002778454820844772, 0.0004541010059315322, 0.20207494763953182, 0.7969472654098391, 0.0004541010059315322, 0.0004541010059315322, 0.0016566284431845275, 0.995633694353901, 0.0016566284431845275, 0.0016566284431845275, 0.0016566284431845275, 0.9969418981579278, 0.0011316026085788056, 0.0011316026085788056, 0.0011316026085788056, 0.0011316026085788056, 0.0023950128758012073, 0.0023950128758012073, 0.0023950128758012073, 0.993930343457501, 0.0023950128758012073, 0.9977283145071779, 0.0009145080792916388, 0.0009145080792916388, 0.0009145080792916388, 0.0009145080792916388, 0.001102003207276278, 0.9973129025850316, 0.001102003207276278, 0.001102003207276278, 0.001102003207276278, 0.0017410101532539858, 0.9958578076612798, 0.0017410101532539858, 0.0017410101532539858, 0.0017410101532539858, 0.9988640238615696, 0.0005527747780086162, 0.0005527747780086162, 0.0005527747780086162, 0.0005527747780086162, 0.0016232008204744544, 0.0016232008204744544, 0.0016232008204744544, 0.996645303771315, 0.0016232008204744544, 0.0019157144948127429, 0.0019157144948127429, 0.0019157144948127429, 0.9961715373026263, 0.0019157144948127429, 0.1498416160944598, 0.42222451243180087, 0.2509769511809896, 0.0003102310892224841, 0.17652148976759346, 0.996715713172965, 0.0013901195441742887, 0.0013901195441742887, 0.0013901195441742887, 0.0013901195441742887, 0.7481154601895535, 0.0006057615062263591, 0.12781567781376177, 0.0769317112907476, 0.047249397485656014, 0.6030209482102189, 0.12200351308966721, 0.16223406220884062, 0.1128204529646385, 0.0004372885773823197, 0.0026399124387771126, 0.0026399124387771126, 0.0026399124387771126, 0.9952469894189714, 0.0026399124387771126, 0.4432248573413397, 0.12644452533964257, 0.37966808534522306, 0.05051090827059796, 0.00033450932629535074, 0.0020776690528103757, 0.0020776690528103757, 0.0020776690528103757, 0.0020776690528103757, 0.9952034762961699, 0.0008331006985184383, 0.9980546368250891, 0.0008331006985184383, 0.0008331006985184383, 0.0008331006985184383, 0.5526765712093221, 0.262268108129882, 0.10017966362042703, 0.08442106484867447, 0.0003752047326607754, 0.1394293120337884, 0.2051121004576971, 0.5389507371568939, 0.00014661336701765338, 0.1164110134120168, 0.0016959013231994638, 0.0016959013231994638, 0.9954940767180852, 0.0016959013231994638, 0.0016959013231994638, 0.00041056767011632774, 0.00041056767011632774, 0.9989111413930255, 0.00041056767011632774, 0.00041056767011632774, 0.8496682703158827, 0.14957002993484417, 0.00039464387845605326, 0.00039464387845605326, 0.00039464387845605326, 0.6960085760685841, 0.1333728286291822, 0.06520449399648907, 0.10472236914587639, 0.0004939734393673415, 0.9983820706674188, 0.0007948901836524035, 0.0007948901836524035, 0.0007948901836524035, 0.0007948901836524035, 0.9979436278645339, 0.0010482601133030818, 0.0010482601133030818, 0.0010482601133030818, 0.0010482601133030818, 0.38129411661867235, 0.0004754290730906139, 0.618057795017798, 0.0004754290730906139, 0.0004754290730906139, 0.0022159579936590697, 0.0022159579936590697, 0.0022159579936590697, 0.0022159579936590697, 0.9949651391529224, 0.001451452806252741, 0.001451452806252741, 0.997148077895633, 0.001451452806252741, 0.001451452806252741, 0.3808760891737745, 0.31787599480803697, 0.17697536881993506, 0.08208311050141744, 0.042087199970472, 0.0024659282070114592, 0.0024659282070114592, 0.0024659282070114592, 0.9937690674256181, 0.0024659282070114592, 0.0032087440688297665, 0.0032087440688297665, 0.0032087440688297665, 0.0032087440688297665, 0.9915019172683979, 0.0033863635798028475, 0.0033863635798028475, 0.0033863635798028475, 0.0033863635798028475, 0.9922045288822343, 0.4810913775161114, 0.31184884011052877, 0.20653326598647373, 0.00040978822616363834, 0.00040978822616363834, 0.0022349193623890334, 0.9945391162631199, 0.0022349193623890334, 0.0022349193623890334, 0.0022349193623890334, 0.9976457086266879, 0.0013591903387284575, 0.0013591903387284575, 0.0013591903387284575, 0.0013591903387284575, 0.0018177102813411745, 0.0018177102813411745, 0.9961052341749635, 0.0018177102813411745, 0.0018177102813411745, 0.003335720468371145, 0.003335720468371145, 0.003335720468371145, 0.9940446995746013, 0.003335720468371145, 0.001320022716350403, 0.001320022716350403, 0.001320022716350403, 0.9966171508445542, 0.001320022716350403, 0.6096491346041175, 0.1757637537985512, 0.18379866825791352, 0.0003347881024734308, 0.030465717325082207, 0.6175850108477438, 0.08666852847398633, 0.29559133883511896, 0.0005739637647283863, 0.0005739637647283863, 0.9988084274213885, 0.0005093362709950986, 0.0005093362709950986, 0.0005093362709950986, 0.0005093362709950986, 0.5181892509386773, 0.36173009106736936, 0.11985033137774286, 0.0004358193868281559, 0.0004358193868281559, 0.0016075509393020239, 0.0016075509393020239, 0.0016075509393020239, 0.0016075509393020239, 0.9966815823672548, 0.9992492335551245, 0.0003426780636334446, 0.0003426780636334446, 0.0003426780636334446, 0.0003426780636334446, 0.0030049288562639803, 0.0030049288562639803, 0.0030049288562639803, 0.0030049288562639803, 0.9946314514233775, 0.0018836519410587713, 0.99645187682009, 0.0018836519410587713, 0.0018836519410587713, 0.0018836519410587713, 0.544828276472587, 0.0005710988222983092, 0.1673319549334046, 0.0005710988222983092, 0.28726270761604955, 0.3117379628546515, 0.10910828699912803, 0.5783559574013929, 0.0004101815300719099, 0.0004101815300719099, 0.9972433798841216, 0.0013191049998467217, 0.0013191049998467217, 0.0013191049998467217, 0.0013191049998467217, 0.0029753931751778243, 0.0029753931751778243, 0.0029753931751778243, 0.0029753931751778243, 0.9937813205093933, 0.7481939473344297, 0.25060164066124235, 0.0007221949298594881, 0.0007221949298594881, 0.0007221949298594881, 0.9974114322606585, 0.0014008587531750822, 0.0014008587531750822, 0.0014008587531750822, 0.0014008587531750822, 0.0005865313436892598, 0.9988628783028095, 0.0005865313436892598, 0.0005865313436892598, 0.0005865313436892598, 0.6572528413393781, 0.23250531919684642, 0.11001471201021513, 0.0005670861443825522, 0.0005670861443825522, 0.001678694895740193, 0.9954660731739345, 0.001678694895740193, 0.001678694895740193, 0.001678694895740193, 0.001360568018167364, 0.9972963573166779, 0.001360568018167364, 0.001360568018167364, 0.001360568018167364, 0.0014789183047675268, 0.0014789183047675268, 0.996790937413313, 0.0014789183047675268, 0.0014789183047675268, 0.0008052848153239315, 0.0008052848153239315, 0.9985531710016751, 0.0008052848153239315, 0.0008052848153239315, 0.001982764871842092, 0.9953479656647302, 0.001982764871842092, 0.001982764871842092, 0.001982764871842092, 0.501614332971856, 0.49747446227332626, 0.0006899784497549601, 0.0006899784497549601, 0.0006899784497549601, 0.736560893155145, 0.06434639772916693, 0.1337127271960703, 0.06525911259057357, 0.0004563574307033116, 0.46182801151651437, 0.5371616587851656, 0.0006550751936404459, 0.0006550751936404459, 0.0006550751936404459, 0.00047207978872313116, 0.00047207978872313116, 0.9989208329381456, 0.00047207978872313116, 0.00047207978872313116, 0.0013767325541477874, 0.9967543692029981, 0.0013767325541477874, 0.0013767325541477874, 0.0013767325541477874, 0.0025693211890906982, 0.0025693211890906982, 0.0025693211890906982, 0.0025693211890906982, 0.9943273001781002, 0.670581884936851, 0.14472030734092162, 0.1845684103990786, 0.0001667284646784811, 0.0001667284646784811, 0.3637211512644156, 0.3902513999448789, 0.24561875391267596, 0.00042790723678166545, 0.00042790723678166545, 0.0019358768001042643, 0.9950406752535919, 0.0019358768001042643, 0.0019358768001042643, 0.0019358768001042643, 0.42361011343293625, 0.263671833739646, 0.279891989463258, 0.0003772129238049299, 0.0328175243710289, 0.2980543164569856, 0.00045228272603487955, 0.7014905080800982, 0.00045228272603487955, 0.00045228272603487955, 0.4860294205547845, 0.21346356525081378, 0.23188957332620977, 0.039285639858863124, 0.028855823967129553, 0.9966755540109999, 0.0013062589174456093, 0.0013062589174456093, 0.0013062589174456093, 0.0013062589174456093, 0.997221764822284, 0.0011488730009473317, 0.0011488730009473317, 0.0011488730009473317, 0.0011488730009473317, 0.0010818131809979777, 0.0010818131809979777, 0.9974317528801354, 0.0010818131809979777, 0.0010818131809979777, 0.0007563306563408321, 0.0007563306563408321, 0.0007563306563408321, 0.0007563306563408321, 0.9983564663698983, 0.001937246550191814, 0.001937246550191814, 0.001937246550191814, 0.9957447267985924, 0.001937246550191814, 0.001272049732908445, 0.997286990600221, 0.001272049732908445, 0.001272049732908445, 0.001272049732908445, 0.0008616799963697393, 0.0008616799963697393, 0.9978254357961581, 0.0008616799963697393, 0.0008616799963697393, 0.0007469969177104675, 0.0007469969177104675, 0.9979878820611845, 0.0007469969177104675, 0.0007469969177104675, 0.0008314534085582652, 0.0008314534085582652, 0.9977440902699183, 0.0008314534085582652, 0.0008314534085582652, 0.0028461249608468663, 0.0028461249608468663, 0.0028461249608468663, 0.9932976113355563, 0.0028461249608468663, 0.8665216378159432, 0.0008779347900870751, 0.13169021851306126, 0.0008779347900870751, 0.0008779347900870751, 0.9979649291995507, 0.0011289196031669126, 0.0011289196031669126, 0.0011289196031669126, 0.0011289196031669126, 0.0017765373183454714, 0.9966374355918095, 0.0017765373183454714, 0.0017765373183454714, 0.0017765373183454714, 0.9968552091133721, 0.0012862647859527383, 0.0012862647859527383, 0.0012862647859527383, 0.0012862647859527383, 0.0014224244578627662, 0.0014224244578627662, 0.0014224244578627662, 0.997119544961799, 0.0014224244578627662, 0.0018716847302120627, 0.0018716847302120627, 0.9957362764728173, 0.0018716847302120627, 0.0018716847302120627, 0.003058824247398268, 0.003058824247398268, 0.003058824247398268, 0.003058824247398268, 0.994117880404437, 0.6400972476302738, 0.21757000042605365, 0.0005255314019952987, 0.14189347853873066, 0.0005255314019952987, 0.0035550888743969638, 0.0035550888743969638, 0.0035550888743969638, 0.0035550888743969638, 0.9918697959567528, 0.002770137114286243, 0.002770137114286243, 0.002770137114286243, 0.002770137114286243, 0.9944792240287612, 0.0028573504836016876, 0.0028573504836016876, 0.0028573504836016876, 0.9943579682933872, 0.0028573504836016876, 0.0009564305818543035, 0.9975570968740386, 0.0009564305818543035, 0.0009564305818543035, 0.0009564305818543035, 0.0026424155246783667, 0.0026424155246783667, 0.0026424155246783667, 0.9935482372790659, 0.0026424155246783667, 0.0020256718513591994, 0.0020256718513591994, 0.0020256718513591994, 0.0020256718513591994, 0.9946048790173669, 0.3722916570324381, 0.0005540054420125566, 0.3429293686057726, 0.22215618224703523, 0.06260261494741891, 0.33296460121517923, 0.09673679724020771, 0.5700561265940812, 0.000431860701965213, 0.000431860701965213, 0.0009746859929221544, 0.0009746859929221544, 0.9980784567522861, 0.0009746859929221544, 0.0009746859929221544, 0.0019483221323575767, 0.0019483221323575767, 0.0019483221323575767, 0.9955926096347217, 0.0019483221323575767, 0.0008359950104222791, 0.9981780424442013, 0.0008359950104222791, 0.0008359950104222791, 0.0008359950104222791, 0.0008510472867694147, 0.0008510472867694147, 0.9982784673805235, 0.0008510472867694147, 0.0008510472867694147, 0.9984921074803556, 0.000871284561501183, 0.000871284561501183, 0.000871284561501183, 0.000871284561501183, 0.002811060737329295, 0.002811060737329295, 0.002811060737329295, 0.002811060737329295, 0.9923044402772412, 0.001310453845311786, 0.997255376282269, 0.001310453845311786, 0.001310453845311786, 0.001310453845311786, 0.3856769040193328, 0.07749582650855752, 0.3716195215363851, 0.07857716362263041, 0.08650696912583165, 0.001603134687866778, 0.001603134687866778, 0.997149775853136, 0.001603134687866778, 0.001603134687866778, 0.0009358777833880815, 0.9976457170916949, 0.0009358777833880815, 0.0009358777833880815, 0.0009358777833880815, 0.0027478416893938003, 0.0027478416893938003, 0.0027478416893938003, 0.9947186915605557, 0.0027478416893938003, 0.0019980167907219415, 0.0019980167907219415, 0.0019980167907219415, 0.0019980167907219415, 0.995012361779527, 0.9969657631331487, 0.0013222357601235394, 0.0013222357601235394, 0.0013222357601235394, 0.0013222357601235394, 0.0031400997681610768, 0.0031400997681610768, 0.0031400997681610768, 0.9922715267389002, 0.0031400997681610768, 0.5489154729352871, 0.0011531837666707713, 0.0011531837666707713, 0.0011531837666707713, 0.4497416690016008, 0.0015792198010429583, 0.9964876944581067, 0.0015792198010429583, 0.0015792198010429583, 0.0015792198010429583, 0.0017392121610733942, 0.0017392121610733942, 0.0017392121610733942, 0.9965685682950548, 0.0017392121610733942, 0.0010228602494860982, 0.0010228602494860982, 0.9972887432489457, 0.0010228602494860982, 0.0010228602494860982, 0.0016809980555036387, 0.0016809980555036387, 0.9968318469136578, 0.0016809980555036387, 0.0016809980555036387, 0.9977510308124188, 0.0011198103600588314, 0.0011198103600588314, 0.0011198103600588314, 0.0011198103600588314, 0.001049852834269217, 0.001049852834269217, 0.001049852834269217, 0.001049852834269217, 0.9973601925557561, 0.002079418076325185, 0.002079418076325185, 0.002079418076325185, 0.9960412585597636, 0.002079418076325185, 0.002109878346838656, 0.002109878346838656, 0.002109878346838656, 0.002109878346838656, 0.9958625797078456, 0.4224444550332856, 0.15059362517390273, 0.4267471300382542, 0.00019557613658948407, 0.00019557613658948407, 0.9985925969836976, 0.0007675577225086069, 0.0007675577225086069, 0.0007675577225086069, 0.0007675577225086069, 0.0020787830806499826, 0.0020787830806499826, 0.0020787830806499826, 0.0020787830806499826, 0.9957370956313416, 0.0008054548103294831, 0.6798038599180838, 0.3181546500801458, 0.0008054548103294831, 0.0008054548103294831, 0.30231918383631246, 0.0017374665737719109, 0.0017374665737719109, 0.0017374665737719109, 0.6949866295087643, 0.0011809240934232388, 0.0011809240934232388, 0.9978808589426368, 0.0011809240934232388, 0.0011809240934232388, 0.0008934120839459522, 0.8371271226573572, 0.0008934120839459522, 0.0008934120839459522, 0.16170758719421735, 0.0008383869115375921, 0.0008383869115375921, 0.9985188116412723, 0.0008383869115375921, 0.0008383869115375921, 0.9981259748037782, 0.0007099046762473528, 0.0007099046762473528, 0.0007099046762473528, 0.0007099046762473528, 0.0014969590329567365, 0.0014969590329567365, 0.9969747159491865, 0.0014969590329567365, 0.0014969590329567365, 0.003726322980949718, 0.003726322980949718, 0.003726322980949718, 0.9912019129326249, 0.003726322980949718, 0.0008435242765801538, 0.0008435242765801538, 0.9978892191943218, 0.0008435242765801538, 0.0008435242765801538, 0.0027913564946264774, 0.0027913564946264774, 0.0027913564946264774, 0.9937229120870259, 0.0027913564946264774, 0.001693958705998061, 0.001693958705998061, 0.001693958705998061, 0.9960477191268599, 0.001693958705998061, 0.0032370973310568776, 0.0032370973310568776, 0.0032370973310568776, 0.9937888806344614, 0.0032370973310568776, 0.0010542705876999906, 0.0010542705876999906, 0.997339975964191, 0.0010542705876999906, 0.0010542705876999906, 0.0006068742674181898, 0.0006068742674181898, 0.9188076408711394, 0.08010740329920106, 0.0006068742674181898, 0.0008114987611570028, 0.0008114987611570028, 0.9981434762231135, 0.0008114987611570028, 0.0008114987611570028, 0.0033588728094487742, 0.0033588728094487742, 0.0033588728094487742, 0.9908674787873885, 0.0033588728094487742, 0.9970051515235445, 0.0012431485679844695, 0.0012431485679844695, 0.0012431485679844695, 0.0012431485679844695, 0.0015457147666775787, 0.9969860245070382, 0.0015457147666775787, 0.0015457147666775787, 0.0015457147666775787, 0.0007433320693016341, 0.0007433320693016341, 0.9982949690720945, 0.0007433320693016341, 0.0007433320693016341, 0.001959428094916244, 0.9953894722174521, 0.001959428094916244, 0.001959428094916244, 0.001959428094916244, 0.3466575460128203, 0.6528921272962304, 0.00040831277504454686, 0.00040831277504454686, 0.00040831277504454686, 0.9981014110315265, 0.001106542584292158, 0.001106542584292158, 0.001106542584292158, 0.001106542584292158, 0.6978811203301558, 0.15005513363585066, 0.06397837645519049, 0.08393820420722763, 0.004098893199079056, 0.9066927044299213, 0.0007939515800612271, 0.09209838328710235, 0.0007939515800612271, 0.0007939515800612271, 0.0025437329382690943, 0.0025437329382690943, 0.0025437329382690943, 0.9945995788632158, 0.0025437329382690943, 0.9516996647039178, 0.04629308323786025, 0.001076583331113029, 0.001076583331113029, 0.001076583331113029], \"Term\": [\"accepted\", \"accepted\", \"accepted\", \"accepted\", \"accepted\", \"afternoon\", \"afternoon\", \"afternoon\", \"afternoon\", \"afternoon\", \"amazing\", \"amazing\", \"amazing\", \"amazing\", \"amazing\", \"ate\", \"ate\", \"ate\", \"ate\", \"ate\", \"attended\", \"attended\", \"attended\", \"attended\", \"attended\", \"award\", \"award\", \"award\", \"award\", \"award\", \"baby\", \"baby\", \"baby\", \"baby\", \"baby\", \"beach\", \"beach\", \"beach\", \"beach\", \"beach\", \"beat\", \"beat\", \"beat\", \"beat\", \"beat\", \"best\", \"best\", \"best\", \"best\", \"best\", \"birthday\", \"birthday\", \"birthday\", \"birthday\", \"birthday\", \"bonus\", \"bonus\", \"bonus\", \"bonus\", \"bonus\", \"book\", \"book\", \"book\", \"book\", \"book\", \"born\", \"born\", \"born\", \"born\", \"born\", \"bought\", \"bought\", \"bought\", \"bought\", \"bought\", \"boyfriend\", \"boyfriend\", \"boyfriend\", \"boyfriend\", \"boyfriend\", \"breakfast\", \"breakfast\", \"breakfast\", \"breakfast\", \"breakfast\", \"brother\", \"brother\", \"brother\", \"brother\", \"brother\", \"brought\", \"brought\", \"brought\", \"brought\", \"brought\", \"business\", \"business\", \"business\", \"business\", \"business\", \"buy\", \"buy\", \"buy\", \"buy\", \"buy\", \"called\", \"called\", \"called\", \"called\", \"called\", \"car\", \"car\", \"car\", \"car\", \"car\", \"card\", \"card\", \"card\", \"card\", \"card\", \"cat\", \"cat\", \"cat\", \"cat\", \"cat\", \"celebrate\", \"celebrate\", \"celebrate\", \"celebrate\", \"celebrate\", \"celebrated\", \"celebrated\", \"celebrated\", \"celebrated\", \"celebrated\", \"celebration\", \"celebration\", \"celebration\", \"celebration\", \"celebration\", \"class\", \"class\", \"class\", \"class\", \"class\", \"close\", \"close\", \"close\", \"close\", \"close\", \"coffee\", \"coffee\", \"coffee\", \"coffee\", \"coffee\", \"college\", \"college\", \"college\", \"college\", \"college\", \"company\", \"company\", \"company\", \"company\", \"company\", \"complete\", \"complete\", \"complete\", \"complete\", \"complete\", \"completed\", \"completed\", \"completed\", \"completed\", \"completed\", \"cooked\", \"cooked\", \"cooked\", \"cooked\", \"cooked\", \"cooking\", \"cooking\", \"cooking\", \"cooking\", \"cooking\", \"cousin\", \"cousin\", \"cousin\", \"cousin\", \"cousin\", \"coworker\", \"coworker\", \"coworker\", \"coworker\", \"coworker\", \"cream\", \"cream\", \"cream\", \"cream\", \"cream\", \"cup\", \"cup\", \"cup\", \"cup\", \"cup\", \"dad\", \"dad\", \"dad\", \"dad\", \"dad\", \"date\", \"date\", \"date\", \"date\", \"date\", \"daughter\", \"daughter\", \"daughter\", \"daughter\", \"daughter\", \"delicious\", \"delicious\", \"delicious\", \"delicious\", \"delicious\", \"different\", \"different\", \"different\", \"different\", \"different\", \"dinner\", \"dinner\", \"dinner\", \"dinner\", \"dinner\", \"doctor\", \"doctor\", \"doctor\", \"doctor\", \"doctor\", \"dog\", \"dog\", \"dog\", \"dog\", \"dog\", \"dollar\", \"dollar\", \"dollar\", \"dollar\", \"dollar\", \"done\", \"done\", \"done\", \"done\", \"done\", \"drive\", \"drive\", \"drive\", \"drive\", \"drive\", \"early\", \"early\", \"early\", \"early\", \"early\", \"eat\", \"eat\", \"eat\", \"eat\", \"eat\", \"eating\", \"eating\", \"eating\", \"eating\", \"eating\", \"event\", \"event\", \"event\", \"event\", \"event\", \"exam\", \"exam\", \"exam\", \"exam\", \"exam\", \"extra\", \"extra\", \"extra\", \"extra\", \"extra\", \"family\", \"family\", \"family\", \"family\", \"family\", \"father\", \"father\", \"father\", \"father\", \"father\", \"feel\", \"feel\", \"feel\", \"feel\", \"feel\", \"finally\", \"finally\", \"finally\", \"finally\", \"finally\", \"finding\", \"finding\", \"finding\", \"finding\", \"finding\", \"first\", \"first\", \"first\", \"first\", \"first\", \"flower\", \"flower\", \"flower\", \"flower\", \"flower\", \"food\", \"food\", \"food\", \"food\", \"food\", \"found\", \"found\", \"found\", \"found\", \"found\", \"friend\", \"friend\", \"friend\", \"friend\", \"friend\", \"funny\", \"funny\", \"funny\", \"funny\", \"funny\", \"game\", \"game\", \"game\", \"game\", \"game\", \"get\", \"get\", \"get\", \"get\", \"get\", \"getting\", \"getting\", \"getting\", \"getting\", \"getting\", \"gift\", \"gift\", \"gift\", \"gift\", \"gift\", \"girl\", \"girl\", \"girl\", \"girl\", \"girl\", \"girlfriend\", \"girlfriend\", \"girlfriend\", \"girlfriend\", \"girlfriend\", \"given\", \"given\", \"given\", \"given\", \"given\", \"goal\", \"goal\", \"goal\", \"goal\", \"goal\", \"good\", \"good\", \"good\", \"good\", \"good\", \"grade\", \"grade\", \"grade\", \"grade\", \"grade\", \"graduated\", \"graduated\", \"graduated\", \"graduated\", \"graduated\", \"graduation\", \"graduation\", \"graduation\", \"graduation\", \"graduation\", \"great\", \"great\", \"great\", \"great\", \"great\", \"grocery\", \"grocery\", \"grocery\", \"grocery\", \"grocery\", \"gym\", \"gym\", \"gym\", \"gym\", \"gym\", \"hadnt\", \"hadnt\", \"hadnt\", \"hadnt\", \"hadnt\", \"hang\", \"hang\", \"hang\", \"hang\", \"hang\", \"hit\", \"hit\", \"hit\", \"hit\", \"hit\", \"home\", \"home\", \"home\", \"home\", \"home\", \"hour\", \"hour\", \"hour\", \"hour\", \"hour\", \"house\", \"house\", \"house\", \"house\", \"house\", \"husband\", \"husband\", \"husband\", \"husband\", \"husband\", \"ice\", \"ice\", \"ice\", \"ice\", \"ice\", \"job\", \"job\", \"job\", \"job\", \"job\", \"late\", \"late\", \"late\", \"late\", \"late\", \"learned\", \"learned\", \"learned\", \"learned\", \"learned\", \"life\", \"life\", \"life\", \"life\", \"life\", \"long\", \"long\", \"long\", \"long\", \"long\", \"lost\", \"lost\", \"lost\", \"lost\", \"lost\", \"lottery\", \"lottery\", \"lottery\", \"lottery\", \"lottery\", \"love\", \"love\", \"love\", \"love\", \"love\", \"loved\", \"loved\", \"loved\", \"loved\", \"loved\", \"lunch\", \"lunch\", \"lunch\", \"lunch\", \"lunch\", \"make\", \"make\", \"make\", \"make\", \"make\", \"marriage\", \"marriage\", \"marriage\", \"marriage\", \"marriage\", \"meal\", \"meal\", \"meal\", \"meal\", \"meal\", \"meet\", \"meet\", \"meet\", \"meet\", \"meet\", \"met\", \"met\", \"met\", \"met\", \"met\", \"mine\", \"mine\", \"mine\", \"mine\", \"mine\", \"money\", \"money\", \"money\", \"money\", \"money\", \"morning\", \"morning\", \"morning\", \"morning\", \"morning\", \"mother\", \"mother\", \"mother\", \"mother\", \"mother\", \"movie\", \"movie\", \"movie\", \"movie\", \"movie\", \"mturk\", \"mturk\", \"mturk\", \"mturk\", \"mturk\", \"nap\", \"nap\", \"nap\", \"nap\", \"nap\", \"new\", \"new\", \"new\", \"new\", \"new\", \"nice\", \"nice\", \"nice\", \"nice\", \"nice\", \"niece\", \"niece\", \"niece\", \"niece\", \"niece\", \"night\", \"night\", \"night\", \"night\", \"night\", \"old\", \"old\", \"old\", \"old\", \"old\", \"one\", \"one\", \"one\", \"one\", \"one\", \"online\", \"online\", \"online\", \"online\", \"online\", \"paid\", \"paid\", \"paid\", \"paid\", \"paid\", \"park\", \"park\", \"park\", \"park\", \"park\", \"party\", \"party\", \"party\", \"party\", \"party\", \"passed\", \"passed\", \"passed\", \"passed\", \"passed\", \"pizza\", \"pizza\", \"pizza\", \"pizza\", \"pizza\", \"play\", \"play\", \"play\", \"play\", \"play\", \"played\", \"played\", \"played\", \"played\", \"played\", \"playing\", \"playing\", \"playing\", \"playing\", \"playing\", \"program\", \"program\", \"program\", \"program\", \"program\", \"project\", \"project\", \"project\", \"project\", \"project\", \"promotion\", \"promotion\", \"promotion\", \"promotion\", \"promotion\", \"puppy\", \"puppy\", \"puppy\", \"puppy\", \"puppy\", \"purchased\", \"purchased\", \"purchased\", \"purchased\", \"purchased\", \"raise\", \"raise\", \"raise\", \"raise\", \"raise\", \"read\", \"read\", \"read\", \"read\", \"read\", \"realized\", \"realized\", \"realized\", \"realized\", \"realized\", \"received\", \"received\", \"received\", \"received\", \"received\", \"recipe\", \"recipe\", \"recipe\", \"recipe\", \"recipe\", \"relative\", \"relative\", \"relative\", \"relative\", \"relative\", \"relaxing\", \"relaxing\", \"relaxing\", \"relaxing\", \"relaxing\", \"restaurant\", \"restaurant\", \"restaurant\", \"restaurant\", \"restaurant\", \"result\", \"result\", \"result\", \"result\", \"result\", \"room\", \"room\", \"room\", \"room\", \"room\", \"school\", \"school\", \"school\", \"school\", \"school\", \"see\", \"see\", \"see\", \"see\", \"see\", \"seen\", \"seen\", \"seen\", \"seen\", \"seen\", \"several\", \"several\", \"several\", \"several\", \"several\", \"shopping\", \"shopping\", \"shopping\", \"shopping\", \"shopping\", \"show\", \"show\", \"show\", \"show\", \"show\", \"sleep\", \"sleep\", \"sleep\", \"sleep\", \"sleep\", \"slept\", \"slept\", \"slept\", \"slept\", \"slept\", \"something\", \"something\", \"something\", \"something\", \"something\", \"son\", \"son\", \"son\", \"son\", \"son\", \"song\", \"song\", \"song\", \"song\", \"song\", \"spent\", \"spent\", \"spent\", \"spent\", \"spent\", \"spring\", \"spring\", \"spring\", \"spring\", \"spring\", \"state\", \"state\", \"state\", \"state\", \"state\", \"summer\", \"summer\", \"summer\", \"summer\", \"summer\", \"sun\", \"sun\", \"sun\", \"sun\", \"sun\", \"surprise\", \"surprise\", \"surprise\", \"surprise\", \"surprise\", \"surprised\", \"surprised\", \"surprised\", \"surprised\", \"surprised\", \"taking\", \"taking\", \"taking\", \"taking\", \"taking\", \"talked\", \"talked\", \"talked\", \"talked\", \"talked\", \"talking\", \"talking\", \"talking\", \"talking\", \"talking\", \"team\", \"team\", \"team\", \"team\", \"team\", \"temple\", \"temple\", \"temple\", \"temple\", \"temple\", \"test\", \"test\", \"test\", \"test\", \"test\", \"th\", \"th\", \"th\", \"th\", \"th\", \"time\", \"time\", \"time\", \"time\", \"time\", \"told\", \"told\", \"told\", \"told\", \"told\", \"tonight\", \"tonight\", \"tonight\", \"tonight\", \"tonight\", \"trip\", \"trip\", \"trip\", \"trip\", \"trip\", \"turned\", \"turned\", \"turned\", \"turned\", \"turned\", \"tv\", \"tv\", \"tv\", \"tv\", \"tv\", \"vacation\", \"vacation\", \"vacation\", \"vacation\", \"vacation\", \"video\", \"video\", \"video\", \"video\", \"video\", \"visit\", \"visit\", \"visit\", \"visit\", \"visit\", \"visited\", \"visited\", \"visited\", \"visited\", \"visited\", \"visiting\", \"visiting\", \"visiting\", \"visiting\", \"visiting\", \"walk\", \"walk\", \"walk\", \"walk\", \"walk\", \"walked\", \"walked\", \"walked\", \"walked\", \"walked\", \"want\", \"want\", \"want\", \"want\", \"want\", \"warm\", \"warm\", \"warm\", \"warm\", \"warm\", \"watch\", \"watch\", \"watch\", \"watch\", \"watch\", \"watched\", \"watched\", \"watched\", \"watched\", \"watched\", \"watching\", \"watching\", \"watching\", \"watching\", \"watching\", \"water\", \"water\", \"water\", \"water\", \"water\", \"weather\", \"weather\", \"weather\", \"weather\", \"weather\", \"wedding\", \"wedding\", \"wedding\", \"wedding\", \"wedding\", \"weekend\", \"weekend\", \"weekend\", \"weekend\", \"weekend\", \"whole\", \"whole\", \"whole\", \"whole\", \"whole\", \"wife\", \"wife\", \"wife\", \"wife\", \"wife\", \"woke\", \"woke\", \"woke\", \"woke\", \"woke\", \"work\", \"work\", \"work\", \"work\", \"work\", \"working\", \"working\", \"working\", \"working\", \"working\", \"workout\", \"workout\", \"workout\", \"workout\", \"workout\", \"would\", \"would\", \"would\", \"would\", \"would\"]}, \"R\": 30, \"lambda.step\": 0.01, \"plot.opts\": {\"xlab\": \"PC1\", \"ylab\": \"PC2\"}, \"topic.order\": [3, 4, 5, 1, 2]};\n",
       "\n",
       "function LDAvis_load_lib(url, callback){\n",
       "  var s = document.createElement('script');\n",
       "  s.src = url;\n",
       "  s.async = true;\n",
       "  s.onreadystatechange = s.onload = callback;\n",
       "  s.onerror = function(){console.warn(\"failed to load library \" + url);};\n",
       "  document.getElementsByTagName(\"head\")[0].appendChild(s);\n",
       "}\n",
       "\n",
       "if(typeof(LDAvis) !== \"undefined\"){\n",
       "   // already loaded: just create the visualization\n",
       "   !function(LDAvis){\n",
       "       new LDAvis(\"#\" + \"ldavis_el4741347377441128595756093\", ldavis_el4741347377441128595756093_data);\n",
       "   }(LDAvis);\n",
       "}else if(typeof define === \"function\" && define.amd){\n",
       "   // require.js is available: use it to load d3/LDAvis\n",
       "   require.config({paths: {d3: \"https://cdnjs.cloudflare.com/ajax/libs/d3/3.5.5/d3.min\"}});\n",
       "   require([\"d3\"], function(d3){\n",
       "      window.d3 = d3;\n",
       "      LDAvis_load_lib(\"https://cdn.rawgit.com/bmabey/pyLDAvis/files/ldavis.v1.0.0.js\", function(){\n",
       "        new LDAvis(\"#\" + \"ldavis_el4741347377441128595756093\", ldavis_el4741347377441128595756093_data);\n",
       "      });\n",
       "    });\n",
       "}else{\n",
       "    // require.js not available: dynamically load d3 & LDAvis\n",
       "    LDAvis_load_lib(\"https://cdnjs.cloudflare.com/ajax/libs/d3/3.5.5/d3.min.js\", function(){\n",
       "         LDAvis_load_lib(\"https://cdn.rawgit.com/bmabey/pyLDAvis/files/ldavis.v1.0.0.js\", function(){\n",
       "                 new LDAvis(\"#\" + \"ldavis_el4741347377441128595756093\", ldavis_el4741347377441128595756093_data);\n",
       "            })\n",
       "         });\n",
       "}\n",
       "</script>"
      ],
      "text/plain": [
       "PreparedData(topic_coordinates=              x         y  topics  cluster       Freq\n",
       "topic                                                \n",
       "2      0.202385 -0.045891       1        1  36.795137\n",
       "3      0.135301  0.044977       2        1  20.402656\n",
       "4      0.118216  0.018883       3        1  20.192159\n",
       "0     -0.221727 -0.260138       4        1  11.439556\n",
       "1     -0.234175  0.242168       5        1  11.170492, topic_info=      Category         Freq      Term        Total  loglift  logprob\n",
       "2167   Default  2522.000000  birthday  2522.000000  30.0000  30.0000\n",
       "5910   Default  3124.000000    dinner  3124.000000  29.0000  29.0000\n",
       "8694   Default  2435.000000      game  2435.000000  28.0000  28.0000\n",
       "8450   Default  6820.000000    friend  6820.000000  27.0000  27.0000\n",
       "14114  Default  2118.000000     movie  2118.000000  26.0000  26.0000\n",
       "...        ...          ...       ...          ...      ...      ...\n",
       "12381   Topic5   503.100000      life  1751.010440   0.9447  -5.1219\n",
       "7595    Topic5   569.053334    family  3223.403568   0.4577  -4.9987\n",
       "21275   Topic5   389.529161  surprise   867.164479   1.3916  -5.3778\n",
       "3978    Topic5   314.937490     close   502.282607   1.7251  -5.5903\n",
       "2023    Topic5   300.087170      best  1497.685065   0.5843  -5.6386\n",
       "\n",
       "[244 rows x 6 columns], token_table=       Topic      Freq      Term\n",
       "term                            \n",
       "89         1  0.002199  accepted\n",
       "89         2  0.002199  accepted\n",
       "89         3  0.002199  accepted\n",
       "89         4  0.994044  accepted\n",
       "89         5  0.002199  accepted\n",
       "...      ...       ...       ...\n",
       "24348      1  0.951700     would\n",
       "24348      2  0.046293     would\n",
       "24348      3  0.001077     would\n",
       "24348      4  0.001077     would\n",
       "24348      5  0.001077     would\n",
       "\n",
       "[990 rows x 3 columns], R=30, lambda_step=0.01, plot_opts={'xlab': 'PC1', 'ylab': 'PC2'}, topic_order=[3, 4, 5, 1, 2])"
      ]
     },
     "execution_count": 172,
     "metadata": {},
     "output_type": "execute_result"
    }
   ],
   "source": [
    "import pyLDAvis\n",
    "import pyLDAvis.sklearn\n",
    "pyLDAvis.enable_notebook()\n",
    "pyLDAvis.sklearn.prepare(best_lda_model, df_bow, bow_transformer)"
   ]
  },
  {
   "cell_type": "markdown",
   "metadata": {},
   "source": [
    "Although there's overlap between the blobs, this topic model is fairly good to identify different topics. And topic enjoy the moment and affection are separated distinctly from the other topics."
   ]
  },
  {
   "cell_type": "markdown",
   "metadata": {},
   "source": [
    "### Get dominant topic for each document"
   ]
  },
  {
   "cell_type": "code",
   "execution_count": 179,
   "metadata": {},
   "outputs": [],
   "source": [
    "# Create Document - Topic Matrix\n",
    "lda_output = best_lda_model.transform(df_bow)\n",
    "\n",
    "# column names\n",
    "topicnames = [\"Topic\" + str(i) for i in range(5)]\n",
    "\n",
    "# index names\n",
    "docnames = [\"Doc\" + str(i) for i in range(len(df))]\n",
    "\n",
    "# Make the pandas dataframe\n",
    "df_document_topic = pd.DataFrame(np.round(lda_output, 2), columns=topicnames, index=docnames)\n",
    "\n",
    "# Get dominant topic for each document\n",
    "dominant_topic = np.argmax(df_document_topic.values, axis=1)\n",
    "df_document_topic['dominant_topic'] = dominant_topic"
   ]
  },
  {
   "cell_type": "code",
   "execution_count": 180,
   "metadata": {},
   "outputs": [
    {
     "data": {
      "text/html": [
       "<div>\n",
       "<style scoped>\n",
       "    .dataframe tbody tr th:only-of-type {\n",
       "        vertical-align: middle;\n",
       "    }\n",
       "\n",
       "    .dataframe tbody tr th {\n",
       "        vertical-align: top;\n",
       "    }\n",
       "\n",
       "    .dataframe thead th {\n",
       "        text-align: right;\n",
       "    }\n",
       "</style>\n",
       "<table border=\"1\" class=\"dataframe\">\n",
       "  <thead>\n",
       "    <tr style=\"text-align: right;\">\n",
       "      <th></th>\n",
       "      <th>Topic0</th>\n",
       "      <th>Topic1</th>\n",
       "      <th>Topic2</th>\n",
       "      <th>Topic3</th>\n",
       "      <th>Topic4</th>\n",
       "      <th>dominant_topic</th>\n",
       "    </tr>\n",
       "  </thead>\n",
       "  <tbody>\n",
       "    <tr>\n",
       "      <th>Doc0</th>\n",
       "      <td>0.04</td>\n",
       "      <td>0.04</td>\n",
       "      <td>0.04</td>\n",
       "      <td>0.04</td>\n",
       "      <td>0.84</td>\n",
       "      <td>4</td>\n",
       "    </tr>\n",
       "    <tr>\n",
       "      <th>Doc1</th>\n",
       "      <td>0.05</td>\n",
       "      <td>0.05</td>\n",
       "      <td>0.05</td>\n",
       "      <td>0.05</td>\n",
       "      <td>0.80</td>\n",
       "      <td>4</td>\n",
       "    </tr>\n",
       "    <tr>\n",
       "      <th>Doc2</th>\n",
       "      <td>0.05</td>\n",
       "      <td>0.05</td>\n",
       "      <td>0.80</td>\n",
       "      <td>0.05</td>\n",
       "      <td>0.05</td>\n",
       "      <td>2</td>\n",
       "    </tr>\n",
       "    <tr>\n",
       "      <th>Doc3</th>\n",
       "      <td>0.55</td>\n",
       "      <td>0.02</td>\n",
       "      <td>0.02</td>\n",
       "      <td>0.39</td>\n",
       "      <td>0.02</td>\n",
       "      <td>0</td>\n",
       "    </tr>\n",
       "    <tr>\n",
       "      <th>Doc4</th>\n",
       "      <td>0.87</td>\n",
       "      <td>0.03</td>\n",
       "      <td>0.03</td>\n",
       "      <td>0.03</td>\n",
       "      <td>0.03</td>\n",
       "      <td>0</td>\n",
       "    </tr>\n",
       "  </tbody>\n",
       "</table>\n",
       "</div>"
      ],
      "text/plain": [
       "      Topic0  Topic1  Topic2  Topic3  Topic4  dominant_topic\n",
       "Doc0    0.04    0.04    0.04    0.04    0.84               4\n",
       "Doc1    0.05    0.05    0.05    0.05    0.80               4\n",
       "Doc2    0.05    0.05    0.80    0.05    0.05               2\n",
       "Doc3    0.55    0.02    0.02    0.39    0.02               0\n",
       "Doc4    0.87    0.03    0.03    0.03    0.03               0"
      ]
     },
     "execution_count": 180,
     "metadata": {},
     "output_type": "execute_result"
    }
   ],
   "source": [
    "df_document_topic.head()"
   ]
  },
  {
   "cell_type": "code",
   "execution_count": 181,
   "metadata": {},
   "outputs": [],
   "source": [
    "mapping = {0:'enjoy_the_moment', 1:'affection', 2:'achievement', 3:'bonding', 4:'leisure'}"
   ]
  },
  {
   "cell_type": "code",
   "execution_count": 182,
   "metadata": {},
   "outputs": [],
   "source": [
    "df_document_topic['dominant_topic'] = df_document_topic['dominant_topic'].map(mapping)"
   ]
  },
  {
   "cell_type": "code",
   "execution_count": 183,
   "metadata": {},
   "outputs": [
    {
     "data": {
      "text/html": [
       "<div>\n",
       "<style scoped>\n",
       "    .dataframe tbody tr th:only-of-type {\n",
       "        vertical-align: middle;\n",
       "    }\n",
       "\n",
       "    .dataframe tbody tr th {\n",
       "        vertical-align: top;\n",
       "    }\n",
       "\n",
       "    .dataframe thead th {\n",
       "        text-align: right;\n",
       "    }\n",
       "</style>\n",
       "<table border=\"1\" class=\"dataframe\">\n",
       "  <thead>\n",
       "    <tr style=\"text-align: right;\">\n",
       "      <th></th>\n",
       "      <th>Topic0</th>\n",
       "      <th>Topic1</th>\n",
       "      <th>Topic2</th>\n",
       "      <th>Topic3</th>\n",
       "      <th>Topic4</th>\n",
       "      <th>dominant_topic</th>\n",
       "    </tr>\n",
       "  </thead>\n",
       "  <tbody>\n",
       "    <tr>\n",
       "      <th>Doc0</th>\n",
       "      <td>0.04</td>\n",
       "      <td>0.04</td>\n",
       "      <td>0.04</td>\n",
       "      <td>0.04</td>\n",
       "      <td>0.84</td>\n",
       "      <td>leisure</td>\n",
       "    </tr>\n",
       "    <tr>\n",
       "      <th>Doc1</th>\n",
       "      <td>0.05</td>\n",
       "      <td>0.05</td>\n",
       "      <td>0.05</td>\n",
       "      <td>0.05</td>\n",
       "      <td>0.80</td>\n",
       "      <td>leisure</td>\n",
       "    </tr>\n",
       "    <tr>\n",
       "      <th>Doc2</th>\n",
       "      <td>0.05</td>\n",
       "      <td>0.05</td>\n",
       "      <td>0.80</td>\n",
       "      <td>0.05</td>\n",
       "      <td>0.05</td>\n",
       "      <td>achievement</td>\n",
       "    </tr>\n",
       "    <tr>\n",
       "      <th>Doc3</th>\n",
       "      <td>0.55</td>\n",
       "      <td>0.02</td>\n",
       "      <td>0.02</td>\n",
       "      <td>0.39</td>\n",
       "      <td>0.02</td>\n",
       "      <td>enjoy_the_moment</td>\n",
       "    </tr>\n",
       "    <tr>\n",
       "      <th>Doc4</th>\n",
       "      <td>0.87</td>\n",
       "      <td>0.03</td>\n",
       "      <td>0.03</td>\n",
       "      <td>0.03</td>\n",
       "      <td>0.03</td>\n",
       "      <td>enjoy_the_moment</td>\n",
       "    </tr>\n",
       "  </tbody>\n",
       "</table>\n",
       "</div>"
      ],
      "text/plain": [
       "      Topic0  Topic1  Topic2  Topic3  Topic4    dominant_topic\n",
       "Doc0    0.04    0.04    0.04    0.04    0.84           leisure\n",
       "Doc1    0.05    0.05    0.05    0.05    0.80           leisure\n",
       "Doc2    0.05    0.05    0.80    0.05    0.05       achievement\n",
       "Doc3    0.55    0.02    0.02    0.39    0.02  enjoy_the_moment\n",
       "Doc4    0.87    0.03    0.03    0.03    0.03  enjoy_the_moment"
      ]
     },
     "execution_count": 183,
     "metadata": {},
     "output_type": "execute_result"
    }
   ],
   "source": [
    "df_document_topic.head()"
   ]
  },
  {
   "cell_type": "code",
   "execution_count": 184,
   "metadata": {},
   "outputs": [],
   "source": [
    "df.reset_index(drop=True, inplace=True)\n",
    "df_document_topic.reset_index(drop=True, inplace=True)"
   ]
  },
  {
   "cell_type": "code",
   "execution_count": 185,
   "metadata": {},
   "outputs": [],
   "source": [
    "df = pd.concat([df, df_document_topic['dominant_topic']], axis=1)"
   ]
  },
  {
   "cell_type": "code",
   "execution_count": 186,
   "metadata": {},
   "outputs": [],
   "source": [
    "df = df.drop(columns='predicted_category')"
   ]
  },
  {
   "cell_type": "code",
   "execution_count": 187,
   "metadata": {},
   "outputs": [],
   "source": [
    "df = df.rename(columns={'dominant_topic': 'Topic'})"
   ]
  },
  {
   "cell_type": "code",
   "execution_count": 188,
   "metadata": {},
   "outputs": [
    {
     "data": {
      "text/html": [
       "<div>\n",
       "<style scoped>\n",
       "    .dataframe tbody tr th:only-of-type {\n",
       "        vertical-align: middle;\n",
       "    }\n",
       "\n",
       "    .dataframe tbody tr th {\n",
       "        vertical-align: top;\n",
       "    }\n",
       "\n",
       "    .dataframe thead th {\n",
       "        text-align: right;\n",
       "    }\n",
       "</style>\n",
       "<table border=\"1\" class=\"dataframe\">\n",
       "  <thead>\n",
       "    <tr style=\"text-align: right;\">\n",
       "      <th></th>\n",
       "      <th>hmid</th>\n",
       "      <th>wid</th>\n",
       "      <th>reflection_period</th>\n",
       "      <th>original_hm</th>\n",
       "      <th>cleaned_hm</th>\n",
       "      <th>modified</th>\n",
       "      <th>num_sentence</th>\n",
       "      <th>ground_truth_category</th>\n",
       "      <th>text</th>\n",
       "      <th>Topic</th>\n",
       "    </tr>\n",
       "  </thead>\n",
       "  <tbody>\n",
       "    <tr>\n",
       "      <th>0</th>\n",
       "      <td>27673</td>\n",
       "      <td>2053</td>\n",
       "      <td>24h</td>\n",
       "      <td>i went on a successful date with someone i fel...</td>\n",
       "      <td>i went on a successful date with someone i fel...</td>\n",
       "      <td>True</td>\n",
       "      <td>1</td>\n",
       "      <td>NaN</td>\n",
       "      <td>successful date sympathy connection</td>\n",
       "      <td>leisure</td>\n",
       "    </tr>\n",
       "    <tr>\n",
       "      <th>1</th>\n",
       "      <td>27674</td>\n",
       "      <td>2</td>\n",
       "      <td>24h</td>\n",
       "      <td>i was happy when my son got 90% marks in his e...</td>\n",
       "      <td>i was happy when my son got 90% marks in his e...</td>\n",
       "      <td>True</td>\n",
       "      <td>1</td>\n",
       "      <td>NaN</td>\n",
       "      <td>son mark examination</td>\n",
       "      <td>leisure</td>\n",
       "    </tr>\n",
       "    <tr>\n",
       "      <th>2</th>\n",
       "      <td>27675</td>\n",
       "      <td>1936</td>\n",
       "      <td>24h</td>\n",
       "      <td>i went to the gym this morning and did yoga.</td>\n",
       "      <td>i went to the gym this morning and did yoga.</td>\n",
       "      <td>True</td>\n",
       "      <td>1</td>\n",
       "      <td>NaN</td>\n",
       "      <td>gym morning yoga</td>\n",
       "      <td>achievement</td>\n",
       "    </tr>\n",
       "    <tr>\n",
       "      <th>3</th>\n",
       "      <td>27676</td>\n",
       "      <td>206</td>\n",
       "      <td>24h</td>\n",
       "      <td>we had a serious talk with some friends of our...</td>\n",
       "      <td>we had a serious talk with some friends of our...</td>\n",
       "      <td>True</td>\n",
       "      <td>2</td>\n",
       "      <td>bonding</td>\n",
       "      <td>serious talk friend flaky lately understood go...</td>\n",
       "      <td>enjoy_the_moment</td>\n",
       "    </tr>\n",
       "    <tr>\n",
       "      <th>4</th>\n",
       "      <td>27677</td>\n",
       "      <td>6227</td>\n",
       "      <td>24h</td>\n",
       "      <td>i went with grandchildren to butterfly display...</td>\n",
       "      <td>i went with grandchildren to butterfly display...</td>\n",
       "      <td>True</td>\n",
       "      <td>1</td>\n",
       "      <td>NaN</td>\n",
       "      <td>grandchild butterfly display crohn conservatory</td>\n",
       "      <td>enjoy_the_moment</td>\n",
       "    </tr>\n",
       "  </tbody>\n",
       "</table>\n",
       "</div>"
      ],
      "text/plain": [
       "    hmid   wid reflection_period  \\\n",
       "0  27673  2053               24h   \n",
       "1  27674     2               24h   \n",
       "2  27675  1936               24h   \n",
       "3  27676   206               24h   \n",
       "4  27677  6227               24h   \n",
       "\n",
       "                                         original_hm  \\\n",
       "0  i went on a successful date with someone i fel...   \n",
       "1  i was happy when my son got 90% marks in his e...   \n",
       "2       i went to the gym this morning and did yoga.   \n",
       "3  we had a serious talk with some friends of our...   \n",
       "4  i went with grandchildren to butterfly display...   \n",
       "\n",
       "                                          cleaned_hm  modified  num_sentence  \\\n",
       "0  i went on a successful date with someone i fel...      True             1   \n",
       "1  i was happy when my son got 90% marks in his e...      True             1   \n",
       "2       i went to the gym this morning and did yoga.      True             1   \n",
       "3  we had a serious talk with some friends of our...      True             2   \n",
       "4  i went with grandchildren to butterfly display...      True             1   \n",
       "\n",
       "  ground_truth_category                                               text  \\\n",
       "0                   NaN               successful date sympathy connection    \n",
       "1                   NaN                              son mark examination    \n",
       "2                   NaN                                  gym morning yoga    \n",
       "3               bonding  serious talk friend flaky lately understood go...   \n",
       "4                   NaN   grandchild butterfly display crohn conservatory    \n",
       "\n",
       "              Topic  \n",
       "0           leisure  \n",
       "1           leisure  \n",
       "2       achievement  \n",
       "3  enjoy_the_moment  \n",
       "4  enjoy_the_moment  "
      ]
     },
     "execution_count": 188,
     "metadata": {},
     "output_type": "execute_result"
    }
   ],
   "source": [
    "df.head()"
   ]
  },
  {
   "cell_type": "markdown",
   "metadata": {},
   "source": [
    "### Topics distribution across documents"
   ]
  },
  {
   "cell_type": "code",
   "execution_count": 189,
   "metadata": {},
   "outputs": [
    {
     "data": {
      "text/html": [
       "<div>\n",
       "<style scoped>\n",
       "    .dataframe tbody tr th:only-of-type {\n",
       "        vertical-align: middle;\n",
       "    }\n",
       "\n",
       "    .dataframe tbody tr th {\n",
       "        vertical-align: top;\n",
       "    }\n",
       "\n",
       "    .dataframe thead th {\n",
       "        text-align: right;\n",
       "    }\n",
       "</style>\n",
       "<table border=\"1\" class=\"dataframe\">\n",
       "  <thead>\n",
       "    <tr style=\"text-align: right;\">\n",
       "      <th></th>\n",
       "      <th>Topic Num</th>\n",
       "      <th>Num Documents</th>\n",
       "    </tr>\n",
       "  </thead>\n",
       "  <tbody>\n",
       "    <tr>\n",
       "      <th>0</th>\n",
       "      <td>bonding</td>\n",
       "      <td>30637</td>\n",
       "    </tr>\n",
       "    <tr>\n",
       "      <th>1</th>\n",
       "      <td>affection</td>\n",
       "      <td>25026</td>\n",
       "    </tr>\n",
       "    <tr>\n",
       "      <th>2</th>\n",
       "      <td>enjoy_the_moment</td>\n",
       "      <td>18532</td>\n",
       "    </tr>\n",
       "    <tr>\n",
       "      <th>3</th>\n",
       "      <td>achievement</td>\n",
       "      <td>16979</td>\n",
       "    </tr>\n",
       "    <tr>\n",
       "      <th>4</th>\n",
       "      <td>leisure</td>\n",
       "      <td>9348</td>\n",
       "    </tr>\n",
       "  </tbody>\n",
       "</table>\n",
       "</div>"
      ],
      "text/plain": [
       "          Topic Num  Num Documents\n",
       "0           bonding          30637\n",
       "1         affection          25026\n",
       "2  enjoy_the_moment          18532\n",
       "3       achievement          16979\n",
       "4           leisure           9348"
      ]
     },
     "execution_count": 189,
     "metadata": {},
     "output_type": "execute_result"
    }
   ],
   "source": [
    "df_topic_distribution = df_document_topic['dominant_topic'].value_counts().reset_index(name=\"Num Documents\")\n",
    "df_topic_distribution.columns = ['Topic Num', 'Num Documents']\n",
    "df_topic_distribution"
   ]
  },
  {
   "cell_type": "markdown",
   "metadata": {},
   "source": [
    "## Save data with topic "
   ]
  },
  {
   "cell_type": "code",
   "execution_count": null,
   "metadata": {},
   "outputs": [],
   "source": [
    "df.to_csv(r'./data/topic_data.csv', index=False)"
   ]
  }
 ],
 "metadata": {
  "kernelspec": {
   "display_name": "Python 3",
   "language": "python",
   "name": "python3"
  },
  "language_info": {
   "codemirror_mode": {
    "name": "ipython",
    "version": 3
   },
   "file_extension": ".py",
   "mimetype": "text/x-python",
   "name": "python",
   "nbconvert_exporter": "python",
   "pygments_lexer": "ipython3",
   "version": "3.7.3"
  },
  "varInspector": {
   "cols": {
    "lenName": 16,
    "lenType": 16,
    "lenVar": 40
   },
   "kernels_config": {
    "python": {
     "delete_cmd_postfix": "",
     "delete_cmd_prefix": "del ",
     "library": "var_list.py",
     "varRefreshCmd": "print(var_dic_list())"
    },
    "r": {
     "delete_cmd_postfix": ") ",
     "delete_cmd_prefix": "rm(",
     "library": "var_list.r",
     "varRefreshCmd": "cat(var_dic_list()) "
    }
   },
   "types_to_exclude": [
    "module",
    "function",
    "builtin_function_or_method",
    "instance",
    "_Feature"
   ],
   "window_display": true
  }
 },
 "nbformat": 4,
 "nbformat_minor": 2
}
