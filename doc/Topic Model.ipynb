{
 "cells": [
  {
   "cell_type": "markdown",
   "metadata": {},
   "source": [
    "# Topic Model\n",
    "## Read data"
   ]
  },
  {
   "cell_type": "code",
   "execution_count": 1,
   "metadata": {},
   "outputs": [],
   "source": [
    "import pandas as pd\n",
    "import numpy as np"
   ]
  },
  {
   "cell_type": "code",
<<<<<<< HEAD
   "execution_count": 39,
   "metadata": {},
   "outputs": [],
   "source": [
    "import matplotlib.pyplot as plt\n",
    "import seaborn as sns\n",
    "import missingno as msno\n",
    "plt.style.use('classic')\n",
    "sns.set_style('whitegrid')\n",
    "%matplotlib inline"
   ]
  },
  {
   "cell_type": "code",
   "execution_count": 275,
=======
   "execution_count": 26,
>>>>>>> d97702f2025b48f57c75da8097bfeefb5468c4a3
   "metadata": {},
   "outputs": [],
   "source": [
    "df = pd.read_csv('../data/processed_data.csv')"
   ]
  },
  {
   "cell_type": "code",
<<<<<<< HEAD
   "execution_count": 5,
=======
   "execution_count": 3,
>>>>>>> d97702f2025b48f57c75da8097bfeefb5468c4a3
   "metadata": {},
   "outputs": [
    {
     "data": {
      "text/html": [
       "<div>\n",
       "<style scoped>\n",
       "    .dataframe tbody tr th:only-of-type {\n",
       "        vertical-align: middle;\n",
       "    }\n",
       "\n",
       "    .dataframe tbody tr th {\n",
       "        vertical-align: top;\n",
       "    }\n",
       "\n",
       "    .dataframe thead th {\n",
       "        text-align: right;\n",
       "    }\n",
       "</style>\n",
       "<table border=\"1\" class=\"dataframe\">\n",
       "  <thead>\n",
       "    <tr style=\"text-align: right;\">\n",
       "      <th></th>\n",
       "      <th>hmid</th>\n",
       "      <th>wid</th>\n",
       "      <th>reflection_period</th>\n",
       "      <th>original_hm</th>\n",
       "      <th>cleaned_hm</th>\n",
       "      <th>modified</th>\n",
       "      <th>num_sentence</th>\n",
       "      <th>ground_truth_category</th>\n",
       "      <th>predicted_category</th>\n",
       "      <th>text</th>\n",
       "    </tr>\n",
       "  </thead>\n",
       "  <tbody>\n",
       "    <tr>\n",
       "      <th>0</th>\n",
       "      <td>27673</td>\n",
       "      <td>2053</td>\n",
       "      <td>24h</td>\n",
       "      <td>i went on a successful date with someone i fel...</td>\n",
       "      <td>i went on a successful date with someone i fel...</td>\n",
       "      <td>True</td>\n",
       "      <td>1</td>\n",
       "      <td>NaN</td>\n",
       "      <td>affection</td>\n",
       "      <td>successful date sympathy connection</td>\n",
       "    </tr>\n",
       "    <tr>\n",
       "      <th>1</th>\n",
       "      <td>27674</td>\n",
       "      <td>2</td>\n",
       "      <td>24h</td>\n",
       "      <td>i was happy when my son got 90% marks in his e...</td>\n",
       "      <td>i was happy when my son got 90% marks in his e...</td>\n",
       "      <td>True</td>\n",
       "      <td>1</td>\n",
       "      <td>NaN</td>\n",
       "      <td>affection</td>\n",
       "      <td>son mark examination</td>\n",
       "    </tr>\n",
       "    <tr>\n",
       "      <th>2</th>\n",
       "      <td>27675</td>\n",
       "      <td>1936</td>\n",
       "      <td>24h</td>\n",
       "      <td>i went to the gym this morning and did yoga.</td>\n",
       "      <td>i went to the gym this morning and did yoga.</td>\n",
       "      <td>True</td>\n",
       "      <td>1</td>\n",
       "      <td>NaN</td>\n",
       "      <td>exercise</td>\n",
       "      <td>gym morning yoga</td>\n",
       "    </tr>\n",
       "    <tr>\n",
       "      <th>3</th>\n",
       "      <td>27676</td>\n",
       "      <td>206</td>\n",
       "      <td>24h</td>\n",
       "      <td>we had a serious talk with some friends of our...</td>\n",
       "      <td>we had a serious talk with some friends of our...</td>\n",
       "      <td>True</td>\n",
       "      <td>2</td>\n",
       "      <td>bonding</td>\n",
       "      <td>bonding</td>\n",
       "      <td>serious talk friend flaky lately understood go...</td>\n",
       "    </tr>\n",
       "    <tr>\n",
       "      <th>4</th>\n",
       "      <td>27677</td>\n",
       "      <td>6227</td>\n",
       "      <td>24h</td>\n",
       "      <td>i went with grandchildren to butterfly display...</td>\n",
       "      <td>i went with grandchildren to butterfly display...</td>\n",
       "      <td>True</td>\n",
       "      <td>1</td>\n",
       "      <td>NaN</td>\n",
       "      <td>affection</td>\n",
       "      <td>grandchild butterfly display crohn conservatory</td>\n",
       "    </tr>\n",
       "  </tbody>\n",
       "</table>\n",
       "</div>"
      ],
      "text/plain": [
       "    hmid   wid reflection_period  \\\n",
       "0  27673  2053               24h   \n",
       "1  27674     2               24h   \n",
       "2  27675  1936               24h   \n",
       "3  27676   206               24h   \n",
       "4  27677  6227               24h   \n",
       "\n",
       "                                         original_hm  \\\n",
       "0  i went on a successful date with someone i fel...   \n",
       "1  i was happy when my son got 90% marks in his e...   \n",
       "2       i went to the gym this morning and did yoga.   \n",
       "3  we had a serious talk with some friends of our...   \n",
       "4  i went with grandchildren to butterfly display...   \n",
       "\n",
       "                                          cleaned_hm  modified  num_sentence  \\\n",
       "0  i went on a successful date with someone i fel...      True             1   \n",
       "1  i was happy when my son got 90% marks in his e...      True             1   \n",
       "2       i went to the gym this morning and did yoga.      True             1   \n",
       "3  we had a serious talk with some friends of our...      True             2   \n",
       "4  i went with grandchildren to butterfly display...      True             1   \n",
       "\n",
       "  ground_truth_category predicted_category  \\\n",
       "0                   NaN          affection   \n",
       "1                   NaN          affection   \n",
       "2                   NaN           exercise   \n",
       "3               bonding            bonding   \n",
       "4                   NaN          affection   \n",
       "\n",
       "                                                text  \n",
       "0               successful date sympathy connection   \n",
       "1                              son mark examination   \n",
       "2                                  gym morning yoga   \n",
       "3  serious talk friend flaky lately understood go...  \n",
       "4   grandchild butterfly display crohn conservatory   "
      ]
     },
<<<<<<< HEAD
     "execution_count": 5,
=======
     "execution_count": 3,
>>>>>>> d97702f2025b48f57c75da8097bfeefb5468c4a3
     "metadata": {},
     "output_type": "execute_result"
    }
   ],
   "source": [
    "df.head()"
   ]
  },
  {
   "cell_type": "code",
<<<<<<< HEAD
   "execution_count": 137,
=======
   "execution_count": 4,
>>>>>>> d97702f2025b48f57c75da8097bfeefb5468c4a3
   "metadata": {},
   "outputs": [
    {
     "name": "stdout",
     "output_type": "stream",
     "text": [
      "<class 'pandas.core.frame.DataFrame'>\n",
      "RangeIndex: 100535 entries, 0 to 100534\n",
      "Data columns (total 10 columns):\n",
      "hmid                     100535 non-null int64\n",
      "wid                      100535 non-null int64\n",
      "reflection_period        100535 non-null object\n",
      "original_hm              100535 non-null object\n",
      "cleaned_hm               100535 non-null object\n",
      "modified                 100535 non-null bool\n",
      "num_sentence             100535 non-null int64\n",
      "ground_truth_category    14125 non-null object\n",
      "predicted_category       100535 non-null object\n",
<<<<<<< HEAD
      "text                     100521 non-null object\n",
=======
      "text                     100522 non-null object\n",
>>>>>>> d97702f2025b48f57c75da8097bfeefb5468c4a3
      "dtypes: bool(1), int64(3), object(6)\n",
      "memory usage: 7.0+ MB\n"
     ]
    }
   ],
   "source": [
    "df.info()"
   ]
  },
  {
   "cell_type": "markdown",
   "metadata": {},
   "source": [
    "## Vectorization"
   ]
  },
  {
   "cell_type": "markdown",
   "metadata": {},
   "source": [
    "### CountVectorizer"
   ]
  },
  {
   "cell_type": "code",
<<<<<<< HEAD
   "execution_count": 76,
=======
   "execution_count": 27,
>>>>>>> d97702f2025b48f57c75da8097bfeefb5468c4a3
   "metadata": {},
   "outputs": [],
   "source": [
    "from sklearn.feature_extraction.text import CountVectorizer"
   ]
  },
  {
   "cell_type": "code",
<<<<<<< HEAD
   "execution_count": 276,
   "metadata": {},
   "outputs": [],
   "source": [
    "df = df[df['text'].isna() == False]"
=======
   "execution_count": 39,
   "metadata": {},
   "outputs": [],
   "source": [
    "%%capture\n",
    "df['text'].dropna(axis=0, how='any', inplace=True)"
>>>>>>> d97702f2025b48f57c75da8097bfeefb5468c4a3
   ]
  },
  {
   "cell_type": "code",
<<<<<<< HEAD
   "execution_count": 78,
=======
   "execution_count": 40,
>>>>>>> d97702f2025b48f57c75da8097bfeefb5468c4a3
   "metadata": {},
   "outputs": [
    {
     "name": "stdout",
     "output_type": "stream",
     "text": [
<<<<<<< HEAD
      "24675\n"
=======
      "24652\n"
>>>>>>> d97702f2025b48f57c75da8097bfeefb5468c4a3
     ]
    }
   ],
   "source": [
    "bow_transformer = CountVectorizer(analyzer='word').fit(df['text'])\n",
    "\n",
    "# Print total number of vocab words\n",
    "print(len(bow_transformer.vocabulary_))"
   ]
  },
  {
   "cell_type": "code",
<<<<<<< HEAD
   "execution_count": 79,
   "metadata": {},
   "outputs": [],
   "source": [
    "df_bow = bow_transformer.transform(df['text'])"
=======
   "execution_count": 41,
   "metadata": {},
   "outputs": [],
   "source": [
    "df_bow = bow_transformer.transform(df['text'])"
   ]
  },
  {
   "cell_type": "code",
   "execution_count": 42,
   "metadata": {},
   "outputs": [
    {
     "name": "stdout",
     "output_type": "stream",
     "text": [
      "Shape of Sparse Matrix:  (100522, 24652)\n",
      "Amount of Non-Zero occurences:  716074\n"
     ]
    }
   ],
   "source": [
    "print('Shape of Sparse Matrix: ', df_bow.shape)\n",
    "print('Amount of Non-Zero occurences: ', df_bow.nnz)"
   ]
  },
  {
   "cell_type": "code",
   "execution_count": 43,
   "metadata": {},
   "outputs": [
    {
     "name": "stdout",
     "output_type": "stream",
     "text": [
      "sparsity: 0\n"
     ]
    }
   ],
   "source": [
    "# check text sparsicity\n",
    "sparsity = (100.0 * df_bow.nnz / (df_bow.shape[0] * df_bow.shape[1]))\n",
    "print('sparsity: {}'.format(round(sparsity)))"
   ]
  },
  {
   "cell_type": "markdown",
   "metadata": {},
   "source": [
    "### TF-IDF"
   ]
  },
  {
   "cell_type": "code",
   "execution_count": 47,
   "metadata": {},
   "outputs": [],
   "source": [
    "from sklearn.feature_extraction.text import TfidfTransformer"
>>>>>>> d97702f2025b48f57c75da8097bfeefb5468c4a3
   ]
  },
  {
   "cell_type": "code",
<<<<<<< HEAD
   "execution_count": 80,
   "metadata": {},
   "outputs": [
    {
     "name": "stdout",
     "output_type": "stream",
     "text": [
      "Shape of Sparse Matrix:  (100521, 24675)\n",
      "Amount of Non-Zero occurences:  723043\n"
     ]
    }
   ],
   "source": [
    "print('Shape of Sparse Matrix: ', df_bow.shape)\n",
    "print('Amount of Non-Zero occurences: ', df_bow.nnz)"
=======
   "execution_count": 48,
   "metadata": {},
   "outputs": [],
   "source": [
    "tfidf_transformer = TfidfTransformer().fit(df_bow)"
>>>>>>> d97702f2025b48f57c75da8097bfeefb5468c4a3
   ]
  },
  {
   "cell_type": "code",
<<<<<<< HEAD
   "execution_count": 81,
=======
   "execution_count": 49,
>>>>>>> d97702f2025b48f57c75da8097bfeefb5468c4a3
   "metadata": {},
   "outputs": [
    {
     "name": "stdout",
     "output_type": "stream",
     "text": [
<<<<<<< HEAD
      "sparsity: 0\n"
=======
      "(100522, 24652)\n"
>>>>>>> d97702f2025b48f57c75da8097bfeefb5468c4a3
     ]
    }
   ],
   "source": [
<<<<<<< HEAD
    "# check text sparsicity\n",
    "sparsity = (100.0 * df_bow.nnz / (df_bow.shape[0] * df_bow.shape[1]))\n",
    "print('sparsity: {}'.format(round(sparsity)))"
=======
    "df_tfidf = tfidf_transformer.transform(df_bow)\n",
    "print(df_tfidf.shape)"
>>>>>>> d97702f2025b48f57c75da8097bfeefb5468c4a3
   ]
  },
  {
   "cell_type": "markdown",
   "metadata": {},
   "source": [
    "## LDA"
   ]
  },
  {
   "cell_type": "code",
<<<<<<< HEAD
   "execution_count": 82,
=======
   "execution_count": 50,
>>>>>>> d97702f2025b48f57c75da8097bfeefb5468c4a3
   "metadata": {},
   "outputs": [],
   "source": [
    "from sklearn.decomposition import LatentDirichletAllocation"
   ]
  },
  {
   "cell_type": "code",
<<<<<<< HEAD
   "execution_count": 83,
=======
   "execution_count": 51,
>>>>>>> d97702f2025b48f57c75da8097bfeefb5468c4a3
   "metadata": {},
   "outputs": [],
   "source": [
    "lda = LatentDirichletAllocation(n_components=10, \n",
    "                                max_iter=50,\n",
    "                                learning_method='online',\n",
    "                                learning_offset=50.,\n",
    "                                random_state=0,\n",
    "                                n_jobs=-1)"
   ]
  },
  {
   "cell_type": "code",
<<<<<<< HEAD
   "execution_count": 84,
   "metadata": {},
   "outputs": [
    {
     "data": {
      "text/plain": [
       "LatentDirichletAllocation(batch_size=128, doc_topic_prior=None,\n",
       "             evaluate_every=-1, learning_decay=0.7,\n",
       "             learning_method='online', learning_offset=50.0,\n",
       "             max_doc_update_iter=100, max_iter=50, mean_change_tol=0.001,\n",
       "             n_components=10, n_jobs=None, n_topics=None, perp_tol=0.1,\n",
       "             random_state=0, topic_word_prior=None,\n",
       "             total_samples=1000000.0, verbose=0)"
      ]
     },
     "execution_count": 84,
     "metadata": {},
     "output_type": "execute_result"
    }
   ],
   "source": [
    "lda.fit(df_bow)"
=======
   "execution_count": 52,
   "metadata": {},
   "outputs": [
    {
     "ename": "PicklingError",
     "evalue": "Could not pickle the task to send it to the workers.",
     "output_type": "error",
     "traceback": [
      "\u001b[0;31m---------------------------------------------------------------------------\u001b[0m",
      "\u001b[0;31m_RemoteTraceback\u001b[0m                          Traceback (most recent call last)",
      "\u001b[0;31m_RemoteTraceback\u001b[0m: \n\"\"\"\nTraceback (most recent call last):\n  File \"/Users/wangxinquan/anaconda3/lib/python3.7/site-packages/sklearn/externals/joblib/externals/loky/backend/queues.py\", line 150, in _feed\n    obj_ = dumps(obj, reducers=reducers)\n  File \"/Users/wangxinquan/anaconda3/lib/python3.7/site-packages/sklearn/externals/joblib/externals/loky/backend/reduction.py\", line 243, in dumps\n    dump(obj, buf, reducers=reducers, protocol=protocol)\n  File \"/Users/wangxinquan/anaconda3/lib/python3.7/site-packages/sklearn/externals/joblib/externals/loky/backend/reduction.py\", line 236, in dump\n    _LokyPickler(file, reducers=reducers, protocol=protocol).dump(obj)\n  File \"/Users/wangxinquan/anaconda3/lib/python3.7/site-packages/sklearn/externals/joblib/externals/cloudpickle/cloudpickle.py\", line 284, in dump\n    return Pickler.dump(self, obj)\n  File \"/Users/wangxinquan/anaconda3/lib/python3.7/pickle.py\", line 437, in dump\n    self.save(obj)\n  File \"/Users/wangxinquan/anaconda3/lib/python3.7/pickle.py\", line 549, in save\n    self.save_reduce(obj=obj, *rv)\n  File \"/Users/wangxinquan/anaconda3/lib/python3.7/pickle.py\", line 662, in save_reduce\n    save(state)\n  File \"/Users/wangxinquan/anaconda3/lib/python3.7/pickle.py\", line 504, in save\n    f(self, obj) # Call unbound method with explicit self\n  File \"/Users/wangxinquan/anaconda3/lib/python3.7/pickle.py\", line 856, in save_dict\n    self._batch_setitems(obj.items())\n  File \"/Users/wangxinquan/anaconda3/lib/python3.7/pickle.py\", line 882, in _batch_setitems\n    save(v)\n  File \"/Users/wangxinquan/anaconda3/lib/python3.7/pickle.py\", line 549, in save\n    self.save_reduce(obj=obj, *rv)\n  File \"/Users/wangxinquan/anaconda3/lib/python3.7/pickle.py\", line 662, in save_reduce\n    save(state)\n  File \"/Users/wangxinquan/anaconda3/lib/python3.7/pickle.py\", line 504, in save\n    f(self, obj) # Call unbound method with explicit self\n  File \"/Users/wangxinquan/anaconda3/lib/python3.7/pickle.py\", line 856, in save_dict\n    self._batch_setitems(obj.items())\n  File \"/Users/wangxinquan/anaconda3/lib/python3.7/pickle.py\", line 887, in _batch_setitems\n    save(v)\n  File \"/Users/wangxinquan/anaconda3/lib/python3.7/pickle.py\", line 549, in save\n    self.save_reduce(obj=obj, *rv)\n  File \"/Users/wangxinquan/anaconda3/lib/python3.7/pickle.py\", line 662, in save_reduce\n    save(state)\n  File \"/Users/wangxinquan/anaconda3/lib/python3.7/pickle.py\", line 504, in save\n    f(self, obj) # Call unbound method with explicit self\n  File \"/Users/wangxinquan/anaconda3/lib/python3.7/pickle.py\", line 856, in save_dict\n    self._batch_setitems(obj.items())\n  File \"/Users/wangxinquan/anaconda3/lib/python3.7/pickle.py\", line 882, in _batch_setitems\n    save(v)\n  File \"/Users/wangxinquan/anaconda3/lib/python3.7/pickle.py\", line 504, in save\n    f(self, obj) # Call unbound method with explicit self\n  File \"/Users/wangxinquan/anaconda3/lib/python3.7/pickle.py\", line 816, in save_list\n    self._batch_appends(obj)\n  File \"/Users/wangxinquan/anaconda3/lib/python3.7/pickle.py\", line 840, in _batch_appends\n    save(x)\n  File \"/Users/wangxinquan/anaconda3/lib/python3.7/pickle.py\", line 504, in save\n    f(self, obj) # Call unbound method with explicit self\n  File \"/Users/wangxinquan/anaconda3/lib/python3.7/pickle.py\", line 771, in save_tuple\n    save(element)\n  File \"/Users/wangxinquan/anaconda3/lib/python3.7/pickle.py\", line 504, in save\n    f(self, obj) # Call unbound method with explicit self\n  File \"/Users/wangxinquan/anaconda3/lib/python3.7/pickle.py\", line 786, in save_tuple\n    save(element)\n  File \"/Users/wangxinquan/anaconda3/lib/python3.7/pickle.py\", line 510, in save\n    rv = reduce(obj)\n  File \"/Users/wangxinquan/anaconda3/lib/python3.7/site-packages/sklearn/externals/joblib/_memmapping_reducer.py\", line 339, in __call__\n    for dumped_filename in dump(a, filename):\n  File \"/Users/wangxinquan/anaconda3/lib/python3.7/site-packages/sklearn/externals/joblib/numpy_pickle.py\", line 502, in dump\n    NumpyPickler(f, protocol=protocol).dump(value)\n  File \"/Users/wangxinquan/anaconda3/lib/python3.7/pickle.py\", line 437, in dump\n    self.save(obj)\n  File \"/Users/wangxinquan/anaconda3/lib/python3.7/site-packages/sklearn/externals/joblib/numpy_pickle.py\", line 289, in save\n    wrapper.write_array(obj, self)\n  File \"/Users/wangxinquan/anaconda3/lib/python3.7/site-packages/sklearn/externals/joblib/numpy_pickle.py\", line 104, in write_array\n    pickler.file_handle.write(chunk.tostring('C'))\nOSError: [Errno 28] No space left on device\n\"\"\"",
      "\nThe above exception was the direct cause of the following exception:\n",
      "\u001b[0;31mPicklingError\u001b[0m                             Traceback (most recent call last)",
      "\u001b[0;32m<ipython-input-52-16c7fcf090d7>\u001b[0m in \u001b[0;36m<module>\u001b[0;34m\u001b[0m\n\u001b[0;32m----> 1\u001b[0;31m \u001b[0mlda\u001b[0m\u001b[0;34m.\u001b[0m\u001b[0mfit\u001b[0m\u001b[0;34m(\u001b[0m\u001b[0mdf_tfidf\u001b[0m\u001b[0;34m)\u001b[0m\u001b[0;34m\u001b[0m\u001b[0;34m\u001b[0m\u001b[0m\n\u001b[0m",
      "\u001b[0;32m~/anaconda3/lib/python3.7/site-packages/sklearn/decomposition/online_lda.py\u001b[0m in \u001b[0;36mfit\u001b[0;34m(self, X, y)\u001b[0m\n\u001b[1;32m    564\u001b[0m                     \u001b[0;32mfor\u001b[0m \u001b[0midx_slice\u001b[0m \u001b[0;32min\u001b[0m \u001b[0mgen_batches\u001b[0m\u001b[0;34m(\u001b[0m\u001b[0mn_samples\u001b[0m\u001b[0;34m,\u001b[0m \u001b[0mbatch_size\u001b[0m\u001b[0;34m)\u001b[0m\u001b[0;34m:\u001b[0m\u001b[0;34m\u001b[0m\u001b[0;34m\u001b[0m\u001b[0m\n\u001b[1;32m    565\u001b[0m                         self._em_step(X[idx_slice, :], total_samples=n_samples,\n\u001b[0;32m--> 566\u001b[0;31m                                       batch_update=False, parallel=parallel)\n\u001b[0m\u001b[1;32m    567\u001b[0m                 \u001b[0;32melse\u001b[0m\u001b[0;34m:\u001b[0m\u001b[0;34m\u001b[0m\u001b[0;34m\u001b[0m\u001b[0m\n\u001b[1;32m    568\u001b[0m                     \u001b[0;31m# batch update\u001b[0m\u001b[0;34m\u001b[0m\u001b[0;34m\u001b[0m\u001b[0;34m\u001b[0m\u001b[0m\n",
      "\u001b[0;32m~/anaconda3/lib/python3.7/site-packages/sklearn/decomposition/online_lda.py\u001b[0m in \u001b[0;36m_em_step\u001b[0;34m(self, X, total_samples, batch_update, parallel)\u001b[0m\n\u001b[1;32m    451\u001b[0m         \u001b[0;31m# E-step\u001b[0m\u001b[0;34m\u001b[0m\u001b[0;34m\u001b[0m\u001b[0;34m\u001b[0m\u001b[0m\n\u001b[1;32m    452\u001b[0m         _, suff_stats = self._e_step(X, cal_sstats=True, random_init=True,\n\u001b[0;32m--> 453\u001b[0;31m                                      parallel=parallel)\n\u001b[0m\u001b[1;32m    454\u001b[0m \u001b[0;34m\u001b[0m\u001b[0m\n\u001b[1;32m    455\u001b[0m         \u001b[0;31m# M-step\u001b[0m\u001b[0;34m\u001b[0m\u001b[0;34m\u001b[0m\u001b[0;34m\u001b[0m\u001b[0m\n",
      "\u001b[0;32m~/anaconda3/lib/python3.7/site-packages/sklearn/decomposition/online_lda.py\u001b[0m in \u001b[0;36m_e_step\u001b[0;34m(self, X, cal_sstats, random_init, parallel)\u001b[0m\n\u001b[1;32m    404\u001b[0m                                               \u001b[0mself\u001b[0m\u001b[0;34m.\u001b[0m\u001b[0mmean_change_tol\u001b[0m\u001b[0;34m,\u001b[0m \u001b[0mcal_sstats\u001b[0m\u001b[0;34m,\u001b[0m\u001b[0;34m\u001b[0m\u001b[0;34m\u001b[0m\u001b[0m\n\u001b[1;32m    405\u001b[0m                                               random_state)\n\u001b[0;32m--> 406\u001b[0;31m             for idx_slice in gen_even_slices(X.shape[0], n_jobs))\n\u001b[0m\u001b[1;32m    407\u001b[0m \u001b[0;34m\u001b[0m\u001b[0m\n\u001b[1;32m    408\u001b[0m         \u001b[0;31m# merge result\u001b[0m\u001b[0;34m\u001b[0m\u001b[0;34m\u001b[0m\u001b[0;34m\u001b[0m\u001b[0m\n",
      "\u001b[0;32m~/anaconda3/lib/python3.7/site-packages/sklearn/externals/joblib/parallel.py\u001b[0m in \u001b[0;36m__call__\u001b[0;34m(self, iterable)\u001b[0m\n\u001b[1;32m    928\u001b[0m \u001b[0;34m\u001b[0m\u001b[0m\n\u001b[1;32m    929\u001b[0m             \u001b[0;32mwith\u001b[0m \u001b[0mself\u001b[0m\u001b[0;34m.\u001b[0m\u001b[0m_backend\u001b[0m\u001b[0;34m.\u001b[0m\u001b[0mretrieval_context\u001b[0m\u001b[0;34m(\u001b[0m\u001b[0;34m)\u001b[0m\u001b[0;34m:\u001b[0m\u001b[0;34m\u001b[0m\u001b[0;34m\u001b[0m\u001b[0m\n\u001b[0;32m--> 930\u001b[0;31m                 \u001b[0mself\u001b[0m\u001b[0;34m.\u001b[0m\u001b[0mretrieve\u001b[0m\u001b[0;34m(\u001b[0m\u001b[0;34m)\u001b[0m\u001b[0;34m\u001b[0m\u001b[0;34m\u001b[0m\u001b[0m\n\u001b[0m\u001b[1;32m    931\u001b[0m             \u001b[0;31m# Make sure that we get a last message telling us we are done\u001b[0m\u001b[0;34m\u001b[0m\u001b[0;34m\u001b[0m\u001b[0;34m\u001b[0m\u001b[0m\n\u001b[1;32m    932\u001b[0m             \u001b[0melapsed_time\u001b[0m \u001b[0;34m=\u001b[0m \u001b[0mtime\u001b[0m\u001b[0;34m.\u001b[0m\u001b[0mtime\u001b[0m\u001b[0;34m(\u001b[0m\u001b[0;34m)\u001b[0m \u001b[0;34m-\u001b[0m \u001b[0mself\u001b[0m\u001b[0;34m.\u001b[0m\u001b[0m_start_time\u001b[0m\u001b[0;34m\u001b[0m\u001b[0;34m\u001b[0m\u001b[0m\n",
      "\u001b[0;32m~/anaconda3/lib/python3.7/site-packages/sklearn/externals/joblib/parallel.py\u001b[0m in \u001b[0;36mretrieve\u001b[0;34m(self)\u001b[0m\n\u001b[1;32m    831\u001b[0m             \u001b[0;32mtry\u001b[0m\u001b[0;34m:\u001b[0m\u001b[0;34m\u001b[0m\u001b[0;34m\u001b[0m\u001b[0m\n\u001b[1;32m    832\u001b[0m                 \u001b[0;32mif\u001b[0m \u001b[0mgetattr\u001b[0m\u001b[0;34m(\u001b[0m\u001b[0mself\u001b[0m\u001b[0;34m.\u001b[0m\u001b[0m_backend\u001b[0m\u001b[0;34m,\u001b[0m \u001b[0;34m'supports_timeout'\u001b[0m\u001b[0;34m,\u001b[0m \u001b[0;32mFalse\u001b[0m\u001b[0;34m)\u001b[0m\u001b[0;34m:\u001b[0m\u001b[0;34m\u001b[0m\u001b[0;34m\u001b[0m\u001b[0m\n\u001b[0;32m--> 833\u001b[0;31m                     \u001b[0mself\u001b[0m\u001b[0;34m.\u001b[0m\u001b[0m_output\u001b[0m\u001b[0;34m.\u001b[0m\u001b[0mextend\u001b[0m\u001b[0;34m(\u001b[0m\u001b[0mjob\u001b[0m\u001b[0;34m.\u001b[0m\u001b[0mget\u001b[0m\u001b[0;34m(\u001b[0m\u001b[0mtimeout\u001b[0m\u001b[0;34m=\u001b[0m\u001b[0mself\u001b[0m\u001b[0;34m.\u001b[0m\u001b[0mtimeout\u001b[0m\u001b[0;34m)\u001b[0m\u001b[0;34m)\u001b[0m\u001b[0;34m\u001b[0m\u001b[0;34m\u001b[0m\u001b[0m\n\u001b[0m\u001b[1;32m    834\u001b[0m                 \u001b[0;32melse\u001b[0m\u001b[0;34m:\u001b[0m\u001b[0;34m\u001b[0m\u001b[0;34m\u001b[0m\u001b[0m\n\u001b[1;32m    835\u001b[0m                     \u001b[0mself\u001b[0m\u001b[0;34m.\u001b[0m\u001b[0m_output\u001b[0m\u001b[0;34m.\u001b[0m\u001b[0mextend\u001b[0m\u001b[0;34m(\u001b[0m\u001b[0mjob\u001b[0m\u001b[0;34m.\u001b[0m\u001b[0mget\u001b[0m\u001b[0;34m(\u001b[0m\u001b[0;34m)\u001b[0m\u001b[0;34m)\u001b[0m\u001b[0;34m\u001b[0m\u001b[0;34m\u001b[0m\u001b[0m\n",
      "\u001b[0;32m~/anaconda3/lib/python3.7/site-packages/sklearn/externals/joblib/_parallel_backends.py\u001b[0m in \u001b[0;36mwrap_future_result\u001b[0;34m(future, timeout)\u001b[0m\n\u001b[1;32m    519\u001b[0m         AsyncResults.get from multiprocessing.\"\"\"\n\u001b[1;32m    520\u001b[0m         \u001b[0;32mtry\u001b[0m\u001b[0;34m:\u001b[0m\u001b[0;34m\u001b[0m\u001b[0;34m\u001b[0m\u001b[0m\n\u001b[0;32m--> 521\u001b[0;31m             \u001b[0;32mreturn\u001b[0m \u001b[0mfuture\u001b[0m\u001b[0;34m.\u001b[0m\u001b[0mresult\u001b[0m\u001b[0;34m(\u001b[0m\u001b[0mtimeout\u001b[0m\u001b[0;34m=\u001b[0m\u001b[0mtimeout\u001b[0m\u001b[0;34m)\u001b[0m\u001b[0;34m\u001b[0m\u001b[0;34m\u001b[0m\u001b[0m\n\u001b[0m\u001b[1;32m    522\u001b[0m         \u001b[0;32mexcept\u001b[0m \u001b[0mLokyTimeoutError\u001b[0m\u001b[0;34m:\u001b[0m\u001b[0;34m\u001b[0m\u001b[0;34m\u001b[0m\u001b[0m\n\u001b[1;32m    523\u001b[0m             \u001b[0;32mraise\u001b[0m \u001b[0mTimeoutError\u001b[0m\u001b[0;34m(\u001b[0m\u001b[0;34m)\u001b[0m\u001b[0;34m\u001b[0m\u001b[0;34m\u001b[0m\u001b[0m\n",
      "\u001b[0;32m~/anaconda3/lib/python3.7/concurrent/futures/_base.py\u001b[0m in \u001b[0;36mresult\u001b[0;34m(self, timeout)\u001b[0m\n\u001b[1;32m    430\u001b[0m                 \u001b[0;32mraise\u001b[0m \u001b[0mCancelledError\u001b[0m\u001b[0;34m(\u001b[0m\u001b[0;34m)\u001b[0m\u001b[0;34m\u001b[0m\u001b[0;34m\u001b[0m\u001b[0m\n\u001b[1;32m    431\u001b[0m             \u001b[0;32melif\u001b[0m \u001b[0mself\u001b[0m\u001b[0;34m.\u001b[0m\u001b[0m_state\u001b[0m \u001b[0;34m==\u001b[0m \u001b[0mFINISHED\u001b[0m\u001b[0;34m:\u001b[0m\u001b[0;34m\u001b[0m\u001b[0;34m\u001b[0m\u001b[0m\n\u001b[0;32m--> 432\u001b[0;31m                 \u001b[0;32mreturn\u001b[0m \u001b[0mself\u001b[0m\u001b[0;34m.\u001b[0m\u001b[0m__get_result\u001b[0m\u001b[0;34m(\u001b[0m\u001b[0;34m)\u001b[0m\u001b[0;34m\u001b[0m\u001b[0;34m\u001b[0m\u001b[0m\n\u001b[0m\u001b[1;32m    433\u001b[0m             \u001b[0;32melse\u001b[0m\u001b[0;34m:\u001b[0m\u001b[0;34m\u001b[0m\u001b[0;34m\u001b[0m\u001b[0m\n\u001b[1;32m    434\u001b[0m                 \u001b[0;32mraise\u001b[0m \u001b[0mTimeoutError\u001b[0m\u001b[0;34m(\u001b[0m\u001b[0;34m)\u001b[0m\u001b[0;34m\u001b[0m\u001b[0;34m\u001b[0m\u001b[0m\n",
      "\u001b[0;32m~/anaconda3/lib/python3.7/concurrent/futures/_base.py\u001b[0m in \u001b[0;36m__get_result\u001b[0;34m(self)\u001b[0m\n\u001b[1;32m    382\u001b[0m     \u001b[0;32mdef\u001b[0m \u001b[0m__get_result\u001b[0m\u001b[0;34m(\u001b[0m\u001b[0mself\u001b[0m\u001b[0;34m)\u001b[0m\u001b[0;34m:\u001b[0m\u001b[0;34m\u001b[0m\u001b[0;34m\u001b[0m\u001b[0m\n\u001b[1;32m    383\u001b[0m         \u001b[0;32mif\u001b[0m \u001b[0mself\u001b[0m\u001b[0;34m.\u001b[0m\u001b[0m_exception\u001b[0m\u001b[0;34m:\u001b[0m\u001b[0;34m\u001b[0m\u001b[0;34m\u001b[0m\u001b[0m\n\u001b[0;32m--> 384\u001b[0;31m             \u001b[0;32mraise\u001b[0m \u001b[0mself\u001b[0m\u001b[0;34m.\u001b[0m\u001b[0m_exception\u001b[0m\u001b[0;34m\u001b[0m\u001b[0;34m\u001b[0m\u001b[0m\n\u001b[0m\u001b[1;32m    385\u001b[0m         \u001b[0;32melse\u001b[0m\u001b[0;34m:\u001b[0m\u001b[0;34m\u001b[0m\u001b[0;34m\u001b[0m\u001b[0m\n\u001b[1;32m    386\u001b[0m             \u001b[0;32mreturn\u001b[0m \u001b[0mself\u001b[0m\u001b[0;34m.\u001b[0m\u001b[0m_result\u001b[0m\u001b[0;34m\u001b[0m\u001b[0;34m\u001b[0m\u001b[0m\n",
      "\u001b[0;31mPicklingError\u001b[0m: Could not pickle the task to send it to the workers."
     ]
    }
   ],
   "source": [
    "lda.fit(df_tfidf)"
>>>>>>> d97702f2025b48f57c75da8097bfeefb5468c4a3
   ]
  },
  {
   "cell_type": "code",
<<<<<<< HEAD
   "execution_count": 85,
=======
   "execution_count": 13,
>>>>>>> d97702f2025b48f57c75da8097bfeefb5468c4a3
   "metadata": {},
   "outputs": [],
   "source": [
    "def print_top_words(model, feature_names, n_top_words):\n",
    "    for topic_idx, topic in enumerate(model.components_):\n",
    "        print(\"Topic #%d:\" % topic_idx)\n",
    "        print(\" \".join([feature_names[i]\n",
    "                        for i in topic.argsort()[:-n_top_words - 1:-1]]))\n",
    "    print()"
   ]
  },
  {
   "cell_type": "code",
<<<<<<< HEAD
   "execution_count": 86,
   "metadata": {},
   "outputs": [],
   "source": [
    "n_top_words = 15"
   ]
  },
  {
   "cell_type": "code",
   "execution_count": 87,
   "metadata": {},
   "outputs": [
    {
     "data": {
      "text/html": [
       "<div>\n",
       "<style scoped>\n",
       "    .dataframe tbody tr th:only-of-type {\n",
       "        vertical-align: middle;\n",
       "    }\n",
       "\n",
       "    .dataframe tbody tr th {\n",
       "        vertical-align: top;\n",
       "    }\n",
       "\n",
       "    .dataframe thead th {\n",
       "        text-align: right;\n",
       "    }\n",
       "</style>\n",
       "<table border=\"1\" class=\"dataframe\">\n",
       "  <thead>\n",
       "    <tr style=\"text-align: right;\">\n",
       "      <th></th>\n",
       "      <th>Word 0</th>\n",
       "      <th>Word 1</th>\n",
       "      <th>Word 2</th>\n",
       "      <th>Word 3</th>\n",
       "      <th>Word 4</th>\n",
       "      <th>Word 5</th>\n",
       "      <th>Word 6</th>\n",
       "      <th>Word 7</th>\n",
       "      <th>Word 8</th>\n",
       "      <th>Word 9</th>\n",
       "      <th>Word 10</th>\n",
       "      <th>Word 11</th>\n",
       "      <th>Word 12</th>\n",
       "      <th>Word 13</th>\n",
       "      <th>Word 14</th>\n",
       "    </tr>\n",
       "  </thead>\n",
       "  <tbody>\n",
       "    <tr>\n",
       "      <th>Topic 0</th>\n",
       "      <td>new</td>\n",
       "      <td>bought</td>\n",
       "      <td>cat</td>\n",
       "      <td>vacation</td>\n",
       "      <td>delicious</td>\n",
       "      <td>tv</td>\n",
       "      <td>father</td>\n",
       "      <td>great</td>\n",
       "      <td>beach</td>\n",
       "      <td>extra</td>\n",
       "      <td>put</td>\n",
       "      <td>sale</td>\n",
       "      <td>music</td>\n",
       "      <td>one</td>\n",
       "      <td>apartment</td>\n",
       "    </tr>\n",
       "    <tr>\n",
       "      <th>Topic 1</th>\n",
       "      <td>found</td>\n",
       "      <td>family</td>\n",
       "      <td>dinner</td>\n",
       "      <td>night</td>\n",
       "      <td>husband</td>\n",
       "      <td>dog</td>\n",
       "      <td>nice</td>\n",
       "      <td>wife</td>\n",
       "      <td>girlfriend</td>\n",
       "      <td>friend</td>\n",
       "      <td>time</td>\n",
       "      <td>trip</td>\n",
       "      <td>love</td>\n",
       "      <td>great</td>\n",
       "      <td>show</td>\n",
       "    </tr>\n",
       "    <tr>\n",
       "      <th>Topic 2</th>\n",
       "      <td>gave</td>\n",
       "      <td>weekend</td>\n",
       "      <td>working</td>\n",
       "      <td>big</td>\n",
       "      <td>boyfriend</td>\n",
       "      <td>morning</td>\n",
       "      <td>eat</td>\n",
       "      <td>woke</td>\n",
       "      <td>give</td>\n",
       "      <td>talk</td>\n",
       "      <td>amazing</td>\n",
       "      <td>wedding</td>\n",
       "      <td>th</td>\n",
       "      <td>visited</td>\n",
       "      <td>celebrated</td>\n",
       "    </tr>\n",
       "    <tr>\n",
       "      <th>Topic 3</th>\n",
       "      <td>daughter</td>\n",
       "      <td>son</td>\n",
       "      <td>first</td>\n",
       "      <td>birthday</td>\n",
       "      <td>mom</td>\n",
       "      <td>time</td>\n",
       "      <td>phone</td>\n",
       "      <td>party</td>\n",
       "      <td>said</td>\n",
       "      <td>store</td>\n",
       "      <td>company</td>\n",
       "      <td>exam</td>\n",
       "      <td>summer</td>\n",
       "      <td>local</td>\n",
       "      <td>want</td>\n",
       "    </tr>\n",
       "    <tr>\n",
       "      <th>Topic 4</th>\n",
       "      <td>friend</td>\n",
       "      <td>getting</td>\n",
       "      <td>school</td>\n",
       "      <td>best</td>\n",
       "      <td>event</td>\n",
       "      <td>one</td>\n",
       "      <td>good</td>\n",
       "      <td>told</td>\n",
       "      <td>time</td>\n",
       "      <td>met</td>\n",
       "      <td>get</td>\n",
       "      <td>playing</td>\n",
       "      <td>moment</td>\n",
       "      <td>better</td>\n",
       "      <td>spend</td>\n",
       "    </tr>\n",
       "    <tr>\n",
       "      <th>Topic 5</th>\n",
       "      <td>work</td>\n",
       "      <td>time</td>\n",
       "      <td>received</td>\n",
       "      <td>watched</td>\n",
       "      <td>friend</td>\n",
       "      <td>long</td>\n",
       "      <td>saw</td>\n",
       "      <td>week</td>\n",
       "      <td>movie</td>\n",
       "      <td>finished</td>\n",
       "      <td>enjoyed</td>\n",
       "      <td>seeing</td>\n",
       "      <td>college</td>\n",
       "      <td>gift</td>\n",
       "      <td>ive</td>\n",
       "    </tr>\n",
       "    <tr>\n",
       "      <th>Topic 6</th>\n",
       "      <td>good</td>\n",
       "      <td>watching</td>\n",
       "      <td>started</td>\n",
       "      <td>wanted</td>\n",
       "      <td>child</td>\n",
       "      <td>thought</td>\n",
       "      <td>person</td>\n",
       "      <td>looking</td>\n",
       "      <td>song</td>\n",
       "      <td>lost</td>\n",
       "      <td>purchased</td>\n",
       "      <td>coming</td>\n",
       "      <td>mail</td>\n",
       "      <td>feel</td>\n",
       "      <td>experience</td>\n",
       "    </tr>\n",
       "    <tr>\n",
       "      <th>Topic 7</th>\n",
       "      <td>game</td>\n",
       "      <td>played</td>\n",
       "      <td>people</td>\n",
       "      <td>play</td>\n",
       "      <td>spent</td>\n",
       "      <td>video</td>\n",
       "      <td>place</td>\n",
       "      <td>thing</td>\n",
       "      <td>life</td>\n",
       "      <td>enjoy</td>\n",
       "      <td>dad</td>\n",
       "      <td>shopping</td>\n",
       "      <td>sleep</td>\n",
       "      <td>little</td>\n",
       "      <td>many</td>\n",
       "    </tr>\n",
       "    <tr>\n",
       "      <th>Topic 8</th>\n",
       "      <td>would</td>\n",
       "      <td>work</td>\n",
       "      <td>could</td>\n",
       "      <td>money</td>\n",
       "      <td>didnt</td>\n",
       "      <td>free</td>\n",
       "      <td>park</td>\n",
       "      <td>pay</td>\n",
       "      <td>proud</td>\n",
       "      <td>get</td>\n",
       "      <td>ice</td>\n",
       "      <td>cream</td>\n",
       "      <td>given</td>\n",
       "      <td>help</td>\n",
       "      <td>used</td>\n",
       "    </tr>\n",
       "    <tr>\n",
       "      <th>Topic 9</th>\n",
       "      <td>job</td>\n",
       "      <td>old</td>\n",
       "      <td>home</td>\n",
       "      <td>back</td>\n",
       "      <td>house</td>\n",
       "      <td>car</td>\n",
       "      <td>moment</td>\n",
       "      <td>day</td>\n",
       "      <td>time</td>\n",
       "      <td>work</td>\n",
       "      <td>mother</td>\n",
       "      <td>lunch</td>\n",
       "      <td>new</td>\n",
       "      <td>visit</td>\n",
       "      <td>sister</td>\n",
       "    </tr>\n",
       "  </tbody>\n",
       "</table>\n",
       "</div>"
      ],
      "text/plain": [
       "           Word 0    Word 1    Word 2    Word 3     Word 4   Word 5  Word 6  \\\n",
       "Topic 0       new    bought       cat  vacation  delicious       tv  father   \n",
       "Topic 1     found    family    dinner     night    husband      dog    nice   \n",
       "Topic 2      gave   weekend   working       big  boyfriend  morning     eat   \n",
       "Topic 3  daughter       son     first  birthday        mom     time   phone   \n",
       "Topic 4    friend   getting    school      best      event      one    good   \n",
       "Topic 5      work      time  received   watched     friend     long     saw   \n",
       "Topic 6      good  watching   started    wanted      child  thought  person   \n",
       "Topic 7      game    played    people      play      spent    video   place   \n",
       "Topic 8     would      work     could     money      didnt     free    park   \n",
       "Topic 9       job       old      home      back      house      car  moment   \n",
       "\n",
       "          Word 7      Word 8    Word 9    Word 10   Word 11  Word 12  Word 13  \\\n",
       "Topic 0    great       beach     extra        put      sale    music      one   \n",
       "Topic 1     wife  girlfriend    friend       time      trip     love    great   \n",
       "Topic 2     woke        give      talk    amazing   wedding       th  visited   \n",
       "Topic 3    party        said     store    company      exam   summer    local   \n",
       "Topic 4     told        time       met        get   playing   moment   better   \n",
       "Topic 5     week       movie  finished    enjoyed    seeing  college     gift   \n",
       "Topic 6  looking        song      lost  purchased    coming     mail     feel   \n",
       "Topic 7    thing        life     enjoy        dad  shopping    sleep   little   \n",
       "Topic 8      pay       proud       get        ice     cream    given     help   \n",
       "Topic 9      day        time      work     mother     lunch      new    visit   \n",
       "\n",
       "            Word 14  \n",
       "Topic 0   apartment  \n",
       "Topic 1        show  \n",
       "Topic 2  celebrated  \n",
       "Topic 3        want  \n",
       "Topic 4       spend  \n",
       "Topic 5         ive  \n",
       "Topic 6  experience  \n",
       "Topic 7        many  \n",
       "Topic 8        used  \n",
       "Topic 9      sister  "
      ]
     },
     "execution_count": 87,
     "metadata": {},
     "output_type": "execute_result"
    }
   ],
   "source": [
    "# Show top n keywords for each topic\n",
    "def show_topics(vectorizer, lda_model, n_words):\n",
    "    keywords = np.array(vectorizer.get_feature_names())\n",
    "    topic_keywords = []\n",
    "    for topic_weights in lda_model.components_:\n",
    "        top_keyword_locs = (-topic_weights).argsort()[:n_words]\n",
    "        topic_keywords.append(keywords.take(top_keyword_locs))\n",
    "    return topic_keywords\n",
    "\n",
    "topic_keywords = show_topics(vectorizer=bow_transformer, lda_model=lda, n_words=15)        \n",
    "\n",
    "# Topic - Keywords Dataframe\n",
    "df_topic_keywords = pd.DataFrame(topic_keywords)\n",
    "df_topic_keywords.columns = ['Word '+str(i) for i in range(df_topic_keywords.shape[1])]\n",
    "df_topic_keywords.index = ['Topic '+str(i) for i in range(df_topic_keywords.shape[0])]\n",
    "df_topic_keywords"
   ]
  },
  {
   "cell_type": "markdown",
   "metadata": {},
   "source": [
    "Some topics are similar to each other. Try to grid search the best number of topics."
   ]
  },
  {
   "cell_type": "markdown",
   "metadata": {},
   "source": [
    "### Grid search the best number of topics"
   ]
  },
  {
   "cell_type": "code",
   "execution_count": 88,
   "metadata": {},
   "outputs": [],
   "source": [
    "from sklearn.model_selection import GridSearchCV"
   ]
  },
  {
   "cell_type": "code",
   "execution_count": 89,
=======
   "execution_count": 14,
>>>>>>> d97702f2025b48f57c75da8097bfeefb5468c4a3
   "metadata": {},
   "outputs": [],
   "source": [
    "search_params = {'n_components': [5, 6, 7, 8, 9]}\n",
    "\n",
    "lda = LatentDirichletAllocation(max_iter=10,\n",
    "                                learning_method='online',\n",
    "                                learning_offset=50.,\n",
    "                                random_state=0)\n",
    "model = GridSearchCV(lda, param_grid=search_params, cv=3)"
   ]
  },
  {
   "cell_type": "code",
<<<<<<< HEAD
   "execution_count": 91,
   "metadata": {},
   "outputs": [
    {
     "data": {
      "text/plain": [
       "GridSearchCV(cv=3, error_score='raise-deprecating',\n",
       "       estimator=LatentDirichletAllocation(batch_size=128, doc_topic_prior=None,\n",
       "             evaluate_every=-1, learning_decay=0.7,\n",
       "             learning_method='online', learning_offset=50.0,\n",
       "             max_doc_update_iter=100, max_iter=10, mean_change_tol=0.001,\n",
       "             n_components=10, n_jobs=None, n_topics=None, perp_tol=0.1,\n",
       "             random_state=0, topic_word_prior=None,\n",
       "             total_samples=1000000.0, verbose=0),\n",
       "       fit_params=None, iid='warn', n_jobs=None,\n",
       "       param_grid={'n_components': [5, 6, 7, 8, 9]},\n",
       "       pre_dispatch='2*n_jobs', refit=True, return_train_score='warn',\n",
       "       scoring=None, verbose=0)"
      ]
     },
     "execution_count": 91,
     "metadata": {},
     "output_type": "execute_result"
=======
   "execution_count": 15,
   "metadata": {},
   "outputs": [
    {
     "name": "stdout",
     "output_type": "stream",
     "text": [
      "Topic #0:\n",
      "found finally job work new daughter house finished working time\n",
      "Topic #1:\n",
      "life game event one make would people play playing boyfriend\n",
      "Topic #2:\n",
      "work new bought morning back car watched money good get\n",
      "Topic #3:\n",
      "friend time family dinner school good girlfriend old nice movie\n",
      "Topic #4:\n",
      "dog getting class walk take night summer asked taking said\n",
      "Topic #5:\n",
      "home birthday wife night friend sister mother son husband mom\n",
      "Topic #6:\n",
      "received brother weekend gift ive parent vacation completed started great\n",
      "\n"
     ]
>>>>>>> d97702f2025b48f57c75da8097bfeefb5468c4a3
    }
   ],
   "source": [
    "model.fit(df_bow)"
   ]
  },
  {
   "cell_type": "code",
   "execution_count": 93,
   "metadata": {},
   "outputs": [
    {
     "name": "stdout",
     "output_type": "stream",
     "text": [
      "Best Model's Params:  {'n_components': 5}\n",
      "\n",
      "\n",
      "Best Log Likelihood Score:  -2086965.8068309939\n",
      "\n",
      "\n",
      "Model Perplexity:  2426.966573837911\n"
     ]
    }
   ],
   "source": [
    "best_lda_model = model.best_estimator_\n",
    "print(\"Best Model's Params: \", model.best_params_)\n",
    "print('\\n')\n",
    "print(\"Best Log Likelihood Score: \", model.best_score_)\n",
    "print('\\n')\n",
    "print(\"Model Perplexity: \", best_lda_model.perplexity(df_bow))"
   ]
  },
  {
   "cell_type": "code",
   "execution_count": 95,
   "metadata": {},
   "outputs": [
    {
     "data": {
      "text/plain": [
       "Text(0, 0.5, 'Log Likelyhood Scores')"
      ]
     },
     "execution_count": 95,
     "metadata": {},
     "output_type": "execute_result"
    },
    {
     "data": {
      "image/png": "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\n",
      "text/plain": [
       "<Figure size 864x576 with 1 Axes>"
      ]
     },
     "metadata": {
      "needs_background": "light"
     },
     "output_type": "display_data"
    }
   ],
   "source": [
    "# Get Log Likelyhoods from Grid Search Output\n",
    "n_topics = [5, 6, 7, 8, 9]\n",
    "log_likelyhoods = model.cv_results_['mean_test_score']\n",
    "\n",
    "# Show graph\n",
    "plt.figure(figsize=(12, 8))\n",
    "plt.plot(n_topics, log_likelyhoods)\n",
    "plt.title(\"Choosing Optimal LDA Model\")\n",
    "plt.xlabel(\"Num Topics\")\n",
    "plt.ylabel(\"Log Likelyhood Scores\")"
   ]
  },
  {
   "cell_type": "markdown",
   "metadata": {},
   "source": [
    "## Topic keywords"
   ]
  },
  {
   "cell_type": "code",
   "execution_count": 99,
   "metadata": {},
   "outputs": [
    {
     "data": {
      "text/html": [
       "<div>\n",
       "<style scoped>\n",
       "    .dataframe tbody tr th:only-of-type {\n",
       "        vertical-align: middle;\n",
       "    }\n",
       "\n",
       "    .dataframe tbody tr th {\n",
       "        vertical-align: top;\n",
       "    }\n",
       "\n",
       "    .dataframe thead th {\n",
       "        text-align: right;\n",
       "    }\n",
       "</style>\n",
       "<table border=\"1\" class=\"dataframe\">\n",
       "  <thead>\n",
       "    <tr style=\"text-align: right;\">\n",
       "      <th></th>\n",
       "      <th>Word 0</th>\n",
       "      <th>Word 1</th>\n",
       "      <th>Word 2</th>\n",
       "      <th>Word 3</th>\n",
       "      <th>Word 4</th>\n",
       "      <th>Word 5</th>\n",
       "      <th>Word 6</th>\n",
       "      <th>Word 7</th>\n",
       "      <th>Word 8</th>\n",
       "      <th>Word 9</th>\n",
       "      <th>Word 10</th>\n",
       "      <th>Word 11</th>\n",
       "      <th>Word 12</th>\n",
       "      <th>Word 13</th>\n",
       "      <th>Word 14</th>\n",
       "    </tr>\n",
       "  </thead>\n",
       "  <tbody>\n",
       "    <tr>\n",
       "      <th>Topic 1</th>\n",
       "      <td>new</td>\n",
       "      <td>bought</td>\n",
       "      <td>lunch</td>\n",
       "      <td>food</td>\n",
       "      <td>ate</td>\n",
       "      <td>played</td>\n",
       "      <td>car</td>\n",
       "      <td>good</td>\n",
       "      <td>excited</td>\n",
       "      <td>cat</td>\n",
       "      <td>vacation</td>\n",
       "      <td>delicious</td>\n",
       "      <td>restaurant</td>\n",
       "      <td>team</td>\n",
       "      <td>park</td>\n",
       "    </tr>\n",
       "    <tr>\n",
       "      <th>Topic 2</th>\n",
       "      <td>work</td>\n",
       "      <td>found</td>\n",
       "      <td>night</td>\n",
       "      <td>job</td>\n",
       "      <td>dog</td>\n",
       "      <td>finally</td>\n",
       "      <td>received</td>\n",
       "      <td>get</td>\n",
       "      <td>girlfriend</td>\n",
       "      <td>time</td>\n",
       "      <td>home</td>\n",
       "      <td>mother</td>\n",
       "      <td>money</td>\n",
       "      <td>good</td>\n",
       "      <td>hour</td>\n",
       "    </tr>\n",
       "    <tr>\n",
       "      <th>Topic 3</th>\n",
       "      <td>friend</td>\n",
       "      <td>game</td>\n",
       "      <td>time</td>\n",
       "      <td>old</td>\n",
       "      <td>house</td>\n",
       "      <td>gave</td>\n",
       "      <td>long</td>\n",
       "      <td>best</td>\n",
       "      <td>weekend</td>\n",
       "      <td>kid</td>\n",
       "      <td>school</td>\n",
       "      <td>play</td>\n",
       "      <td>met</td>\n",
       "      <td>seeing</td>\n",
       "      <td>playing</td>\n",
       "    </tr>\n",
       "    <tr>\n",
       "      <th>Topic 4</th>\n",
       "      <td>time</td>\n",
       "      <td>first</td>\n",
       "      <td>family</td>\n",
       "      <td>dinner</td>\n",
       "      <td>daughter</td>\n",
       "      <td>birthday</td>\n",
       "      <td>son</td>\n",
       "      <td>sister</td>\n",
       "      <td>movie</td>\n",
       "      <td>home</td>\n",
       "      <td>watched</td>\n",
       "      <td>see</td>\n",
       "      <td>nice</td>\n",
       "      <td>mom</td>\n",
       "      <td>watching</td>\n",
       "    </tr>\n",
       "    <tr>\n",
       "      <th>Topic 5</th>\n",
       "      <td>life</td>\n",
       "      <td>getting</td>\n",
       "      <td>moment</td>\n",
       "      <td>feel</td>\n",
       "      <td>thing</td>\n",
       "      <td>one</td>\n",
       "      <td>good</td>\n",
       "      <td>get</td>\n",
       "      <td>could</td>\n",
       "      <td>people</td>\n",
       "      <td>well</td>\n",
       "      <td>feeling</td>\n",
       "      <td>make</td>\n",
       "      <td>started</td>\n",
       "      <td>also</td>\n",
       "    </tr>\n",
       "  </tbody>\n",
       "</table>\n",
       "</div>"
      ],
      "text/plain": [
       "         Word 0   Word 1  Word 2  Word 3    Word 4    Word 5    Word 6  \\\n",
       "Topic 1     new   bought   lunch    food       ate    played       car   \n",
       "Topic 2    work    found   night     job       dog   finally  received   \n",
       "Topic 3  friend     game    time     old     house      gave      long   \n",
       "Topic 4    time    first  family  dinner  daughter  birthday       son   \n",
       "Topic 5    life  getting  moment    feel     thing       one      good   \n",
       "\n",
       "         Word 7      Word 8  Word 9   Word 10    Word 11     Word 12  Word 13  \\\n",
       "Topic 1    good     excited     cat  vacation  delicious  restaurant     team   \n",
       "Topic 2     get  girlfriend    time      home     mother       money     good   \n",
       "Topic 3    best     weekend     kid    school       play         met   seeing   \n",
       "Topic 4  sister       movie    home   watched        see        nice      mom   \n",
       "Topic 5     get       could  people      well    feeling        make  started   \n",
       "\n",
       "          Word 14  \n",
       "Topic 1      park  \n",
       "Topic 2      hour  \n",
       "Topic 3   playing  \n",
       "Topic 4  watching  \n",
       "Topic 5      also  "
      ]
     },
     "execution_count": 99,
     "metadata": {},
     "output_type": "execute_result"
    }
   ],
   "source": [
    "# Show top n keywords for each topic\n",
    "def show_topics(vectorizer, lda_model, n_words):\n",
    "    keywords = np.array(vectorizer.get_feature_names())\n",
    "    topic_keywords = []\n",
    "    for topic_weights in lda_model.components_:\n",
    "        top_keyword_locs = (-topic_weights).argsort()[:n_words]\n",
    "        topic_keywords.append(keywords.take(top_keyword_locs))\n",
    "    return topic_keywords\n",
    "\n",
    "topic_keywords = show_topics(vectorizer=bow_transformer, lda_model=best_lda_model, n_words=15)        \n",
    "\n",
    "# Topic - Keywords Dataframe\n",
    "df_topic_keywords = pd.DataFrame(topic_keywords)\n",
    "df_topic_keywords.columns = ['Word '+str(i) for i in range(df_topic_keywords.shape[1])]\n",
    "df_topic_keywords.index = ['Topic '+str(i+1) for i in range(df_topic_keywords.shape[0])]\n",
    "df_topic_keywords"
   ]
  },
  {
   "cell_type": "markdown",
   "metadata": {},
   "source": [
    "Topic 1 seems to be related to the leisure.               \n",
    "Topic 2 turns out to be things concerning achievement.          \n",
    "Topic 3 is about friend and play and classified as bonding.           \n",
    "Topic 4 involves words like dinner, birthday and family which can be concluded as affection.          \n",
    "Topic 5 has words expressing the feeling of a monment, so I define it as enjoy the moment."
   ]
  },
  {
   "cell_type": "code",
   "execution_count": 98,
   "metadata": {},
   "outputs": [
    {
     "name": "stderr",
     "output_type": "stream",
     "text": [
      "/Users/wangxinquan/anaconda3/lib/python3.7/site-packages/pyLDAvis/_prepare.py:257: FutureWarning: Sorting because non-concatenation axis is not aligned. A future version\n",
      "of pandas will change to not sort by default.\n",
      "\n",
      "To accept the future behavior, pass 'sort=False'.\n",
      "\n",
      "To retain the current behavior and silence the warning, pass 'sort=True'.\n",
      "\n",
      "  return pd.concat([default_term_info] + list(topic_dfs))\n"
     ]
    },
    {
     "data": {
      "text/html": [
       "\n",
       "<link rel=\"stylesheet\" type=\"text/css\" href=\"https://cdn.rawgit.com/bmabey/pyLDAvis/files/ldavis.v1.0.0.css\">\n",
       "\n",
       "\n",
       "<div id=\"ldavis_el88147512945367389490786\"></div>\n",
       "<script type=\"text/javascript\">\n",
       "\n",
       "var ldavis_el88147512945367389490786_data = {\"mdsDat\": {\"x\": [0.09663769885054299, 0.0405713143652199, 0.10340296841387836, 0.15752582826030564, -0.3981378098899465], \"y\": [-0.14027598692271792, -0.2876053235767136, 0.14455400091982715, 0.22150176447155395, 0.061825545108050405], \"topics\": [1, 2, 3, 4, 5], \"cluster\": [1, 1, 1, 1, 1], \"Freq\": [23.853885313512546, 22.889999492225822, 21.130330103249477, 17.472389473947977, 14.653395617064186]}, \"tinfo\": {\"Category\": [\"Default\", \"Default\", \"Default\", \"Default\", \"Default\", \"Default\", \"Default\", \"Default\", \"Default\", \"Default\", \"Default\", \"Default\", \"Default\", \"Default\", \"Default\", \"Default\", \"Default\", \"Default\", \"Default\", \"Default\", \"Default\", \"Default\", \"Default\", \"Default\", \"Default\", \"Default\", \"Default\", \"Default\", \"Default\", \"Default\", \"Topic1\", \"Topic1\", \"Topic1\", \"Topic1\", \"Topic1\", \"Topic1\", \"Topic1\", \"Topic1\", \"Topic1\", \"Topic1\", \"Topic1\", \"Topic1\", \"Topic1\", \"Topic1\", \"Topic1\", \"Topic1\", \"Topic1\", \"Topic1\", \"Topic1\", \"Topic1\", \"Topic1\", \"Topic1\", \"Topic1\", \"Topic1\", \"Topic1\", \"Topic1\", \"Topic1\", \"Topic1\", \"Topic1\", \"Topic1\", \"Topic1\", \"Topic1\", \"Topic1\", \"Topic1\", \"Topic1\", \"Topic1\", \"Topic1\", \"Topic1\", \"Topic1\", \"Topic1\", \"Topic1\", \"Topic1\", \"Topic1\", \"Topic1\", \"Topic1\", \"Topic1\", \"Topic2\", \"Topic2\", \"Topic2\", \"Topic2\", \"Topic2\", \"Topic2\", \"Topic2\", \"Topic2\", \"Topic2\", \"Topic2\", \"Topic2\", \"Topic2\", \"Topic2\", \"Topic2\", \"Topic2\", \"Topic2\", \"Topic2\", \"Topic2\", \"Topic2\", \"Topic2\", \"Topic2\", \"Topic2\", \"Topic2\", \"Topic2\", \"Topic2\", \"Topic2\", \"Topic2\", \"Topic2\", \"Topic2\", \"Topic2\", \"Topic2\", \"Topic2\", \"Topic2\", \"Topic2\", \"Topic2\", \"Topic2\", \"Topic2\", \"Topic2\", \"Topic2\", \"Topic2\", \"Topic2\", \"Topic2\", \"Topic2\", \"Topic2\", \"Topic2\", \"Topic2\", \"Topic3\", \"Topic3\", \"Topic3\", \"Topic3\", \"Topic3\", \"Topic3\", \"Topic3\", \"Topic3\", \"Topic3\", \"Topic3\", \"Topic3\", \"Topic3\", \"Topic3\", \"Topic3\", \"Topic3\", \"Topic3\", \"Topic3\", \"Topic3\", \"Topic3\", \"Topic3\", \"Topic3\", \"Topic3\", \"Topic3\", \"Topic3\", \"Topic3\", \"Topic3\", \"Topic3\", \"Topic3\", \"Topic3\", \"Topic3\", \"Topic3\", \"Topic3\", \"Topic3\", \"Topic3\", \"Topic3\", \"Topic3\", \"Topic3\", \"Topic3\", \"Topic3\", \"Topic3\", \"Topic3\", \"Topic3\", \"Topic3\", \"Topic4\", \"Topic4\", \"Topic4\", \"Topic4\", \"Topic4\", \"Topic4\", \"Topic4\", \"Topic4\", \"Topic4\", \"Topic4\", \"Topic4\", \"Topic4\", \"Topic4\", \"Topic4\", \"Topic4\", \"Topic4\", \"Topic4\", \"Topic4\", \"Topic4\", \"Topic4\", \"Topic4\", \"Topic4\", \"Topic4\", \"Topic4\", \"Topic4\", \"Topic4\", \"Topic4\", \"Topic4\", \"Topic4\", \"Topic4\", \"Topic4\", \"Topic4\", \"Topic4\", \"Topic4\", \"Topic4\", \"Topic4\", \"Topic4\", \"Topic4\", \"Topic4\", \"Topic4\", \"Topic4\", \"Topic4\", \"Topic4\", \"Topic5\", \"Topic5\", \"Topic5\", \"Topic5\", \"Topic5\", \"Topic5\", \"Topic5\", \"Topic5\", \"Topic5\", \"Topic5\", \"Topic5\", \"Topic5\", \"Topic5\", \"Topic5\", \"Topic5\", \"Topic5\", \"Topic5\", \"Topic5\", \"Topic5\", \"Topic5\", \"Topic5\", \"Topic5\", \"Topic5\", \"Topic5\", \"Topic5\", \"Topic5\", \"Topic5\", \"Topic5\", \"Topic5\", \"Topic5\", \"Topic5\", \"Topic5\", \"Topic5\", \"Topic5\", \"Topic5\", \"Topic5\", \"Topic5\"], \"Freq\": [10502.0, 8828.0, 7687.0, 4377.0, 4457.0, 2923.0, 3082.0, 3566.0, 3251.0, 3216.0, 3036.0, 2778.0, 9367.0, 3450.0, 2260.0, 2899.0, 2420.0, 2471.0, 3327.0, 3486.0, 1765.0, 1809.0, 2109.0, 1546.0, 1493.0, 1844.0, 1820.0, 1917.0, 1742.0, 1863.0, 3565.3149405995127, 3035.368761593667, 2470.807431072839, 2108.2185781080807, 1916.526929578452, 1734.3351304095208, 1685.5957869634992, 1487.2889173242952, 1221.384696683722, 1184.4036425528545, 1182.276078415064, 1170.1864972575386, 1112.8652149005436, 1055.760774657542, 978.388242818024, 976.2173662481583, 906.7421616825186, 832.4203749618175, 840.5263126477025, 803.7880777615827, 791.0222551166818, 739.1206571551687, 688.8968557257499, 672.4444687769733, 670.7831491083634, 651.1998514829415, 594.3143297529658, 583.4886617390572, 581.1996807271951, 569.4486446124902, 571.7809117203401, 7347.046276689179, 3199.9155497055776, 2263.926572236243, 1499.9714705646109, 1065.876185691993, 2068.609173189415, 918.5498843180517, 1891.1751070257, 1260.0076362839252, 1901.6590945716596, 1524.293816423727, 974.8833971766952, 1122.652967778318, 1137.3996377606013, 1008.3092579262035, 2420.109273684257, 1312.6710191017953, 1318.712744341314, 1229.6578851454362, 1177.9680107542747, 1170.4034374613157, 1127.8898228779346, 1086.9453499641293, 1055.4453643711372, 987.1588352424957, 980.9572167453052, 969.4617882325178, 954.8909446039974, 924.0451726102792, 838.6912660390194, 791.1312827074067, 787.8541433383762, 733.8076936462226, 712.1408482356318, 704.0447346731116, 710.6336996901501, 694.5406626055549, 618.8556937107667, 584.6668137482158, 592.6103441568755, 545.815996999021, 529.6548015138536, 512.4975398599584, 498.74083145162615, 497.092277550806, 1228.5766881701227, 1843.5921331484426, 577.1694405414801, 795.981571347801, 2836.174207351995, 1942.0347016560993, 2102.471608917356, 1285.6516744482437, 1135.6250357629879, 1203.9213162673184, 1650.2873578582235, 1342.1231270801827, 1055.0798564093923, 1367.2114504523815, 972.0496351137201, 841.4634485907203, 4376.339838429929, 3250.6786091904187, 3215.5174206347015, 2777.745289020611, 1843.450357438301, 1819.2776310532197, 1741.4173559109063, 1437.7126256842519, 1387.0710783386137, 1299.5775351999803, 1222.1631503207868, 1200.652867151739, 1205.398413324821, 1175.841912867758, 1112.8084261748854, 1107.4533845470337, 1059.928291060428, 960.5524298282959, 947.6871149076292, 797.2187235311818, 774.4371857665867, 750.0357542419579, 734.9015061545501, 690.3729496207316, 661.7750044342174, 616.9968452305378, 611.4424972766726, 604.9718591363802, 592.6576898384518, 590.1213174834339, 1184.9207774371325, 4264.13924366118, 2465.702029381997, 4565.454367760533, 1314.5582274883352, 1124.9629296165547, 1690.153554515898, 1723.88177251133, 1109.5576169757442, 1791.9422218484738, 1382.8697829810155, 1293.891739871405, 1042.7406587918215, 10501.716258609329, 3081.6609890808836, 2259.8768595722513, 1808.3664555776097, 1480.6751537979467, 1394.5576036712, 1335.1629270258595, 1282.7510656278882, 1264.3685932138046, 1251.3245344763495, 1228.689506140651, 983.3640592130727, 945.3600214677551, 923.5688726903694, 885.9675052027086, 848.091634155291, 778.513853409053, 715.5941101527178, 672.0958916239815, 667.7296000394127, 667.4608133865553, 620.8343514079917, 607.5924309773279, 587.7181715859442, 575.4328804143597, 549.3268973607438, 541.1557848251226, 529.6123760599136, 514.8941746341585, 493.97361025958315, 577.2137368459044, 1609.6499869638833, 2304.3937623462016, 1639.8768694476244, 1205.5950641781335, 1352.6286186921036, 1109.714302479114, 2501.153589522957, 901.9847619536479, 1213.6745868670462, 1020.5290003976484, 938.8414211774724, 816.2646675552893, 8827.935968250817, 2922.9527962692337, 1764.8713368560545, 1546.0790362012876, 1492.6802532733125, 1348.5488320759089, 1160.9762051986381, 1138.6278925054676, 1096.239083421656, 1077.3196021507713, 1044.4406754986255, 932.9315772583626, 835.6659258130949, 781.4563299904045, 732.16157381499, 689.123859042989, 682.7908479898329, 673.4307422419347, 662.0314230037787, 616.2520170249511, 608.3826251313809, 602.7353743809336, 570.7439553616406, 517.5715418894952, 518.9907119779551, 487.5736415992313, 478.9396298834423, 476.276690422669, 477.220654880122, 439.9337367432191, 772.5667692382807, 715.9134817462748, 1302.8833892832672, 654.5792780800019, 1285.44966865425, 778.7039477347809, 586.9880428517027], \"Term\": [\"friend\", \"new\", \"work\", \"first\", \"family\", \"bought\", \"game\", \"found\", \"dinner\", \"daughter\", \"job\", \"birthday\", \"time\", \"night\", \"house\", \"old\", \"getting\", \"dog\", \"life\", \"son\", \"lunch\", \"gave\", \"received\", \"food\", \"ate\", \"sister\", \"movie\", \"girlfriend\", \"watched\", \"thing\", \"found\", \"job\", \"dog\", \"received\", \"girlfriend\", \"mother\", \"money\", \"finished\", \"ive\", \"video\", \"spent\", \"didnt\", \"something\", \"book\", \"early\", \"watch\", \"called\", \"card\", \"making\", \"hit\", \"company\", \"buy\", \"paid\", \"pay\", \"call\", \"mturk\", \"several\", \"dollar\", \"promotion\", \"extra\", \"ever\", \"work\", \"night\", \"finally\", \"hour\", \"working\", \"get\", \"wanted\", \"home\", \"morning\", \"time\", \"good\", \"told\", \"nice\", \"one\", \"long\", \"getting\", \"people\", \"could\", \"feeling\", \"also\", \"class\", \"better\", \"project\", \"help\", \"hard\", \"come\", \"sleep\", \"know\", \"completed\", \"person\", \"helped\", \"want\", \"asked\", \"state\", \"goal\", \"never\", \"lost\", \"result\", \"face\", \"given\", \"think\", \"city\", \"different\", \"everything\", \"puppy\", \"make\", \"thing\", \"say\", \"every\", \"life\", \"feel\", \"moment\", \"well\", \"would\", \"started\", \"one\", \"get\", \"event\", \"good\", \"much\", \"finally\", \"first\", \"dinner\", \"daughter\", \"birthday\", \"sister\", \"movie\", \"watched\", \"mom\", \"watching\", \"show\", \"party\", \"gift\", \"college\", \"said\", \"child\", \"parent\", \"surprise\", \"store\", \"dad\", \"coffee\", \"exam\", \"song\", \"local\", \"member\", \"breakfast\", \"passed\", \"cousin\", \"ice\", \"cream\", \"plan\", \"baby\", \"family\", \"son\", \"time\", \"enjoyed\", \"trip\", \"nice\", \"see\", \"brother\", \"home\", \"wife\", \"husband\", \"together\", \"friend\", \"game\", \"house\", \"gave\", \"weekend\", \"kid\", \"play\", \"met\", \"seeing\", \"playing\", \"boyfriend\", \"seen\", \"beautiful\", \"shopping\", \"couple\", \"talked\", \"summer\", \"talk\", \"meet\", \"wedding\", \"weather\", \"minute\", \"celebrated\", \"computer\", \"mine\", \"marriage\", \"close\", \"music\", \"hadnt\", \"flower\", \"run\", \"best\", \"old\", \"long\", \"saw\", \"school\", \"year\", \"time\", \"fun\", \"see\", \"son\", \"one\", \"great\", \"new\", \"bought\", \"lunch\", \"food\", \"ate\", \"played\", \"excited\", \"cat\", \"vacation\", \"delicious\", \"restaurant\", \"team\", \"park\", \"tv\", \"date\", \"meal\", \"pizza\", \"amazing\", \"purchased\", \"cooked\", \"turned\", \"mail\", \"beach\", \"ordered\", \"news\", \"bike\", \"apartment\", \"ride\", \"problem\", \"coworker\", \"father\", \"looking\", \"car\", \"eat\", \"good\", \"great\", \"well\"], \"Total\": [10502.0, 8828.0, 7687.0, 4377.0, 4457.0, 2923.0, 3082.0, 3566.0, 3251.0, 3216.0, 3036.0, 2778.0, 9367.0, 3450.0, 2260.0, 2899.0, 2420.0, 2471.0, 3327.0, 3486.0, 1765.0, 1809.0, 2109.0, 1546.0, 1493.0, 1844.0, 1820.0, 1917.0, 1742.0, 1863.0, 3566.1146384647254, 3036.162368409491, 2471.6044796515607, 2109.013899716863, 1917.3274076829932, 1735.143890695108, 1686.3884316253213, 1488.1028915998231, 1222.1847649788187, 1185.2121073742962, 1183.0833824132435, 1170.9905247942363, 1113.6713249599713, 1056.5553137459708, 979.1956298491933, 977.0238573274454, 907.5470280027548, 833.2153635982221, 841.3341587779383, 804.5886666138423, 791.8196274050108, 739.9200805332542, 689.6879486715719, 673.2354790209973, 671.5844513483175, 651.9895555707092, 595.116439264946, 584.2814944682731, 581.9908123495374, 570.2452898469832, 572.59146021933, 7687.8660681387555, 3450.4910122581746, 3231.2094983350567, 2177.6176687045977, 1365.7991784818796, 3979.44050906273, 1136.742504834082, 4058.0563072184373, 2597.4494545217135, 9367.085568912491, 5707.826653372282, 1508.3484727547964, 2813.4141612075437, 5241.995433108642, 3072.9356723706414, 2420.9014644363806, 1313.4588611933057, 1319.5574762593556, 1230.4475009250232, 1178.763162094575, 1171.195690237744, 1128.677104033369, 1087.7336301040107, 1056.2324624838484, 987.9513335027642, 981.7505498811992, 970.2506371522556, 955.68015554755, 924.8357460749868, 839.4784166631886, 791.9215962524117, 788.6437075615157, 734.5992089053401, 712.9290093587042, 704.8293336140307, 711.4260121085688, 695.3285136344534, 619.6430729245582, 585.4603003460587, 593.4187230706829, 546.6048905359407, 530.4529523700232, 513.2881483614369, 499.5314519176712, 497.8841924841321, 1234.9059190767491, 1863.4827706250792, 578.4643643265076, 800.8360774581162, 3327.1966288773065, 2540.0197794957257, 3418.5913499425524, 1885.298925351558, 1575.2139847663016, 1761.6723316250743, 5241.995433108642, 3979.44050906273, 2446.290562147299, 5707.826653372282, 1995.743202829885, 3231.2094983350567, 4377.138364599464, 3251.4756016620054, 3216.311040441042, 2778.5365933635417, 1844.2445232825683, 1820.0676176228428, 1742.2099023756996, 1438.5089093697597, 1387.8656435394905, 1300.3719280316052, 1222.9561378060396, 1201.4483396770656, 1206.1980096151617, 1176.6476369342702, 1113.6042418526852, 1108.249716875514, 1060.7243436729934, 961.3554985158318, 948.481765515925, 798.0167862786435, 775.2347729689529, 750.8318715271333, 735.706647172575, 691.1669577734123, 662.5706415341751, 617.7928876738754, 612.2385431584395, 605.762391976772, 593.4479354598589, 590.9253652258263, 1188.3046012395396, 4457.587277812472, 3486.826965161084, 9367.085568912491, 1782.6505441104766, 1476.5664909022673, 2813.4141612075437, 3184.0086210759287, 1540.4687819506466, 4058.0563072184373, 2660.4374698110837, 2534.7976797794936, 1661.181998535028, 10502.504853792881, 3082.4511989614757, 2260.6710788452456, 1809.1623194876017, 1481.4660110094069, 1395.3495208074728, 1335.9511296898434, 1283.539094176143, 1265.1623867160008, 1252.1121426754426, 1229.4805503924258, 984.1496589367828, 946.1518959910551, 924.3598826439165, 886.7644310047859, 848.8793993331046, 779.3078435126796, 716.3919214788204, 672.886577882795, 668.5168566324511, 668.2498320577648, 621.6325441631894, 608.385136405093, 588.5140538568618, 576.2284417961586, 550.1128090891659, 541.9459187116487, 530.4060721348504, 515.6801123466421, 494.7678164204361, 582.6515612703878, 1773.8084044054542, 2899.9360094980866, 3072.9356723706414, 1912.332854579856, 2379.6299919540616, 1917.7934608791206, 9367.085568912491, 1515.3152899163267, 3184.0086210759287, 3486.826965161084, 5241.995433108642, 3376.9727794584796, 8828.732333700376, 2923.740546375165, 1765.6607011432206, 1546.868734269003, 1493.4649504664358, 1349.3459022001473, 1161.7796506493141, 1139.4194271607637, 1097.0333908223904, 1078.1035416700317, 1045.2293143866204, 933.7223356005097, 836.4607590212754, 782.2516030396918, 732.9567303724683, 689.9120703768315, 683.5761013390558, 674.2291282490518, 662.8241318215917, 617.0420343215428, 609.1772495018288, 603.5271615312139, 571.5367518244434, 518.3588562873568, 519.7889781784336, 488.36108416510496, 479.7305266960314, 477.0678041210521, 478.0190360220666, 440.7279991734739, 774.5692641821063, 806.12742629031, 2045.087433124455, 930.2735973798722, 5707.826653372282, 3376.9727794584796, 1885.298925351558], \"loglift\": [30.0, 29.0, 28.0, 27.0, 26.0, 25.0, 24.0, 23.0, 22.0, 21.0, 20.0, 19.0, 18.0, 17.0, 16.0, 15.0, 14.0, 13.0, 12.0, 11.0, 10.0, 9.0, 8.0, 7.0, 6.0, 5.0, 4.0, 3.0, 2.0, 1.0, 1.433, 1.433, 1.4329, 1.4328, 1.4328, 1.4328, 1.4328, 1.4327, 1.4326, 1.4325, 1.4325, 1.4325, 1.4325, 1.4325, 1.4324, 1.4324, 1.4323, 1.4323, 1.4323, 1.4322, 1.4322, 1.4321, 1.4321, 1.432, 1.432, 1.432, 1.4319, 1.4319, 1.4319, 1.4318, 1.4318, 1.3879, 1.3578, 1.0775, 1.0604, 1.1853, 0.779, 1.2201, 0.6697, 0.7098, -0.1613, 0.1129, 0.9968, 0.5145, -0.0947, 0.3189, 1.4741, 1.4739, 1.4738, 1.4738, 1.4738, 1.4738, 1.4738, 1.4737, 1.4737, 1.4737, 1.4737, 1.4737, 1.4736, 1.4736, 1.4735, 1.4735, 1.4735, 1.4734, 1.4734, 1.4734, 1.4734, 1.4733, 1.4732, 1.4731, 1.4731, 1.473, 1.473, 1.4729, 1.4729, 1.4729, 1.4693, 1.4637, 1.4722, 1.4684, 1.3148, 1.206, 0.9884, 1.0916, 1.1473, 1.0938, 0.3187, 0.3876, 0.6335, 0.0454, 0.7551, 0.129, 1.5543, 1.5542, 1.5542, 1.5542, 1.554, 1.554, 1.554, 1.5539, 1.5539, 1.5538, 1.5538, 1.5538, 1.5538, 1.5538, 1.5537, 1.5537, 1.5537, 1.5536, 1.5536, 1.5535, 1.5534, 1.5534, 1.5534, 1.5533, 1.5533, 1.5532, 1.5532, 1.5532, 1.5531, 1.5531, 1.5516, 1.5101, 1.2079, 0.8358, 1.2499, 1.2825, 1.0449, 0.9409, 1.2263, 0.7371, 0.9001, 0.882, 1.0888, 1.7445, 1.7443, 1.7442, 1.7441, 1.744, 1.744, 1.744, 1.7439, 1.7439, 1.7439, 1.7439, 1.7437, 1.7437, 1.7437, 1.7436, 1.7436, 1.7435, 1.7434, 1.7434, 1.7434, 1.7434, 1.7433, 1.7432, 1.7432, 1.7432, 1.7431, 1.7431, 1.7431, 1.743, 1.7429, 1.7352, 1.6474, 1.5147, 1.1165, 1.2832, 1.1797, 1.1975, 0.4241, 1.2258, 0.7801, 0.5159, 0.0247, 0.3246, 1.9204, 1.9202, 1.9201, 1.92, 1.92, 1.9199, 1.9198, 1.9198, 1.9198, 1.9198, 1.9197, 1.9197, 1.9195, 1.9195, 1.9194, 1.9194, 1.9193, 1.9193, 1.9193, 1.9192, 1.9192, 1.9192, 1.9191, 1.919, 1.919, 1.9189, 1.9188, 1.9188, 1.9188, 1.9187, 1.9179, 1.8018, 1.4696, 1.569, 0.4298, 0.4534, 0.7537], \"logprob\": [30.0, 29.0, 28.0, 27.0, 26.0, 25.0, 24.0, 23.0, 22.0, 21.0, 20.0, 19.0, 18.0, 17.0, 16.0, 15.0, 14.0, 13.0, 12.0, 11.0, 10.0, 9.0, 8.0, 7.0, 6.0, 5.0, 4.0, 3.0, 2.0, 1.0, -3.9323, -4.0932, -4.299, -4.4577, -4.5531, -4.653, -4.6815, -4.8066, -5.0036, -5.0343, -5.0361, -5.0464, -5.0966, -5.1493, -5.2254, -5.2276, -5.3015, -5.387, -5.3773, -5.422, -5.438, -5.5059, -5.5762, -5.6004, -5.6029, -5.6325, -5.7239, -5.7423, -5.7462, -5.7667, -5.7626, -3.2093, -4.0405, -4.3865, -4.7981, -5.1398, -4.4767, -5.2885, -4.5664, -4.9725, -4.5608, -4.782, -5.229, -5.0879, -5.0748, -5.1953, -4.2785, -4.8903, -4.8857, -4.9556, -4.9985, -5.005, -5.042, -5.079, -5.1084, -5.1753, -5.1816, -5.1933, -5.2085, -5.2413, -5.3382, -5.3966, -5.4008, -5.4718, -5.5018, -5.5132, -5.5039, -5.5268, -5.6422, -5.699, -5.6855, -5.7678, -5.7979, -5.8308, -5.858, -5.8613, -4.9565, -4.5506, -5.7119, -5.3905, -4.1199, -4.4986, -4.4192, -4.9111, -5.0351, -4.9767, -4.6614, -4.8681, -5.1087, -4.8496, -5.1907, -5.3349, -3.6061, -3.9035, -3.9144, -4.0607, -4.4707, -4.4839, -4.5276, -4.7193, -4.7551, -4.8203, -4.8817, -4.8995, -4.8955, -4.9204, -4.9755, -4.9803, -5.0241, -5.1226, -5.1361, -5.309, -5.338, -5.37, -5.3904, -5.4529, -5.4952, -5.5652, -5.5743, -5.5849, -5.6055, -5.6098, -4.9127, -3.6321, -4.1799, -3.5638, -4.8088, -4.9646, -4.5575, -4.5378, -4.9784, -4.499, -4.7582, -4.8247, -5.0405, -2.5407, -3.7668, -4.0769, -4.2998, -4.4998, -4.5597, -4.6032, -4.6432, -4.6577, -4.668, -4.6863, -4.909, -4.9484, -4.9718, -5.0133, -5.057, -5.1426, -5.2269, -5.2896, -5.2961, -5.2965, -5.3689, -5.3905, -5.4238, -5.4449, -5.4913, -5.5063, -5.5279, -5.556, -5.5975, -5.4418, -4.4162, -4.0574, -4.3976, -4.7053, -4.5902, -4.7881, -3.9755, -4.9954, -4.6986, -4.8719, -4.9554, -5.0953, -2.5384, -3.6437, -4.1482, -4.2806, -4.3157, -4.4173, -4.567, -4.5865, -4.6244, -4.6418, -4.6728, -4.7857, -4.8958, -4.9629, -5.0281, -5.0886, -5.0979, -5.1117, -5.1287, -5.2004, -5.2133, -5.2226, -5.2771, -5.3749, -5.3722, -5.4346, -5.4525, -5.4581, -5.4561, -5.5374, -4.9743, -5.0505, -4.4517, -5.1401, -4.4652, -4.9664, -5.2491]}, \"token.table\": {\"Topic\": [2, 5, 5, 2, 5, 1, 3, 5, 4, 2, 4, 2, 5, 3, 1, 5, 4, 3, 3, 4, 1, 1, 1, 1, 5, 1, 5, 4, 3, 2, 2, 4, 3, 3, 2, 1, 2, 4, 5, 2, 4, 3, 5, 3, 3, 5, 3, 5, 1, 2, 3, 1, 1, 1, 3, 5, 3, 4, 2, 3, 4, 1, 1, 2, 2, 3, 5, 1, 2, 3, 5, 3, 5, 1, 2, 3, 2, 1, 2, 3, 1, 3, 4, 5, 1, 4, 2, 3, 4, 4, 4, 1, 2, 3, 4, 2, 3, 1, 2, 2, 1, 2, 3, 4, 5, 1, 2, 3, 4, 5, 4, 2, 2, 2, 1, 1, 3, 4, 1, 2, 4, 4, 1, 3, 4, 5, 3, 1, 1, 4, 2, 2, 3, 3, 1, 3, 4, 2, 5, 2, 5, 5, 2, 3, 1, 4, 5, 4, 3, 4, 4, 4, 3, 2, 3, 4, 1, 1, 3, 4, 1, 3, 1, 1, 2, 3, 5, 4, 2, 5, 5, 1, 3, 1, 3, 3, 4, 1, 2, 3, 4, 5, 5, 1, 3, 5, 3, 3, 1, 2, 2, 5, 3, 4, 5, 4, 5, 2, 1, 2, 5, 1, 5, 2, 5, 2, 4, 3, 3, 4, 2, 3, 3, 4, 1, 2, 3, 4, 4, 4, 1, 4, 3, 3, 2, 1, 3, 4, 3, 1, 2, 3, 2, 3, 4, 3, 4, 4, 5, 2, 3, 4, 2, 1, 2, 3, 4, 3, 4, 1, 2, 3, 5, 5, 5, 5, 1, 2, 1, 3, 4, 1, 3, 3, 4, 4, 4, 1, 2, 5, 1, 3, 4, 5, 1, 2, 1, 2, 1, 2, 1, 2, 3, 4], \"Freq\": [0.9993525738510365, 0.998176987321441, 0.9984772144873443, 0.9991843049950557, 0.9996886766801655, 0.0025246052206401052, 0.9972190621528415, 0.9990608621007661, 0.9987825464431919, 0.0924564341857257, 0.9076515795062097, 0.9994000905742224, 0.9992606205186839, 0.9998068791446464, 0.9994744110992145, 0.9997467126910138, 0.9996091435588205, 0.9991387461224455, 0.7205598795675965, 0.2791358092018617, 0.9987565136324031, 0.9991297425853977, 0.999397245557667, 0.3628206735720747, 0.637136573671716, 0.9985413571912866, 0.999631893970942, 0.9993669529677061, 0.9994573998284346, 0.9991461026505754, 0.9989790858626697, 0.9982545883657591, 0.9987258585331455, 0.9990067885988769, 0.9992354983847068, 0.9989648811716162, 0.9990963302634726, 0.9991265223770055, 0.9983112425676339, 0.9995775278687096, 0.9991379548185985, 0.9979770251770658, 0.9983481894165127, 0.9992451983854123, 0.9994920666548999, 0.9986946973363869, 0.999903292798137, 0.9989764047446479, 0.9991541137410908, 0.9974903991733511, 0.9998537274393933, 0.9997554302654258, 0.9978067173435994, 0.9987789673352837, 0.2956119584330256, 0.7040939373586611, 0.7376656094176723, 0.2619694597703825, 0.4312652046835943, 0.3274345298119043, 0.24118148887518545, 0.9989670467332792, 0.004994779971322159, 0.9939612142931097, 0.9989360991872864, 0.9984072270594571, 0.9993289169345682, 0.9978162207226344, 0.9992137804291996, 0.9565712871678256, 0.04329696492105777, 0.0012910401254507995, 0.9979740169734681, 0.11417233926326911, 0.7645609753423056, 0.12125889825202375, 0.9996363104279649, 0.7006664226403673, 0.26027405540660287, 0.038685204430232295, 0.9992588606567134, 0.999739929491681, 0.9984481277986287, 0.9994383917330817, 0.9996874361657635, 0.9999519301538148, 0.17026159619510361, 0.23427467693512322, 0.5952556580154398, 0.9998536233236628, 0.999357537201012, 0.5199223346317363, 0.3372333364310247, 0.08141848062865277, 0.061315152078368136, 0.9996276327435778, 0.9996268339950546, 0.9998292374679039, 0.9992943885078042, 0.9988233554216901, 0.267001801657658, 0.2394957105420069, 0.17292045816017618, 0.09530772972556822, 0.22512947187013818, 0.18004290816270568, 0.18655761865543516, 0.16109102309294718, 0.24163653463942078, 0.23067997608346666, 0.9986811352030871, 0.9990370644074225, 0.9988331522390913, 0.9988362531634786, 0.9992683632789414, 0.4659866342012812, 0.44159071839698355, 0.09240877198597591, 0.6888261523393622, 0.022501654309752497, 0.2883885491127463, 0.999703150603586, 0.2615593367821275, 0.5104943918492806, 0.07219511105751031, 0.15583097741921625, 0.9987414339568289, 0.9990306171269945, 0.9996171586797908, 0.9997495102106958, 0.9992883021127917, 0.8523692213997431, 0.14727112781589358, 0.9990394987250819, 0.32802508983937506, 0.13797880763084824, 0.5336916144212054, 0.11164488028172902, 0.8881970475746442, 0.999527541833807, 0.9996258051488642, 0.9991265322179097, 0.9952175149657032, 0.004858669723184881, 0.9996028227613821, 0.9979771256535392, 0.9986779904048739, 0.998682425966075, 0.9983116123242182, 0.9995799939568736, 0.9978681340470987, 0.9989824468343418, 0.9996462243880139, 0.6148731406681067, 0.296613398971199, 0.08804796162754526, 0.9997696665738232, 0.4850912489583027, 0.2598703119419479, 0.2548654022304733, 0.9993407516798796, 0.999413418703511, 0.9984822524191466, 0.2720790927560457, 0.48703660802739673, 0.2244777781854668, 0.016034127013247627, 0.9992344127335948, 0.9994011856450031, 0.9999170510926488, 0.9984821182988556, 0.3991591481568423, 0.6006936423731642, 0.9274042414925056, 0.072453456366602, 0.20517694116394694, 0.7945002898180399, 0.2169021347898674, 0.314765630961549, 0.18409020235023926, 0.17913025907448152, 0.1051126440362506, 0.9993077068463205, 0.9990025218319429, 0.9988723508280811, 0.9994491564412245, 0.9992181748989339, 0.9987165801198185, 0.9981648634697715, 0.9996506466956347, 0.9994301024854335, 0.9991572242828162, 0.9984340404384694, 0.9992880505366508, 0.999743651943076, 0.9991117866862419, 0.9978682103739075, 0.9993255425007495, 0.9982975464070689, 0.998224100107054, 0.998756635761998, 0.999519254132465, 0.998823880683693, 0.9989621881488596, 0.997761735099648, 0.008581458168752214, 0.9903002726740054, 0.9994495914376222, 0.3691825919892538, 0.6306433511884421, 0.9974685314829851, 0.0017287149592426084, 0.43115946742522265, 0.568575788914548, 0.0009422085041296939, 0.0763188888345052, 0.5414558203731974, 0.38128037467114945, 0.9990812351614262, 0.998831825092512, 0.9981239986139099, 0.9996106682573813, 0.9997139833430824, 0.9993251853174258, 0.9987110164071354, 0.9993971965112818, 0.7072332595334498, 0.2928163657679044, 0.9988920668412206, 0.9990842721406216, 0.6834415108792432, 0.31617684514928446, 0.9986969118292158, 0.9996302111795474, 0.9996049782954936, 0.9993171235511714, 0.9994529230899039, 0.9989640467965232, 0.9992263914303333, 0.9895449687369291, 0.0016098887777715766, 0.009122703074038934, 0.9988933678669657, 0.2030514172212073, 0.042595959764070296, 0.4873447526891752, 0.26699873526300705, 0.6278661825855363, 0.37202425775442133, 0.6464023517186934, 0.3533666189395524, 0.76190270260878, 0.23771364321393934, 0.9980674762513021, 0.9983999993929981, 0.9990580133375743, 0.9989773076340053, 0.9991837789925364, 0.8084504591777683, 0.1812195806209143, 0.010556480424519281, 0.9989520651724452, 0.999305535817441, 0.9993762771320696, 0.9981296934203243, 0.9992268607330941, 0.9996854392838285, 0.006365038370645822, 0.682119945387544, 0.3113564602974248, 0.2364272820306748, 0.5198393180420083, 0.057133460840481036, 0.18643550379525392, 0.9556618097769125, 0.04422553631742892, 0.7804954174777627, 0.21891944636571395, 0.27869229466314693, 0.7211718604495101, 0.25133050551702796, 0.06830766851188935, 0.10115792130768346, 0.5787901683068487], \"Term\": [\"also\", \"amazing\", \"apartment\", \"asked\", \"ate\", \"baby\", \"baby\", \"beach\", \"beautiful\", \"best\", \"best\", \"better\", \"bike\", \"birthday\", \"book\", \"bought\", \"boyfriend\", \"breakfast\", \"brother\", \"brother\", \"buy\", \"call\", \"called\", \"car\", \"car\", \"card\", \"cat\", \"celebrated\", \"child\", \"city\", \"class\", \"close\", \"coffee\", \"college\", \"come\", \"company\", \"completed\", \"computer\", \"cooked\", \"could\", \"couple\", \"cousin\", \"coworker\", \"cream\", \"dad\", \"date\", \"daughter\", \"delicious\", \"didnt\", \"different\", \"dinner\", \"dog\", \"dollar\", \"early\", \"eat\", \"eat\", \"enjoyed\", \"enjoyed\", \"event\", \"event\", \"event\", \"ever\", \"every\", \"every\", \"everything\", \"exam\", \"excited\", \"extra\", \"face\", \"family\", \"family\", \"father\", \"father\", \"feel\", \"feel\", \"feel\", \"feeling\", \"finally\", \"finally\", \"finally\", \"finished\", \"first\", \"flower\", \"food\", \"found\", \"friend\", \"fun\", \"fun\", \"fun\", \"game\", \"gave\", \"get\", \"get\", \"get\", \"get\", \"getting\", \"gift\", \"girlfriend\", \"given\", \"goal\", \"good\", \"good\", \"good\", \"good\", \"good\", \"great\", \"great\", \"great\", \"great\", \"great\", \"hadnt\", \"hard\", \"help\", \"helped\", \"hit\", \"home\", \"home\", \"home\", \"hour\", \"hour\", \"hour\", \"house\", \"husband\", \"husband\", \"husband\", \"husband\", \"ice\", \"ive\", \"job\", \"kid\", \"know\", \"life\", \"life\", \"local\", \"long\", \"long\", \"long\", \"looking\", \"looking\", \"lost\", \"lunch\", \"mail\", \"make\", \"make\", \"making\", \"marriage\", \"meal\", \"meet\", \"member\", \"met\", \"mine\", \"minute\", \"mom\", \"moment\", \"moment\", \"moment\", \"money\", \"morning\", \"morning\", \"morning\", \"mother\", \"movie\", \"mturk\", \"much\", \"much\", \"much\", \"much\", \"music\", \"never\", \"new\", \"news\", \"nice\", \"nice\", \"night\", \"night\", \"old\", \"old\", \"one\", \"one\", \"one\", \"one\", \"one\", \"ordered\", \"paid\", \"parent\", \"park\", \"party\", \"passed\", \"pay\", \"people\", \"person\", \"pizza\", \"plan\", \"play\", \"played\", \"playing\", \"problem\", \"project\", \"promotion\", \"puppy\", \"purchased\", \"received\", \"restaurant\", \"result\", \"ride\", \"run\", \"run\", \"said\", \"saw\", \"saw\", \"say\", \"say\", \"school\", \"school\", \"see\", \"see\", \"see\", \"see\", \"seeing\", \"seen\", \"several\", \"shopping\", \"show\", \"sister\", \"sleep\", \"something\", \"son\", \"son\", \"song\", \"spent\", \"started\", \"started\", \"state\", \"store\", \"summer\", \"surprise\", \"talk\", \"talked\", \"team\", \"thing\", \"thing\", \"thing\", \"think\", \"time\", \"time\", \"time\", \"time\", \"together\", \"together\", \"told\", \"told\", \"trip\", \"trip\", \"turned\", \"tv\", \"vacation\", \"video\", \"want\", \"wanted\", \"wanted\", \"wanted\", \"watch\", \"watched\", \"watching\", \"weather\", \"wedding\", \"weekend\", \"well\", \"well\", \"well\", \"wife\", \"wife\", \"wife\", \"wife\", \"work\", \"work\", \"working\", \"working\", \"would\", \"would\", \"year\", \"year\", \"year\", \"year\"]}, \"R\": 30, \"lambda.step\": 0.01, \"plot.opts\": {\"xlab\": \"PC1\", \"ylab\": \"PC2\"}, \"topic.order\": [2, 5, 4, 3, 1]};\n",
       "\n",
       "function LDAvis_load_lib(url, callback){\n",
       "  var s = document.createElement('script');\n",
       "  s.src = url;\n",
       "  s.async = true;\n",
       "  s.onreadystatechange = s.onload = callback;\n",
       "  s.onerror = function(){console.warn(\"failed to load library \" + url);};\n",
       "  document.getElementsByTagName(\"head\")[0].appendChild(s);\n",
       "}\n",
       "\n",
       "if(typeof(LDAvis) !== \"undefined\"){\n",
       "   // already loaded: just create the visualization\n",
       "   !function(LDAvis){\n",
       "       new LDAvis(\"#\" + \"ldavis_el88147512945367389490786\", ldavis_el88147512945367389490786_data);\n",
       "   }(LDAvis);\n",
       "}else if(typeof define === \"function\" && define.amd){\n",
       "   // require.js is available: use it to load d3/LDAvis\n",
       "   require.config({paths: {d3: \"https://cdnjs.cloudflare.com/ajax/libs/d3/3.5.5/d3.min\"}});\n",
       "   require([\"d3\"], function(d3){\n",
       "      window.d3 = d3;\n",
       "      LDAvis_load_lib(\"https://cdn.rawgit.com/bmabey/pyLDAvis/files/ldavis.v1.0.0.js\", function(){\n",
       "        new LDAvis(\"#\" + \"ldavis_el88147512945367389490786\", ldavis_el88147512945367389490786_data);\n",
       "      });\n",
       "    });\n",
       "}else{\n",
       "    // require.js not available: dynamically load d3 & LDAvis\n",
       "    LDAvis_load_lib(\"https://cdnjs.cloudflare.com/ajax/libs/d3/3.5.5/d3.min.js\", function(){\n",
       "         LDAvis_load_lib(\"https://cdn.rawgit.com/bmabey/pyLDAvis/files/ldavis.v1.0.0.js\", function(){\n",
       "                 new LDAvis(\"#\" + \"ldavis_el88147512945367389490786\", ldavis_el88147512945367389490786_data);\n",
       "            })\n",
       "         });\n",
       "}\n",
       "</script>"
      ],
      "text/plain": [
       "PreparedData(topic_coordinates=              x         y  topics  cluster       Freq\n",
       "topic                                                \n",
       "1      0.096638 -0.140276       1        1  23.853885\n",
       "4      0.040571 -0.287605       2        1  22.889999\n",
       "3      0.103403  0.144554       3        1  21.130330\n",
       "2      0.157526  0.221502       4        1  17.472389\n",
       "0     -0.398138  0.061826       5        1  14.653396, topic_info=      Category          Freq        Term         Total  loglift  logprob\n",
       "8456   Default  10502.000000      friend  10502.000000  30.0000  30.0000\n",
       "14551  Default   8828.000000         new   8828.000000  29.0000  29.0000\n",
       "24286  Default   7687.000000        work   7687.000000  28.0000  28.0000\n",
       "7975   Default   4377.000000       first   4377.000000  27.0000  27.0000\n",
       "7600   Default   4457.000000      family   4457.000000  26.0000  26.0000\n",
       "2506   Default   2923.000000      bought   2923.000000  25.0000  25.0000\n",
       "8700   Default   3082.000000        game   3082.000000  24.0000  24.0000\n",
       "8332   Default   3566.000000       found   3566.000000  23.0000  23.0000\n",
       "5914   Default   3251.000000      dinner   3251.000000  22.0000  22.0000\n",
       "5328   Default   3216.000000    daughter   3216.000000  21.0000  21.0000\n",
       "11510  Default   3036.000000         job   3036.000000  20.0000  20.0000\n",
       "2168   Default   2778.000000    birthday   2778.000000  19.0000  19.0000\n",
       "22102  Default   9367.000000        time   9367.000000  18.0000  18.0000\n",
       "14623  Default   3450.000000       night   3450.000000  17.0000  17.0000\n",
       "10346  Default   2260.000000       house   2260.000000  16.0000  16.0000\n",
       "15017  Default   2899.000000         old   2899.000000  15.0000  15.0000\n",
       "8879   Default   2420.000000     getting   2420.000000  14.0000  14.0000\n",
       "6170   Default   2471.000000         dog   2471.000000  13.0000  13.0000\n",
       "12391  Default   3327.000000        life   3327.000000  12.0000  12.0000\n",
       "20245  Default   3486.000000         son   3486.000000  11.0000  11.0000\n",
       "12806  Default   1765.000000       lunch   1765.000000  10.0000  10.0000\n",
       "8788   Default   1809.000000        gave   1809.000000   9.0000   9.0000\n",
       "17539  Default   2109.000000    received   2109.000000   8.0000   8.0000\n",
       "8201   Default   1546.000000        food   1546.000000   7.0000   7.0000\n",
       "1274   Default   1493.000000         ate   1493.000000   6.0000   6.0000\n",
       "19815  Default   1844.000000      sister   1844.000000   5.0000   5.0000\n",
       "14126  Default   1820.000000       movie   1820.000000   4.0000   4.0000\n",
       "8953   Default   1917.000000  girlfriend   1917.000000   3.0000   3.0000\n",
       "23782  Default   1742.000000     watched   1742.000000   2.0000   2.0000\n",
       "21934  Default   1863.000000       thing   1863.000000   1.0000   1.0000\n",
       "...        ...           ...         ...           ...      ...      ...\n",
       "3302    Topic5   1138.627893         cat   1139.419427   1.9198  -4.5865\n",
       "23267   Topic5   1096.239083    vacation   1097.033391   1.9198  -4.6244\n",
       "5572    Topic5   1077.319602   delicious   1078.103542   1.9198  -4.6418\n",
       "18163   Topic5   1044.440675  restaurant   1045.229314   1.9197  -4.6728\n",
       "21650   Topic5    932.931577        team    933.722336   1.9197  -4.7857\n",
       "15587   Topic5    835.665926        park    836.460759   1.9195  -4.8958\n",
       "22731   Topic5    781.456330          tv    782.251603   1.9195  -4.9629\n",
       "5323    Topic5    732.161574        date    732.956730   1.9194  -5.0281\n",
       "13346   Topic5    689.123859        meal    689.912070   1.9194  -5.0886\n",
       "16179   Topic5    682.790848       pizza    683.576101   1.9193  -5.0979\n",
       "672     Topic5    673.430742     amazing    674.229128   1.9193  -5.1117\n",
       "17117   Topic5    662.031423   purchased    662.824132   1.9193  -5.1287\n",
       "4662    Topic5    616.252017      cooked    617.042034   1.9192  -5.2004\n",
       "22709   Topic5    608.382625      turned    609.177250   1.9192  -5.2133\n",
       "12938   Topic5    602.735374        mail    603.527162   1.9192  -5.2226\n",
       "1820    Topic5    570.743955       beach    571.536752   1.9191  -5.2771\n",
       "15171   Topic5    517.571542     ordered    518.358856   1.9190  -5.3749\n",
       "14568   Topic5    518.990712        news    519.788978   1.9190  -5.3722\n",
       "2103    Topic5    487.573642        bike    488.361084   1.9189  -5.4346\n",
       "929     Topic5    478.939630   apartment    479.730527   1.9188  -5.4525\n",
       "18357   Topic5    476.276690        ride    477.067804   1.9188  -5.4581\n",
       "16816   Topic5    477.220655     problem    478.019036   1.9188  -5.4561\n",
       "4873    Topic5    439.933737    coworker    440.727999   1.9187  -5.5374\n",
       "7688    Topic5    772.566769      father    774.569264   1.9179  -4.9743\n",
       "12669   Topic5    715.913482     looking    806.127426   1.8018  -5.0505\n",
       "3158    Topic5   1302.883389         car   2045.087433   1.4696  -4.4517\n",
       "6584    Topic5    654.579278         eat    930.273597   1.5690  -5.1401\n",
       "9095    Topic5   1285.449669        good   5707.826653   0.4298  -4.4652\n",
       "9287    Topic5    778.703948       great   3376.972779   0.4534  -4.9664\n",
       "23926   Topic5    586.988043        well   1885.298925   0.7537  -5.2491\n",
       "\n",
       "[245 rows x 6 columns], token_table=       Topic      Freq        Term\n",
       "term                              \n",
       "629        2  0.999353        also\n",
       "672        5  0.998177     amazing\n",
       "929        5  0.998477   apartment\n",
       "1188       2  0.999184       asked\n",
       "1274       5  0.999689         ate\n",
       "1502       1  0.002525        baby\n",
       "1502       3  0.997219        baby\n",
       "1820       5  0.999061       beach\n",
       "1858       4  0.998783   beautiful\n",
       "2024       2  0.092456        best\n",
       "2024       4  0.907652        best\n",
       "2040       2  0.999400      better\n",
       "2103       5  0.999261        bike\n",
       "2168       3  0.999807    birthday\n",
       "2430       1  0.999474        book\n",
       "2506       5  0.999747      bought\n",
       "2545       4  0.999609   boyfriend\n",
       "2616       3  0.999139   breakfast\n",
       "2726       3  0.720560     brother\n",
       "2726       4  0.279136     brother\n",
       "2945       1  0.998757         buy\n",
       "3029       1  0.999130        call\n",
       "3031       1  0.999397      called\n",
       "3158       1  0.362821         car\n",
       "3158       5  0.637137         car\n",
       "3171       1  0.998541        card\n",
       "3302       5  0.999632         cat\n",
       "3381       4  0.999367  celebrated\n",
       "3660       3  0.999457       child\n",
       "3855       2  0.999146        city\n",
       "...      ...       ...         ...\n",
       "22731      5  0.998400          tv\n",
       "23267      5  0.999058    vacation\n",
       "23474      1  0.998977       video\n",
       "23720      2  0.999184        want\n",
       "23721      1  0.808450      wanted\n",
       "23721      3  0.181220      wanted\n",
       "23721      4  0.010556      wanted\n",
       "23779      1  0.998952       watch\n",
       "23782      3  0.999306     watched\n",
       "23785      3  0.999376    watching\n",
       "23845      4  0.998130     weather\n",
       "23859      4  0.999227     wedding\n",
       "23880      4  0.999685     weekend\n",
       "23926      1  0.006365        well\n",
       "23926      2  0.682120        well\n",
       "23926      5  0.311356        well\n",
       "24091      1  0.236427        wife\n",
       "24091      3  0.519839        wife\n",
       "24091      4  0.057133        wife\n",
       "24091      5  0.186436        wife\n",
       "24286      1  0.955662        work\n",
       "24286      2  0.044226        work\n",
       "24312      1  0.780495     working\n",
       "24312      2  0.218919     working\n",
       "24369      1  0.278692       would\n",
       "24369      2  0.721172       would\n",
       "24486      1  0.251331        year\n",
       "24486      2  0.068308        year\n",
       "24486      3  0.101158        year\n",
       "24486      4  0.578790        year\n",
       "\n",
       "[284 rows x 3 columns], R=30, lambda_step=0.01, plot_opts={'xlab': 'PC1', 'ylab': 'PC2'}, topic_order=[2, 5, 4, 3, 1])"
      ]
     },
     "execution_count": 98,
     "metadata": {},
     "output_type": "execute_result"
    }
   ],
   "source": [
    "import pyLDAvis\n",
    "import pyLDAvis.sklearn\n",
    "pyLDAvis.enable_notebook()\n",
    "pyLDAvis.sklearn.prepare(best_lda_model, df_bow, bow_transformer)"
   ]
  },
  {
   "cell_type": "markdown",
   "metadata": {},
   "source": [
    "Although there's overlap between the blobs, this topic model is fairly good to identify different topics. And topic leisure is separated distinctly from the other 4 topics."
   ]
  },
  {
   "cell_type": "markdown",
   "metadata": {},
   "source": [
    "## Update the data with new topics"
   ]
  },
  {
   "cell_type": "code",
   "execution_count": 224,
   "metadata": {},
   "outputs": [],
   "source": [
    "# Create Document - Topic Matrix\n",
    "lda_output = best_lda_model.transform(df_bow)"
   ]
  },
  {
   "cell_type": "code",
   "execution_count": 225,
   "metadata": {},
   "outputs": [],
   "source": [
    "# Column names\n",
    "topicnames = ['Topoc' + str(i) for i in range(5)]"
   ]
  },
  {
   "cell_type": "code",
   "execution_count": 226,
   "metadata": {},
   "outputs": [],
   "source": [
    "# index names\n",
    "docnames = [\"Doc\" + str(i) for i in range(len(df))]"
   ]
  },
  {
   "cell_type": "code",
   "execution_count": 227,
   "metadata": {},
   "outputs": [],
   "source": [
    "# Make the pandas dataframe\n",
    "df_document_topic = pd.DataFrame(np.round(lda_output, 2), columns=topicnames, index=docnames)"
   ]
  },
  {
   "cell_type": "code",
   "execution_count": 228,
   "metadata": {},
   "outputs": [],
   "source": [
    "# Get dominant topic for each document\n",
    "dominant_topic = np.argmax(df_document_topic.values, axis=1)\n",
    "df_document_topic['dominant_topic'] = dominant_topic"
   ]
  },
  {
   "cell_type": "code",
   "execution_count": 229,
   "metadata": {},
   "outputs": [
    {
     "data": {
      "text/html": [
       "<div>\n",
       "<style scoped>\n",
       "    .dataframe tbody tr th:only-of-type {\n",
       "        vertical-align: middle;\n",
       "    }\n",
       "\n",
       "    .dataframe tbody tr th {\n",
       "        vertical-align: top;\n",
       "    }\n",
       "\n",
       "    .dataframe thead th {\n",
       "        text-align: right;\n",
       "    }\n",
       "</style>\n",
       "<table border=\"1\" class=\"dataframe\">\n",
       "  <thead>\n",
       "    <tr style=\"text-align: right;\">\n",
       "      <th></th>\n",
       "      <th>Topoc0</th>\n",
       "      <th>Topoc1</th>\n",
       "      <th>Topoc2</th>\n",
       "      <th>Topoc3</th>\n",
       "      <th>Topoc4</th>\n",
       "      <th>dominant_topic</th>\n",
       "    </tr>\n",
       "  </thead>\n",
       "  <tbody>\n",
       "    <tr>\n",
       "      <th>Doc0</th>\n",
       "      <td>0.64</td>\n",
       "      <td>0.04</td>\n",
       "      <td>0.04</td>\n",
       "      <td>0.04</td>\n",
       "      <td>0.24</td>\n",
       "      <td>0</td>\n",
       "    </tr>\n",
       "    <tr>\n",
       "      <th>Doc1</th>\n",
       "      <td>0.30</td>\n",
       "      <td>0.05</td>\n",
       "      <td>0.05</td>\n",
       "      <td>0.30</td>\n",
       "      <td>0.30</td>\n",
       "      <td>0</td>\n",
       "    </tr>\n",
       "    <tr>\n",
       "      <th>Doc2</th>\n",
       "      <td>0.05</td>\n",
       "      <td>0.80</td>\n",
       "      <td>0.05</td>\n",
       "      <td>0.05</td>\n",
       "      <td>0.05</td>\n",
       "      <td>1</td>\n",
       "    </tr>\n",
       "    <tr>\n",
       "      <th>Doc3</th>\n",
       "      <td>0.02</td>\n",
       "      <td>0.02</td>\n",
       "      <td>0.92</td>\n",
       "      <td>0.02</td>\n",
       "      <td>0.02</td>\n",
       "      <td>2</td>\n",
       "    </tr>\n",
       "    <tr>\n",
       "      <th>Doc4</th>\n",
       "      <td>0.03</td>\n",
       "      <td>0.03</td>\n",
       "      <td>0.03</td>\n",
       "      <td>0.03</td>\n",
       "      <td>0.87</td>\n",
       "      <td>4</td>\n",
       "    </tr>\n",
       "  </tbody>\n",
       "</table>\n",
       "</div>"
      ],
      "text/plain": [
       "      Topoc0  Topoc1  Topoc2  Topoc3  Topoc4  dominant_topic\n",
       "Doc0    0.64    0.04    0.04    0.04    0.24               0\n",
       "Doc1    0.30    0.05    0.05    0.30    0.30               0\n",
       "Doc2    0.05    0.80    0.05    0.05    0.05               1\n",
       "Doc3    0.02    0.02    0.92    0.02    0.02               2\n",
       "Doc4    0.03    0.03    0.03    0.03    0.87               4"
      ]
     },
     "execution_count": 229,
     "metadata": {},
     "output_type": "execute_result"
    }
   ],
   "source": [
    "df_document_topic.head()"
   ]
  },
  {
   "cell_type": "code",
   "execution_count": 230,
   "metadata": {},
   "outputs": [],
   "source": [
    "mapping = {0:'leisure', 1:'achievement', 2:'bonding', 3:'affection', 4:'enjoy_the_moment'}\n",
    "df_document_topic['dominant_topic'] = df_document_topic['dominant_topic'].map(mapping)"
   ]
  },
  {
   "cell_type": "code",
   "execution_count": 231,
   "metadata": {},
   "outputs": [
    {
     "data": {
      "text/html": [
       "<div>\n",
       "<style scoped>\n",
       "    .dataframe tbody tr th:only-of-type {\n",
       "        vertical-align: middle;\n",
       "    }\n",
       "\n",
       "    .dataframe tbody tr th {\n",
       "        vertical-align: top;\n",
       "    }\n",
       "\n",
       "    .dataframe thead th {\n",
       "        text-align: right;\n",
       "    }\n",
       "</style>\n",
       "<table border=\"1\" class=\"dataframe\">\n",
       "  <thead>\n",
       "    <tr style=\"text-align: right;\">\n",
       "      <th></th>\n",
       "      <th>Topoc0</th>\n",
       "      <th>Topoc1</th>\n",
       "      <th>Topoc2</th>\n",
       "      <th>Topoc3</th>\n",
       "      <th>Topoc4</th>\n",
       "      <th>dominant_topic</th>\n",
       "    </tr>\n",
       "  </thead>\n",
       "  <tbody>\n",
       "    <tr>\n",
       "      <th>Doc0</th>\n",
       "      <td>0.64</td>\n",
       "      <td>0.04</td>\n",
       "      <td>0.04</td>\n",
       "      <td>0.04</td>\n",
       "      <td>0.24</td>\n",
       "      <td>leisure</td>\n",
       "    </tr>\n",
       "    <tr>\n",
       "      <th>Doc1</th>\n",
       "      <td>0.30</td>\n",
       "      <td>0.05</td>\n",
       "      <td>0.05</td>\n",
       "      <td>0.30</td>\n",
       "      <td>0.30</td>\n",
       "      <td>leisure</td>\n",
       "    </tr>\n",
       "    <tr>\n",
       "      <th>Doc2</th>\n",
       "      <td>0.05</td>\n",
       "      <td>0.80</td>\n",
       "      <td>0.05</td>\n",
       "      <td>0.05</td>\n",
       "      <td>0.05</td>\n",
       "      <td>achievement</td>\n",
       "    </tr>\n",
       "    <tr>\n",
       "      <th>Doc3</th>\n",
       "      <td>0.02</td>\n",
       "      <td>0.02</td>\n",
       "      <td>0.92</td>\n",
       "      <td>0.02</td>\n",
       "      <td>0.02</td>\n",
       "      <td>bonding</td>\n",
       "    </tr>\n",
       "    <tr>\n",
       "      <th>Doc4</th>\n",
       "      <td>0.03</td>\n",
       "      <td>0.03</td>\n",
       "      <td>0.03</td>\n",
       "      <td>0.03</td>\n",
       "      <td>0.87</td>\n",
       "      <td>enjoy_the_moment</td>\n",
       "    </tr>\n",
       "  </tbody>\n",
       "</table>\n",
       "</div>"
      ],
      "text/plain": [
       "      Topoc0  Topoc1  Topoc2  Topoc3  Topoc4    dominant_topic\n",
       "Doc0    0.64    0.04    0.04    0.04    0.24           leisure\n",
       "Doc1    0.30    0.05    0.05    0.30    0.30           leisure\n",
       "Doc2    0.05    0.80    0.05    0.05    0.05       achievement\n",
       "Doc3    0.02    0.02    0.92    0.02    0.02           bonding\n",
       "Doc4    0.03    0.03    0.03    0.03    0.87  enjoy_the_moment"
      ]
     },
     "execution_count": 231,
     "metadata": {},
     "output_type": "execute_result"
    }
   ],
   "source": [
    "df_document_topic.head()"
   ]
  },
  {
   "cell_type": "code",
   "execution_count": 277,
   "metadata": {},
   "outputs": [],
   "source": [
    "df.reset_index(drop=True, inplace=True)\n",
    "df_document_topic.reset_index(drop=True, inplace=True)"
   ]
  },
  {
   "cell_type": "code",
   "execution_count": 278,
   "metadata": {},
   "outputs": [],
   "source": [
    "df = pd.concat([df, df_document_topic['dominant_topic']], axis=1)"
   ]
  },
  {
   "cell_type": "code",
   "execution_count": 280,
   "metadata": {},
   "outputs": [],
   "source": [
    "df = df.drop(columns='predicted_category')"
   ]
  },
  {
   "cell_type": "code",
   "execution_count": 291,
   "metadata": {},
   "outputs": [],
   "source": [
    "df = df.rename(columns={'dominant_topic': 'Topic'})"
   ]
  },
  {
   "cell_type": "code",
   "execution_count": 292,
   "metadata": {},
   "outputs": [
    {
     "data": {
      "text/html": [
       "<div>\n",
       "<style scoped>\n",
       "    .dataframe tbody tr th:only-of-type {\n",
       "        vertical-align: middle;\n",
       "    }\n",
       "\n",
       "    .dataframe tbody tr th {\n",
       "        vertical-align: top;\n",
       "    }\n",
       "\n",
       "    .dataframe thead th {\n",
       "        text-align: right;\n",
       "    }\n",
       "</style>\n",
       "<table border=\"1\" class=\"dataframe\">\n",
       "  <thead>\n",
       "    <tr style=\"text-align: right;\">\n",
       "      <th></th>\n",
       "      <th>hmid</th>\n",
       "      <th>wid</th>\n",
       "      <th>reflection_period</th>\n",
       "      <th>original_hm</th>\n",
       "      <th>cleaned_hm</th>\n",
       "      <th>modified</th>\n",
       "      <th>num_sentence</th>\n",
       "      <th>ground_truth_category</th>\n",
       "      <th>text</th>\n",
       "      <th>Topic</th>\n",
       "    </tr>\n",
       "  </thead>\n",
       "  <tbody>\n",
       "    <tr>\n",
       "      <th>0</th>\n",
       "      <td>27673</td>\n",
       "      <td>2053</td>\n",
       "      <td>24h</td>\n",
       "      <td>i went on a successful date with someone i fel...</td>\n",
       "      <td>i went on a successful date with someone i fel...</td>\n",
       "      <td>True</td>\n",
       "      <td>1</td>\n",
       "      <td>NaN</td>\n",
       "      <td>successful date sympathy connection</td>\n",
       "      <td>leisure</td>\n",
       "    </tr>\n",
       "    <tr>\n",
       "      <th>1</th>\n",
       "      <td>27674</td>\n",
       "      <td>2</td>\n",
       "      <td>24h</td>\n",
       "      <td>i was happy when my son got 90% marks in his e...</td>\n",
       "      <td>i was happy when my son got 90% marks in his e...</td>\n",
       "      <td>True</td>\n",
       "      <td>1</td>\n",
       "      <td>NaN</td>\n",
       "      <td>son mark examination</td>\n",
       "      <td>leisure</td>\n",
       "    </tr>\n",
       "    <tr>\n",
       "      <th>2</th>\n",
       "      <td>27675</td>\n",
       "      <td>1936</td>\n",
       "      <td>24h</td>\n",
       "      <td>i went to the gym this morning and did yoga.</td>\n",
       "      <td>i went to the gym this morning and did yoga.</td>\n",
       "      <td>True</td>\n",
       "      <td>1</td>\n",
       "      <td>NaN</td>\n",
       "      <td>gym morning yoga</td>\n",
       "      <td>achievement</td>\n",
       "    </tr>\n",
       "    <tr>\n",
       "      <th>3</th>\n",
       "      <td>27676</td>\n",
       "      <td>206</td>\n",
       "      <td>24h</td>\n",
       "      <td>we had a serious talk with some friends of our...</td>\n",
       "      <td>we had a serious talk with some friends of our...</td>\n",
       "      <td>True</td>\n",
       "      <td>2</td>\n",
       "      <td>bonding</td>\n",
       "      <td>serious talk friend flaky lately understood go...</td>\n",
       "      <td>bonding</td>\n",
       "    </tr>\n",
       "    <tr>\n",
       "      <th>4</th>\n",
       "      <td>27677</td>\n",
       "      <td>6227</td>\n",
       "      <td>24h</td>\n",
       "      <td>i went with grandchildren to butterfly display...</td>\n",
       "      <td>i went with grandchildren to butterfly display...</td>\n",
       "      <td>True</td>\n",
       "      <td>1</td>\n",
       "      <td>NaN</td>\n",
       "      <td>grandchild butterfly display crohn conservatory</td>\n",
       "      <td>enjoy_the_moment</td>\n",
       "    </tr>\n",
       "  </tbody>\n",
       "</table>\n",
       "</div>"
      ],
      "text/plain": [
       "    hmid   wid reflection_period  \\\n",
       "0  27673  2053               24h   \n",
       "1  27674     2               24h   \n",
       "2  27675  1936               24h   \n",
       "3  27676   206               24h   \n",
       "4  27677  6227               24h   \n",
       "\n",
       "                                         original_hm  \\\n",
       "0  i went on a successful date with someone i fel...   \n",
       "1  i was happy when my son got 90% marks in his e...   \n",
       "2       i went to the gym this morning and did yoga.   \n",
       "3  we had a serious talk with some friends of our...   \n",
       "4  i went with grandchildren to butterfly display...   \n",
       "\n",
       "                                          cleaned_hm  modified  num_sentence  \\\n",
       "0  i went on a successful date with someone i fel...      True             1   \n",
       "1  i was happy when my son got 90% marks in his e...      True             1   \n",
       "2       i went to the gym this morning and did yoga.      True             1   \n",
       "3  we had a serious talk with some friends of our...      True             2   \n",
       "4  i went with grandchildren to butterfly display...      True             1   \n",
       "\n",
       "  ground_truth_category                                               text  \\\n",
       "0                   NaN               successful date sympathy connection    \n",
       "1                   NaN                              son mark examination    \n",
       "2                   NaN                                  gym morning yoga    \n",
       "3               bonding  serious talk friend flaky lately understood go...   \n",
       "4                   NaN   grandchild butterfly display crohn conservatory    \n",
       "\n",
       "              Topic  \n",
       "0           leisure  \n",
       "1           leisure  \n",
       "2       achievement  \n",
       "3           bonding  \n",
       "4  enjoy_the_moment  "
      ]
     },
     "execution_count": 292,
     "metadata": {},
     "output_type": "execute_result"
    }
   ],
   "source": [
    "df.head()"
   ]
  },
  {
   "cell_type": "code",
   "execution_count": 293,
   "metadata": {},
   "outputs": [],
   "source": [
    "df.to_csv(r'../data/topic_data.csv', index=False)"
   ]
  }
 ],
 "metadata": {
  "kernelspec": {
   "display_name": "Python 3",
   "language": "python",
   "name": "python3"
  },
  "language_info": {
   "codemirror_mode": {
    "name": "ipython",
    "version": 3
   },
   "file_extension": ".py",
   "mimetype": "text/x-python",
   "name": "python",
   "nbconvert_exporter": "python",
   "pygments_lexer": "ipython3",
   "version": "3.7.3"
  }
 },
 "nbformat": 4,
 "nbformat_minor": 2
}
