{
 "cells": [
  {
   "cell_type": "markdown",
   "metadata": {},
   "source": [
    "# TOpic Model\n",
    "## Read data"
   ]
  },
  {
   "cell_type": "code",
   "execution_count": 1,
   "metadata": {},
   "outputs": [],
   "source": [
    "import pandas as pd\n",
    "import numpy as np"
   ]
  },
  {
   "cell_type": "code",
   "execution_count": 47,
   "metadata": {},
   "outputs": [],
   "source": [
    "df = pd.read_csv('../data/processed_data.csv')"
   ]
  },
  {
   "cell_type": "code",
   "execution_count": 48,
   "metadata": {},
   "outputs": [
    {
     "data": {
      "text/html": [
       "<div>\n",
       "<style scoped>\n",
       "    .dataframe tbody tr th:only-of-type {\n",
       "        vertical-align: middle;\n",
       "    }\n",
       "\n",
       "    .dataframe tbody tr th {\n",
       "        vertical-align: top;\n",
       "    }\n",
       "\n",
       "    .dataframe thead th {\n",
       "        text-align: right;\n",
       "    }\n",
       "</style>\n",
       "<table border=\"1\" class=\"dataframe\">\n",
       "  <thead>\n",
       "    <tr style=\"text-align: right;\">\n",
       "      <th></th>\n",
       "      <th>hmid</th>\n",
       "      <th>wid</th>\n",
       "      <th>reflection_period</th>\n",
       "      <th>original_hm</th>\n",
       "      <th>cleaned_hm</th>\n",
       "      <th>modified</th>\n",
       "      <th>num_sentence</th>\n",
       "      <th>ground_truth_category</th>\n",
       "      <th>predicted_category</th>\n",
       "      <th>text</th>\n",
       "    </tr>\n",
       "  </thead>\n",
       "  <tbody>\n",
       "    <tr>\n",
       "      <th>0</th>\n",
       "      <td>27673</td>\n",
       "      <td>2053</td>\n",
       "      <td>24h</td>\n",
       "      <td>i went on a successful date with someone i fel...</td>\n",
       "      <td>i went on a successful date with someone i fel...</td>\n",
       "      <td>True</td>\n",
       "      <td>1</td>\n",
       "      <td>NaN</td>\n",
       "      <td>affection</td>\n",
       "      <td>went successful date someone felt sympathy con...</td>\n",
       "    </tr>\n",
       "    <tr>\n",
       "      <th>1</th>\n",
       "      <td>27674</td>\n",
       "      <td>2</td>\n",
       "      <td>24h</td>\n",
       "      <td>i was happy when my son got 90% marks in his e...</td>\n",
       "      <td>i was happy when my son got 90% marks in his e...</td>\n",
       "      <td>True</td>\n",
       "      <td>1</td>\n",
       "      <td>NaN</td>\n",
       "      <td>affection</td>\n",
       "      <td>happy son got mark examination</td>\n",
       "    </tr>\n",
       "    <tr>\n",
       "      <th>2</th>\n",
       "      <td>27675</td>\n",
       "      <td>1936</td>\n",
       "      <td>24h</td>\n",
       "      <td>i went to the gym this morning and did yoga.</td>\n",
       "      <td>i went to the gym this morning and did yoga.</td>\n",
       "      <td>True</td>\n",
       "      <td>1</td>\n",
       "      <td>NaN</td>\n",
       "      <td>exercise</td>\n",
       "      <td>went gym morning yoga</td>\n",
       "    </tr>\n",
       "    <tr>\n",
       "      <th>3</th>\n",
       "      <td>27676</td>\n",
       "      <td>206</td>\n",
       "      <td>24h</td>\n",
       "      <td>we had a serious talk with some friends of our...</td>\n",
       "      <td>we had a serious talk with some friends of our...</td>\n",
       "      <td>True</td>\n",
       "      <td>2</td>\n",
       "      <td>bonding</td>\n",
       "      <td>bonding</td>\n",
       "      <td>serious talk friend flaky lately understood go...</td>\n",
       "    </tr>\n",
       "    <tr>\n",
       "      <th>4</th>\n",
       "      <td>27677</td>\n",
       "      <td>6227</td>\n",
       "      <td>24h</td>\n",
       "      <td>i went with grandchildren to butterfly display...</td>\n",
       "      <td>i went with grandchildren to butterfly display...</td>\n",
       "      <td>True</td>\n",
       "      <td>1</td>\n",
       "      <td>NaN</td>\n",
       "      <td>affection</td>\n",
       "      <td>went grandchild butterfly display crohn conser...</td>\n",
       "    </tr>\n",
       "  </tbody>\n",
       "</table>\n",
       "</div>"
      ],
      "text/plain": [
       "    hmid   wid reflection_period  \\\n",
       "0  27673  2053               24h   \n",
       "1  27674     2               24h   \n",
       "2  27675  1936               24h   \n",
       "3  27676   206               24h   \n",
       "4  27677  6227               24h   \n",
       "\n",
       "                                         original_hm  \\\n",
       "0  i went on a successful date with someone i fel...   \n",
       "1  i was happy when my son got 90% marks in his e...   \n",
       "2       i went to the gym this morning and did yoga.   \n",
       "3  we had a serious talk with some friends of our...   \n",
       "4  i went with grandchildren to butterfly display...   \n",
       "\n",
       "                                          cleaned_hm  modified  num_sentence  \\\n",
       "0  i went on a successful date with someone i fel...      True             1   \n",
       "1  i was happy when my son got 90% marks in his e...      True             1   \n",
       "2       i went to the gym this morning and did yoga.      True             1   \n",
       "3  we had a serious talk with some friends of our...      True             2   \n",
       "4  i went with grandchildren to butterfly display...      True             1   \n",
       "\n",
       "  ground_truth_category predicted_category  \\\n",
       "0                   NaN          affection   \n",
       "1                   NaN          affection   \n",
       "2                   NaN           exercise   \n",
       "3               bonding            bonding   \n",
       "4                   NaN          affection   \n",
       "\n",
       "                                                text  \n",
       "0  went successful date someone felt sympathy con...  \n",
       "1                    happy son got mark examination   \n",
       "2                             went gym morning yoga   \n",
       "3  serious talk friend flaky lately understood go...  \n",
       "4  went grandchild butterfly display crohn conser...  "
      ]
     },
     "execution_count": 48,
     "metadata": {},
     "output_type": "execute_result"
    }
   ],
   "source": [
    "df.head()"
   ]
  },
  {
   "cell_type": "code",
   "execution_count": 49,
   "metadata": {},
   "outputs": [
    {
     "name": "stdout",
     "output_type": "stream",
     "text": [
      "<class 'pandas.core.frame.DataFrame'>\n",
      "RangeIndex: 100535 entries, 0 to 100534\n",
      "Data columns (total 10 columns):\n",
      "hmid                     100535 non-null int64\n",
      "wid                      100535 non-null int64\n",
      "reflection_period        100535 non-null object\n",
      "original_hm              100535 non-null object\n",
      "cleaned_hm               100535 non-null object\n",
      "modified                 100535 non-null bool\n",
      "num_sentence             100535 non-null int64\n",
      "ground_truth_category    14125 non-null object\n",
      "predicted_category       100535 non-null object\n",
      "text                     100534 non-null object\n",
      "dtypes: bool(1), int64(3), object(6)\n",
      "memory usage: 7.0+ MB\n"
     ]
    }
   ],
   "source": [
    "df.info()"
   ]
  },
  {
   "cell_type": "markdown",
   "metadata": {},
   "source": [
    "## Vectorization\n",
    "\n",
    "Do this using the bag-of-words model:\n",
    "\n",
    "- Count how many times does a word occur in each message (Known as term frequency)\n",
    "\n",
    "- Weigh the counts, so that frequent tokens get lower weight (inverse document frequency)\n",
    "\n",
    "- Normalize the vectors to unit length, to abstract from the original text length (L2 norm)\n",
    "\n"
   ]
  },
  {
   "cell_type": "code",
   "execution_count": 50,
   "metadata": {},
   "outputs": [],
   "source": [
    "from sklearn.feature_extraction.text import TfidfVectorizer, CountVectorizer"
   ]
  },
  {
   "cell_type": "code",
   "execution_count": 71,
   "metadata": {},
   "outputs": [],
   "source": [
    "df = df[df['text'].isnull() == False]"
   ]
  },
  {
   "cell_type": "code",
   "execution_count": 79,
   "metadata": {},
   "outputs": [
    {
     "name": "stdout",
     "output_type": "stream",
     "text": [
      "24907\n"
     ]
    }
   ],
   "source": [
    "bow_transformer = CountVectorizer().fit(df['text'])\n",
    "# Print total number of vocab words\n",
    "print(len(bow_transformer.vocabulary_))"
   ]
  },
  {
   "cell_type": "code",
   "execution_count": 80,
   "metadata": {},
   "outputs": [],
   "source": [
    "text_bow = bow_transformer.transform(df['text'])"
   ]
  },
  {
   "cell_type": "markdown",
   "metadata": {},
   "source": [
    "## LDA"
   ]
  },
  {
   "cell_type": "code",
   "execution_count": 81,
   "metadata": {},
   "outputs": [],
   "source": [
    "from sklearn.decomposition import LatentDirichletAllocation"
   ]
  },
  {
   "cell_type": "code",
   "execution_count": 84,
   "metadata": {},
   "outputs": [],
   "source": [
    "n_components = 10\n",
    "lda = LatentDirichletAllocation(n_components=n_components, max_iter=50,\n",
    "                                learning_method='online',\n",
    "                                learning_offset=50.,\n",
    "                                random_state=0)"
   ]
  },
  {
   "cell_type": "code",
   "execution_count": 85,
   "metadata": {},
   "outputs": [
    {
     "data": {
      "text/plain": [
       "LatentDirichletAllocation(batch_size=128, doc_topic_prior=None,\n",
       "             evaluate_every=-1, learning_decay=0.7,\n",
       "             learning_method='online', learning_offset=50.0,\n",
       "             max_doc_update_iter=100, max_iter=50, mean_change_tol=0.001,\n",
       "             n_components=10, n_jobs=None, n_topics=None, perp_tol=0.1,\n",
       "             random_state=0, topic_word_prior=None,\n",
       "             total_samples=1000000.0, verbose=0)"
      ]
     },
     "execution_count": 85,
     "metadata": {},
     "output_type": "execute_result"
    }
   ],
   "source": [
    "lda.fit(text_bow)"
   ]
  },
  {
   "cell_type": "code",
   "execution_count": 86,
   "metadata": {},
   "outputs": [],
   "source": [
    "def print_top_words(model, feature_names, n_top_words):\n",
    "    for topic_idx, topic in enumerate(model.components_):\n",
    "        print(\"Topic #%d:\" % topic_idx)\n",
    "        print(\" \".join([feature_names[i]\n",
    "                        for i in topic.argsort()[:-n_top_words - 1:-1]]))\n",
    "    print()"
   ]
  },
  {
   "cell_type": "code",
   "execution_count": 89,
   "metadata": {},
   "outputs": [],
   "source": [
    "n_top_words = 10"
   ]
  },
  {
   "cell_type": "code",
   "execution_count": 90,
   "metadata": {},
   "outputs": [
    {
     "name": "stdout",
     "output_type": "stream",
     "text": [
      "Topic #0:\n",
      "found dog day went took im trip watching around child\n",
      "Topic #1:\n",
      "time family went first friend happy moment life month long\n",
      "Topic #2:\n",
      "favorite one lunch food college spent didnt delicious girlfriend good\n",
      "Topic #3:\n",
      "happy made day got last work job birthday feel event\n",
      "Topic #4:\n",
      "happiness thought completed looking song state lost coming person right\n",
      "Topic #5:\n",
      "able go work day got gave get morning show ive\n",
      "Topic #6:\n",
      "wanted better someone summer date purchased bike ever actually computer\n",
      "Topic #7:\n",
      "friend new game bought daughter school house old went mother\n",
      "Topic #8:\n",
      "new got work month received finished finally ate working week\n",
      "Topic #9:\n",
      "car money got able seeing book sleep brought get company\n",
      "\n"
     ]
    }
   ],
   "source": [
    "feature_names = bow_transformer.get_feature_names()\n",
    "print_top_words(lda, feature_names, n_top_words)"
   ]
  },
  {
   "cell_type": "code",
   "execution_count": 93,
   "metadata": {},
   "outputs": [
    {
     "name": "stderr",
     "output_type": "stream",
     "text": [
      "/Users/wangxinquan/anaconda3/lib/python3.7/site-packages/pyLDAvis/_prepare.py:257: FutureWarning: Sorting because non-concatenation axis is not aligned. A future version\n",
      "of pandas will change to not sort by default.\n",
      "\n",
      "To accept the future behavior, pass 'sort=False'.\n",
      "\n",
      "To retain the current behavior and silence the warning, pass 'sort=True'.\n",
      "\n",
      "  return pd.concat([default_term_info] + list(topic_dfs))\n"
     ]
    },
    {
     "data": {
      "text/html": [
       "\n",
       "<link rel=\"stylesheet\" type=\"text/css\" href=\"https://cdn.rawgit.com/bmabey/pyLDAvis/files/ldavis.v1.0.0.css\">\n",
       "\n",
       "\n",
       "<div id=\"ldavis_el591449448458247150106418\"></div>\n",
       "<script type=\"text/javascript\">\n",
       "\n",
       "var ldavis_el591449448458247150106418_data = {\"mdsDat\": {\"x\": [-0.1534187566802418, -0.16798052271158895, -0.15446138902683346, -0.07935801739951526, 0.028483224892784292, -0.06760255096510628, -0.03803379944893404, 0.05787959066071214, 0.2584835593541439, 0.31600866132457883], \"y\": [0.07238031205570698, -0.20583245620267956, -0.23790487011800038, 0.02844348397094742, 0.1286509428754049, 0.01538145654923234, 0.2163697663920254, 0.21097518016492856, -0.13261931212873554, -0.09584450355882954], \"topics\": [1, 2, 3, 4, 5, 6, 7, 8, 9, 10], \"cluster\": [1, 1, 1, 1, 1, 1, 1, 1, 1, 1], \"Freq\": [19.706933157800652, 14.01147684364117, 11.480362209297123, 9.869814811690329, 8.8778049690997, 8.396749826626982, 8.28607891625421, 8.043057606066759, 6.077889055678921, 5.24983260384416]}, \"tinfo\": {\"Category\": [\"Default\", \"Default\", \"Default\", \"Default\", \"Default\", \"Default\", \"Default\", \"Default\", \"Default\", \"Default\", \"Default\", \"Default\", \"Default\", \"Default\", \"Default\", \"Default\", \"Default\", \"Default\", \"Default\", \"Default\", \"Default\", \"Default\", \"Default\", \"Default\", \"Default\", \"Default\", \"Default\", \"Default\", \"Default\", \"Default\", \"Topic1\", \"Topic1\", \"Topic1\", \"Topic1\", \"Topic1\", \"Topic1\", \"Topic1\", \"Topic1\", \"Topic1\", \"Topic1\", \"Topic1\", \"Topic1\", \"Topic1\", \"Topic1\", \"Topic1\", \"Topic1\", \"Topic1\", \"Topic1\", \"Topic1\", \"Topic1\", \"Topic1\", \"Topic1\", \"Topic1\", \"Topic1\", \"Topic1\", \"Topic1\", \"Topic1\", \"Topic1\", \"Topic1\", \"Topic1\", \"Topic1\", \"Topic1\", \"Topic1\", \"Topic1\", \"Topic1\", \"Topic1\", \"Topic1\", \"Topic1\", \"Topic1\", \"Topic1\", \"Topic1\", \"Topic1\", \"Topic1\", \"Topic1\", \"Topic1\", \"Topic1\", \"Topic1\", \"Topic1\", \"Topic1\", \"Topic1\", \"Topic1\", \"Topic1\", \"Topic1\", \"Topic1\", \"Topic2\", \"Topic2\", \"Topic2\", \"Topic2\", \"Topic2\", \"Topic2\", \"Topic2\", \"Topic2\", \"Topic2\", \"Topic2\", \"Topic2\", \"Topic2\", \"Topic2\", \"Topic2\", \"Topic2\", \"Topic2\", \"Topic2\", \"Topic2\", \"Topic2\", \"Topic2\", \"Topic2\", \"Topic2\", \"Topic2\", \"Topic2\", \"Topic2\", \"Topic2\", \"Topic2\", \"Topic2\", \"Topic2\", \"Topic2\", \"Topic2\", \"Topic2\", \"Topic2\", \"Topic2\", \"Topic2\", \"Topic2\", \"Topic2\", \"Topic2\", \"Topic2\", \"Topic2\", \"Topic2\", \"Topic2\", \"Topic2\", \"Topic2\", \"Topic2\", \"Topic2\", \"Topic2\", \"Topic3\", \"Topic3\", \"Topic3\", \"Topic3\", \"Topic3\", \"Topic3\", \"Topic3\", \"Topic3\", \"Topic3\", \"Topic3\", \"Topic3\", \"Topic3\", \"Topic3\", \"Topic3\", \"Topic3\", \"Topic3\", \"Topic3\", \"Topic3\", \"Topic3\", \"Topic3\", \"Topic3\", \"Topic3\", \"Topic3\", \"Topic3\", \"Topic3\", \"Topic3\", \"Topic3\", \"Topic3\", \"Topic3\", \"Topic3\", \"Topic3\", \"Topic3\", \"Topic3\", \"Topic3\", \"Topic3\", \"Topic3\", \"Topic3\", \"Topic3\", \"Topic3\", \"Topic3\", \"Topic3\", \"Topic3\", \"Topic3\", \"Topic3\", \"Topic3\", \"Topic4\", \"Topic4\", \"Topic4\", \"Topic4\", \"Topic4\", \"Topic4\", \"Topic4\", \"Topic4\", \"Topic4\", \"Topic4\", \"Topic4\", \"Topic4\", \"Topic4\", \"Topic4\", \"Topic4\", \"Topic4\", \"Topic4\", \"Topic4\", \"Topic4\", \"Topic4\", \"Topic4\", \"Topic4\", \"Topic4\", \"Topic4\", \"Topic4\", \"Topic4\", \"Topic4\", \"Topic4\", \"Topic4\", \"Topic4\", \"Topic4\", \"Topic4\", \"Topic4\", \"Topic4\", \"Topic4\", \"Topic4\", \"Topic4\", \"Topic4\", \"Topic4\", \"Topic4\", \"Topic5\", \"Topic5\", \"Topic5\", \"Topic5\", \"Topic5\", \"Topic5\", \"Topic5\", \"Topic5\", \"Topic5\", \"Topic5\", \"Topic5\", \"Topic5\", \"Topic5\", \"Topic5\", \"Topic5\", \"Topic5\", \"Topic5\", \"Topic5\", \"Topic5\", \"Topic5\", \"Topic5\", \"Topic5\", \"Topic5\", \"Topic5\", \"Topic5\", \"Topic5\", \"Topic5\", \"Topic5\", \"Topic5\", \"Topic5\", \"Topic5\", \"Topic5\", \"Topic5\", \"Topic5\", \"Topic5\", \"Topic5\", \"Topic5\", \"Topic5\", \"Topic5\", \"Topic6\", \"Topic6\", \"Topic6\", \"Topic6\", \"Topic6\", \"Topic6\", \"Topic6\", \"Topic6\", \"Topic6\", \"Topic6\", \"Topic6\", \"Topic6\", \"Topic6\", \"Topic6\", \"Topic6\", \"Topic6\", \"Topic6\", \"Topic6\", \"Topic6\", \"Topic6\", \"Topic6\", \"Topic6\", \"Topic6\", \"Topic6\", \"Topic6\", \"Topic6\", \"Topic6\", \"Topic6\", \"Topic6\", \"Topic6\", \"Topic6\", \"Topic6\", \"Topic6\", \"Topic6\", \"Topic6\", \"Topic6\", \"Topic6\", \"Topic6\", \"Topic6\", \"Topic6\", \"Topic6\", \"Topic6\", \"Topic6\", \"Topic6\", \"Topic6\", \"Topic6\", \"Topic6\", \"Topic7\", \"Topic7\", \"Topic7\", \"Topic7\", \"Topic7\", \"Topic7\", \"Topic7\", \"Topic7\", \"Topic7\", \"Topic7\", \"Topic7\", \"Topic7\", \"Topic7\", \"Topic7\", \"Topic7\", \"Topic7\", \"Topic7\", \"Topic7\", \"Topic7\", \"Topic7\", \"Topic7\", \"Topic7\", \"Topic7\", \"Topic7\", \"Topic7\", \"Topic7\", \"Topic7\", \"Topic7\", \"Topic7\", \"Topic7\", \"Topic7\", \"Topic7\", \"Topic7\", \"Topic7\", \"Topic7\", \"Topic7\", \"Topic7\", \"Topic7\", \"Topic7\", \"Topic7\", \"Topic7\", \"Topic7\", \"Topic7\", \"Topic7\", \"Topic7\", \"Topic7\", \"Topic7\", \"Topic7\", \"Topic7\", \"Topic8\", \"Topic8\", \"Topic8\", \"Topic8\", \"Topic8\", \"Topic8\", \"Topic8\", \"Topic8\", \"Topic8\", \"Topic8\", \"Topic8\", \"Topic8\", \"Topic8\", \"Topic8\", \"Topic8\", \"Topic8\", \"Topic8\", \"Topic8\", \"Topic8\", \"Topic8\", \"Topic8\", \"Topic8\", \"Topic8\", \"Topic8\", \"Topic8\", \"Topic8\", \"Topic8\", \"Topic8\", \"Topic8\", \"Topic8\", \"Topic8\", \"Topic8\", \"Topic8\", \"Topic8\", \"Topic8\", \"Topic8\", \"Topic8\", \"Topic8\", \"Topic8\", \"Topic8\", \"Topic9\", \"Topic9\", \"Topic9\", \"Topic9\", \"Topic9\", \"Topic9\", \"Topic9\", \"Topic9\", \"Topic9\", \"Topic9\", \"Topic9\", \"Topic9\", \"Topic9\", \"Topic9\", \"Topic9\", \"Topic9\", \"Topic9\", \"Topic9\", \"Topic9\", \"Topic9\", \"Topic9\", \"Topic9\", \"Topic9\", \"Topic9\", \"Topic9\", \"Topic9\", \"Topic9\", \"Topic9\", \"Topic9\", \"Topic9\", \"Topic9\", \"Topic9\", \"Topic9\", \"Topic9\", \"Topic10\", \"Topic10\", \"Topic10\", \"Topic10\", \"Topic10\", \"Topic10\", \"Topic10\", \"Topic10\", \"Topic10\", \"Topic10\", \"Topic10\", \"Topic10\", \"Topic10\", \"Topic10\", \"Topic10\", \"Topic10\", \"Topic10\", \"Topic10\", \"Topic10\", \"Topic10\", \"Topic10\", \"Topic10\", \"Topic10\", \"Topic10\", \"Topic10\", \"Topic10\", \"Topic10\", \"Topic10\", \"Topic10\", \"Topic10\", \"Topic10\", \"Topic10\", \"Topic10\", \"Topic10\", \"Topic10\", \"Topic10\", \"Topic10\"], \"Freq\": [17557.0, 8608.0, 10264.0, 10731.0, 9228.0, 12897.0, 5045.0, 7704.0, 4479.0, 4371.0, 3626.0, 5058.0, 9636.0, 9178.0, 2871.0, 2985.0, 2813.0, 2528.0, 2953.0, 3279.0, 2175.0, 2112.0, 3238.0, 3227.0, 5256.0, 2311.0, 3065.0, 2178.0, 3118.0, 1792.0, 3064.9730078921293, 2786.5385441129442, 2359.828560826328, 2308.7619834943216, 2118.4034980087026, 2499.0330100653086, 1416.7979284864446, 1210.2559994730102, 1128.5633234766544, 1084.4012208608563, 957.96421768215, 829.228043073996, 692.3374557009112, 682.2732464387537, 668.0367478953902, 665.6727692762195, 655.2076840707875, 623.4755886183281, 592.667465073196, 546.4978230687816, 540.6803634226397, 531.7861827976014, 528.907557202709, 508.1180691700507, 498.23483203960114, 479.1544500810931, 470.92314859691425, 441.5108134815596, 420.96304270803586, 391.577446445076, 10138.619025212298, 14275.390271842465, 1541.3260809559767, 1330.5178741963437, 2062.912233707983, 2053.4902967483463, 2168.1153159931323, 5308.49302420254, 2269.2982292839215, 2124.0032840949584, 3336.7129170627504, 1257.7468487517172, 3205.709473184677, 4282.75579197982, 2234.0993060519345, 2347.56722774416, 1682.7310109506489, 1197.8909728679268, 1196.9807530177773, 1670.038311997791, 1505.8187172844216, 1504.2325584232249, 1330.7952203538343, 1306.6141802577654, 4478.409754858657, 4370.482646359026, 1897.9619584647442, 1829.8612457193767, 1748.0753892917817, 1536.778805905685, 1316.5089447898188, 1217.0633447606174, 1208.7145717668354, 1122.028045886005, 1059.4762657231258, 1018.0587072968056, 970.5354002767798, 925.7818422895012, 867.5677837318002, 710.8139491462496, 675.7221312244671, 572.6871079463527, 558.6754513110645, 545.0519674196989, 525.7975902387184, 511.2679614127824, 511.041875590363, 427.2108580289417, 425.0883357132543, 386.60101689592, 381.6729004970967, 361.0287061796266, 359.4007251618822, 353.7692989947876, 2936.9891049505204, 7404.766811409711, 2692.6245294254986, 1510.7467633174745, 2435.602891484899, 981.3903331150677, 2064.0057383900285, 4386.225784786656, 1314.4382753209106, 2560.4810975814676, 3405.609251853363, 1437.4930597381042, 801.9128808040089, 3090.368016625983, 1423.661637743836, 1130.0185742033518, 1012.3406445210487, 2984.412086519482, 2812.7371262011675, 2311.0045119170554, 2178.0375911483898, 1764.1238385626664, 1743.7432578191526, 1709.0909754350237, 1340.3429229992444, 1293.1819419059293, 1259.9404324829593, 1243.0746281937766, 1200.0829900512633, 1174.8853278274028, 1112.2452848785329, 913.5215250925035, 826.1179140357913, 761.4834311084684, 724.1318671665459, 670.4714238499363, 636.2113070144129, 616.221361443799, 603.6525532755013, 599.8905776005073, 594.6247270961952, 578.4458726681625, 563.4405820006638, 547.8232659281535, 515.9538480623387, 465.4590531434483, 451.15879908498033, 6812.00801190071, 2390.658921051048, 1374.8919262407767, 2009.5654579839131, 1025.3327054775427, 1014.9906724365715, 3137.7378089017384, 976.4253873218112, 1283.6263310249467, 1449.9746502650619, 1273.2332107310815, 1853.4979824663208, 1719.1166068375007, 1067.2403568136967, 1186.3306535454271, 3625.269253756347, 2527.3115691709036, 1864.2028362014382, 1489.9099734875167, 1433.25915720105, 1252.028404933429, 1148.2061578134824, 1098.670421136589, 977.796286152711, 965.5998372704372, 894.569285281863, 856.9348533664622, 751.0682445680833, 724.5376825819673, 705.8273980115529, 674.6611568596318, 611.8903048492239, 586.7150909810009, 583.7097117416718, 563.6192222860534, 497.9999150960141, 456.51398766948915, 453.57132336871626, 451.5544953292102, 449.4229564917244, 408.505921373483, 405.0148891973192, 388.66756892937065, 372.63719194449396, 371.3034485329135, 1873.9087671646782, 676.0204050215427, 2185.1345430650445, 2228.398106838895, 1052.1678904625685, 887.3847699506853, 634.022330844121, 681.6065410843603, 726.2828815934812, 644.9689039928076, 2870.558733972509, 1749.6227370992508, 1588.9402455858908, 1253.557871998614, 1233.0761987127514, 1184.9621775099406, 1078.3248270985628, 970.1654212133539, 942.0447612684303, 802.5952320374913, 790.6601030275591, 732.3275775927641, 704.9372065279238, 683.3659696179709, 630.6814837801452, 612.2553949072153, 610.6515637606752, 595.1317732821653, 586.2905939564915, 576.5428120143357, 566.019846216974, 528.3327109010391, 505.43325206993796, 477.16831747909913, 422.6536633018676, 385.1312510713773, 368.4582965978588, 339.16323453989725, 333.5122036681693, 329.367806667614, 1051.6867035329194, 1893.690399606561, 1003.5975899574174, 763.9341660516961, 866.1299162446753, 680.2159770988623, 752.5762161088403, 612.5635849648976, 591.8758949037957, 2174.8479679740494, 1512.9534374145112, 1478.8573370319536, 1385.3085347253398, 1157.0387668685023, 1079.9754494746755, 771.6127983976982, 670.7413627110983, 590.0441397707638, 541.8610763447184, 509.2375502976554, 487.68233233297394, 462.7149970379114, 418.75800840888655, 415.9845770673413, 412.56337174047866, 410.58248859910697, 380.0327164957413, 376.64891603881614, 368.9294406150881, 341.1787040396152, 338.57099908261534, 338.2422258246261, 322.9342583848674, 321.4478296818676, 303.58982722233634, 301.7261730135534, 275.9047646509688, 275.4814950907818, 274.5188493932517, 5470.130957722838, 625.6353652590353, 2496.9528994045195, 3735.414111718938, 2619.2339373640616, 1484.6460378889446, 1047.6611701261568, 1164.8386995706257, 1094.0154048459945, 747.1401831029896, 667.4976766395512, 541.1682855841565, 591.2393112424144, 468.7903828015201, 442.94305506673544, 438.32704151934183, 422.12006674275864, 1328.2284241236036, 1243.0148539677311, 1028.8268280259956, 997.2496780079636, 820.1971903860812, 772.1089625911776, 690.762710443037, 614.9415781776349, 583.3842227900992, 574.641374587748, 454.31740192335707, 431.207472172655, 423.7687446213535, 423.1597499337998, 422.4062020389201, 409.66208797621556, 408.55561371294596, 395.3566543273154, 386.53046218768554, 386.25946495693995, 369.08627957817816, 359.2059397390899, 357.91217139813585, 339.50723719091616, 336.69173868642565, 304.2267434069704, 295.09532676894037, 286.76078717015275, 279.872948516283, 272.4158196939302, 3768.1077105240533, 1472.096279604092, 2188.6845199642135, 1021.5722226800929, 491.5066115906959, 1342.5506595732306, 1400.1727097478868, 1879.211746102173, 1486.1048530930184, 530.6755062738017, 902.9402710122168, 1478.7262699749842, 823.8946791364465, 962.1073285353359, 516.9789267782156, 745.6324111619123, 482.60641209837297, 594.1040201179659, 466.9748333311796, 2111.3755648157185, 1791.6386098267383, 1266.9944488123976, 1097.051606485514, 947.4309100015635, 931.753296155305, 835.2923153935353, 814.8698723204774, 756.5385085349934, 729.6201860925905, 715.4237113274946, 635.1490404868257, 611.8615448275667, 566.8698924459212, 554.0045984173032, 547.5852794841428, 535.034201738655, 531.6306126409196, 513.6616050727208, 488.31353307779546, 465.08133076102104, 418.0672730618798, 417.083489782015, 395.78713049659535, 391.0523116700082, 389.38112453910526, 368.4973084670581, 348.4061007990088, 344.28463054424515, 333.53191413245116, 698.9821865286586, 812.2316961080685, 781.3100438215499, 786.0927058329178, 1276.984172863916, 1680.7542798396537, 874.9688495924871, 791.9599598784963, 540.7823759601921, 510.51038649017244, 1568.969112388613, 1000.2483895927074, 966.1037930097772, 869.4710626436106, 781.3679672284642, 753.6078470959632, 737.4717117149846, 701.4052312529726, 578.0833336910109, 489.742676977705, 470.39603839537796, 465.48277383088606, 427.231856627254, 422.31722616672386, 414.028351338771, 411.48387905865275, 372.2265999500165, 347.3441677082854, 343.29038194041516, 340.76425420672234, 340.6020752439481, 337.1637230568696, 336.29182285928084, 332.80485783004656, 331.10836494326037, 303.8912001052318, 302.7528078834197, 302.29419183099026, 290.6473023992147, 282.71138239228185, 578.1598445569086, 459.09430045992286, 545.289946868316, 335.03478125640083, 1257.1818309246614, 1193.1850540222913, 857.9238667879898, 814.0503343711554, 775.9665099761961, 739.9273178369516, 679.2599232258291, 642.8139941740325, 614.8093766798894, 612.5202841443602, 409.03940581288947, 391.4480609087987, 353.62724746143067, 341.41608915321194, 337.6316358141788, 326.55679210270546, 290.42482170006537, 289.194766916013, 265.17767180382936, 260.76634397650776, 256.19734954927935, 254.0048636551418, 254.0057300560094, 240.65933999212604, 230.1292453160294, 224.96219611523358, 218.40426289631682, 217.4468829469301, 207.44769646673217, 207.47073878512973, 397.8891180711538, 563.9296900584845, 257.67785286649894, 243.07618179404358, 256.0764542749021, 269.0653763251229, 272.3684393506282], \"Term\": [\"happy\", \"new\", \"friend\", \"made\", \"time\", \"got\", \"able\", \"work\", \"family\", \"first\", \"found\", \"month\", \"day\", \"went\", \"favorite\", \"game\", \"bought\", \"dog\", \"go\", \"moment\", \"received\", \"car\", \"life\", \"daughter\", \"one\", \"school\", \"job\", \"house\", \"long\", \"money\", \"job\", \"birthday\", \"event\", \"getting\", \"hour\", \"feel\", \"mom\", \"party\", \"class\", \"excited\", \"hard\", \"making\", \"asked\", \"talk\", \"breakfast\", \"surprised\", \"evening\", \"proud\", \"promotion\", \"extra\", \"special\", \"wonderful\", \"worked\", \"meeting\", \"raise\", \"garden\", \"test\", \"interview\", \"celebrate\", \"half\", \"made\", \"happy\", \"past\", \"told\", \"husband\", \"wife\", \"make\", \"day\", \"night\", \"dinner\", \"last\", \"thing\", \"work\", \"got\", \"really\", \"good\", \"yesterday\", \"well\", \"love\", \"one\", \"home\", \"today\", \"week\", \"get\", \"family\", \"first\", \"saw\", \"movie\", \"watched\", \"brother\", \"happiest\", \"baby\", \"gift\", \"many\", \"vacation\", \"restaurant\", \"seen\", \"dad\", \"couple\", \"havent\", \"member\", \"funny\", \"beach\", \"temple\", \"music\", \"marriage\", \"hadnt\", \"heard\", \"boy\", \"hand\", \"water\", \"movement\", \"memory\", \"usually\", \"moment\", \"time\", \"life\", \"enjoyed\", \"long\", \"place\", \"see\", \"went\", \"sister\", \"month\", \"friend\", \"felt\", \"spend\", \"happy\", \"year\", \"home\", \"last\", \"game\", \"bought\", \"school\", \"house\", \"mother\", \"best\", \"started\", \"visit\", \"play\", \"met\", \"phone\", \"boyfriend\", \"video\", \"cat\", \"shopping\", \"talked\", \"tv\", \"want\", \"call\", \"wedding\", \"minute\", \"th\", \"cousin\", \"left\", \"visited\", \"celebrated\", \"given\", \"city\", \"flower\", \"spending\", \"friend\", \"daughter\", \"together\", \"old\", \"playing\", \"played\", \"new\", \"fun\", \"came\", \"year\", \"son\", \"went\", \"got\", \"night\", \"last\", \"found\", \"dog\", \"im\", \"trip\", \"watching\", \"around\", \"child\", \"walk\", \"store\", \"three\", \"outside\", \"park\", \"local\", \"weather\", \"bed\", \"amazing\", \"town\", \"plan\", \"run\", \"afternoon\", \"walking\", \"rain\", \"neighbor\", \"grocery\", \"drive\", \"running\", \"concert\", \"pet\", \"sweet\", \"earlier\", \"took\", \"beautiful\", \"went\", \"day\", \"nice\", \"going\", \"take\", \"long\", \"today\", \"really\", \"favorite\", \"lunch\", \"food\", \"college\", \"spent\", \"didnt\", \"delicious\", \"team\", \"eat\", \"coffee\", \"buy\", \"look\", \"meal\", \"pizza\", \"high\", \"eating\", \"cooked\", \"ice\", \"cream\", \"pretty\", \"student\", \"news\", \"different\", \"final\", \"cake\", \"match\", \"chocolate\", \"happened\", \"caught\", \"win\", \"girlfriend\", \"one\", \"good\", \"go\", \"really\", \"like\", \"went\", \"day\", \"made\", \"received\", \"finished\", \"ate\", \"working\", \"parent\", \"project\", \"helped\", \"bos\", \"mail\", \"learned\", \"ordered\", \"apartment\", \"conversation\", \"ran\", \"chicken\", \"purchase\", \"cleaned\", \"easter\", \"tried\", \"managed\", \"clean\", \"arrived\", \"mile\", \"amazon\", \"picked\", \"top\", \"box\", \"moving\", \"shoe\", \"healthy\", \"new\", \"put\", \"month\", \"got\", \"work\", \"finally\", \"ago\", \"week\", \"good\", \"home\", \"today\", \"two\", \"really\", \"dinner\", \"came\", \"great\", \"yesterday\", \"show\", \"ive\", \"watch\", \"early\", \"woke\", \"exam\", \"goal\", \"passed\", \"face\", \"room\", \"nephew\", \"complete\", \"weight\", \"grade\", \"coworker\", \"birth\", \"hug\", \"episode\", \"yard\", \"successfully\", \"spring\", \"break\", \"hot\", \"workout\", \"pound\", \"pair\", \"difficult\", \"reached\", \"beat\", \"semester\", \"able\", \"gave\", \"go\", \"big\", \"result\", \"morning\", \"get\", \"work\", \"day\", \"done\", \"finally\", \"got\", \"felt\", \"today\", \"without\", \"week\", \"girl\", \"last\", \"son\", \"car\", \"money\", \"seeing\", \"book\", \"sleep\", \"brought\", \"company\", \"hit\", \"ticket\", \"pay\", \"paid\", \"mturk\", \"dollar\", \"need\", \"sale\", \"read\", \"bill\", \"gym\", \"season\", \"problem\", \"reading\", \"important\", \"awesome\", \"liked\", \"let\", \"amount\", \"fixed\", \"check\", \"degree\", \"le\", \"card\", \"help\", \"free\", \"could\", \"able\", \"got\", \"get\", \"one\", \"finally\", \"back\", \"happiness\", \"thought\", \"completed\", \"looking\", \"song\", \"state\", \"lost\", \"coming\", \"right\", \"positive\", \"bit\", \"joy\", \"doctor\", \"move\", \"living\", \"may\", \"order\", \"pleasant\", \"invited\", \"forward\", \"id\", \"band\", \"relax\", \"health\", \"listening\", \"mean\", \"tax\", \"research\", \"graduation\", \"learning\", \"person\", \"people\", \"life\", \"used\", \"wanted\", \"better\", \"someone\", \"summer\", \"date\", \"purchased\", \"bike\", \"ever\", \"actually\", \"computer\", \"price\", \"realized\", \"sunday\", \"colleague\", \"heart\", \"others\", \"holiday\", \"opportunity\", \"cup\", \"training\", \"progress\", \"drinking\", \"successful\", \"significant\", \"festival\", \"writing\", \"tea\", \"art\", \"drank\", \"regarding\", \"ride\", \"great\", \"program\", \"looked\", \"full\", \"recently\", \"fun\"], \"Total\": [17557.0, 8608.0, 10264.0, 10731.0, 9228.0, 12897.0, 5045.0, 7704.0, 4479.0, 4371.0, 3626.0, 5058.0, 9636.0, 9178.0, 2871.0, 2985.0, 2813.0, 2528.0, 2953.0, 3279.0, 2175.0, 2112.0, 3238.0, 3227.0, 5256.0, 2311.0, 3065.0, 2178.0, 3118.0, 1792.0, 3065.8661523862756, 2787.431669015544, 2360.721716696495, 2309.655171081142, 2119.2966975920363, 2500.4154023001743, 1417.6910886365906, 1211.1491251038792, 1129.4565098182768, 1085.2944511030692, 958.8574546959545, 830.121272830549, 693.2306821521144, 683.1664237601282, 668.9298881060691, 666.5659644690753, 656.1008968566091, 624.3687545678094, 593.5605617050144, 547.3910257626542, 541.5735713591183, 532.6794493441839, 529.8007418757076, 509.0112599077767, 499.12793564831924, 480.0476260100173, 471.81631913575507, 442.4039034666607, 421.85618304996217, 392.47068859503713, 10731.289266221442, 17557.637172931052, 1745.5045371572173, 1498.4048412673185, 2568.9492498107484, 2631.19805928734, 2835.331719453459, 9636.157650919467, 3337.3366756444625, 3218.581372359476, 6130.091916109365, 1791.2710563695257, 7704.852429671974, 12897.269768362841, 5140.355377943333, 5651.933203623202, 3389.437138285802, 1855.6204501312727, 1870.9996226825115, 5256.994372572309, 4020.703016582247, 4920.334694304995, 4131.883487457338, 3964.3286762018834, 4479.30177541011, 4371.374696256061, 1898.8540222834106, 1830.7532253891989, 1748.9674289534826, 1537.6708393914669, 1317.4009526249756, 1217.9553589878608, 1209.606640646167, 1122.9201974547161, 1060.3682806314962, 1018.9507796819044, 971.4273722186259, 926.673881507585, 868.4598898828121, 711.7059630037321, 676.6141378306102, 573.5791576051339, 559.5674505211822, 545.9439320210918, 526.6896884519167, 512.1599499311916, 511.93389823010966, 428.10292509415706, 425.98037192476454, 387.49316670322685, 382.56500467739073, 361.9206973709731, 360.29279578843807, 354.6615123147451, 3279.541403499129, 9228.176712523169, 3238.70158159479, 1765.6013048814336, 3118.0038829523714, 1175.2092305701906, 3153.8211909267447, 9178.03506607161, 1823.4260869168777, 5058.228868793827, 10264.424649335335, 2811.5196867874665, 1047.2714854302096, 17557.637172931052, 4074.3742553635466, 4020.703016582247, 6130.091916109365, 2985.3047027544326, 2813.62980953419, 2311.897206314885, 2178.930298078052, 1765.0165231949227, 1744.635970593827, 1709.9837186431055, 1341.2356274395709, 1294.0745892557097, 1260.833087323583, 1243.9672617656179, 1200.975657487737, 1175.7779491043864, 1113.1379436651328, 914.4141882816984, 827.0105422437414, 762.3761305063227, 725.0246545239129, 671.3641487439997, 637.1039537043908, 617.1141384007559, 604.5453403207785, 600.7836362265417, 595.5175240399735, 579.3385435003961, 564.3332345333891, 548.716032462899, 516.8466136703097, 466.3517798561326, 452.05150296496436, 10264.424649335335, 3227.4204107120045, 1683.573599522923, 2828.4390995617064, 1238.829647111804, 1300.9078172566708, 8608.664239611087, 1531.001178877243, 2971.645093381439, 4074.3742553635466, 3465.9631786594714, 9178.03506607161, 12897.269768362841, 3337.3366756444625, 6130.091916109365, 3626.1594202117126, 2528.201646169543, 1865.0930456693193, 1490.8001112899576, 1434.1493088223067, 1252.9185809146873, 1149.0963348146365, 1099.5604882783825, 978.6864158191781, 966.4900637216607, 895.459379133259, 857.8249295231336, 751.9584022580731, 725.4277427420702, 706.7175245426004, 675.5513577213393, 612.7804571254128, 587.6052837492742, 584.5998262508912, 564.5093837382433, 498.8900282364976, 457.4040712393181, 454.4614391051276, 452.44459972687, 450.31310552465527, 409.3960740687767, 405.905039302088, 389.55764957224875, 373.5274047333996, 372.19361595275126, 2387.6877828206834, 961.6322251844167, 9178.03506607161, 9636.157650919467, 2846.34833404875, 2594.338143750038, 1240.1997307482904, 3118.0038829523714, 4920.334694304995, 5140.355377943333, 2871.447645441331, 1750.511629904395, 1589.8291513280226, 1254.446847719742, 1233.9651608199717, 1185.8511679795092, 1079.213698159607, 971.0543183904334, 942.9336599460763, 803.4841474896127, 791.5490923524209, 733.216568915423, 705.8260875792204, 684.2548423818762, 631.5704633511606, 613.1442957526077, 611.5404445612774, 596.0206282043256, 587.179443174513, 577.4317821138746, 566.908811113675, 529.2217107856767, 506.32231919171556, 478.0572658922781, 423.5425583722975, 386.0201551792583, 369.34717830082906, 340.0522554918403, 334.40114428075674, 330.25671389203814, 1941.2903939574844, 5256.994372572309, 5651.933203623202, 2953.4089950091757, 5140.355377943333, 2460.8476007808877, 9178.03506607161, 9636.157650919467, 10731.289266221442, 2175.7384719444694, 1513.8439632938596, 1479.7478456723047, 1386.1990778608877, 1157.9293859942293, 1080.8659328911604, 772.5033494300766, 671.6318647309619, 590.9346097391518, 542.7516101401167, 510.1280686629345, 488.5728273258191, 463.605573412917, 419.64858502363927, 416.87506938630116, 413.45391588267273, 411.47297113181116, 380.92325810695456, 377.5394557119, 369.82000974898796, 342.069238606734, 339.4615262021194, 339.13277480014284, 323.82477653286196, 322.3383977199685, 304.4804524435743, 302.6167425075708, 276.79532858557974, 276.3719884938165, 275.4094046642343, 8608.664239611087, 802.0792958498434, 5058.228868793827, 12897.269768362841, 7704.852429671974, 3278.4768928899, 1941.2250943807394, 4131.883487457338, 5651.933203623202, 4020.703016582247, 4920.334694304995, 1981.5484436690701, 5140.355377943333, 3218.581372359476, 2971.645093381439, 3390.7966035347267, 3389.437138285802, 1329.1174741918353, 1243.9039476015544, 1029.7158673674644, 998.1386832378935, 821.0861932848695, 772.9979712849968, 691.6517287930986, 615.8306035199752, 584.2733690355317, 575.5304569944459, 455.2064409274267, 432.09659254642025, 424.65773493898314, 424.04878199979316, 423.2952335388187, 410.55109399069846, 409.44459679998437, 396.24567245621, 387.41951454936424, 387.14853025681447, 369.9753184555986, 360.09499283693657, 358.80122538556054, 340.396224642193, 337.5807276620335, 305.1158035953778, 295.98437718570193, 287.6498792626723, 280.7619887003495, 273.3048319237747, 5045.881482132831, 1819.2934314525971, 2953.4089950091757, 1375.4734599865417, 597.789242232981, 2641.3092943026186, 3964.3286762018834, 7704.852429671974, 9636.157650919467, 879.4034667544588, 3278.4768928899, 12897.269768362841, 2811.5196867874665, 4920.334694304995, 994.5667373074425, 4131.883487457338, 952.7191871760471, 6130.091916109365, 3465.9631786594714, 2112.263815721228, 1792.52684517171, 1267.882797873139, 1097.9398528156191, 948.319175312195, 932.6416092736438, 836.1806110275791, 815.7581399439318, 757.4267836514423, 730.5084205431688, 716.3119419847537, 636.0372562859014, 612.7497642984189, 567.7581982305188, 554.8928819290088, 548.4735355717758, 535.9224234603024, 532.5188804316768, 514.5498927588802, 489.2018416824584, 465.96958943008855, 418.9555984850019, 417.9717976636632, 396.6754340184845, 391.94064759735915, 390.269375630566, 369.3855396199768, 349.29437728102505, 345.1729309682435, 334.4202156752788, 859.352262126963, 1075.9612285206495, 1162.6301343819773, 1329.8355795033733, 5045.881482132831, 12897.269768362841, 3964.3286762018834, 5256.994372572309, 3278.4768928899, 2326.5015166894173, 1569.8518668579493, 1001.1312095948581, 966.9866098686593, 870.3538790800169, 782.2507222727796, 754.4906276032167, 738.3544951400582, 702.2880491761564, 578.9661780841694, 490.62543284724313, 471.2788817489939, 466.365588016731, 428.11462407901223, 423.2000419297904, 414.91115746156953, 412.366694553526, 373.10941802904796, 348.226949178184, 344.1731779220811, 341.64706011708375, 341.4848852366968, 338.0464948459587, 337.1746370963831, 333.68765871040785, 331.9911351210289, 304.7740509824187, 303.6355322478332, 303.1769188575474, 291.53010784309254, 283.5941963200682, 868.1067158077229, 1352.9153707674725, 3238.70158159479, 568.0646651814567, 1258.064025522447, 1194.0672289414347, 858.8060385254286, 814.9324956324293, 776.8486498627049, 740.8094613237845, 680.1420370704443, 643.6961833190638, 615.6915756597133, 613.4024178247477, 409.92156689673925, 392.330253107805, 354.50941673871955, 342.2982062040291, 338.51385104227995, 327.43926450654016, 291.3069934199865, 290.0769564181638, 266.0598041238629, 261.6484833772844, 257.07950596986143, 254.8870078712455, 254.88787822143692, 241.5414905073014, 231.01140066166667, 225.844349960095, 219.2863781566619, 218.32904327905362, 208.32982570265793, 208.35300442855103, 515.934564497475, 3390.7966035347267, 420.7857448532516, 441.27842177016413, 625.9734422643721, 943.5001982089115, 1531.001178877243], \"loglift\": [30.0, 29.0, 28.0, 27.0, 26.0, 25.0, 24.0, 23.0, 22.0, 21.0, 20.0, 19.0, 18.0, 17.0, 16.0, 15.0, 14.0, 13.0, 12.0, 11.0, 10.0, 9.0, 8.0, 7.0, 6.0, 5.0, 4.0, 3.0, 2.0, 1.0, 1.6239, 1.6239, 1.6238, 1.6238, 1.6238, 1.6236, 1.6236, 1.6235, 1.6234, 1.6234, 1.6233, 1.6231, 1.6229, 1.6229, 1.6229, 1.6229, 1.6228, 1.6228, 1.6227, 1.6226, 1.6225, 1.6225, 1.6225, 1.6224, 1.6224, 1.6223, 1.6223, 1.6222, 1.6221, 1.6219, 1.5674, 1.4172, 1.4998, 1.5054, 1.4048, 1.3763, 1.3559, 1.028, 1.2385, 1.2086, 1.016, 1.2706, 0.7473, 0.5218, 0.7909, 0.7456, 0.924, 1.1865, 1.1775, 0.4775, 0.6421, 0.4391, 0.4912, 0.5143, 1.9651, 1.9651, 1.9648, 1.9648, 1.9648, 1.9647, 1.9646, 1.9646, 1.9646, 1.9645, 1.9645, 1.9644, 1.9644, 1.9643, 1.9643, 1.964, 1.964, 1.9637, 1.9637, 1.9637, 1.9636, 1.9636, 1.9635, 1.9632, 1.9632, 1.963, 1.963, 1.9628, 1.9628, 1.9628, 1.855, 1.7452, 1.7806, 1.8094, 1.7183, 1.7851, 1.5413, 1.2269, 1.638, 1.2845, 0.862, 1.2945, 1.6983, 0.2281, 0.9138, 0.6961, 0.1643, 2.1642, 2.1642, 2.1641, 2.1641, 2.164, 2.164, 2.164, 2.1639, 2.1638, 2.1638, 2.1638, 2.1638, 2.1638, 2.1637, 2.1636, 2.1635, 2.1634, 2.1633, 2.1632, 2.1631, 2.1631, 2.1631, 2.163, 2.163, 2.163, 2.1629, 2.1629, 2.1628, 2.1626, 2.1626, 1.7545, 1.8644, 1.962, 1.8227, 1.9754, 1.9163, 1.1553, 1.7148, 1.3251, 1.1314, 1.1631, 0.5648, 0.1493, 1.0244, 0.5222, 2.3154, 2.3153, 2.3152, 2.3151, 2.3151, 2.315, 2.3149, 2.3149, 2.3148, 2.3148, 2.3147, 2.3147, 2.3145, 2.3145, 2.3144, 2.3144, 2.3142, 2.3142, 2.3142, 2.3141, 2.3139, 2.3137, 2.3137, 2.3137, 2.3137, 2.3135, 2.3135, 2.3134, 2.3133, 2.3133, 2.0734, 1.9633, 0.8806, 0.8514, 1.3205, 1.2429, 1.6447, 0.7952, 0.4025, 0.24, 2.4213, 2.4211, 2.4211, 2.4209, 2.4209, 2.4209, 2.4208, 2.4207, 2.4207, 2.4205, 2.4205, 2.4204, 2.4204, 2.4203, 2.4202, 2.4202, 2.4202, 2.4201, 2.4201, 2.4201, 2.42, 2.4199, 2.4199, 2.4198, 2.4195, 2.4193, 2.4192, 2.419, 2.419, 2.4189, 1.8087, 1.4006, 0.6932, 1.0694, 0.6408, 1.1358, -0.0795, -0.334, -0.476, 2.4769, 2.4767, 2.4767, 2.4767, 2.4766, 2.4765, 2.4762, 2.476, 2.4758, 2.4757, 2.4756, 2.4755, 2.4754, 2.4752, 2.4752, 2.4752, 2.4752, 2.475, 2.475, 2.4749, 2.4747, 2.4747, 2.4747, 2.4746, 2.4746, 2.4744, 2.4744, 2.4741, 2.4741, 2.4741, 2.0239, 2.2289, 1.7714, 1.2382, 1.3984, 1.6851, 1.8606, 1.2112, 0.8352, 0.7944, 0.4797, 1.1794, 0.3147, 0.5508, 0.5739, 0.4315, 0.3942, 2.4899, 2.4899, 2.4897, 2.4897, 2.4895, 2.4894, 2.4893, 2.4891, 2.4891, 2.489, 2.4886, 2.4885, 2.4885, 2.4885, 2.4885, 2.4884, 2.4884, 2.4883, 2.4883, 2.4883, 2.4882, 2.4881, 2.4881, 2.488, 2.488, 2.4877, 2.4876, 2.4875, 2.4874, 2.4873, 2.1986, 2.2788, 2.1909, 2.1931, 2.2948, 1.8139, 1.4499, 1.0796, 0.6212, 1.9855, 1.2011, 0.3248, 1.2632, 0.8586, 1.8363, 0.7783, 1.8105, 0.1567, 0.4861, 2.5199, 2.5199, 2.5197, 2.5196, 2.5194, 2.5194, 2.5193, 2.5193, 2.5192, 2.5191, 2.5191, 2.519, 2.5189, 2.5188, 2.5188, 2.5187, 2.5187, 2.5187, 2.5186, 2.5185, 2.5185, 2.5182, 2.5182, 2.5181, 2.5181, 2.5181, 2.518, 2.5178, 2.5178, 2.5177, 2.3138, 2.2392, 2.1229, 1.9946, 1.1463, 0.4826, 1.0095, 0.6276, 0.7182, 1.0037, 2.8, 2.7996, 2.7996, 2.7995, 2.7994, 2.7993, 2.7993, 2.7993, 2.799, 2.7987, 2.7986, 2.7986, 2.7984, 2.7984, 2.7984, 2.7984, 2.7981, 2.798, 2.7979, 2.7979, 2.7979, 2.7979, 2.7979, 2.7979, 2.7979, 2.7976, 2.7976, 2.7976, 2.7975, 2.7974, 2.394, 1.7198, 1.0189, 2.2725, 2.9463, 2.9462, 2.9459, 2.9459, 2.9458, 2.9458, 2.9457, 2.9456, 2.9455, 2.9455, 2.9448, 2.9447, 2.9445, 2.9444, 2.9444, 2.9443, 2.9439, 2.9439, 2.9437, 2.9436, 2.9435, 2.9435, 2.9435, 2.9433, 2.9431, 2.9431, 2.9429, 2.9429, 2.9427, 2.9427, 2.6872, 1.1531, 2.4566, 2.3507, 2.0531, 1.6923, 1.2205], \"logprob\": [30.0, 29.0, 28.0, 27.0, 26.0, 25.0, 24.0, 23.0, 22.0, 21.0, 20.0, 19.0, 18.0, 17.0, 16.0, 15.0, 14.0, 13.0, 12.0, 11.0, 10.0, 9.0, 8.0, 7.0, 6.0, 5.0, 4.0, 3.0, 2.0, 1.0, -4.0619, -4.1571, -4.3234, -4.3452, -4.4313, -4.266, -4.8335, -4.9911, -5.061, -5.1009, -5.2249, -5.3692, -5.5496, -5.5643, -5.5854, -5.5889, -5.6048, -5.6544, -5.7051, -5.7862, -5.7969, -5.8135, -5.8189, -5.859, -5.8786, -5.9177, -5.935, -5.9995, -6.0472, -6.1195, -2.8656, -2.5234, -4.7493, -4.8964, -4.4578, -4.4624, -4.4081, -3.5126, -4.3625, -4.4286, -3.977, -4.9526, -4.017, -3.7274, -4.3781, -4.3286, -4.6615, -5.0014, -5.0021, -4.6691, -4.7726, -4.7737, -4.8962, -4.9145, -3.3416, -3.366, -4.2001, -4.2366, -4.2823, -4.4112, -4.5659, -4.6444, -4.6513, -4.7257, -4.7831, -4.823, -4.8708, -4.918, -4.9829, -5.1822, -5.2328, -5.3983, -5.423, -5.4477, -5.4837, -5.5117, -5.5122, -5.6913, -5.6963, -5.7912, -5.804, -5.8597, -5.8642, -5.88, -3.7635, -2.8387, -3.8503, -4.4283, -3.9507, -4.8596, -4.1162, -3.3624, -4.5674, -3.9007, -3.6154, -4.478, -5.0616, -3.7126, -4.4876, -4.7186, -4.8286, -3.5482, -3.6075, -3.8039, -3.8632, -4.074, -4.0856, -4.1057, -4.3487, -4.3845, -4.4106, -4.424, -4.4592, -4.4804, -4.5352, -4.7321, -4.8326, -4.9141, -4.9644, -5.0414, -5.0938, -5.1258, -5.1464, -5.1526, -5.1614, -5.189, -5.2153, -5.2434, -5.3034, -5.4063, -5.4376, -2.7229, -3.77, -4.3232, -3.9437, -4.6166, -4.6267, -3.4981, -4.6655, -4.3919, -4.2701, -4.4001, -4.0245, -4.0998, -4.5765, -4.4708, -3.2025, -3.5633, -3.8676, -4.0917, -4.1305, -4.2657, -4.3523, -4.3964, -4.5129, -4.5255, -4.6019, -4.6449, -4.7767, -4.8127, -4.8388, -4.884, -4.9817, -5.0237, -5.0288, -5.0638, -5.1876, -5.2746, -5.2811, -5.2855, -5.2902, -5.3857, -5.3943, -5.4355, -5.4776, -5.4812, -3.8624, -4.882, -3.7088, -3.6892, -4.4396, -4.6099, -4.9461, -4.8738, -4.8103, -4.929, -3.33, -3.8251, -3.9215, -4.1585, -4.175, -4.2148, -4.3091, -4.4148, -4.4442, -4.6044, -4.6194, -4.6961, -4.7342, -4.7653, -4.8455, -4.8751, -4.8778, -4.9035, -4.9185, -4.9352, -4.9537, -5.0226, -5.0669, -5.1244, -5.2457, -5.3387, -5.383, -5.4658, -5.4826, -5.4951, -4.3341, -3.746, -4.3809, -4.6538, -4.5283, -4.7699, -4.6688, -4.8746, -4.909, -3.5519, -3.9148, -3.9376, -4.0029, -4.183, -4.2519, -4.5881, -4.7282, -4.8564, -4.9416, -5.0037, -5.0469, -5.0995, -5.1993, -5.2059, -5.2142, -5.219, -5.2963, -5.3053, -5.326, -5.4042, -5.4118, -5.4128, -5.4591, -5.4637, -5.5209, -5.5271, -5.6165, -5.6181, -5.6216, -2.6295, -4.7978, -3.4138, -3.011, -3.3659, -3.9336, -4.2823, -4.1762, -4.239, -4.6203, -4.733, -4.9428, -4.8544, -5.0864, -5.1431, -5.1536, -5.1913, -4.0317, -4.098, -4.2871, -4.3183, -4.5138, -4.5742, -4.6855, -4.8018, -4.8545, -4.8696, -5.1045, -5.1567, -5.1741, -5.1756, -5.1773, -5.208, -5.2107, -5.2435, -5.2661, -5.2668, -5.3123, -5.3394, -5.343, -5.3958, -5.4041, -5.5055, -5.536, -5.5647, -5.589, -5.616, -2.989, -3.9289, -3.5323, -4.2942, -5.0258, -4.021, -3.979, -3.6847, -3.9194, -4.9492, -4.4177, -3.9244, -4.5093, -4.3542, -4.9753, -4.6091, -5.0441, -4.8363, -5.077, -3.5384, -3.7027, -4.0491, -4.1932, -4.3398, -4.3565, -4.4658, -4.4905, -4.5648, -4.601, -4.6207, -4.7397, -4.777, -4.8534, -4.8764, -4.888, -4.9112, -4.9176, -4.952, -5.0026, -5.0513, -5.1579, -5.1603, -5.2127, -5.2247, -5.229, -5.2841, -5.3402, -5.3521, -5.3838, -4.6439, -4.4938, -4.5326, -4.5265, -4.0413, -3.7665, -4.4194, -4.519, -4.9005, -4.9581, -3.5552, -4.0054, -4.0401, -4.1455, -4.2523, -4.2885, -4.3102, -4.3603, -4.5537, -4.7195, -4.7598, -4.7703, -4.8561, -4.8676, -4.8875, -4.8936, -4.9939, -5.0631, -5.0748, -5.0822, -5.0827, -5.0928, -5.0954, -5.1058, -5.1109, -5.1967, -5.2005, -5.202, -5.2413, -5.269, -4.5535, -4.7841, -4.6121, -5.0992, -3.6303, -3.6825, -4.0124, -4.0649, -4.1128, -4.1604, -4.2459, -4.3011, -4.3456, -4.3493, -4.7531, -4.7971, -4.8987, -4.9338, -4.945, -4.9783, -5.0956, -5.0998, -5.1865, -5.2033, -5.221, -5.2296, -5.2296, -5.2835, -5.3283, -5.351, -5.3806, -5.385, -5.432, -5.4319, -4.7808, -4.432, -5.2152, -5.2736, -5.2215, -5.172, -5.1598]}, \"token.table\": {\"Topic\": [7, 8, 10, 4, 2, 6, 4, 6, 8, 6, 4, 6, 10, 1, 6, 8, 2, 1, 2, 4, 5, 8, 9, 2, 7, 2, 4, 4, 3, 10, 5, 7, 10, 8, 7, 1, 9, 8, 6, 3, 6, 2, 3, 7, 1, 2, 8, 5, 5, 3, 2, 3, 4, 6, 8, 3, 8, 3, 5, 1, 3, 8, 6, 4, 5, 3, 1, 6, 6, 5, 10, 5, 9, 8, 7, 9, 10, 4, 6, 5, 4, 8, 2, 3, 7, 5, 10, 2, 10, 2, 3, 1, 4, 5, 7, 8, 5, 5, 5, 7, 1, 3, 6, 9, 4, 8, 1, 7, 10, 10, 4, 4, 7, 6, 5, 5, 2, 4, 7, 1, 1, 10, 7, 1, 1, 7, 2, 5, 1, 2, 2, 4, 7, 10, 10, 5, 4, 6, 7, 8, 6, 2, 8, 3, 5, 9, 4, 5, 8, 1, 2, 3, 1, 10, 3, 4, 10, 2, 3, 1, 5, 7, 1, 4, 7, 8, 1, 2, 1, 7, 1, 5, 3, 5, 7, 7, 1, 2, 4, 1, 2, 4, 5, 6, 9, 1, 3, 6, 7, 8, 7, 9, 1, 2, 3, 4, 5, 6, 7, 8, 10, 4, 8, 2, 1, 2, 5, 2, 9, 1, 2, 9, 1, 2, 9, 6, 2, 10, 1, 8, 6, 5, 8, 10, 1, 2, 3, 6, 7, 1, 3, 7, 1, 4, 5, 9, 4, 8, 1, 9, 7, 1, 9, 1, 2, 3, 7, 8, 6, 9, 3, 8, 2, 9, 1, 2, 4, 5, 7, 9, 8, 9, 9, 4, 2, 4, 5, 1, 10, 9, 9, 1, 4, 5, 5, 1, 5, 6, 1, 5, 8, 1, 6, 2, 2, 5, 9, 5, 9, 1, 2, 2, 3, 6, 3, 1, 1, 2, 8, 2, 6, 1, 4, 7, 3, 9, 2, 2, 6, 8, 2, 8, 4, 7, 3, 6, 5, 1, 2, 4, 5, 1, 3, 2, 3, 1, 2, 5, 8, 10, 9, 6, 10, 4, 8, 7, 6, 4, 1, 7, 1, 6, 8, 1, 2, 9, 10, 5, 9, 4, 3, 6, 5, 2, 3, 4, 3, 3, 4, 3, 4, 9, 9, 7, 5, 10, 8, 6, 10, 10, 6, 1, 1, 6, 10, 6, 9, 4, 1, 6, 7, 8, 8, 10, 1, 2, 4, 5, 6, 8, 6, 1, 3, 10, 10, 9, 9, 2, 5, 7, 4, 10, 9, 7, 4, 4, 8, 2, 3, 8, 1, 2, 8, 2, 7, 6, 3, 7, 10, 2, 3, 8, 10, 1, 2, 3, 4, 7, 9, 1, 1, 2, 3, 3, 5, 7, 3, 9, 4, 5, 10, 7, 10, 10, 1, 4, 1, 4, 1, 3, 9, 10, 5, 2, 1, 3, 1, 2, 9, 4, 8, 1, 2, 3, 9, 1, 2, 4, 5, 6, 7, 8, 3, 5, 1, 5, 1, 4, 6, 4, 10, 6, 4, 3, 1, 2, 4, 5, 6, 7, 8, 5, 8, 9, 2, 2, 3, 3, 3, 4, 4, 3, 10, 7, 2, 4, 2, 4, 3, 1, 2, 6, 7, 7, 1, 4, 5, 6, 2, 3, 4, 5, 1, 3, 5, 1, 2, 7, 8, 7, 1, 1, 6, 7, 1, 6, 7, 10, 7, 1, 2, 3, 8, 9, 1, 3, 6, 7, 8], \"Freq\": [0.7467476224604692, 0.253077684151279, 0.9988767498418794, 0.9990976523102768, 0.46001878019450987, 0.5398652649987081, 0.9991838404067471, 0.9974530159745876, 0.9967474372578811, 0.9988275497658058, 0.9992668470811434, 0.9986404167586149, 0.9939126592637749, 0.9982247148261042, 0.9994946127649438, 0.9976749683373489, 0.9992156042659439, 0.2600471117942392, 0.31162670421623706, 0.19213398177194205, 0.016333537600299323, 0.2196430977303409, 0.9969042872447603, 0.9989859122065559, 0.9972859976385096, 0.29637109961175045, 0.7029714503071695, 0.9989847081504527, 0.9996354708921824, 0.9991062237405336, 0.2566389030897433, 0.74301688090005, 0.9983208844503079, 0.9982788115967484, 0.9986576725801857, 0.9998451373641398, 0.9972863588874431, 0.9991439851525483, 0.9990592097186828, 0.9997761576409037, 0.997961968321844, 0.9976985514136841, 0.9991876126034246, 0.9969591556152728, 0.998609887041074, 0.9995637301727511, 0.9993120516313405, 0.9993063066362833, 0.9987189991617783, 0.9979680941459984, 0.28132565421825473, 0.43208389954095583, 0.13763420164505524, 0.1490756756204388, 0.9994016771428731, 0.18618674442537417, 0.8134033397083534, 0.9989777155009325, 0.9988004099638489, 0.9979704385419408, 0.9976375048432305, 0.9962943082820264, 0.9979008833807467, 0.9990459156630994, 0.9963525420526381, 0.9983619633989713, 0.9995958146114451, 0.9968742041491685, 0.9988505414328669, 0.9993974398983161, 0.9962073823920208, 0.9996437890369335, 0.9981659246833726, 0.9985880908837049, 0.9974621587734404, 0.9989797067936718, 0.9993439578765034, 0.9977703176495563, 0.9986937745194499, 0.9991162570422222, 0.40832115516324446, 0.5910505118937571, 0.9994704535141234, 0.9986956431911767, 0.9969401178274786, 0.99799134116798, 0.9960166695328037, 0.9992727954018855, 0.9989075737431546, 0.2590304000139756, 0.740839337839014, 0.5508419633933157, 0.2312124895328386, 0.06361456736249105, 0.15421084355736003, 0.9966019033852007, 0.9988753866248392, 0.9992822303485526, 0.9973883845495366, 0.996674225866035, 0.6599180677053814, 0.19418493046886223, 0.1457163718238342, 0.9973964354022943, 0.9995247031931319, 0.9987763939831501, 0.3957227975053756, 0.6038184065383748, 0.9936167291544902, 0.9965199957477097, 0.9970840166352134, 0.9967930241100568, 0.9988591933595844, 0.9975762621806219, 0.9990098349589835, 0.9981337251923658, 0.8557990956522707, 0.14386033772050083, 0.9968563127806837, 0.9983220616495366, 0.9996942813329539, 0.9989184597685913, 0.9987089600205059, 0.9988072811929025, 0.9974588078773924, 0.9978205937442713, 0.9997093798374433, 0.9998441046132107, 0.9994339331381209, 0.00039993354667391793, 0.5111114842101507, 0.19526806181723919, 0.2930799324907197, 0.0003556795297217472, 0.9956218582339668, 0.9977884116240661, 0.10675689090841305, 0.45295423713998106, 0.2754327785437057, 0.16501565137557558, 0.9994425031150349, 0.9996855231245132, 0.9962490691395168, 0.9971013730095559, 0.9994784651373828, 0.9981060568270015, 0.999680262206551, 0.3277052509932828, 0.6717527585977792, 0.004481498142516804, 0.3318257102915703, 0.6636514205831406, 0.5894818774822038, 0.40896303695242325, 0.6374913445303471, 0.18419319585815355, 0.17766152224616227, 0.9989902743196736, 0.9995629582624418, 0.9978176623458701, 0.19018372408663053, 0.8091053232818501, 0.32969012076269155, 0.0963593160913146, 0.3531493259891111, 0.22071832874319441, 0.999716333810629, 0.9994984810550949, 0.4922751701791185, 0.5069699513784951, 0.45794282131469183, 0.5419075905771157, 0.9986950764684511, 0.25868411767250893, 0.7411773999805263, 0.9990577211536276, 0.34613837913278644, 0.3118329050316528, 0.3418983767157924, 0.4154330766851247, 0.1199589548520079, 0.04900977948968464, 0.1776383343236223, 0.1935620893924729, 0.044409583580905576, 0.3320857884593723, 0.1332840229655991, 0.28959617555352685, 0.11467543337179818, 0.13033766294658064, 0.9975267421006443, 0.9981816360340461, 0.17488515807224436, 0.11737654791358054, 0.1250443626014024, 0.06960016408945982, 0.12327486690421273, 0.12917318589484492, 0.087590037010888, 0.006488150889695407, 0.1663325955358277, 0.9990173388584185, 0.9990256112022615, 0.9981757444987753, 0.9988007038265148, 0.9987272892902275, 0.9969056064918072, 0.9996956487512957, 0.9994573584451287, 0.8130365070994885, 0.17599179032836562, 0.01087845694262713, 0.9991057537366423, 0.9990080692864332, 0.9979392144346441, 0.9985134688311266, 0.9974236917584376, 0.9984820383547148, 0.24443259945490925, 0.7546740332980468, 0.9993484178023979, 0.9990967542273372, 0.9990706314692932, 0.9955133469174832, 0.37456136247540067, 0.28104537821859416, 0.15843000524357917, 0.18578840489317683, 0.9977669379899704, 0.9993881472124646, 0.9995730482618592, 0.9989141466184702, 0.8030520650230747, 0.19657842599934694, 0.9982875958380828, 0.9985800682324176, 0.9994139457696991, 0.9977190936498821, 0.9990870255359509, 0.9965913150781707, 0.9992732979075295, 0.9997174852575995, 0.9970718508144258, 0.544363778825346, 0.16508724727936774, 0.1934718135111958, 0.09689903644658542, 0.9987434501397282, 0.9986151857938798, 0.9979047655848444, 0.999130967571764, 0.9976000254040365, 0.831506062585094, 0.16827731307422064, 0.3819822079602633, 0.09224463958189337, 0.11093738592888498, 0.27632755469465853, 0.07558371349000954, 0.06258006385731973, 0.9982972627983485, 0.9970145735347193, 0.99780396972898, 0.998725458409408, 0.7812690719593984, 0.2187296827078447, 0.9983407781997855, 0.4464301680778891, 0.5506727453955688, 0.9984444498811816, 0.9981655219153216, 0.6397649606598119, 0.17797972589784242, 0.18172104145725654, 0.9997077255039871, 0.9448072592651311, 0.05516578533237574, 0.9984184210507413, 0.7646371622498921, 0.11638849794394114, 0.11885734487002474, 0.9986492662370576, 0.9977826787967895, 0.9991805317449968, 0.9977351803253116, 0.997357248927107, 0.9966857300272377, 0.9988296159723231, 0.9974602464352735, 0.9980132857808294, 0.9990923366860479, 0.9964118189329625, 0.9993392564551495, 0.9966597896625874, 0.9981945991325961, 0.9995125252305457, 0.10428287309777542, 0.8955520417782644, 0.9997060879879545, 0.5061060039796996, 0.49365105153801164, 0.30628749224675683, 0.18513545575854645, 0.5084599531364579, 0.9994240715701161, 0.9971643624506316, 0.9974560798051587, 0.9995885707703512, 0.9971266545947728, 0.9983691894214524, 0.9986905222049365, 0.9986645754603248, 0.9989846462968647, 0.9973496839698298, 0.36451648161175876, 0.6354063589599491, 0.9976914953397076, 0.340084868889916, 0.15985394147201631, 0.36959636577705746, 0.12999111724098028, 0.6798834581356227, 0.3197160201986379, 0.28920544908559526, 0.7106393064328197, 0.31767201591711985, 0.17139071038402695, 0.3602819150580988, 0.15065642910560414, 0.9962873423954046, 0.9970265611763207, 0.9977886559626268, 0.998658485544786, 0.9994869905391983, 0.9981684767377763, 0.9963430160541356, 0.9991973724775701, 0.9990383474590879, 0.9990512108871972, 0.9986512467629449, 0.88283929786268, 0.11629875241150164, 0.9993040182304939, 0.36365911026711273, 0.1803512660674299, 0.33926734067602593, 0.11604569169092825, 0.33290837950850577, 0.6658167590170115, 0.9985685056554247, 0.9992224379247369, 0.9958478489393894, 0.9981661183755629, 0.8347449751769191, 0.16422607564642752, 0.998969914386385, 0.9991696079463799, 0.7802243837233697, 0.21907778262183286, 0.827393824800428, 0.171936472860967, 0.9964765817778332, 0.9987252335379078, 0.9982797369208384, 0.9992522370135326, 0.9977518457891449, 0.9975432601023638, 0.38499403076617356, 0.6131386415905727, 0.9958008867109462, 0.9991988526376772, 0.9990555947595235, 0.9978077785638763, 0.9989021366947181, 0.9989073285830636, 0.7804714611623549, 0.2194296759817483, 0.9991165989445102, 0.9977401872991658, 0.9984544567841144, 0.9977407281924188, 0.999136630044908, 0.9979192001965742, 0.9966093537338313, 0.43460030206974287, 0.15582580212975114, 0.12547770583481835, 0.1684708422526398, 0.11497259557888005, 0.0003890781576273437, 0.9996605879088908, 0.45998930453208337, 0.25331208244969566, 0.2851085781546784, 0.9935061918964792, 0.9965162353061351, 0.9961180459845613, 0.9990669032294168, 0.17564718897881662, 0.8230325426435979, 0.22677294380142776, 0.7714156549826346, 0.9983312011638287, 0.9990783163810025, 0.9989739541067982, 0.9990325406278562, 0.9983908931649929, 0.9995502433186604, 0.9996119177304102, 0.9989313130434605, 0.3452954159649106, 0.6544442043632465, 0.9993037228089064, 0.9995600574671374, 0.9952257268391851, 0.9950357179781727, 0.999547045215389, 0.9991592359490159, 0.9977581884331171, 0.7206214770250239, 0.27859643099597575, 0.9986089332088423, 0.9990614428761906, 0.30525425270363143, 0.09665422935322925, 0.3672860715422711, 0.0957886690903645, 0.13473888091927777, 0.9984011235308985, 0.9989409170065686, 0.2119794180291316, 0.7657995191863223, 0.021006969354238264, 0.9976739310497418, 0.9992178378688339, 0.9973638283232786, 0.9994247204623176, 0.9993497233958024, 0.999298635591459, 0.998396900708088, 0.9965165929912698, 0.9970333601523617, 0.9988557388036101, 0.9985630374972663, 0.9991509250408156, 0.9985880427333679, 0.4878246503367369, 0.5112079806834565, 0.9982926213590706, 0.9987780781596813, 0.997906923991641, 0.9941337981525561, 0.9989142539500973, 0.9982710092269048, 0.9982698370051075, 0.9990979331335362, 0.7022946055688872, 0.2975540737426207, 0.9988700685943894, 0.9994929448940493, 0.9994365347771506, 0.0961186621834289, 0.8024337017680846, 0.09145902016100789, 0.009969466652621713, 0.3056702629885715, 0.03495697156518237, 0.1475509381181535, 0.11320368117329407, 0.13555988391846885, 0.19551515491689211, 0.06727184644229864, 0.8167151114686261, 0.18294418496897225, 0.8882779628997121, 0.11145185560048979, 0.21485221128617157, 0.7848597347958782, 0.998422058165907, 0.9987263674676018, 0.9975215473488936, 0.9985711275901408, 0.9994633007578291, 0.99819494544588, 0.17107833072821657, 0.3199518043707649, 0.1640131489282312, 0.024728136299948706, 0.27301881098514796, 0.0015139675285682883, 0.04541902585704865, 0.11970468182223372, 0.28869952674774013, 0.5897215942712984, 0.9981348065922697, 0.9987096175390296, 0.9993383537214837, 0.9990787394740404, 0.997689531422666, 0.9994902615323509, 0.9982159831102584, 0.998586731475241, 0.9991542357933609, 0.9993047913602666, 0.9994468570783726, 0.9991986128534619, 0.9985231145805739, 0.9994103578938773, 0.998267231433784, 0.3221291219949345, 0.21539813566903956, 0.28195373938700125, 0.1805472013585433, 0.9984511410369632, 0.6456061636501417, 0.07814097974062649, 0.15250963632136066, 0.12340885765933426, 0.47788006565955504, 0.20189506649957947, 0.23806838656318463, 0.08204370484305631, 0.7802529318359466, 0.21929173973177846, 0.9961947362788544, 0.20109258886080722, 0.09149712793166728, 0.5198243422051867, 0.18601064469624667, 0.9986771263556095, 0.998724468636775, 0.4161014152138008, 0.33991566015126146, 0.2438722892035969, 0.9984885980474988, 0.9991349887039761, 0.9988359899037967, 0.9962613633670969, 0.9989171568968275, 0.16076088227235177, 0.3495015211539373, 0.3558828691525344, 0.10676486074576033, 0.027243447224780223, 0.49654262089403206, 0.20976934251673013, 0.12450444801977513, 0.10857259922103613, 0.060777052824819135], \"Term\": [\"able\", \"able\", \"actually\", \"afternoon\", \"ago\", \"ago\", \"amazing\", \"amazon\", \"amount\", \"apartment\", \"around\", \"arrived\", \"art\", \"asked\", \"ate\", \"awesome\", \"baby\", \"back\", \"back\", \"back\", \"back\", \"back\", \"band\", \"beach\", \"beat\", \"beautiful\", \"beautiful\", \"bed\", \"best\", \"better\", \"big\", \"big\", \"bike\", \"bill\", \"birth\", \"birthday\", \"bit\", \"book\", \"bos\", \"bought\", \"box\", \"boy\", \"boyfriend\", \"break\", \"breakfast\", \"brother\", \"brought\", \"buy\", \"cake\", \"call\", \"came\", \"came\", \"came\", \"came\", \"car\", \"card\", \"card\", \"cat\", \"caught\", \"celebrate\", \"celebrated\", \"check\", \"chicken\", \"child\", \"chocolate\", \"city\", \"class\", \"clean\", \"cleaned\", \"coffee\", \"colleague\", \"college\", \"coming\", \"company\", \"complete\", \"completed\", \"computer\", \"concert\", \"conversation\", \"cooked\", \"could\", \"could\", \"couple\", \"cousin\", \"coworker\", \"cream\", \"cup\", \"dad\", \"date\", \"daughter\", \"daughter\", \"day\", \"day\", \"day\", \"day\", \"degree\", \"delicious\", \"didnt\", \"different\", \"difficult\", \"dinner\", \"dinner\", \"dinner\", \"doctor\", \"dog\", \"dollar\", \"done\", \"done\", \"drank\", \"drinking\", \"drive\", \"earlier\", \"early\", \"easter\", \"eat\", \"eating\", \"enjoyed\", \"enjoyed\", \"episode\", \"evening\", \"event\", \"ever\", \"exam\", \"excited\", \"extra\", \"face\", \"family\", \"favorite\", \"feel\", \"feel\", \"felt\", \"felt\", \"felt\", \"felt\", \"festival\", \"final\", \"finally\", \"finally\", \"finally\", \"finally\", \"finished\", \"first\", \"fixed\", \"flower\", \"food\", \"forward\", \"found\", \"free\", \"free\", \"friend\", \"friend\", \"friend\", \"full\", \"full\", \"fun\", \"fun\", \"fun\", \"funny\", \"game\", \"garden\", \"gave\", \"gave\", \"get\", \"get\", \"get\", \"get\", \"getting\", \"gift\", \"girl\", \"girl\", \"girlfriend\", \"girlfriend\", \"given\", \"go\", \"go\", \"goal\", \"going\", \"going\", \"going\", \"good\", \"good\", \"good\", \"good\", \"good\", \"good\", \"got\", \"got\", \"got\", \"got\", \"got\", \"grade\", \"graduation\", \"great\", \"great\", \"great\", \"great\", \"great\", \"great\", \"great\", \"great\", \"great\", \"grocery\", \"gym\", \"hadnt\", \"half\", \"hand\", \"happened\", \"happiest\", \"happiness\", \"happy\", \"happy\", \"happy\", \"hard\", \"havent\", \"health\", \"healthy\", \"heard\", \"heart\", \"help\", \"help\", \"helped\", \"high\", \"hit\", \"holiday\", \"home\", \"home\", \"home\", \"home\", \"hot\", \"hour\", \"house\", \"hug\", \"husband\", \"husband\", \"ice\", \"id\", \"im\", \"important\", \"interview\", \"invited\", \"ive\", \"job\", \"joy\", \"last\", \"last\", \"last\", \"last\", \"le\", \"learned\", \"learning\", \"left\", \"let\", \"life\", \"life\", \"like\", \"like\", \"like\", \"like\", \"like\", \"like\", \"liked\", \"listening\", \"living\", \"local\", \"long\", \"long\", \"look\", \"looked\", \"looked\", \"looking\", \"lost\", \"love\", \"love\", \"love\", \"lunch\", \"made\", \"made\", \"mail\", \"make\", \"make\", \"make\", \"making\", \"managed\", \"many\", \"marriage\", \"match\", \"may\", \"meal\", \"mean\", \"meeting\", \"member\", \"memory\", \"met\", \"mile\", \"minute\", \"mom\", \"moment\", \"moment\", \"money\", \"month\", \"month\", \"morning\", \"morning\", \"morning\", \"mother\", \"move\", \"movement\", \"movie\", \"moving\", \"mturk\", \"music\", \"need\", \"neighbor\", \"nephew\", \"new\", \"new\", \"news\", \"nice\", \"nice\", \"nice\", \"nice\", \"night\", \"night\", \"old\", \"old\", \"one\", \"one\", \"one\", \"one\", \"opportunity\", \"order\", \"ordered\", \"others\", \"outside\", \"paid\", \"pair\", \"parent\", \"park\", \"party\", \"passed\", \"past\", \"past\", \"pay\", \"people\", \"people\", \"people\", \"people\", \"person\", \"person\", \"pet\", \"phone\", \"picked\", \"pizza\", \"place\", \"place\", \"plan\", \"play\", \"played\", \"played\", \"playing\", \"playing\", \"pleasant\", \"positive\", \"pound\", \"pretty\", \"price\", \"problem\", \"program\", \"program\", \"progress\", \"project\", \"promotion\", \"proud\", \"purchase\", \"purchased\", \"put\", \"put\", \"rain\", \"raise\", \"ran\", \"reached\", \"read\", \"reading\", \"realized\", \"really\", \"really\", \"really\", \"really\", \"really\", \"really\", \"received\", \"recently\", \"recently\", \"recently\", \"regarding\", \"relax\", \"research\", \"restaurant\", \"result\", \"result\", \"ride\", \"ride\", \"right\", \"room\", \"run\", \"running\", \"sale\", \"saw\", \"school\", \"season\", \"see\", \"see\", \"seeing\", \"seen\", \"semester\", \"shoe\", \"shopping\", \"show\", \"significant\", \"sister\", \"sister\", \"sleep\", \"someone\", \"son\", \"son\", \"son\", \"son\", \"son\", \"song\", \"special\", \"spend\", \"spend\", \"spend\", \"spending\", \"spent\", \"spring\", \"started\", \"state\", \"store\", \"student\", \"successful\", \"successfully\", \"summer\", \"sunday\", \"surprised\", \"sweet\", \"take\", \"take\", \"talk\", \"talked\", \"tax\", \"tea\", \"team\", \"temple\", \"test\", \"th\", \"thing\", \"thing\", \"thought\", \"three\", \"ticket\", \"time\", \"time\", \"time\", \"time\", \"today\", \"today\", \"today\", \"today\", \"today\", \"today\", \"today\", \"together\", \"together\", \"told\", \"told\", \"took\", \"took\", \"top\", \"town\", \"training\", \"tried\", \"trip\", \"tv\", \"two\", \"two\", \"two\", \"two\", \"two\", \"two\", \"two\", \"used\", \"used\", \"used\", \"usually\", \"vacation\", \"video\", \"visit\", \"visited\", \"walk\", \"walking\", \"want\", \"wanted\", \"watch\", \"watched\", \"watching\", \"water\", \"weather\", \"wedding\", \"week\", \"week\", \"week\", \"week\", \"weight\", \"well\", \"well\", \"well\", \"well\", \"went\", \"went\", \"went\", \"went\", \"wife\", \"wife\", \"win\", \"without\", \"without\", \"without\", \"without\", \"woke\", \"wonderful\", \"work\", \"work\", \"work\", \"worked\", \"working\", \"workout\", \"writing\", \"yard\", \"year\", \"year\", \"year\", \"year\", \"year\", \"yesterday\", \"yesterday\", \"yesterday\", \"yesterday\", \"yesterday\"]}, \"R\": 30, \"lambda.step\": 0.01, \"plot.opts\": {\"xlab\": \"PC1\", \"ylab\": \"PC2\"}, \"topic.order\": [4, 2, 8, 1, 3, 9, 6, 10, 5, 7]};\n",
       "\n",
       "function LDAvis_load_lib(url, callback){\n",
       "  var s = document.createElement('script');\n",
       "  s.src = url;\n",
       "  s.async = true;\n",
       "  s.onreadystatechange = s.onload = callback;\n",
       "  s.onerror = function(){console.warn(\"failed to load library \" + url);};\n",
       "  document.getElementsByTagName(\"head\")[0].appendChild(s);\n",
       "}\n",
       "\n",
       "if(typeof(LDAvis) !== \"undefined\"){\n",
       "   // already loaded: just create the visualization\n",
       "   !function(LDAvis){\n",
       "       new LDAvis(\"#\" + \"ldavis_el591449448458247150106418\", ldavis_el591449448458247150106418_data);\n",
       "   }(LDAvis);\n",
       "}else if(typeof define === \"function\" && define.amd){\n",
       "   // require.js is available: use it to load d3/LDAvis\n",
       "   require.config({paths: {d3: \"https://cdnjs.cloudflare.com/ajax/libs/d3/3.5.5/d3.min\"}});\n",
       "   require([\"d3\"], function(d3){\n",
       "      window.d3 = d3;\n",
       "      LDAvis_load_lib(\"https://cdn.rawgit.com/bmabey/pyLDAvis/files/ldavis.v1.0.0.js\", function(){\n",
       "        new LDAvis(\"#\" + \"ldavis_el591449448458247150106418\", ldavis_el591449448458247150106418_data);\n",
       "      });\n",
       "    });\n",
       "}else{\n",
       "    // require.js not available: dynamically load d3 & LDAvis\n",
       "    LDAvis_load_lib(\"https://cdnjs.cloudflare.com/ajax/libs/d3/3.5.5/d3.min.js\", function(){\n",
       "         LDAvis_load_lib(\"https://cdn.rawgit.com/bmabey/pyLDAvis/files/ldavis.v1.0.0.js\", function(){\n",
       "                 new LDAvis(\"#\" + \"ldavis_el591449448458247150106418\", ldavis_el591449448458247150106418_data);\n",
       "            })\n",
       "         });\n",
       "}\n",
       "</script>"
      ],
      "text/plain": [
       "PreparedData(topic_coordinates=              x         y  topics  cluster       Freq\n",
       "topic                                                \n",
       "3     -0.153419  0.072380       1        1  19.706933\n",
       "1     -0.167981 -0.205832       2        1  14.011477\n",
       "7     -0.154461 -0.237905       3        1  11.480362\n",
       "0     -0.079358  0.028443       4        1   9.869815\n",
       "2      0.028483  0.128651       5        1   8.877805\n",
       "8     -0.067603  0.015381       6        1   8.396750\n",
       "5     -0.038034  0.216370       7        1   8.286079\n",
       "9      0.057880  0.210975       8        1   8.043058\n",
       "4      0.258484 -0.132619       9        1   6.077889\n",
       "6      0.316009 -0.095845      10        1   5.249833, topic_info=      Category          Freq         Term         Total  loglift  logprob\n",
       "9747   Default  17557.000000        happy  17557.000000  30.0000  30.0000\n",
       "14658  Default   8608.000000          new   8608.000000  29.0000  29.0000\n",
       "8527   Default  10264.000000       friend  10264.000000  28.0000  28.0000\n",
       "12984  Default  10731.000000         made  10731.000000  27.0000  27.0000\n",
       "22269  Default   9228.000000         time   9228.000000  26.0000  26.0000\n",
       "9223   Default  12897.000000          got  12897.000000  25.0000  25.0000\n",
       "34     Default   5045.000000         able   5045.000000  24.0000  24.0000\n",
       "24510  Default   7704.000000         work   7704.000000  23.0000  23.0000\n",
       "7667   Default   4479.000000       family   4479.000000  22.0000  22.0000\n",
       "8044   Default   4371.000000        first   4371.000000  21.0000  21.0000\n",
       "8402   Default   3626.000000        found   3626.000000  20.0000  20.0000\n",
       "14079  Default   5058.000000        month   5058.000000  19.0000  19.0000\n",
       "5398   Default   9636.000000          day   9636.000000  18.0000  18.0000\n",
       "24179  Default   9178.000000         went   9178.000000  17.0000  17.0000\n",
       "7781   Default   2871.000000     favorite   2871.000000  16.0000  16.0000\n",
       "8773   Default   2985.000000         game   2985.000000  15.0000  15.0000\n",
       "2548   Default   2813.000000       bought   2813.000000  14.0000  14.0000\n",
       "6222   Default   2528.000000          dog   2528.000000  13.0000  13.0000\n",
       "9106   Default   2953.000000           go   2953.000000  12.0000  12.0000\n",
       "14010  Default   3279.000000       moment   3279.000000  11.0000  11.0000\n",
       "17691  Default   2175.000000     received   2175.000000  10.0000  10.0000\n",
       "3206   Default   2112.000000          car   2112.000000   9.0000   9.0000\n",
       "12483  Default   3238.000000         life   3238.000000   8.0000   8.0000\n",
       "5378   Default   3227.000000     daughter   3227.000000   7.0000   7.0000\n",
       "15183  Default   5256.000000          one   5256.000000   6.0000   6.0000\n",
       "19125  Default   2311.000000       school   2311.000000   5.0000   5.0000\n",
       "11598  Default   3065.000000          job   3065.000000   4.0000   4.0000\n",
       "10432  Default   2178.000000        house   2178.000000   3.0000   3.0000\n",
       "12731  Default   3118.000000         long   3118.000000   2.0000   2.0000\n",
       "14046  Default   1792.000000        money   1792.000000   1.0000   1.0000\n",
       "...        ...           ...          ...           ...      ...      ...\n",
       "7264   Topic10    642.813994         ever    643.696183   2.9456  -4.3011\n",
       "207    Topic10    614.809377     actually    615.691576   2.9455  -4.3456\n",
       "4411   Topic10    612.520284     computer    613.402418   2.9455  -4.3493\n",
       "16901  Topic10    409.039406        price    409.921567   2.9448  -4.7531\n",
       "17634  Topic10    391.448061     realized    392.330253   2.9447  -4.7971\n",
       "21352  Topic10    353.627247       sunday    354.509417   2.9445  -4.8987\n",
       "4170   Topic10    341.416089    colleague    342.298206   2.9444  -4.9338\n",
       "9935   Topic10    337.631636        heart    338.513851   2.9444  -4.9450\n",
       "15369  Topic10    326.556792       others    327.439265   2.9443  -4.9783\n",
       "10233  Topic10    290.424822      holiday    291.306993   2.9439  -5.0956\n",
       "15266  Topic10    289.194767  opportunity    290.076956   2.9439  -5.0998\n",
       "5193   Topic10    265.177672          cup    266.059804   2.9437  -5.1865\n",
       "22606  Topic10    260.766344     training    261.648483   2.9436  -5.2033\n",
       "17034  Topic10    256.197350     progress    257.079506   2.9435  -5.2210\n",
       "6443   Topic10    254.004864     drinking    254.887008   2.9435  -5.2296\n",
       "21273  Topic10    254.005730   successful    254.887878   2.9435  -5.2296\n",
       "19869  Topic10    240.659340  significant    241.541491   2.9433  -5.2835\n",
       "7887   Topic10    230.129245     festival    231.011401   2.9431  -5.3283\n",
       "24632  Topic10    224.962196      writing    225.844350   2.9431  -5.3510\n",
       "21801  Topic10    218.404263          tea    219.286378   2.9429  -5.3806\n",
       "1165   Topic10    217.446883          art    218.329043   2.9429  -5.3850\n",
       "6389   Topic10    207.447696        drank    208.329826   2.9427  -5.4320\n",
       "17907  Topic10    207.470739    regarding    208.353004   2.9427  -5.4319\n",
       "18511  Topic10    397.889118         ride    515.934564   2.6872  -4.7808\n",
       "9364   Topic10    563.929690        great   3390.796604   1.1531  -4.4320\n",
       "17025  Topic10    257.677853      program    420.785745   2.4566  -5.2152\n",
       "12762  Topic10    243.076182       looked    441.278422   2.3507  -5.2736\n",
       "8648   Topic10    256.076454         full    625.973442   2.0531  -5.2215\n",
       "17696  Topic10    269.065376     recently    943.500198   1.6923  -5.1720\n",
       "8661   Topic10    272.368439          fun   1531.001179   1.2205  -5.1598\n",
       "\n",
       "[462 rows x 6 columns], token_table=       Topic      Freq       Term\n",
       "term                             \n",
       "34         7  0.746748       able\n",
       "34         8  0.253078       able\n",
       "207       10  0.998877   actually\n",
       "393        4  0.999098  afternoon\n",
       "427        2  0.460019        ago\n",
       "427        6  0.539865        ago\n",
       "687        4  0.999184    amazing\n",
       "690        6  0.997453     amazon\n",
       "742        8  0.996747     amount\n",
       "948        6  0.998828  apartment\n",
       "1139       4  0.999267     around\n",
       "1156       6  0.998640    arrived\n",
       "1165      10  0.993913        art\n",
       "1214       1  0.998225      asked\n",
       "1301       6  0.999495        ate\n",
       "1488       8  0.997675    awesome\n",
       "1531       2  0.999216       baby\n",
       "1552       1  0.260047       back\n",
       "1552       2  0.311627       back\n",
       "1552       4  0.192134       back\n",
       "1552       5  0.016334       back\n",
       "1552       8  0.219643       back\n",
       "1669       9  0.996904       band\n",
       "1853       2  0.998986      beach\n",
       "1881       7  0.997286       beat\n",
       "1891       2  0.296371  beautiful\n",
       "1891       4  0.702971  beautiful\n",
       "1921       4  0.998985        bed\n",
       "2060       3  0.999635       best\n",
       "2076      10  0.999106     better\n",
       "...      ...       ...        ...\n",
       "24179      3  0.201895       went\n",
       "24179      4  0.238068       went\n",
       "24179      5  0.082044       went\n",
       "24306      1  0.780253       wife\n",
       "24306      3  0.219292       wife\n",
       "24350      5  0.996195        win\n",
       "24420      1  0.201093    without\n",
       "24420      2  0.091497    without\n",
       "24420      7  0.519824    without\n",
       "24420      8  0.186011    without\n",
       "24446      7  0.998677       woke\n",
       "24465      1  0.998724  wonderful\n",
       "24510      1  0.416101       work\n",
       "24510      6  0.339916       work\n",
       "24510      7  0.243872       work\n",
       "24521      1  0.998489     worked\n",
       "24536      6  0.999135    working\n",
       "24544      7  0.998836    workout\n",
       "24632     10  0.996261    writing\n",
       "24704      7  0.998917       yard\n",
       "24714      1  0.160761       year\n",
       "24714      2  0.349502       year\n",
       "24714      3  0.355883       year\n",
       "24714      8  0.106765       year\n",
       "24714      9  0.027243       year\n",
       "24761      1  0.496543  yesterday\n",
       "24761      3  0.209769  yesterday\n",
       "24761      6  0.124504  yesterday\n",
       "24761      7  0.108573  yesterday\n",
       "24761      8  0.060777  yesterday\n",
       "\n",
       "[549 rows x 3 columns], R=30, lambda_step=0.01, plot_opts={'xlab': 'PC1', 'ylab': 'PC2'}, topic_order=[4, 2, 8, 1, 3, 9, 6, 10, 5, 7])"
      ]
     },
     "execution_count": 93,
     "metadata": {},
     "output_type": "execute_result"
    }
   ],
   "source": [
    "import pyLDAvis\n",
    "import pyLDAvis.sklearn\n",
    "pyLDAvis.enable_notebook()\n",
    "pyLDAvis.sklearn.prepare(lda, text_bow, bow_transformer)"
   ]
  },
  {
   "cell_type": "code",
   "execution_count": null,
   "metadata": {},
   "outputs": [],
   "source": []
  }
 ],
 "metadata": {
  "kernelspec": {
   "display_name": "Python 3",
   "language": "python",
   "name": "python3"
  },
  "language_info": {
   "codemirror_mode": {
    "name": "ipython",
    "version": 3
   },
   "file_extension": ".py",
   "mimetype": "text/x-python",
   "name": "python",
   "nbconvert_exporter": "python",
   "pygments_lexer": "ipython3",
   "version": "3.7.3"
  }
 },
 "nbformat": 4,
 "nbformat_minor": 2
}
